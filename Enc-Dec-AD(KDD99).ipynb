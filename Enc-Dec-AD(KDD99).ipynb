{
 "cells": [
  {
   "cell_type": "code",
   "execution_count": 1,
   "metadata": {
    "collapsed": true
   },
   "outputs": [],
   "source": [
    "%matplotlib inline\n",
    "import sys\n",
    "import numpy as np\n",
    "import pandas as pd\n",
    "import tensorflow as tf\n",
    "from functools import reduce\n",
    "\n",
    "sys.path.insert(0, 'C:/Users/Bin/Desktop/Thesis/code')\n",
    "from Conf_EncDecAD_KDD99 import Conf_EncDecAD_KDD99\n",
    "from EncDecAD import EncDecAD"
   ]
  },
  {
   "cell_type": "code",
   "execution_count": 2,
   "metadata": {},
   "outputs": [],
   "source": [
    "# Configuration \n",
    "\n",
    "data_root = \"C:/Users/Bin/Documents/Datasets/KDD99/6_subsets_win/\"\n",
    "conf = Conf_EncDecAD_KDD99(data_root)\n",
    "#[sn_list, va_list, vn1_list, vn2_list, tn_list, ta_list] = conf.data_list\n",
    "\n",
    "#p_input = conf.p_input\n",
    "#p_inputs = conf.p_inputs\n",
    "\n",
    "\n",
    "\n",
    "batch_num = conf.batch_num\n",
    "hidden_num = conf.hidden_num\n",
    "step_num = conf.step_num\n",
    "elem_num = conf.elem_num\n",
    "\n",
    "iteration = conf.iteration\n",
    "modelpath_root = conf.modelpath_root\n",
    "modelpath = conf.modelpath\n",
    "decode_without_input = conf.decode_without_input\n",
    "\n",
    "\n",
    " "
   ]
  },
  {
   "cell_type": "markdown",
   "metadata": {},
   "source": [
    "# Training"
   ]
  },
  {
   "cell_type": "code",
   "execution_count": 3,
   "metadata": {},
   "outputs": [
    {
     "name": "stdout",
     "output_type": "stream",
     "text": [
      "is training\n",
      "not training\n",
      "iter 1: 4.11533\n",
      "iter 2: 3.03944\n",
      "iter 3: 2.99884\n",
      "iter 4: 2.21775\n",
      "iter 5: 2.23574\n",
      "iter 6: 1.67834\n",
      "iter 7: 1.65153\n",
      "iter 8: 1.23238\n",
      "iter 9: 1.10566\n",
      "iter 10: 0.759089\n",
      "iter 11: 0.68797\n",
      "iter 12: 0.516608\n",
      "iter 13: 0.496845\n",
      "iter 14: 0.48323\n",
      "iter 15: 0.412993\n",
      "iter 16: 0.394626\n",
      "iter 17: 0.31477\n",
      "iter 18: 0.288718\n",
      "iter 19: 0.280516\n",
      "iter 20: 0.250336\n",
      "iter 21: 0.234123\n",
      "iter 22: 0.216068\n",
      "iter 23: 0.221551\n",
      "iter 24: 0.189942\n",
      "iter 25: 0.217475\n",
      "iter 26: 0.175929\n",
      "iter 27: 0.184159\n",
      "iter 28: 0.157962\n",
      "iter 29: 0.149016\n",
      "iter 30: 0.145306\n",
      "iter 31: 0.151289\n",
      "iter 32: 0.149986\n",
      "iter 33: 0.141048\n",
      "iter 34: 0.134575\n",
      "iter 35: 0.138368\n",
      "iter 36: 0.120327\n",
      "iter 37: 0.116637\n",
      "iter 38: 0.11716\n",
      "iter 39: 0.111494\n",
      "iter 40: 0.116958\n",
      "iter 41: 0.106457\n",
      "iter 42: 0.103423\n",
      "iter 43: 0.102637\n",
      "iter 44: 0.100256\n",
      "iter 45: 0.101013\n",
      "iter 46: 0.0962831\n",
      "iter 47: 0.0948995\n",
      "iter 48: 0.0913194\n",
      "iter 49: 0.103274\n",
      "iter 50: 0.100426\n",
      "iter 51: 0.094291\n",
      "iter 52: 0.0872027\n",
      "iter 53: 0.0851727\n",
      "iter 54: 0.0862976\n",
      "iter 55: 0.0783277\n",
      "iter 56: 0.0800058\n",
      "iter 57: 0.0762094\n",
      "iter 58: 0.0832162\n",
      "iter 59: 0.0963299\n",
      "iter 60: 0.0735618\n",
      "iter 61: 0.0775615\n",
      "iter 62: 0.0767632\n",
      "iter 63: 0.0737432\n",
      "iter 64: 0.0815798\n",
      "iter 65: 0.0737681\n",
      "iter 66: 0.0739781\n",
      "iter 67: 0.0695041\n",
      "iter 68: 0.0745017\n",
      "iter 69: 0.0664942\n",
      "iter 70: 0.0682472\n",
      "iter 71: 0.0703754\n",
      "iter 72: 0.0719622\n",
      "iter 73: 0.0621216\n",
      "iter 74: 0.0794589\n",
      "iter 75: 0.0666232\n",
      "iter 76: 0.0673193\n",
      "iter 77: 0.0626835\n",
      "iter 78: 0.058217\n",
      "iter 79: 0.0726609\n",
      "iter 80: 0.0591653\n",
      "iter 81: 0.0580538\n",
      "iter 82: 0.0563615\n",
      "iter 83: 0.0664841\n",
      "iter 84: 0.0570202\n",
      "iter 85: 0.06123\n",
      "iter 86: 0.0651888\n",
      "iter 87: 0.0575878\n",
      "iter 88: 0.0516636\n",
      "iter 89: 0.0522744\n",
      "iter 90: 0.0543372\n",
      "iter 91: 0.0635417\n",
      "iter 92: 0.0483508\n",
      "iter 93: 0.0462584\n",
      "iter 94: 0.0555614\n",
      "iter 95: 0.0518809\n",
      "iter 96: 0.0461953\n",
      "iter 97: 0.0467354\n",
      "iter 98: 0.0524264\n",
      "iter 99: 0.0495258\n",
      "iter 100: 0.0530962\n",
      "Model saved in file: C:/Users/Bin/Desktop/Thesis/tmp/52test/LSTMAutoencoder_kdd99_v1.ckpt\n"
     ]
    },
    {
     "data": {
      "image/png": "[encoded data removed]",
      "text/plain": [
       "<matplotlib.figure.Figure at 0x19cdf9b1748>"
      ]
     },
     "metadata": {},
     "output_type": "display_data"
    }
   ],
   "source": [
    "\n",
    "p_input = tf.placeholder(tf.float32, shape=(batch_num, step_num, elem_num),name = \"p_input\")\n",
    "p_inputs = [tf.squeeze(t, [1]) for t in tf.split(p_input, step_num, 1)]\n",
    "\n",
    "p_is_training = tf.placeholder(tf.bool)\n",
    "\n",
    "#is_training = tf.constant(False,name=\"is_training\")\n",
    "ae = EncDecAD(hidden_num, p_inputs, p_is_training , decode_without_input=False)\n",
    "\n",
    "with tf.Session() as sess:\n",
    "    saver = tf.train.Saver()\n",
    "    sess.run(tf.global_variables_initializer())\n",
    "    loss = []\n",
    "    for i in range(iteration):\n",
    "        data =[]\n",
    "        for temp in range(batch_num):\n",
    "            ind = np.random.randint(0,len(conf.sn_list)-1)\n",
    "            sub = conf.sn_list[ind]\n",
    "            data.append(sub)\n",
    "        data = np.array(data)\n",
    "        (loss_val, _) = sess.run([ae.loss, ae.train], {p_input: data,p_is_training : True})\n",
    "        loss.append(loss_val)\n",
    "        print('iter %d:' % (i + 1), loss_val)\n",
    "    pd.Series(loss).plot(title=\"Loss\")\n",
    "\n",
    "    save_path = saver.save(sess, modelpath)\n",
    "    print(\"Model saved in file: %s\" % save_path)"
   ]
  },
  {
   "cell_type": "markdown",
   "metadata": {},
   "source": [
    "# Calculate parameters using Vn1 dataset "
   ]
  },
  {
   "cell_type": "code",
   "execution_count": 3,
   "metadata": {
    "scrolled": true
   },
   "outputs": [
    {
     "name": "stdout",
     "output_type": "stream",
     "text": [
      "INFO:tensorflow:Restoring parameters from C:/Users/Bin/Desktop/Thesis/tmp/52test/LSTMAutoencoder_kdd99_v1.ckpt\n",
      "Model restored.\n",
      "Initialized\n",
      "Got parameters mu and sigma.\n"
     ]
    }
   ],
   "source": [
    "from Parameter_helper import Parameter_Helper\n",
    "\n",
    "para = Parameter_Helper(conf)\n",
    "\n",
    "mu, sigma = para.mu_and_sigma()"
   ]
  },
  {
   "cell_type": "markdown",
   "metadata": {},
   "source": [
    "# Calculate anomaly score, get threshold t using Vn2 and Va dataset."
   ]
  },
  {
   "cell_type": "code",
   "execution_count": 4,
   "metadata": {},
   "outputs": [
    {
     "name": "stdout",
     "output_type": "stream",
     "text": [
      "INFO:tensorflow:Restoring parameters from C:/Users/Bin/Desktop/Thesis/tmp/52test/LSTMAutoencoder_kdd99_v1.ckpt\n",
      "Finished\n",
      "Threshold:  0.154171836744\n"
     ]
    },
    {
     "data": {
      "image/png": "[encoded data removed]",
      "text/plain": [
       "<matplotlib.figure.Figure at 0x18feab0b710>"
      ]
     },
     "metadata": {},
     "output_type": "display_data"
    }
   ],
   "source": [
    "threshold = para.get_threshold(mu,sigma)"
   ]
  },
  {
   "cell_type": "markdown",
   "metadata": {},
   "source": [
    "# test"
   ]
  },
  {
   "cell_type": "code",
   "execution_count": 6,
   "metadata": {},
   "outputs": [
    {
     "name": "stdout",
     "output_type": "stream",
     "text": [
      "INFO:tensorflow:Restoring parameters from C:/Users/Bin/Desktop/Thesis/tmp/52test/LSTMAutoencoder_kdd99_v1.ckpt\n",
      "Model restored.\n",
      "Initialized\n"
     ]
    },
    {
     "ename": "NameError",
     "evalue": "name 'tn_list' is not defined",
     "output_type": "error",
     "traceback": [
      "\u001b[1;31m---------------------------------------------------------------------------\u001b[0m",
      "\u001b[1;31mNameError\u001b[0m                                 Traceback (most recent call last)",
      "\u001b[1;32m<ipython-input-6-7bdfd279bee7>\u001b[0m in \u001b[0;36m<module>\u001b[1;34m()\u001b[0m\n\u001b[0;32m     10\u001b[0m     \u001b[0ma_out\u001b[0m \u001b[1;33m=\u001b[0m \u001b[1;33m[\u001b[0m\u001b[1;33m]\u001b[0m\u001b[1;33m\u001b[0m\u001b[0m\n\u001b[0;32m     11\u001b[0m \u001b[1;33m\u001b[0m\u001b[0m\n\u001b[1;32m---> 12\u001b[1;33m     \u001b[1;32mfor\u001b[0m \u001b[0mcount\u001b[0m \u001b[1;32min\u001b[0m \u001b[0mrange\u001b[0m\u001b[1;33m(\u001b[0m\u001b[0mlen\u001b[0m\u001b[1;33m(\u001b[0m\u001b[0mtn_list\u001b[0m\u001b[1;33m)\u001b[0m\u001b[1;33m//\u001b[0m\u001b[0mbatch_num\u001b[0m\u001b[1;33m)\u001b[0m\u001b[1;33m:\u001b[0m\u001b[1;33m\u001b[0m\u001b[0m\n\u001b[0m\u001b[0;32m     13\u001b[0m         \u001b[0mnormal_sub\u001b[0m \u001b[1;33m=\u001b[0m \u001b[0mnp\u001b[0m\u001b[1;33m.\u001b[0m\u001b[0marray\u001b[0m\u001b[1;33m(\u001b[0m\u001b[0mtn_list\u001b[0m\u001b[1;33m[\u001b[0m\u001b[0mcount\u001b[0m\u001b[1;33m*\u001b[0m\u001b[0mbatch_num\u001b[0m\u001b[1;33m:\u001b[0m\u001b[1;33m(\u001b[0m\u001b[0mcount\u001b[0m\u001b[1;33m+\u001b[0m\u001b[1;36m1\u001b[0m\u001b[1;33m)\u001b[0m\u001b[1;33m*\u001b[0m\u001b[0mbatch_num\u001b[0m\u001b[1;33m]\u001b[0m\u001b[1;33m)\u001b[0m\u001b[1;33m\u001b[0m\u001b[0m\n\u001b[0;32m     14\u001b[0m         \u001b[1;33m(\u001b[0m\u001b[0minput_n\u001b[0m\u001b[1;33m,\u001b[0m \u001b[0moutput_n\u001b[0m\u001b[1;33m)\u001b[0m \u001b[1;33m=\u001b[0m \u001b[0msess\u001b[0m\u001b[1;33m.\u001b[0m\u001b[0mrun\u001b[0m\u001b[1;33m(\u001b[0m\u001b[1;33m[\u001b[0m\u001b[0mae\u001b[0m\u001b[1;33m.\u001b[0m\u001b[0minput_\u001b[0m\u001b[1;33m,\u001b[0m \u001b[0mae\u001b[0m\u001b[1;33m.\u001b[0m\u001b[0moutput_\u001b[0m\u001b[1;33m]\u001b[0m\u001b[1;33m,\u001b[0m \u001b[1;33m{\u001b[0m\u001b[0mp_input\u001b[0m\u001b[1;33m:\u001b[0m \u001b[0mnormal_sub\u001b[0m\u001b[1;33m}\u001b[0m\u001b[1;33m)\u001b[0m\u001b[1;33m\u001b[0m\u001b[0m\n",
      "\u001b[1;31mNameError\u001b[0m: name 'tn_list' is not defined"
     ]
    }
   ],
   "source": [
    "with tf.Session() as sess:\n",
    "    saver.restore(sess, modelpath)  # decode_without_input=True, iter=5000\n",
    "    print(\"Model restored.\") \n",
    "    print('Initialized')\n",
    "    \n",
    "    normal_score = []\n",
    "    n_in = []\n",
    "    n_out = []\n",
    "    a_in = []\n",
    "    a_out = []\n",
    "    \n",
    "    for count in range(len(tn_list)//batch_num):\n",
    "        normal_sub = np.array(tn_list[count*batch_num:(count+1)*batch_num]) \n",
    "        (input_n, output_n) = sess.run([ae.input_, ae.output_], {p_input: normal_sub})\n",
    "        n_in.append(input_n)\n",
    "        n_out.append(output_n)\n",
    "        err_n = abs(input_n-output_n).reshape(-1,step_num)\n",
    "        err_n = err_n.reshape(batch_num,-1)\n",
    "        for batch in range(batch_num):\n",
    "           temp = np.dot( (err_n[batch] - mu ).reshape(1,-1)  , sigma.T)\n",
    "           s = np.dot(temp,(err_n[batch] - mu ))\n",
    "           normal_score.append(s[0])\n",
    "           \n",
    "    abnormal_score = []\n",
    "    for count in range(len(ta_list)//batch_num):\n",
    "        abnormal_sub = np.array(ta_list[count*batch_num:(count+1)*batch_num]) \n",
    "        (input_a, output_a) = sess.run([ae.input_, ae.output_], {p_input: abnormal_sub})\n",
    "        a_in.append(input_a)\n",
    "        a_out.append(output_a)\n",
    "        err_a = abs(input_a-output_a).reshape(-1,step_num)\n",
    "        err_a = err_a.reshape(batch_num,-1)\n",
    "        for batch in range(batch_num):\n",
    "           temp = np.dot( (err_a[batch] - mu ).reshape(1,-1)  , sigma.T)\n",
    "           s = np.dot(temp,(err_a[batch] - mu ))\n",
    "           abnormal_score.append(s[0])\n",
    "             \n",
    "\n",
    "    print('Predict result :')\n",
    "\n",
    "    pd.Series(normal_score).plot(label=\"normal_score\",figsize=(18,5))\n",
    "    pd.Series(abnormal_score).plot(label=\"abnormal_score\")\n",
    "    bar = threshold*np.ones(len(normal_score)+len(abnormal_score))\n",
    "    pd.Series(bar).plot(label=\"threshold\")"
   ]
  },
  {
   "cell_type": "markdown",
   "metadata": {},
   "source": [
    "# Evaluation"
   ]
  },
  {
   "cell_type": "code",
   "execution_count": null,
   "metadata": {
    "collapsed": true
   },
   "outputs": [],
   "source": [
    "beta = 0.5\n",
    "tp = np.array(abnormal_score)[np.array(abnormal_score)>threshold].size\n",
    "fp = len(abnormal_score)-tp\n",
    "fn = np.array(normal_score)[np.array(normal_score)>threshold].size\n",
    "tn = len(normal_score)- fn\n",
    "P = tp/(tp+fp)\n",
    "R = tp/(tp+fn)\n",
    "fbeta= (1+beta*beta)*P*R/(beta*beta*P+R)\n",
    "fbeta"
   ]
  },
  {
   "cell_type": "code",
   "execution_count": null,
   "metadata": {
    "collapsed": true
   },
   "outputs": [],
   "source": [
    "print(tp,fp,tn,fn,P,R)"
   ]
  },
  {
   "cell_type": "code",
   "execution_count": null,
   "metadata": {
    "collapsed": true
   },
   "outputs": [],
   "source": [
    "tp/fp"
   ]
  },
  {
   "cell_type": "code",
   "execution_count": null,
   "metadata": {
    "collapsed": true
   },
   "outputs": [],
   "source": []
  }
 ],
 "metadata": {
  "kernelspec": {
   "display_name": "Python 3",
   "language": "python",
   "name": "python3"
  },
  "language_info": {
   "codemirror_mode": {
    "name": "ipython",
    "version": 3
   },
   "file_extension": ".py",
   "mimetype": "text/x-python",
   "name": "python",
   "nbconvert_exporter": "python",
   "pygments_lexer": "ipython3",
   "version": "3.6.3"
  }
 },
 "nbformat": 4,
 "nbformat_minor": 2
}
