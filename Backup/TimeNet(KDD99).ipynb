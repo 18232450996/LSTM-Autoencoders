{
 "cells": [
  {
   "cell_type": "code",
   "execution_count": 11,
   "metadata": {
    "collapsed": true
   },
   "outputs": [],
   "source": [
    "%matplotlib inline\n",
    "import numpy as np\n",
    "import pandas as pd\n",
    "import tensorflow as tf\n",
    "from functools import reduce"
   ]
  },
  {
   "cell_type": "markdown",
   "metadata": {},
   "source": [
    "# Definition of the EncDec-AD model"
   ]
  },
  {
   "cell_type": "code",
   "execution_count": 12,
   "metadata": {
    "collapsed": true
   },
   "outputs": [],
   "source": [
    "# decoder input: original time series value at last time step\n",
    "\n",
    "class EncDecAD(object):\n",
    "\n",
    "    def __init__(self, hidden_num, inputs, cell=None, optimizer=None, reverse=True, decode_without_input=False,):\n",
    "\n",
    "        self.batch_num = inputs[0].get_shape().as_list()[0]\n",
    "        self.elem_num = inputs[0].get_shape().as_list()[1]\n",
    "        if cell is None:\n",
    "            self._enc_cell = tf.nn.rnn_cell.LSTMCell(hidden_num, use_peepholes=True)\n",
    "            self._dec_cell = tf.nn.rnn_cell.LSTMCell(hidden_num, use_peepholes=True)\n",
    "\n",
    "        else:\n",
    "            self._enc_cell = cell\n",
    "            self._dec_cell = cell\n",
    "\n",
    "        with tf.variable_scope('encoder'):\n",
    "            (self.z_codes, self.enc_state) = tf.contrib.rnn.static_rnn(self._enc_cell, inputs, dtype=tf.float32)\n",
    "\n",
    "        with tf.variable_scope('decoder') as vs:\n",
    "            dec_weight_ = tf.Variable(tf.truncated_normal([hidden_num,\n",
    "                    self.elem_num], dtype=tf.float32), name='dec_weight')\n",
    "\n",
    "            dec_bias_ = tf.Variable(tf.constant(0.1,shape=[self.elem_num],dtype=tf.float32), name='dec_bias')\n",
    "\n",
    "            if decode_without_input:\n",
    "                dec_inputs = [tf.zeros(tf.shape(inputs[0]),dtype=tf.float32) for _ in range(len(inputs))]\n",
    "                (dec_outputs, dec_state) = tf.contrib.rnn.static_rnn(self._dec_cell, dec_inputs, initial_state=self.enc_state, dtype=tf.float32)\n",
    "\n",
    "                if reverse:\n",
    "                    dec_outputs = dec_outputs[::-1]\n",
    "                    \n",
    "                dec_output_ = tf.transpose(tf.stack(dec_outputs), [1, 0,2])\n",
    "                dec_weight_ = tf.tile(tf.expand_dims(dec_weight_, 0),[self.batch_num, 1, 1])\n",
    "                self.output_ = tf.matmul(dec_output_, dec_weight_) + dec_bias_\n",
    "\n",
    "\n",
    "            else:\n",
    "                dec_state = self.enc_state\n",
    "                dec_input_ = tf.zeros(tf.shape(inputs[0]),dtype=tf.float32)\n",
    "                dec_outputs = []\n",
    "                \n",
    "                for step in range(len(inputs)):\n",
    "                    if step > 0:\n",
    "                        vs.reuse_variables()\n",
    "                    (dec_input_, dec_state) =self._dec_cell(dec_input_, dec_state)\n",
    "                    dec_input_ = tf.matmul(dec_input_, dec_weight_) + dec_bias_\n",
    "                    dec_outputs.append(dec_input_)\n",
    "\n",
    "                if reverse:\n",
    "                    dec_outputs = dec_outputs[::-1]\n",
    "\n",
    "                self.output_ = tf.transpose(tf.stack(dec_outputs), [1, 0, 2])\n",
    "        self.input_ = tf.transpose(tf.stack(inputs), [1, 0, 2])\n",
    "        self.loss = tf.reduce_mean(tf.square(self.input_ - self.output_))\n",
    "\n",
    "        if optimizer is None:\n",
    "            self.train = tf.train.AdamOptimizer().minimize(self.loss)\n",
    "\n",
    "        else:\n",
    "            self.train = optimizer.minimize(self.loss)\n",
    "        "
   ]
  },
  {
   "cell_type": "markdown",
   "metadata": {},
   "source": [
    "# Load Power Demand Dataset"
   ]
  },
  {
   "cell_type": "code",
   "execution_count": 13,
   "metadata": {
    "collapsed": true
   },
   "outputs": [],
   "source": [
    "# The dataset is divided into 6 parts, namely training_normal, validation_1,\n",
    "#validation_2, test_normal, validation_anomaly, test_anomaly.\n",
    "\n",
    "root = \"C:/Users/Bin/Documents/Datasets/KDD99/6_subsets_win/\"\n",
    "\n",
    "sn = pd.read_csv(root + \"training_normal.csv\",header=None)\n",
    "vn1 = pd.read_csv(root + \"validation_1.csv\",header=None)\n",
    "vn2 = pd.read_csv(root + \"validation_2.csv\",header=None)\n",
    "tn = pd.read_csv(root + \"test_normal.csv\",header=None)\n",
    "\n",
    "va = pd.read_csv(root + \"validation_anomaly.csv\",header=None)\n",
    "ta = pd.read_csv(root + \"test_anomaly.csv\",header=None)    \n"
   ]
  },
  {
   "cell_type": "markdown",
   "metadata": {},
   "source": [
    "# Initialization"
   ]
  },
  {
   "cell_type": "code",
   "execution_count": 14,
   "metadata": {
    "collapsed": true
   },
   "outputs": [],
   "source": [
    "tf.reset_default_graph()\n",
    "\n",
    "batch_num = 20\n",
    "\n",
    "hidden_num = 100\n",
    "\n",
    "step_num = 20\n",
    "\n",
    "elem_num = sn.shape[1]\n",
    "\n",
    "iteration = 1000\n",
    "\n",
    "modlepath = \"C:/Users/Bin/Desktop/Thesis/tmp/LSTMAutoencoder_kdd99_v2.ckpt\""
   ]
  },
  {
   "cell_type": "code",
   "execution_count": 15,
   "metadata": {
    "collapsed": true
   },
   "outputs": [],
   "source": [
    "t1 = sn.shape[0]//step_num\n",
    "t2 = va.shape[0]//step_num\n",
    "t3 = vn1.shape[0]//step_num\n",
    "t4 = vn2.shape[0]//step_num\n",
    "t5 = tn.shape[0]//step_num\n",
    "t6 = ta.shape[0]//step_num\n",
    "\n",
    "sn_list = [sn[step_num*i:step_num*(i+1)].as_matrix() for i in range(t1)]\n",
    "va_list = [va[step_num*i:step_num*(i+1)].as_matrix() for i in range(t2)]\n",
    "vn1_list = [vn1[step_num*i:step_num*(i+1)].as_matrix() for i in range(t3)]\n",
    "vn2_list = [vn2[step_num*i:step_num*(i+1)].as_matrix() for i in range(t4)]\n",
    "\n",
    "tn_list = [tn[step_num*i:step_num*(i+1)].as_matrix() for i in range(t5)]\n",
    "ta_list = [ta[step_num*i:step_num*(i+1)].as_matrix() for i in range(t6)]\n"
   ]
  },
  {
   "cell_type": "code",
   "execution_count": 16,
   "metadata": {
    "collapsed": true
   },
   "outputs": [],
   "source": [
    "# input placeholder\n",
    "p_input = tf.placeholder(tf.float32, shape=(batch_num, step_num, elem_num))\n",
    "p_inputs = [tf.squeeze(t, [1]) for t in tf.split(p_input, step_num, 1)]\n",
    "\n",
    "# define cell\n",
    "#cell = tf.nn.rnn_cell.LSTMCell(hidden_num, use_peepholes=True)\n",
    "cell = None"
   ]
  },
  {
   "cell_type": "code",
   "execution_count": 17,
   "metadata": {
    "collapsed": true
   },
   "outputs": [],
   "source": [
    "ae = EncDecAD(hidden_num, p_inputs,cell=cell,\n",
    "                     decode_without_input=True)"
   ]
  },
  {
   "cell_type": "markdown",
   "metadata": {},
   "source": [
    "# Training"
   ]
  },
  {
   "cell_type": "code",
   "execution_count": 18,
   "metadata": {},
   "outputs": [
    {
     "name": "stdout",
     "output_type": "stream",
     "text": [
      "iter 1: 0.274207\n",
      "iter 2: 0.181481\n",
      "iter 3: 0.133261\n",
      "iter 4: 0.107309\n",
      "iter 5: 0.0757077\n",
      "Model saved in file: C:/Users/Bin/Desktop/Thesis/tmp/LSTMAutoencoder_kdd99_v2.ckpt\n"
     ]
    },
    {
     "data": {
      "image/png": "[encoded data removed]",
      "text/plain": [
       "<matplotlib.figure.Figure at 0x25788f78e80>"
      ]
     },
     "metadata": {},
     "output_type": "display_data"
    }
   ],
   "source": [
    "saver = tf.train.Saver()\n",
    "\n",
    "with tf.Session() as sess:\n",
    "    sess.run(tf.global_variables_initializer())\n",
    "    loss = []\n",
    "    for i in range(iteration):\n",
    "        data =[]\n",
    "        for temp in range(batch_num):\n",
    "            ind = np.random.randint(0,len(sn_list)-1)\n",
    "            sub = sn_list[ind]\n",
    "            data.append(sub)\n",
    "        data = np.array(data)\n",
    "        (loss_val, _) = sess.run([ae.loss, ae.train], {p_input: data})\n",
    "        loss.append(loss_val)\n",
    "        print('iter %d:' % (i + 1), loss_val)\n",
    "    pd.Series(loss).plot(title=\"Loss decline\")\n",
    "    save_path = saver.save(sess, modlepath)\n",
    "    print(\"Model saved in file: %s\" % save_path) "
   ]
  },
  {
   "cell_type": "markdown",
   "metadata": {},
   "source": [
    "# Calculate parameters using Vn1 dataset "
   ]
  },
  {
   "cell_type": "code",
   "execution_count": 19,
   "metadata": {},
   "outputs": [
    {
     "name": "stdout",
     "output_type": "stream",
     "text": [
      "INFO:tensorflow:Restoring parameters from C:/Users/Bin/Desktop/Thesis/tmp/LSTMAutoencoder_kdd99_v2.ckpt\n",
      "Model restored.\n",
      "Initialized\n",
      "Got parameters mu and sigma.\n"
     ]
    }
   ],
   "source": [
    "with tf.Session() as sess:\n",
    "    saver.restore(sess, modlepath) \n",
    "    print(\"Model restored.\") \n",
    "    print('Initialized')\n",
    "    \n",
    "    err_vec_list = []\n",
    "    for _ in range(len(vn1_list)//batch_num):\n",
    "        data =[]\n",
    "        for temp in range(batch_num):\n",
    "            ind = np.random.randint(0,len(vn1_list)-1)\n",
    "            sub = vn1_list[ind]\n",
    "            data.append(sub)\n",
    "        data = np.array(data)\n",
    "        (input_, output_) = sess.run([ae.input_, ae.output_], {p_input: data})\n",
    "        err_vec_list.append(abs(input_ - output_))\n",
    "    err_vec = np.mean(np.array(err_vec_list),axis=0).reshape(batch_num,-1)\n",
    "    mu = np.mean(err_vec,axis=0)\n",
    "    sigma = np.cov(err_vec.T)\n",
    "    print(\"Got parameters mu and sigma.\")"
   ]
  },
  {
   "cell_type": "markdown",
   "metadata": {},
   "source": [
    "# Calculate anomaly score, get threshold t using Vn2 and Va dataset."
   ]
  },
  {
   "cell_type": "code",
   "execution_count": 10,
   "metadata": {},
   "outputs": [
    {
     "name": "stdout",
     "output_type": "stream",
     "text": [
      "INFO:tensorflow:Restoring parameters from C:/Users/Bin/Desktop/Thesis/tmp/LSTMAutoencoder_kdd99_v2.ckpt\n",
      "Model restored.\n",
      "Initialized\n",
      "Finished\n"
     ]
    }
   ],
   "source": [
    "with tf.Session() as sess:\n",
    "    saver.restore(sess, modlepath) \n",
    "    print(\"Model restored.\") \n",
    "    print('Initialized')\n",
    "    \n",
    "    normal_score = []\n",
    "    for count in range(len(vn2_list)//batch_num):\n",
    "        normal_sub = np.array(vn2_list[count*batch_num:(count+1)*batch_num]) \n",
    "        (input_n, output_n) = sess.run([ae.input_, ae.output_], {p_input: normal_sub})\n",
    "        err_n = abs(input_n-output_n).reshape(-1,step_num)\n",
    "        err_n = err_n.reshape(batch_num,-1)\n",
    "        for batch in range(batch_num):\n",
    "           temp = np.dot( (err_n[batch] - mu ).reshape(1,-1)  , sigma.T)\n",
    "           s = np.dot(temp,(err_n[batch] - mu ))\n",
    "           normal_score.append(s[0])\n",
    "           \n",
    "    abnormal_score = []\n",
    "    for count in range(len(va_list)//batch_num):\n",
    "        abnormal_sub = np.array(va_list[count*batch_num:(count+1)*batch_num]) \n",
    "        (input_a, output_a) = sess.run([ae.input_, ae.output_], {p_input: abnormal_sub})\n",
    "        err_a = abs(input_a-output_a).reshape(-1,step_num)\n",
    "        err_a = err_a.reshape(batch_num,-1)\n",
    "        for batch in range(batch_num):\n",
    "           temp = np.dot( (err_a[batch] - mu ).reshape(1,-1)  , sigma.T)\n",
    "           s = np.dot(temp,(err_a[batch] - mu ))\n",
    "           abnormal_score.append(s[0])\n",
    "             \n",
    "\n",
    "    print('Finished')\n",
    "\n",
    "#    print(\"normal score \",normal_score)\n",
    "#    print(\"abnormal score \",abnormal_score)"
   ]
  },
  {
   "cell_type": "code",
   "execution_count": 12,
   "metadata": {
    "collapsed": true
   },
   "outputs": [],
   "source": [
    "# the threshold leads to best f1 sore\n",
    "def evaluate(threshold):\n",
    "    beta = 0.5\n",
    "    tp = np.array(abnormal_score)[np.array(abnormal_score)>threshold].size\n",
    "    fp = len(abnormal_score)-tp\n",
    "    fn = np.array(normal_score)[np.array(normal_score)>threshold].size\n",
    "    tn = len(normal_score)- fn\n",
    "    P = tp/(tp+fp)\n",
    "    R = tp/(tp+fn)\n",
    "    fbeta= (1+beta*beta)*P*R/(beta*beta*P+R)\n",
    "    return fbeta\n",
    "\n",
    "\n",
    "upper = np.median(np.array(abnormal_score))\n",
    "lower = np.median(np.array(normal_score)) \n",
    "scala = 20\n",
    "delta = (upper-lower) / scala\n",
    "candidate = lower\n",
    "threshold = 0\n",
    "result = 0\n",
    "\n",
    "for _ in range(scala):\n",
    "    r = evaluate(candidate)\n",
    "    if r > result:\n",
    "        result = r \n",
    "        threshold = candidate\n",
    "    candidate += delta "
   ]
  },
  {
   "cell_type": "code",
   "execution_count": 13,
   "metadata": {},
   "outputs": [
    {
     "data": {
      "text/plain": [
       "<matplotlib.axes._subplots.AxesSubplot at 0x18583a55668>"
      ]
     },
     "execution_count": 13,
     "metadata": {},
     "output_type": "execute_result"
    },
    {
     "data": {
      "image/png": "[encoded data removed]",
      "text/plain": [
       "<matplotlib.figure.Figure at 0x185a4c8ddd8>"
      ]
     },
     "metadata": {},
     "output_type": "display_data"
    }
   ],
   "source": [
    "# anomaly score of vn2 and va dataset\n",
    "pd.Series(normal_score).plot(figsize=(18,5))\n",
    "pd.Series(abnormal_score).plot()"
   ]
  },
  {
   "cell_type": "code",
   "execution_count": 14,
   "metadata": {},
   "outputs": [
    {
     "data": {
      "text/plain": [
       "0.9644434073659839"
      ]
     },
     "execution_count": 14,
     "metadata": {},
     "output_type": "execute_result"
    }
   ],
   "source": [
    "beta = 0.1\n",
    "tp = np.array(abnormal_score)[abnormal_score>threshold].size\n",
    "fp = len(abnormal_score)-tp\n",
    "fn = np.array(normal_score)[normal_score>threshold].size\n",
    "P = tp/(tp+fp)\n",
    "R = tp/(tp+fn)\n",
    "fbeta= (1+beta*beta)*P*R/(beta*beta*P+R)\n",
    "fbeta"
   ]
  },
  {
   "cell_type": "markdown",
   "metadata": {},
   "source": [
    "# test"
   ]
  },
  {
   "cell_type": "code",
   "execution_count": 15,
   "metadata": {},
   "outputs": [
    {
     "name": "stdout",
     "output_type": "stream",
     "text": [
      "INFO:tensorflow:Restoring parameters from C:/Users/Bin/Desktop/Thesis/tmp/LSTMAutoencoder_kdd99_v2.ckpt\n",
      "Model restored.\n",
      "Initialized\n",
      "Predict result :\n"
     ]
    },
    {
     "data": {
      "image/png": "[encoded data removed]",
      "text/plain": [
       "<matplotlib.figure.Figure at 0x185971fe438>"
      ]
     },
     "metadata": {},
     "output_type": "display_data"
    }
   ],
   "source": [
    "with tf.Session() as sess:\n",
    "    saver.restore(sess, modlepath)  # decode_without_input=True, iter=5000\n",
    "    print(\"Model restored.\") \n",
    "    print('Initialized')\n",
    "    \n",
    "    normal_score = []\n",
    "    n_in = []\n",
    "    n_out = []\n",
    "    a_in = []\n",
    "    a_out = []\n",
    "    \n",
    "    for count in range(len(tn_list)//batch_num):\n",
    "        normal_sub = np.array(tn_list[count*batch_num:(count+1)*batch_num]) \n",
    "        (input_n, output_n) = sess.run([ae.input_, ae.output_], {p_input: normal_sub})\n",
    "        n_in.append(input_n)\n",
    "        n_out.append(output_n)\n",
    "        err_n = abs(input_n-output_n).reshape(-1,step_num)\n",
    "        err_n = err_n.reshape(batch_num,-1)\n",
    "        for batch in range(batch_num):\n",
    "           temp = np.dot( (err_n[batch] - mu ).reshape(1,-1)  , sigma.T)\n",
    "           s = np.dot(temp,(err_n[batch] - mu ))\n",
    "           normal_score.append(s[0])\n",
    "           \n",
    "    abnormal_score = []\n",
    "    for count in range(len(ta_list)//batch_num):\n",
    "        abnormal_sub = np.array(ta_list[count*batch_num:(count+1)*batch_num]) \n",
    "        (input_a, output_a) = sess.run([ae.input_, ae.output_], {p_input: abnormal_sub})\n",
    "        a_in.append(input_a)\n",
    "        a_out.append(output_a)\n",
    "        err_a = abs(input_a-output_a).reshape(-1,step_num)\n",
    "        err_a = err_a.reshape(batch_num,-1)\n",
    "        for batch in range(batch_num):\n",
    "           temp = np.dot( (err_a[batch] - mu ).reshape(1,-1)  , sigma.T)\n",
    "           s = np.dot(temp,(err_a[batch] - mu ))\n",
    "           abnormal_score.append(s[0])\n",
    "             \n",
    "\n",
    "    print('Predict result :')\n",
    "\n",
    "#    print(\"normal score \",normal_score)\n",
    "#    print(\"abnormal score \",abnormal_score)\n",
    "    pd.Series(normal_score).plot(label=\"normal_score\",figsize=(18,5))\n",
    "    pd.Series(abnormal_score).plot(label=\"abnormal_score\")\n",
    "    bar = threshold*np.ones(len(normal_score)+len(abnormal_score))\n",
    "    pd.Series(bar).plot(label=\"threshold\")"
   ]
  },
  {
   "cell_type": "markdown",
   "metadata": {},
   "source": [
    "# Evaluation"
   ]
  },
  {
   "cell_type": "code",
   "execution_count": 16,
   "metadata": {},
   "outputs": [
    {
     "data": {
      "text/plain": [
       "0.9948409170505672"
      ]
     },
     "execution_count": 16,
     "metadata": {},
     "output_type": "execute_result"
    }
   ],
   "source": [
    "beta = 0.5\n",
    "tp = np.array(abnormal_score)[np.array(abnormal_score)>threshold].size\n",
    "fp = len(abnormal_score)-tp\n",
    "fn = np.array(normal_score)[np.array(normal_score)>threshold].size\n",
    "tn = len(normal_score)- fn\n",
    "P = tp/(tp+fp)\n",
    "R = tp/(tp+fn)\n",
    "fbeta= (1+beta*beta)*P*R/(beta*beta*P+R)\n",
    "fbeta"
   ]
  },
  {
   "cell_type": "code",
   "execution_count": 17,
   "metadata": {},
   "outputs": [
    {
     "name": "stdout",
     "output_type": "stream",
     "text": [
      "14771 29 513 267 0.9980405405405406 0.9822449793855565\n"
     ]
    }
   ],
   "source": [
    "print(tp,fp,tn,fn,P,R)"
   ]
  },
  {
   "cell_type": "code",
   "execution_count": 18,
   "metadata": {},
   "outputs": [
    {
     "data": {
      "text/plain": [
       "509.3448275862069"
      ]
     },
     "execution_count": 18,
     "metadata": {},
     "output_type": "execute_result"
    }
   ],
   "source": [
    "tp/fp"
   ]
  },
  {
   "cell_type": "code",
   "execution_count": null,
   "metadata": {
    "collapsed": true
   },
   "outputs": [],
   "source": []
  }
 ],
 "metadata": {
  "kernelspec": {
   "display_name": "Python 3",
   "language": "python",
   "name": "python3"
  },
  "language_info": {
   "codemirror_mode": {
    "name": "ipython",
    "version": 3
   },
   "file_extension": ".py",
   "mimetype": "text/x-python",
   "name": "python",
   "nbconvert_exporter": "python",
   "pygments_lexer": "ipython3",
   "version": "3.6.3"
  }
 },
 "nbformat": 4,
 "nbformat_minor": 2
}
