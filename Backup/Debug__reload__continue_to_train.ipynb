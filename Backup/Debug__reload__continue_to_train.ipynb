{
 "cells": [
  {
   "cell_type": "code",
   "execution_count": 1,
   "metadata": {},
   "outputs": [
    {
     "name": "stdout",
     "output_type": "stream",
     "text": [
      "INFO:tensorflow:Restoring parameters from C:/Users/Bin/Desktop/Thesis/tmp/EncDecADModel/LSTMAutoencoder_kdd99_v1_para.ckpt\n"
     ]
    }
   ],
   "source": [
    "foo = \"C:/Users/Bin/Desktop/Thesis/tmp/EncDecADModel/\"+\"LSTMAutoencoder_kdd99_v1_para.ckpt.meta\"\n",
    "bar = \"C:/Users/Bin/Desktop/Thesis/tmp/EncDecADModel/\"\n",
    "\n",
    "import numpy as np\n",
    "import tensorflow as tf\n",
    "data = np.ones(20*20*34)\n",
    "data = data.reshape(20,20,34)\n",
    "with tf.Session() as sess:\n",
    "\n",
    "    saver = tf.train.import_meta_graph(foo) # load trained gragh, but without the trained parameters\n",
    "    saver.restore(sess,tf.train.latest_checkpoint(bar))\n",
    "    graph = tf.get_default_graph()\n",
    "\n",
    "    p_input = graph.get_tensor_by_name(\"p_input:0\")\n",
    "    p_inputs = [tf.squeeze(t, [1]) for t in tf.split(p_input, 20, 1)] \n",
    "    p_is_training = graph.get_tensor_by_name(\"is_training_:0\")#tf.placeholder(tf.bool)\n",
    "\n",
    "    input_= tf.transpose(tf.stack(p_inputs), [1, 0, 2])    \n",
    "    output_ = graph.get_tensor_by_name(\"decoder/output_:0\")\n",
    "\n",
    "    tensor_mu = graph.get_tensor_by_name(\"mu:0\")\n",
    "    tensor_sigma = graph.get_tensor_by_name(\"sigma:0\")\n",
    "    tensor_threshold = graph.get_tensor_by_name(\"threshold:0\")\n",
    "\n",
    "    loss_ = graph.get_tensor_by_name(\"decoder/loss:0\")\n",
    "    train_ = graph.get_operation_by_name(\"cond/train_\")\n",
    "    (loss_val,_) = sess.run([loss_,train_], {p_input: data,p_is_training : True})\n",
    "    #(input_n, output_n) = sess.run([input_, output_], {p_input: data, p_is_training: True})"
   ]
  },
  {
   "cell_type": "code",
   "execution_count": 2,
   "metadata": {},
   "outputs": [
    {
     "data": {
      "text/plain": [
       "10.376467"
      ]
     },
     "execution_count": 2,
     "metadata": {},
     "output_type": "execute_result"
    }
   ],
   "source": [
    "loss_val"
   ]
  },
  {
   "cell_type": "code",
   "execution_count": null,
   "metadata": {
    "collapsed": true
   },
   "outputs": [],
   "source": []
  }
 ],
 "metadata": {
  "kernelspec": {
   "display_name": "Python 3",
   "language": "python",
   "name": "python3"
  },
  "language_info": {
   "codemirror_mode": {
    "name": "ipython",
    "version": 3
   },
   "file_extension": ".py",
   "mimetype": "text/x-python",
   "name": "python",
   "nbconvert_exporter": "python",
   "pygments_lexer": "ipython3",
   "version": "3.6.3"
  }
 },
 "nbformat": 4,
 "nbformat_minor": 2
}
