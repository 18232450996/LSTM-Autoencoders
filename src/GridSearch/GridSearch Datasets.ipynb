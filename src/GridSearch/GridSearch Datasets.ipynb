{
 "cells": [
  {
   "cell_type": "code",
   "execution_count": 3,
   "metadata": {
    "collapsed": true
   },
   "outputs": [],
   "source": [
    "%matplotlib inline\n",
    "import pandas as pd\n",
    "import numpy as np"
   ]
  },
  {
   "cell_type": "code",
   "execution_count": 4,
   "metadata": {
    "collapsed": true
   },
   "outputs": [],
   "source": [
    "f_http = \"C:/Users/Bin/Desktop/Thesis/dataset/http.csv\"\n",
    "f_smtp = \"C:/Users/Bin/Desktop/Thesis/dataset/smtp.csv\"\n",
    "f_forest = \"C:/Users/Bin/Desktop/Thesis/dataset/forest.csv\"\n",
    "f_power = \"C:/Users/Bin/Desktop/Thesis/dataset/power.csv\""
   ]
  },
  {
   "cell_type": "code",
   "execution_count": 6,
   "metadata": {},
   "outputs": [],
   "source": [
    "http = pd.read_csv(f_http,header=None)\n",
    "smtp = pd.read_csv(f_smtp,header=None)\n",
    "forest = pd.read_csv(f_forest,header=None)\n",
    "power = pd.read_csv(f_power,header=None)"
   ]
  },
  {
   "cell_type": "markdown",
   "metadata": {},
   "source": [
    "# HTTP"
   ]
  },
  {
   "cell_type": "code",
   "execution_count": 9,
   "metadata": {},
   "outputs": [
    {
     "name": "stdout",
     "output_type": "stream",
     "text": [
      "(8000, 35) (1000, 35) (950, 35)\n"
     ]
    }
   ],
   "source": [
    "#http\n",
    "a_test = http.iloc[312250:313200,:]\n",
    "n_test = http.iloc[311250:312250,:]\n",
    "n_train = http.iloc[303250:311250,:]\n",
    "\n",
    "\n",
    "print(n_train.shape, n_test.shape, a_test.shape)"
   ]
  },
  {
   "cell_type": "code",
   "execution_count": 11,
   "metadata": {
    "collapsed": true
   },
   "outputs": [],
   "source": [
    "n_train.to_csv(\"C:/Users/Bin/Desktop/Thesis/dataset/http_gridsearch_train.csv\",header=None,index=None)\n",
    "n_test.to_csv(\"C:/Users/Bin/Desktop/Thesis/dataset/http_gridsearch_test_n.csv\",header=None,index=None)\n",
    "a_test.to_csv(\"C:/Users/Bin/Desktop/Thesis/dataset/http_gridsearch_test_a.csv\",header=None,index=None)"
   ]
  },
  {
   "cell_type": "markdown",
   "metadata": {},
   "source": [
    "# SMTP"
   ]
  },
  {
   "cell_type": "code",
   "execution_count": 18,
   "metadata": {},
   "outputs": [
    {
     "name": "stdout",
     "output_type": "stream",
     "text": [
      "(4000, 35) (370, 35) (190, 35)\n"
     ]
    }
   ],
   "source": [
    "#smtp\n",
    "a_test = smtp.iloc[31870:32060,:]\n",
    "n_test = smtp.iloc[31500:31870,:]\n",
    "n_train = smtp.iloc[27000:31000,:]\n",
    "print(n_train.shape, n_test.shape, a_test.shape)"
   ]
  },
  {
   "cell_type": "code",
   "execution_count": 19,
   "metadata": {
    "collapsed": true
   },
   "outputs": [],
   "source": [
    "n_train.to_csv(\"C:/Users/Bin/Desktop/Thesis/dataset/smtp_gridsearch_train.csv\",header=None,index=None)\n",
    "n_test.to_csv(\"C:/Users/Bin/Desktop/Thesis/dataset/smtp_gridsearch_test_n.csv\",header=None,index=None)\n",
    "a_test.to_csv(\"C:/Users/Bin/Desktop/Thesis/dataset/smtp_gridsearch_test_a.csv\",header=None,index=None)"
   ]
  },
  {
   "cell_type": "markdown",
   "metadata": {},
   "source": [
    "# Forest"
   ]
  },
  {
   "cell_type": "code",
   "execution_count": 20,
   "metadata": {},
   "outputs": [
    {
     "name": "stdout",
     "output_type": "stream",
     "text": [
      "(7000, 8) (1380, 8) (1620, 8)\n"
     ]
    }
   ],
   "source": [
    "#forest\n",
    "forest = forest[:10000]\n",
    "a_test = forest[forest.iloc[:,-1]!=\"normal\"]\n",
    "n_test = forest[forest.iloc[:,-1]==\"normal\"][7000:]\n",
    "n_train = forest[forest.iloc[:,-1]==\"normal\"][:7000]\n",
    "print(n_train.shape, n_test.shape, a_test.shape)"
   ]
  },
  {
   "cell_type": "code",
   "execution_count": 21,
   "metadata": {
    "collapsed": true
   },
   "outputs": [],
   "source": [
    "n_train.to_csv(\"C:/Users/Bin/Desktop/Thesis/dataset/forest_gridsearch_train.csv\",header=None,index=None)\n",
    "n_test.to_csv(\"C:/Users/Bin/Desktop/Thesis/dataset/forest_gridsearch_test_n.csv\",header=None,index=None)\n",
    "a_test.to_csv(\"C:/Users/Bin/Desktop/Thesis/dataset/forest_gridsearch_test_a.csv\",header=None,index=None)"
   ]
  },
  {
   "cell_type": "markdown",
   "metadata": {
    "collapsed": true
   },
   "source": [
    "# Power"
   ]
  },
  {
   "cell_type": "code",
   "execution_count": 25,
   "metadata": {},
   "outputs": [
    {
     "name": "stdout",
     "output_type": "stream",
     "text": [
      "(950, 2) (100, 2) (100, 2)\n"
     ]
    }
   ],
   "source": [
    "#power\n",
    "a_test = power[950:1050]\n",
    "n_test = power[1050:1150]\n",
    "n_train = power[:950]\n",
    "print(n_train.shape, n_test.shape, a_test.shape)"
   ]
  },
  {
   "cell_type": "code",
   "execution_count": 26,
   "metadata": {
    "collapsed": true
   },
   "outputs": [],
   "source": [
    "n_train.to_csv(\"C:/Users/Bin/Desktop/Thesis/dataset/power_gridsearch_train.csv\",header=None,index=None)\n",
    "n_test.to_csv(\"C:/Users/Bin/Desktop/Thesis/dataset/power_gridsearch_test_n.csv\",header=None,index=None)\n",
    "a_test.to_csv(\"C:/Users/Bin/Desktop/Thesis/dataset/power_gridsearch_test_a.csv\",header=None,index=None)"
   ]
  },
  {
   "cell_type": "code",
   "execution_count": null,
   "metadata": {
    "collapsed": true
   },
   "outputs": [],
   "source": []
  }
 ],
 "metadata": {
  "kernelspec": {
   "display_name": "Python 3",
   "language": "python",
   "name": "python3"
  },
  "language_info": {
   "codemirror_mode": {
    "name": "ipython",
    "version": 3
   },
   "file_extension": ".py",
   "mimetype": "text/x-python",
   "name": "python",
   "nbconvert_exporter": "python",
   "pygments_lexer": "ipython3",
   "version": "3.6.3"
  }
 },
 "nbformat": 4,
 "nbformat_minor": 2
}
