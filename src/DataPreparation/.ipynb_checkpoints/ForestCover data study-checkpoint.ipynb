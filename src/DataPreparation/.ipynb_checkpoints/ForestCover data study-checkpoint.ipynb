{
 "cells": [
  {
   "cell_type": "code",
   "execution_count": 76,
   "metadata": {
    "collapsed": true
   },
   "outputs": [],
   "source": [
    "%matplotlib inline\n",
    "import pandas as pd\n",
    "import numpy as np"
   ]
  },
  {
   "cell_type": "code",
   "execution_count": 131,
   "metadata": {},
   "outputs": [],
   "source": [
    "forest =  pd.read_csv(\"C:/Users/Bin/Documents/Datasets/forest cover/covtype.data\",header=None)"
   ]
  },
  {
   "cell_type": "code",
   "execution_count": 132,
   "metadata": {},
   "outputs": [
    {
     "data": {
      "text/plain": [
       "(581012, 55)"
      ]
     },
     "execution_count": 132,
     "metadata": {},
     "output_type": "execute_result"
    }
   ],
   "source": [
    "forest.shape"
   ]
  },
  {
   "cell_type": "code",
   "execution_count": 66,
   "metadata": {},
   "outputs": [],
   "source": [
    "labels = forest.iloc[:,-1]"
   ]
  },
  {
   "cell_type": "code",
   "execution_count": 134,
   "metadata": {
    "collapsed": true
   },
   "outputs": [],
   "source": [
    "forest = pd.concat((forest.iloc[:,:6],forest.iloc[:,9],forest.iloc[:,-1]),axis=1)\n"
   ]
  },
  {
   "cell_type": "code",
   "execution_count": 187,
   "metadata": {},
   "outputs": [
    {
     "data": {
      "text/plain": [
       "[109440, 213680, 258960, 376320, 542800, 563520]"
      ]
     },
     "execution_count": 187,
     "metadata": {},
     "output_type": "execute_result"
    }
   ],
   "source": [
    "retrain = []\n",
    "for x in   [118,1421,1987,3454,5535,5794]:\n",
    "    retrain.append(x*80+100000)\n",
    "retrain"
   ]
  },
  {
   "cell_type": "code",
   "execution_count": 166,
   "metadata": {},
   "outputs": [
    {
     "data": {
      "text/plain": [
       "<matplotlib.axes._subplots.AxesSubplot at 0x201a80b9cc0>"
      ]
     },
     "execution_count": 166,
     "metadata": {},
     "output_type": "execute_result"
    },
    {
     "data": {
      "image/png": "[encoded data removed]",
      "text/plain": [
       "<matplotlib.figure.Figure at 0x201a36a5b70>"
      ]
     },
     "metadata": {},
     "output_type": "display_data"
    }
   ],
   "source": [
    "classlabel = data.iloc[:,-1]\n",
    "\n",
    "c1 = np.zeros(classlabel.shape[0])\n",
    "c1[classlabel==1] = 1\n",
    "pd.Series(c1).plot(figsize=(20,1))"
   ]
  },
  {
   "cell_type": "code",
   "execution_count": 167,
   "metadata": {},
   "outputs": [
    {
     "data": {
      "text/plain": [
       "<matplotlib.axes._subplots.AxesSubplot at 0x201a3691ef0>"
      ]
     },
     "execution_count": 167,
     "metadata": {},
     "output_type": "execute_result"
    },
    {
     "data": {
      "image/png": "[encoded data removed]",
      "text/plain": [
       "<matplotlib.figure.Figure at 0x201a36926d8>"
      ]
     },
     "metadata": {},
     "output_type": "display_data"
    }
   ],
   "source": [
    "c1 = np.zeros(classlabel.shape[0])\n",
    "c1[classlabel==2] = 1\n",
    "pd.Series(c1).plot(figsize=(20,1))"
   ]
  },
  {
   "cell_type": "code",
   "execution_count": 168,
   "metadata": {},
   "outputs": [
    {
     "data": {
      "text/plain": [
       "<matplotlib.axes._subplots.AxesSubplot at 0x201a80b7ef0>"
      ]
     },
     "execution_count": 168,
     "metadata": {},
     "output_type": "execute_result"
    },
    {
     "data": {
      "image/png": "[encoded data removed]",
      "text/plain": [
       "<matplotlib.figure.Figure at 0x201a80a03c8>"
      ]
     },
     "metadata": {},
     "output_type": "display_data"
    }
   ],
   "source": [
    "c1 = np.zeros(classlabel.shape[0])\n",
    "c1[classlabel==3] = 1\n",
    "pd.Series(c1).plot(figsize=(20,1))"
   ]
  },
  {
   "cell_type": "code",
   "execution_count": 169,
   "metadata": {},
   "outputs": [
    {
     "data": {
      "text/plain": [
       "<matplotlib.axes._subplots.AxesSubplot at 0x201a80b2ac8>"
      ]
     },
     "execution_count": 169,
     "metadata": {},
     "output_type": "execute_result"
    },
    {
     "data": {
      "image/png": "[encoded data removed]",
      "text/plain": [
       "<matplotlib.figure.Figure at 0x201945c44e0>"
      ]
     },
     "metadata": {},
     "output_type": "display_data"
    }
   ],
   "source": [
    "c1 = np.zeros(classlabel.shape[0])\n",
    "c1[classlabel==4] = 1\n",
    "pd.Series(c1).plot(figsize=(20,1))"
   ]
  },
  {
   "cell_type": "code",
   "execution_count": 190,
   "metadata": {},
   "outputs": [
    {
     "data": {
      "text/plain": [
       "<matplotlib.axes._subplots.AxesSubplot at 0x201aa2332e8>"
      ]
     },
     "execution_count": 190,
     "metadata": {},
     "output_type": "execute_result"
    },
    {
     "data": {
      "image/png": "[encoded data removed]",
      "text/plain": [
       "<matplotlib.figure.Figure at 0x201aa233b38>"
      ]
     },
     "metadata": {},
     "output_type": "display_data"
    }
   ],
   "source": [
    "c1 = np.zeros(classlabel.shape[0])\n",
    "c1[classlabel==5] = 1\n",
    "pd.Series(c1).plot(figsize=(20,1))"
   ]
  },
  {
   "cell_type": "code",
   "execution_count": 192,
   "metadata": {},
   "outputs": [
    {
     "data": {
      "text/plain": [
       "<matplotlib.axes._subplots.AxesSubplot at 0x201ffba6048>"
      ]
     },
     "execution_count": 192,
     "metadata": {},
     "output_type": "execute_result"
    },
    {
     "data": {
      "image/png": "[encoded data removed]",
      "text/plain": [
       "<matplotlib.figure.Figure at 0x201ffc9ef28>"
      ]
     },
     "metadata": {},
     "output_type": "display_data"
    }
   ],
   "source": [
    "c1 = np.zeros(classlabel.shape[0])\n",
    "c1[classlabel==6] = 1\n",
    "pd.Series(c1).plot(figsize=(20,1))"
   ]
  },
  {
   "cell_type": "code",
   "execution_count": 172,
   "metadata": {},
   "outputs": [
    {
     "data": {
      "text/plain": [
       "<matplotlib.axes._subplots.AxesSubplot at 0x201d27df198>"
      ]
     },
     "execution_count": 172,
     "metadata": {},
     "output_type": "execute_result"
    },
    {
     "data": {
      "image/png": "[encoded data removed]",
      "text/plain": [
       "<matplotlib.figure.Figure at 0x201a5aa6208>"
      ]
     },
     "metadata": {},
     "output_type": "display_data"
    }
   ],
   "source": [
    "c1 = np.zeros(classlabel.shape[0])\n",
    "c1[classlabel==7] = 1\n",
    "pd.Series(c1).plot(figsize=(20,1))"
   ]
  },
  {
   "cell_type": "code",
   "execution_count": 126,
   "metadata": {},
   "outputs": [],
   "source": [
    "foo = forest\n",
    "bar = foo.iloc[:,-1]\n",
    "bar[bar!=4] = \"normal\"\n",
    "bar[bar==4] = \"anomaly\""
   ]
  },
  {
   "cell_type": "code",
   "execution_count": 127,
   "metadata": {
    "collapsed": true
   },
   "outputs": [],
   "source": [
    "foo.to_csv(\"C:/Users/Bin/Desktop/Thesis/dataset/ht.csv\",header=None, index=None)"
   ]
  },
  {
   "cell_type": "code",
   "execution_count": 128,
   "metadata": {},
   "outputs": [
    {
     "data": {
      "text/plain": [
       "Int64Index([  1988,   1997,   2012,   2026,   2039,   2052,   2067,   2080,\n",
       "              2090,   2109,\n",
       "            ...\n",
       "            300850, 300918, 300919, 301737, 302284, 302782, 305736, 306168,\n",
       "            306713, 307206],\n",
       "           dtype='int64', length=2747)"
      ]
     },
     "execution_count": 128,
     "metadata": {},
     "output_type": "execute_result"
    }
   ],
   "source": [
    "foo[foo.iloc[:,-1]==\"anomaly\"].index\n"
   ]
  },
  {
   "cell_type": "markdown",
   "metadata": {},
   "source": [
    "# Generation of forest class by class data, with anomaly in each class"
   ]
  },
  {
   "cell_type": "code",
   "execution_count": 221,
   "metadata": {},
   "outputs": [
    {
     "data": {
      "text/plain": [
       "(578265, 8)"
      ]
     },
     "execution_count": 221,
     "metadata": {},
     "output_type": "execute_result"
    }
   ],
   "source": [
    "data = forest[forest.iloc[:,-1] == 1]\n",
    "data = pd.concat((data, forest[forest.iloc[:,-1]==2][:150000]),axis = 0)\n",
    "\n",
    "data = pd.concat((data, forest[forest.iloc[:,-1]==3]),axis = 0)\n",
    "\n",
    "data = pd.concat((data, forest[forest.iloc[:,-1]==5]),axis = 0)\n",
    "data = pd.concat((data, forest[forest.iloc[:,-1]==6]),axis = 0)\n",
    "data = pd.concat((data, forest[forest.iloc[:,-1]==7]),axis = 0)\n",
    "\n",
    "data = pd.concat((data, forest[forest.iloc[:,-1]==2][150000:]),axis = 0)\n",
    "data.shape"
   ]
  },
  {
   "cell_type": "code",
   "execution_count": 222,
   "metadata": {},
   "outputs": [],
   "source": [
    "anomalies = forest[forest.iloc[:,-1]==4]"
   ]
  },
  {
   "cell_type": "code",
   "execution_count": 223,
   "metadata": {},
   "outputs": [],
   "source": [
    "import random\n",
    "achunks = []\n",
    "last_i = 0\n",
    "while last_i < forest[forest.iloc[:,-1]==4].shape[0]-100:\n",
    "    i = last_i + random.randint(5,100)\n",
    "    achunks.append(anomalies[last_i:i])\n",
    "    last_i = i\n",
    "achunks.append(anomalies[last_i:])"
   ]
  },
  {
   "cell_type": "code",
   "execution_count": 224,
   "metadata": {},
   "outputs": [],
   "source": [
    "insert_pos = random.sample(range(data.shape[0]),  len(achunks))\n",
    "for num in range(len(achunks)):\n",
    "    pos = insert_pos[num]\n",
    "    insert_a = achunks[num]\n",
    "    data = pd.concat([data[:pos],insert_a,data[pos:]],axis=0)"
   ]
  },
  {
   "cell_type": "code",
   "execution_count": 225,
   "metadata": {},
   "outputs": [],
   "source": [
    "data.to_csv(\"C:/Users/Bin/Desktop/Thesis/dataset/forest/forest_cbyc_classlabel.csv\",header=None, index=None)\n",
    "classes = data.iloc[:,-1]\n",
    "classes[classes !=4 ] = \"normal\"\n",
    "classes[classes ==4 ] =\"anomaly\"\n",
    "data.to_csv(\"C:/Users/Bin/Desktop/Thesis/dataset/forest/forest_cbyc.csv\",header=None, index=None)"
   ]
  },
  {
   "cell_type": "code",
   "execution_count": 226,
   "metadata": {},
   "outputs": [
    {
     "data": {
      "text/plain": [
       "2    283301\n",
       "1    211840\n",
       "3     35754\n",
       "7     20510\n",
       "6     17367\n",
       "5      9493\n",
       "4      2747\n",
       "Name: 54, dtype: int64"
      ]
     },
     "execution_count": 226,
     "metadata": {},
     "output_type": "execute_result"
    }
   ],
   "source": [
    "classlabel.value_counts()"
   ]
  }
 ],
 "metadata": {
  "kernelspec": {
   "display_name": "Python 3",
   "language": "python",
   "name": "python3"
  },
  "language_info": {
   "codemirror_mode": {
    "name": "ipython",
    "version": 3
   },
   "file_extension": ".py",
   "mimetype": "text/x-python",
   "name": "python",
   "nbconvert_exporter": "python",
   "pygments_lexer": "ipython3",
   "version": "3.6.3"
  }
 },
 "nbformat": 4,
 "nbformat_minor": 2
}
