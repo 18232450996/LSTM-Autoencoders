{
 "cells": [
  {
   "cell_type": "code",
   "execution_count": 1,
   "metadata": {
    "collapsed": true
   },
   "outputs": [],
   "source": [
    "%matplotlib inline\n",
    "import pandas as pd\n",
    "import numpy as np\n",
    "from sklearn.preprocessing import MinMaxScaler\n",
    "import tensorflow as tf\n",
    "import matplotlib.pyplot as plt\n",
    "from sklearn.metrics import confusion_matrix\n",
    "import time\n",
    "from scipy.spatial.distance import mahalanobis,euclidean\n",
    "from sklearn import metrics\n",
    "from scipy.spatial.distance import mahalanobis\n",
    "import heapq"
   ]
  },
  {
   "cell_type": "markdown",
   "metadata": {},
   "source": [
    "# Load data"
   ]
  },
  {
   "cell_type": "code",
   "execution_count": 2,
   "metadata": {
    "collapsed": true
   },
   "outputs": [],
   "source": [
    "batch_num = 8\n",
    "hidden_num = 35\n",
    "step_num = 30\n",
    "elem_num = 34\n",
    "init_wins = 1000\n",
    "\n",
    "names = [str(x) for x in range(elem_num)] +[\"label\"]\n",
    "http = pd.read_csv(\"C:/Users/Bin/Desktop/Thesis/dataset/http_new.csv\",names=names,skiprows=step_num*init_wins)\n",
    "batches = http.shape[0]//step_num//batch_num\n",
    "test_set = http.iloc[:batches*batch_num*step_num,:-1]\n",
    "labels =http.iloc[:batches*batch_num*step_num,-1]\n",
    "\n",
    "ts = test_set.as_matrix().reshape(batches,batch_num,step_num,elem_num)\n",
    "test_set_list = [ts[a] for a in range(batches)]"
   ]
  },
  {
   "cell_type": "code",
   "execution_count": 3,
   "metadata": {
    "collapsed": true
   },
   "outputs": [],
   "source": [
    "labels[labels!=\"normal\"] = \"anomaly\""
   ]
  },
  {
   "cell_type": "code",
   "execution_count": 4,
   "metadata": {
    "collapsed": true
   },
   "outputs": [],
   "source": [
    "del http\n",
    "del test_set"
   ]
  },
  {
   "cell_type": "code",
   "execution_count": 5,
   "metadata": {},
   "outputs": [
    {
     "name": "stdout",
     "output_type": "stream",
     "text": [
      "[405, 406, 407, 408, 409, 410, 411, 412, 597, 753, 986, 1089, 1374, 1375, 1376, 1377, 1378, 1379, 1380, 1381, 1382, 1383, 1384, 1385, 1386, 1454, 1455, 1456, 1457, 1458, 1459, 1460, 1461, 1462, 1609, 1610, 1611, 1612, 1613, 1614, 1615, 1616, 1658, 1806, 2210, 2211, 2212, 2213, 2214, 2215, 2216, 2217, 2218, 2219, 2220, 9609, 10724, 14408, 14409, 14410, 14411, 14412, 14413, 14414, 14415, 14416, 14417, 14418, 14419, 14420, 14421, 14422, 14423, 14424, 14425, 14426, 14427, 14428, 14429, 14430, 14431, 14432, 14433, 14434, 14435, 14436, 14437, 14438, 14439, 14440, 14441, 14632, 14672, 14798, 14799, 14800, 14801, 14802, 14803, 14804, 14805, 14806, 14807, 14808, 14809, 14810, 14811, 14812, 14813, 14814, 14815, 14816, 14817, 14818, 14819, 14820, 14821, 14822, 14823, 14824, 14825, 14826, 14827, 14828, 14829, 14830, 14831, 15012, 15013, 15014, 15015, 15016, 15017, 15018, 15019, 15604, 16804, 17699, 17721, 19047]\n"
     ]
    }
   ],
   "source": [
    "wins = batches * batch_num\n",
    "# figure out anomaly windows\n",
    "buffer = [labels[i*step_num:(i+1)*step_num] for i in range(0,labels.size//step_num)]\n",
    "anomaly_index = []\n",
    "count = 0\n",
    "for buf in buffer:\n",
    "    if \"anomaly\" in buf.tolist():\n",
    "        anomaly_index.append(count)\n",
    "    else:\n",
    "        pass\n",
    "    count +=1\n",
    "print(anomaly_index)\n",
    "\n",
    "expert = [\"normal\"]*wins\n",
    "for x in anomaly_index:\n",
    "    expert[x] = \"anomaly\""
   ]
  },
  {
   "cell_type": "markdown",
   "metadata": {},
   "source": [
    "# Load Model"
   ]
  },
  {
   "cell_type": "code",
   "execution_count": 6,
   "metadata": {},
   "outputs": [
    {
     "name": "stdout",
     "output_type": "stream",
     "text": [
      "INFO:tensorflow:Restoring parameters from C:/Users/Bin/Desktop/Thesis/models/http_8_35_30/_8_35_30_para.ckpt\n"
     ]
    }
   ],
   "source": [
    "modelpath_root =\"C:/Users/Bin/Desktop/Thesis/models/http_8_35_30/\"\n",
    "modelmeta_p = modelpath_root + \"_8_35_30_para.ckpt.meta\"\n",
    "\n",
    "sess = tf.Session()\n",
    "saver = tf.train.import_meta_graph(modelmeta_p) # load trained gragh, but without the trained parameters\n",
    "saver.restore(sess,tf.train.latest_checkpoint(modelpath_root))\n",
    "graph = tf.get_default_graph()\n",
    "\n",
    "p_input = graph.get_tensor_by_name(\"p_input:0\")\n",
    "p_inputs = [tf.squeeze(t, [1]) for t in tf.split(p_input, step_num, 1)] \n",
    "p_is_training = graph.get_tensor_by_name(\"is_training_:0\")\n",
    "\n",
    "input_= tf.transpose(tf.stack(p_inputs), [1, 0, 2])    \n",
    "output_ = graph.get_tensor_by_name(\"decoder/output_:0\")\n",
    "\n",
    "tensor_mu = graph.get_tensor_by_name(\"mu:0\")\n",
    "tensor_sigma = graph.get_tensor_by_name(\"sigma:0\")\n",
    "tensor_threshold = graph.get_tensor_by_name(\"threshold:0\")\n",
    "\n",
    "loss_ = graph.get_tensor_by_name(\"decoder/loss:0\")\n",
    "train_ = graph.get_operation_by_name(\"cond/train_\")\n",
    "\n",
    "mu = sess.run(tensor_mu)\n",
    "sigma = sess.run(tensor_sigma)\n",
    "threshold = sess.run(tensor_threshold)"
   ]
  },
  {
   "cell_type": "code",
   "execution_count": 7,
   "metadata": {},
   "outputs": [
    {
     "name": "stdout",
     "output_type": "stream",
     "text": [
      "(34,) (34, 34) 0.0549761\n"
     ]
    }
   ],
   "source": [
    "print(mu.shape,sigma.shape,threshold)"
   ]
  },
  {
   "cell_type": "markdown",
   "metadata": {},
   "source": [
    "# Online Phase (With expert)"
   ]
  },
  {
   "cell_type": "code",
   "execution_count": 8,
   "metadata": {
    "collapsed": true
   },
   "outputs": [],
   "source": [
    "def local_preprocessing(batchdata):\n",
    "    # input batchdata with shape : [batch_num, step_num, elem_num]\n",
    "    # minmax scaler on window level\n",
    "    df = pd.DataFrame()\n",
    "    \n",
    "    for window in batchdata:\n",
    "        \n",
    "        scaler = MinMaxScaler()\n",
    "        scaler.fit(window)\n",
    "        new_win = scaler.transform(window)\n",
    "        df = pd.concat((df, pd.DataFrame(new_win)),axis=0) if df.size!=0 else pd.DataFrame(new_win)\n",
    "    return df.as_matrix().reshape(batchdata.shape)\n",
    "\n",
    "    "
   ]
  },
  {
   "cell_type": "code",
   "execution_count": 9,
   "metadata": {
    "collapsed": true
   },
   "outputs": [],
   "source": [
    "def scoring(err,mu,sigma):\n",
    "    \n",
    "    scores = []\n",
    "    for e in err:\n",
    "        scores.append(mahalanobis(e,mu,sigma))\n",
    "\n",
    "    return scores"
   ]
  },
  {
   "cell_type": "code",
   "execution_count": 10,
   "metadata": {
    "collapsed": true
   },
   "outputs": [],
   "source": [
    "def get_musigma(err_nbuf,mu,sigma):       \n",
    "    \n",
    "        err_vec_array = np.array(err_nbuf)\n",
    "        # for multivariate  data\n",
    "        mu = np.mean(err_vec_array,axis=0)\n",
    "        sigma = np.cov(err_vec_array.T)\n",
    "        return mu, sigma"
   ]
  },
  {
   "cell_type": "code",
   "execution_count": 11,
   "metadata": {
    "collapsed": true
   },
   "outputs": [],
   "source": [
    "def get_threshold(normal_score, abnormal_score):\n",
    "        upper = np.median(np.array(abnormal_score))\n",
    "        lower = np.median(np.array(normal_score)) \n",
    "        scala = 20\n",
    "        delta = (upper-lower) / scala\n",
    "        candidate = lower\n",
    "        threshold = 0\n",
    "        result = 0\n",
    "\n",
    "        def evaluate(threshold,normal_score,abnormal_score):\n",
    "\n",
    "            beta = 0.5\n",
    "            tp = np.array(abnormal_score)[np.array(abnormal_score)>threshold].size\n",
    "            fp = len(abnormal_score)-tp\n",
    "            fn = np.array(normal_score)[np.array(normal_score)>threshold].size\n",
    "            tn = len(normal_score)- fn\n",
    "\n",
    "            if tp == 0: return 0\n",
    "\n",
    "            P = tp/(tp+fp)\n",
    "            R = tp/(tp+fn)\n",
    "            fbeta= (1+beta*beta)*P*R/(beta*beta*P+R)\n",
    "            return fbeta \n",
    "\n",
    "        for _ in range(scala):\n",
    "            r = evaluate(candidate,normal_score,abnormal_score)\n",
    "            if r > result:\n",
    "                result = r \n",
    "                threshold = candidate\n",
    "            candidate += delta \n",
    "        return threshold"
   ]
  },
  {
   "cell_type": "code",
   "execution_count": 12,
   "metadata": {
    "collapsed": true
   },
   "outputs": [],
   "source": [
    "def plot_roc(fpr,tpr,auc):\n",
    "    plt.figure()\n",
    "    lw = 2\n",
    "    plt.plot(fpr, tpr, color='darkorange',\n",
    "             lw=lw, label='ROC curve (area = %0.2f)' %auc)\n",
    "    plt.plot([0, 1], [0, 1], color='navy', lw=lw, linestyle='--')\n",
    "    plt.xlim([0.0, 1.0])\n",
    "    plt.ylim([0.0, 1.05])\n",
    "    plt.xlabel('False Positive Rate')\n",
    "    plt.ylabel('True Positive Rate')\n",
    "    plt.title('Receiver operating characteristic example')\n",
    "    plt.legend(loc=\"lower right\")\n",
    "    plt.show()"
   ]
  },
  {
   "cell_type": "code",
   "execution_count": 13,
   "metadata": {},
   "outputs": [
    {
     "data": {
      "image/png": "[encoded data removed]",
      "text/plain": [
       "<matplotlib.figure.Figure at 0x1842051bb38>"
      ]
     },
     "metadata": {},
     "output_type": "display_data"
    }
   ],
   "source": [
    "count = 0\n",
    "n_buf = []\n",
    "a_buf = []\n",
    "\n",
    "y = []\n",
    "output=[]\n",
    "box = []\n",
    "err_nbuf = []\n",
    "err_abuf = []\n",
    "all_scores = []\n",
    "\n",
    "for l in labels:\n",
    "    if l == \"normal\":\n",
    "        y +=[0]\n",
    "    else: \n",
    "        y +=[1]\n",
    "for data in test_set_list:\n",
    "    \n",
    "        prediction = []\n",
    "        df = local_preprocessing(data)\n",
    "        (input_n, output_n) = sess.run([input_, output_], {p_input: df, p_is_training: False})\n",
    "\n",
    "        err = abs(input_n-output_n).reshape(-1,elem_num)\n",
    "        \n",
    "        box.append(err.reshape(-1,))\n",
    "        \n",
    "        scores = scoring(err,mu,sigma)\n",
    "        scores = pd.Series(scores)\n",
    "        \n",
    "        all_scores.append(scores)\n",
    "#        output +=  [np.array(heapq.nlargest(10,ss)).mean() for ss in scores.as_matrix().reshape(batch_num,step_num)]\n",
    "        output += [ss.max() for ss in scores.as_matrix().reshape(batch_num,step_num)]\n",
    "        pred = [scores[b*step_num:(b+1)*step_num] for b in range(batch_num)]\n",
    "        label = [expert[count*batch_num+b]for b in range(batch_num)]\n",
    "        e = [err.reshape(-1,elem_num)]\n",
    "        for index,value in enumerate(pred):\n",
    "            if value[value>threshold].size>=5: \n",
    "                if label[index] == \"anomaly\":\n",
    "                    #print(\"TP\")                 \n",
    "                    a_buf.append(df[index])\n",
    "                    #err_abuf.append(e[index])\n",
    "                    #err_abuf = err_abuf + e[index] if len(err_abuf) != 0 else e[index]\n",
    "                else:\n",
    "                    #print(\"FP\")\n",
    "                    #err_nbuf.append(e[index])\n",
    "                    #err_nbuf = err_nbuf + e[index] if len(err_nbuf) != 0 else e[index]\n",
    "                    n_buf.append(df[index])\n",
    "            else:               \n",
    "                if label[index] == \"anomaly\":             \n",
    "                    #print(\"FN\")\n",
    "                    a_buf.append(df[index])\n",
    "                    #err_abuf.append(e[index])\n",
    "                    #err_abuf = err_abuf + e[index] if len(err_abuf) != 0 else e[index]\n",
    "                else:\n",
    "                    pass\n",
    "                    #err_nbuf.append(e[index])\n",
    "                    #err_nbuf = err_nbuf + e[index] if len(err_nbuf) != 0 else e[index]\n",
    "                    #print(\"TN\")\n",
    "        count +=1\n",
    "        \n",
    "\n",
    "        \n",
    "        if len(n_buf)>=1600 and len(a_buf)>=1600:\n",
    "            print(\"retrain at %d batch\"%count)\n",
    "            loss_list_all=[]\n",
    "\n",
    "            datalist = np.array(n_buf[:6]).reshape(-1,batch_num,step_num,elem_num)\n",
    "            validation_list_n = np.array(n_buf[6:]).reshape(-1,batch_num,step_num,elem_num)\n",
    "            validation_list_a = np.array(a_buf).reshape(-1,batch_num,step_num,elem_num)\n",
    "            \n",
    "            for i in range(30):\n",
    "                \n",
    "                loss_list=[]\n",
    "                for data in datalist:\n",
    "                    (loss, _) = sess.run([loss_, train_], {p_input: data,p_is_training : True})\n",
    "                    loss_list.append(loss)\n",
    "                #print('Retrain-iter %d:' % (i + 1), np.array(loss_list).mean())\n",
    "                loss_list_all.append( np.array(loss_list).mean()) \n",
    "            \n",
    "\n",
    "            err_nbuf_tmp = np.array(err_nbuf).reshape(-1,elem_num)\n",
    "            mu,sigma = get_musigma(err_nbuf_tmp,mu,sigma)\n",
    "\n",
    "            normal_score = []\n",
    "            abnormal_score = []\n",
    "            \n",
    "            for val in validation_list_n:\n",
    "                (ein,aus) = sess.run([input_,output_], {p_input: val,p_is_training :False})\n",
    "                \n",
    "                err = abs(ein-aus).reshape(-1,elem_num)\n",
    "        \n",
    "                normal_score +=scoring(err,mu,sigma)\n",
    "            \n",
    "            for val_a in validation_list_a:\n",
    "                (ein,aus) = sess.run([input_,output_], {p_input: val_a,p_is_training :False})\n",
    "                \n",
    "                err = abs(ein-aus).reshape(-1,elem_num)\n",
    "        \n",
    "                abnormal_score +=scoring(err,mu,sigma)\n",
    "            \n",
    "            threshold = get_threshold(normal_score, abnormal_score)\n",
    "        \n",
    "            print(\"Parameters updated!\")\n",
    "            pd.Series(loss_list_all).plot(title=\"Loss\")\n",
    "            n_buf = []\n",
    "            a_buf = []\n",
    "            err_buf = []\n",
    "                \n",
    "fpr, tpr, thresholds = metrics.roc_curve(expert, output, pos_label=\"anomaly\")\n",
    "auc = metrics.auc(fpr, tpr)\n",
    "#print(fpr,tpr,thresholds,auc)\n",
    "plot_roc(fpr,tpr,auc)\n",
    "\n",
    "plt.show()"
   ]
  },
  {
   "cell_type": "code",
   "execution_count": 13,
   "metadata": {},
   "outputs": [
    {
     "ename": "IndexError",
     "evalue": "list index out of range",
     "output_type": "error",
     "traceback": [
      "\u001b[1;31m---------------------------------------------------------------------------\u001b[0m",
      "\u001b[1;31mIndexError\u001b[0m                                Traceback (most recent call last)",
      "\u001b[1;32m<ipython-input-13-bc4851858cfe>\u001b[0m in \u001b[0;36m<module>\u001b[1;34m()\u001b[0m\n\u001b[0;32m     43\u001b[0m                 \u001b[1;32melse\u001b[0m\u001b[1;33m:\u001b[0m\u001b[1;33m\u001b[0m\u001b[0m\n\u001b[0;32m     44\u001b[0m                     \u001b[1;31m#print(\"FP\")\u001b[0m\u001b[1;33m\u001b[0m\u001b[1;33m\u001b[0m\u001b[0m\n\u001b[1;32m---> 45\u001b[1;33m                     \u001b[0merr_nbuf\u001b[0m\u001b[1;33m.\u001b[0m\u001b[0mappend\u001b[0m\u001b[1;33m(\u001b[0m\u001b[0me\u001b[0m\u001b[1;33m[\u001b[0m\u001b[0mindex\u001b[0m\u001b[1;33m]\u001b[0m\u001b[1;33m)\u001b[0m\u001b[1;33m\u001b[0m\u001b[0m\n\u001b[0m\u001b[0;32m     46\u001b[0m                     \u001b[1;31m#err_nbuf = err_nbuf + e[index] if len(err_nbuf) != 0 else e[index]\u001b[0m\u001b[1;33m\u001b[0m\u001b[1;33m\u001b[0m\u001b[0m\n\u001b[0;32m     47\u001b[0m                     \u001b[0mn_buf\u001b[0m\u001b[1;33m.\u001b[0m\u001b[0mappend\u001b[0m\u001b[1;33m(\u001b[0m\u001b[0mdf\u001b[0m\u001b[1;33m[\u001b[0m\u001b[0mindex\u001b[0m\u001b[1;33m]\u001b[0m\u001b[1;33m)\u001b[0m\u001b[1;33m\u001b[0m\u001b[0m\n",
      "\u001b[1;31mIndexError\u001b[0m: list index out of range"
     ]
    }
   ],
   "source": [
    "count = 0\n",
    "n_buf = []\n",
    "a_buf = []\n",
    "\n",
    "y = []\n",
    "output=[]\n",
    "box = []\n",
    "err_nbuf = []\n",
    "err_abuf = []\n",
    "all_scores = []\n",
    "\n",
    "for l in labels:\n",
    "    if l == \"normal\":\n",
    "        y +=[0]\n",
    "    else: \n",
    "        y +=[1]\n",
    "for data in test_set_list:\n",
    "    \n",
    "        prediction = []\n",
    "        df = local_preprocessing(data)\n",
    "        (input_n, output_n) = sess.run([input_, output_], {p_input: df, p_is_training: False})\n",
    "\n",
    "        err = abs(input_n-output_n).reshape(-1,elem_num)\n",
    "        \n",
    "        box.append(err.reshape(-1,))\n",
    "        \n",
    "        scores = scoring(err,mu,sigma)\n",
    "        scores = pd.Series(scores)\n",
    "        \n",
    "        all_scores.append(scores)\n",
    "#        output +=  [np.array(heapq.nlargest(10,ss)).mean() for ss in scores.as_matrix().reshape(batch_num,step_num)]\n",
    "        output += [ss.max() for ss in scores.as_matrix().reshape(batch_num,step_num)]\n",
    "        pred = [scores[b*step_num:(b+1)*step_num] for b in range(batch_num)]\n",
    "        label = [expert[count*batch_num+b]for b in range(batch_num)]\n",
    "        e = [err.reshape(-1,elem_num)]\n",
    "        for index,value in enumerate(pred):\n",
    "            if value[value>threshold].size>=5: \n",
    "                if label[index] == \"anomaly\":\n",
    "                    #print(\"TP\")                 \n",
    "                    a_buf.append(df[index])\n",
    "                    err_abuf.append(e[index])\n",
    "                    #err_abuf = err_abuf + e[index] if len(err_abuf) != 0 else e[index]\n",
    "                else:\n",
    "                    #print(\"FP\")\n",
    "                    err_nbuf.append(e[index])\n",
    "                    #err_nbuf = err_nbuf + e[index] if len(err_nbuf) != 0 else e[index]\n",
    "                    n_buf.append(df[index])\n",
    "            else:               \n",
    "                if label[index] == \"anomaly\":             \n",
    "                    #print(\"FN\")\n",
    "                    a_buf.append(df[index])\n",
    "                    err_abuf.append(e[index])\n",
    "                    #err_abuf = err_abuf + e[index] if len(err_abuf) != 0 else e[index]\n",
    "                else:\n",
    "                    pass\n",
    "                    err_nbuf.append(e[index])\n",
    "                    #err_nbuf = err_nbuf + e[index] if len(err_nbuf) != 0 else e[index]\n",
    "                    #print(\"TN\")\n",
    "        count +=1\n",
    "        \n",
    "\n",
    "        \n",
    "        if len(n_buf)>=batch_num*step_num*5:\n",
    "            n_buf = n_buf[:batch_num*step_num*5]\n",
    "            print(\"retrain at %d batch\"%count)\n",
    "            loss_list_all=[]\n",
    "\n",
    "            datalist = np.array(n_buf).reshape(-1,batch_num,step_num,elem_num)\n",
    "          \n",
    "            for i in range(70):\n",
    "                \n",
    "                loss_list=[]\n",
    "                for data in datalist:\n",
    "                    (loss, _) = sess.run([loss_, train_], {p_input: data,p_is_training : True})\n",
    "                    loss_list.append(loss)\n",
    "                #print('Retrain-iter %d:' % (i + 1), np.array(loss_list).mean())\n",
    "                loss_list_all.append( np.array(loss_list).mean()) \n",
    "            \n",
    "\n",
    "            err_nbuf_tmp = np.array(err_nbuf).reshape(-1,elem_num)\n",
    "            mu,sigma = get_musigma(err_nbuf_tmp,mu,sigma)\n",
    "\n",
    "            normal_score = []\n",
    "            abnormal_score = []\n",
    "            \n",
    "\n",
    "            print(\"Parameters updated!\")\n",
    "            pd.Series(loss_list_all).plot(title=\"Loss\")\n",
    "            n_buf = []\n",
    "            a_buf = []\n",
    "            err_buf = []\n",
    "                \n",
    "fpr, tpr, thresholds = metrics.roc_curve(expert, output, pos_label=\"anomaly\")\n",
    "auc = metrics.auc(fpr, tpr)\n",
    "#print(fpr,tpr,thresholds,auc)\n",
    "plot_roc(fpr,tpr,auc)\n",
    "\n",
    "plt.show()"
   ]
  },
  {
   "cell_type": "code",
   "execution_count": 15,
   "metadata": {},
   "outputs": [
    {
     "name": "stdout",
     "output_type": "stream",
     "text": [
      "0 : 0 ,  0\n",
      "100 : 23700 ,  300\n",
      "retrain at 102 batch\n",
      "Parameters updated! new threshold 0.055\n",
      "200 : 20370 ,  720\n",
      "retrain at 220 batch\n",
      "Parameters updated! new threshold 0.055\n",
      "300 : 8550 ,  360\n",
      "400 : 17970 ,  360\n",
      "retrain at 466 batch\n",
      "Parameters updated! new threshold 0.055\n",
      "500 : 2370 ,  0\n",
      "600 : 7560 ,  0\n",
      "700 : 13920 ,  0\n",
      "800 : 19170 ,  0\n",
      "900 : 24360 ,  0\n",
      "1000 : 30750 ,  0\n",
      "1100 : 36780 ,  0\n",
      "1200 : 41550 ,  0\n",
      "retrain at 1202 batch\n",
      "Parameters updated! new threshold 0.055\n",
      "1300 : 3510 ,  0\n",
      "1400 : 8490 ,  30\n",
      "1500 : 12300 ,  30\n",
      "1600 : 16620 ,  30\n",
      "1700 : 20850 ,  30\n",
      "retrain at 1784 batch\n",
      "Parameters updated! new threshold 0.055\n",
      "1800 : 1230 ,  0\n",
      "1900 : 17220 ,  2340\n",
      "2000 : 23700 ,  2370\n",
      "retrain at 2004 batch\n",
      "Parameters updated! new threshold 0.055\n",
      "2100 : 4170 ,  0\n",
      "2200 : 9180 ,  30\n",
      "2300 : 15150 ,  90\n",
      "2400 : 20910 ,  120\n",
      "retrain at 2451 batch\n",
      "Parameters updated! new threshold 0.055\n"
     ]
    },
    {
     "data": {
      "image/png": "[encoded data removed]",
      "text/plain": [
       "<matplotlib.figure.Figure at 0x240c5499f60>"
      ]
     },
     "metadata": {},
     "output_type": "display_data"
    },
    {
     "data": {
      "image/png": "[encoded data removed]",
      "text/plain": [
       "<matplotlib.figure.Figure at 0x240c5445c50>"
      ]
     },
     "metadata": {},
     "output_type": "display_data"
    },
    {
     "name": "stdout",
     "output_type": "stream",
     "text": [
      "--- Initialization time: 597.2849042415619 seconds ---\n"
     ]
    }
   ],
   "source": [
    "count = 0\n",
    "n_buf = []\n",
    "a_buf = []\n",
    "\n",
    "y = []\n",
    "output=[]\n",
    "err_nbuf = []\n",
    "err_abuf = []\n",
    "all_scores = []\n",
    "cl_buf_tmp = []\n",
    "cl_buf = []\n",
    "cl_notin_buf_tmp = []\n",
    "cl_notin_buf = []\n",
    "start_time = time.time()\n",
    "prediction2 = []\n",
    "\n",
    "len_nbuf = []\n",
    "len_abuf = []\n",
    "\n",
    "for l in labels:\n",
    "    if l == \"normal\":\n",
    "        y +=[0]\n",
    "    else: \n",
    "        y +=[1]\n",
    "for ids in range(len(test_set_list)):\n",
    "#for data in test_set_list:\n",
    "        data = test_set_list[ids]\n",
    "     \n",
    "        if count % 100 == 0:\n",
    "            print(count,\":\",len(n_buf),\", \",len(a_buf))\n",
    "            \n",
    "        prediction = []\n",
    "        df = local_preprocessing(data)\n",
    "        (input_n, output_n) = sess.run([input_, output_], {p_input: df, p_is_training: False})\n",
    "\n",
    "        err = abs(input_n-output_n).reshape(-1,elem_num)\n",
    "        \n",
    "  \n",
    "        scores = scoring(err,mu,sigma) # (8*30,)\n",
    "        #scores = pd.Series(scores)\n",
    "        \n",
    "        all_scores.append(scores)\n",
    "#        output +=  [np.array(heapq.nlargest(10,ss)).mean() for ss in np.array(scores).reshape(batch_num,step_num)]\n",
    "        output += [ss.max() for ss in np.array(scores).reshape(batch_num,step_num)]\n",
    "        pred = [scores[b*step_num:(b+1)*step_num] for b in range(batch_num)]  # (8,30)\n",
    "        \n",
    "        label = [expert[count*batch_num+b] for b in range(batch_num)]\n",
    "        e = err\n",
    "        \n",
    "#       for index,value in enumerate(pd.DataFrame(pred)):\n",
    "        for i in range(pd.DataFrame(pred).shape[0]):#loop batch_num\n",
    "            index = i\n",
    "            value=pd.DataFrame(pred).iloc[i,:]\n",
    "            \n",
    "            if value[value>threshold].size>=4: \n",
    "                if label[index] == \"anomaly\":\n",
    "                    #print(\"TP\")                 \n",
    "                    a_buf += [df[index,x,:] for x in range(step_num)]\n",
    "                 \n",
    "                    #err_abuf.append(e[index*step_num:(index+1)*step_num])\n",
    "                    err_abuf = np.concatenate((err_abuf , e[index*step_num:(index+1)*step_num]),axis=0) if len(err_abuf) != 0 else e[index*step_num:(index+1)*step_num]\n",
    "                    prediction2 +=[1]\n",
    "                else:\n",
    "                    #print(\"FP\")\n",
    "                    #err_nbuf.append(e[index])\n",
    "                    err_nbuf =np.concatenate((err_nbuf , e[index*step_num:(index+1)*step_num]),axis=0) if len(err_nbuf) != 0 else e[index*step_num:(index+1)*step_num]\n",
    "                    n_buf += [df[index,x,:] for x in range(step_num)]\n",
    "                    prediction2 +=[2]\n",
    "            else:               \n",
    "                if label[index] == \"anomaly\":             \n",
    "                    #print(\"FN\")\n",
    "                    a_buf += [df[index,x,:] for x in range(step_num)]\n",
    "                    #err_abuf.append(e[index])\n",
    "                    err_abuf = np.concatenate((err_abuf , e[index*step_num:(index+1)*step_num]),axis=0) if len(err_abuf) != 0 else e[index*step_num:(index+1)*step_num]\n",
    "                    prediction2 += [3]\n",
    "                else:\n",
    "                    #err_nbuf.append(e[index])\n",
    "                    err_nbuf = np.concatenate((err_nbuf , e[index*step_num:(index+1)*step_num]),axis=0) if len(err_nbuf) != 0 else e[index*step_num:(index+1)*step_num]\n",
    "                    prediction2 +=[4]\n",
    "        count +=1\n",
    "        \n",
    "        \n",
    "        #n_buf = list(np.concatenate(n_buf,axis=0)) if len(n_buf) != 0 else list(n_buf)\n",
    "        #a_buf = list(np.concatenate(a_buf,axis=0)) if len(a_buf) != 0 else list(a_buf)\n",
    "        \n",
    "        if len(n_buf)>=batch_num*step_num*100 and len(a_buf) !=0:\n",
    "            while (len(a_buf) < batch_num*step_num):\n",
    "                a_buf += a_buf\n",
    "            \n",
    "            B = len(n_buf) //(batch_num*step_num)\n",
    "            n_buf = n_buf[:batch_num*step_num*B]\n",
    "            A = len(a_buf)//(batch_num*step_num)\n",
    "            a_buf = a_buf[:batch_num*step_num*A]\n",
    "            \n",
    "            print(\"retrain at %d batch\"%count)\n",
    "            loss_list_all=[]\n",
    "\n",
    "            #datalist = np.array(n_buf).reshape(-1,batch_num,step_num,elem_num)\n",
    "            datalist = np.array(n_buf[:batch_num*step_num*(B-1)]).reshape(-1,batch_num,step_num,elem_num)\n",
    "            validation_list_n = np.array(n_buf[batch_num*step_num*(B-1):]).reshape(-1,batch_num,step_num,elem_num)\n",
    "            validation_list_a = np.array(a_buf).reshape(-1,batch_num,step_num,elem_num)\n",
    "            \n",
    "            for i in range(30):\n",
    "                loss_list=[]\n",
    "                for data in datalist:\n",
    "                    (loss, _) = sess.run([loss_, train_], {p_input: data,p_is_training : True})\n",
    "                    loss_list.append(loss)\n",
    "                #print('Retrain-iter %d:' % (i + 1), np.array(loss_list).mean())\n",
    "                loss_list_all.append( np.array(loss_list).mean()) \n",
    "            \n",
    "            #err_nbuf_tmp = np.array(err_nbuf).reshape(-1,elem_num)\n",
    "            #mu,sigma = get_musigma(err_nbuf_tmp,mu,sigma)   \n",
    "\n",
    "      \n",
    "\n",
    "            print(\"Parameters updated! new threshold %.3f\"%threshold)\n",
    "            pd.Series(loss_list_all).plot(title=\"Loss\")\n",
    "            n_buf = []\n",
    "            a_buf = []\n",
    "            err_buf = []\n",
    "            err_nbuf = []\n",
    "            err_abuf = []\n",
    "\n",
    "fpr, tpr, thresholds = metrics.roc_curve(expert, output, pos_label=\"anomaly\")\n",
    "auc = metrics.auc(fpr, tpr)\n",
    "#print(fpr,tpr,thresholds,auc)\n",
    "plot_roc(fpr,tpr,auc)\n",
    "\n",
    "plt.show()\n",
    "print(\"--- Initialization time: %s seconds ---\" % (time.time() - start_time))"
   ]
  },
  {
   "cell_type": "code",
   "execution_count": null,
   "metadata": {
    "collapsed": true
   },
   "outputs": [],
   "source": []
  }
 ],
 "metadata": {
  "kernelspec": {
   "display_name": "Python 3",
   "language": "python",
   "name": "python3"
  },
  "language_info": {
   "codemirror_mode": {
    "name": "ipython",
    "version": 3
   },
   "file_extension": ".py",
   "mimetype": "text/x-python",
   "name": "python",
   "nbconvert_exporter": "python",
   "pygments_lexer": "ipython3",
   "version": "3.6.3"
  }
 },
 "nbformat": 4,
 "nbformat_minor": 2
}
