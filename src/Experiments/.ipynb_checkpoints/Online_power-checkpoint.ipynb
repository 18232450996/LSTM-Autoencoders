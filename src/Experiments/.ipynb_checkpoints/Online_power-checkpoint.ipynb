{
 "cells": [
  {
   "cell_type": "code",
   "execution_count": 45,
   "metadata": {
    "collapsed": true
   },
   "outputs": [],
   "source": [
    "%matplotlib inline\n",
    "import pandas as pd\n",
    "import numpy as np\n",
    "from sklearn.preprocessing import MinMaxScaler\n",
    "import tensorflow as tf\n",
    "import matplotlib.pyplot as plt\n",
    "from sklearn.metrics import confusion_matrix\n",
    "import time\n",
    "from scipy.spatial.distance import mahalanobis,euclidean\n",
    "from sklearn import metrics\n",
    "import heapq"
   ]
  },
  {
   "cell_type": "markdown",
   "metadata": {},
   "source": [
    "# Load data"
   ]
  },
  {
   "cell_type": "code",
   "execution_count": 13,
   "metadata": {
    "collapsed": true
   },
   "outputs": [],
   "source": [
    "batch_num = 1\n",
    "hidden_num = 15\n",
    "step_num = 84\n",
    "elem_num = 1\n",
    "init_wins = 12\n",
    "acc_size = 3*step_num #vn1 size, used for estimating mu and sigma during initialization\n",
    "power = pd.read_csv(\"C:/Users/Bin/Desktop/Thesis/dataset/power.csv\",names=[\"power_demand\",\"label\"],skiprows=step_num*init_wins)\n",
    "test_set = power.power_demand\n",
    "labels = power.label\n",
    "wins = power.shape[0]//step_num\n",
    "test_set_list = [test_set.as_matrix().reshape(wins,batch_num,step_num,elem_num)[a] for a in range(wins)]\n"
   ]
  },
  {
   "cell_type": "code",
   "execution_count": 3,
   "metadata": {},
   "outputs": [
    {
     "name": "stdout",
     "output_type": "stream",
     "text": [
      "[0, 4, 5, 7, 26, 38]\n"
     ]
    }
   ],
   "source": [
    "# figure out anomaly windows\n",
    "buffer = [labels[i*step_num:(i+1)*step_num] for i in range(0,labels.size//step_num)]\n",
    "anomaly_index = []\n",
    "count = 0\n",
    "for buf in buffer:\n",
    "    if \"anomaly\" in buf.tolist():\n",
    "        anomaly_index.append(count)\n",
    "    else:\n",
    "        pass\n",
    "    count +=1\n",
    "print(anomaly_index)\n",
    "\n",
    "expert = [\"normal\"]*wins\n",
    "for x in anomaly_index:\n",
    "    expert[x] = \"anomaly\""
   ]
  },
  {
   "cell_type": "markdown",
   "metadata": {},
   "source": [
    "# Load Model"
   ]
  },
  {
   "cell_type": "code",
   "execution_count": 46,
   "metadata": {},
   "outputs": [
    {
     "name": "stdout",
     "output_type": "stream",
     "text": [
      "INFO:tensorflow:Restoring parameters from C:/Users/Bin/Desktop/Thesis/models/power/_1_15_84_para.ckpt\n"
     ]
    }
   ],
   "source": [
    "modelpath_root =\"C:/Users/Bin/Desktop/Thesis/models/power/\"\n",
    "modelmeta_p = modelpath_root + \"_1_15_84_para.ckpt.meta\"\n",
    "\n",
    "sess = tf.Session()\n",
    "saver = tf.train.import_meta_graph(modelmeta_p) # load trained gragh, but without the trained parameters\n",
    "saver.restore(sess,tf.train.latest_checkpoint(modelpath_root))\n",
    "graph = tf.get_default_graph()\n",
    "\n",
    "p_input = graph.get_tensor_by_name(\"p_input:0\")\n",
    "p_inputs = [tf.squeeze(t, [1]) for t in tf.split(p_input, step_num, 1)] \n",
    "p_is_training = graph.get_tensor_by_name(\"is_training_:0\")\n",
    "\n",
    "input_= tf.transpose(tf.stack(p_inputs), [1, 0, 2])    \n",
    "output_ = graph.get_tensor_by_name(\"decoder/output_:0\")\n",
    "\n",
    "tensor_mu = graph.get_tensor_by_name(\"mu:0\")\n",
    "tensor_sigma = graph.get_tensor_by_name(\"sigma:0\")\n",
    "tensor_threshold = graph.get_tensor_by_name(\"threshold:0\")\n",
    "\n",
    "loss_ = graph.get_tensor_by_name(\"decoder/loss:0\")\n",
    "train_ = graph.get_operation_by_name(\"cond/train_\")\n",
    "\n",
    "mu = sess.run(tensor_mu)\n",
    "sigma = sess.run(tensor_sigma)\n",
    "threshold = sess.run(tensor_threshold)"
   ]
  },
  {
   "cell_type": "code",
   "execution_count": 5,
   "metadata": {},
   "outputs": [
    {
     "name": "stdout",
     "output_type": "stream",
     "text": [
      "0.0854842 0.00507233 0.00671047\n"
     ]
    }
   ],
   "source": [
    "print(mu,sigma,threshold)"
   ]
  },
  {
   "cell_type": "markdown",
   "metadata": {},
   "source": [
    "# Online Phase (With expert)"
   ]
  },
  {
   "cell_type": "code",
   "execution_count": 6,
   "metadata": {
    "collapsed": true
   },
   "outputs": [],
   "source": [
    "def scoring(err,mu,sigma):\n",
    "    \n",
    "    scores = []\n",
    "    for e in err:\n",
    "        scores.append(mahalanobis(e,mu,sigma))\n",
    "\n",
    "    return scores"
   ]
  },
  {
   "cell_type": "code",
   "execution_count": 47,
   "metadata": {},
   "outputs": [],
   "source": [
    "\n",
    "acc_size = 3*step_num\n",
    "def update(err_nbuf,acc_size,mu,sigma,retraining=False):       \n",
    "        # acc_size is the amount of data that used until now for estimating mu and sigma\n",
    "\n",
    "        current_size = len(err_nbuf)\n",
    "        p = current_size/(current_size+acc_size) if retraining == False else 1\n",
    "\n",
    "        tmp_errBuffer = err_nbuf[:current_size]\n",
    "        err_vec_array = np.array(tmp_errBuffer)\n",
    "        # for univariate  data\n",
    "        __mu = np.mean(err_vec_array.ravel())\n",
    "        mu_new = p*__mu + (1-p)*mu\n",
    "\n",
    "        __sigma =np.var(err_vec_array.ravel())\n",
    "        sigma_new = p*__sigma + (1-p)*sigma + p*(1-p)*(mu-mu_new)*(mu-mu_new)\n",
    "        print(\"new mu %.3f, new sigma %.3f, acc: %d\"%(mu_new,sigma_new,current_size+acc_size))\n",
    "        \n",
    "        \n",
    "        return mu_new, sigma_new"
   ]
  },
  {
   "cell_type": "code",
   "execution_count": 43,
   "metadata": {
    "collapsed": true
   },
   "outputs": [],
   "source": [
    "def get_threshold(normal_score, abnormal_score):\n",
    "        upper = np.median(np.array(abnormal_score))\n",
    "        lower = np.median(np.array(normal_score)) \n",
    "        scala = 20\n",
    "        delta = (upper-lower) / scala\n",
    "        candidate = lower\n",
    "        threshold = 0\n",
    "        result = 0\n",
    "\n",
    "        def evaluate(threshold,normal_score,abnormal_score):\n",
    "\n",
    "            beta = 0.5\n",
    "            tp = np.array(abnormal_score)[np.array(abnormal_score)>threshold].size\n",
    "            fp = len(abnormal_score)-tp\n",
    "            fn = np.array(normal_score)[np.array(normal_score)>threshold].size\n",
    "            tn = len(normal_score)- fn\n",
    "\n",
    "            if tp == 0: return 0\n",
    "\n",
    "            P = tp/(tp+fp)\n",
    "            R = tp/(tp+fn)\n",
    "            fbeta= (1+beta*beta)*P*R/(beta*beta*P+R)\n",
    "            return fbeta \n",
    "\n",
    "        for _ in range(scala):\n",
    "            r = evaluate(candidate,normal_score,abnormal_score)\n",
    "            if r > result:\n",
    "                result = r \n",
    "                threshold = candidate\n",
    "            candidate += delta \n",
    "        return threshold"
   ]
  },
  {
   "cell_type": "code",
   "execution_count": 8,
   "metadata": {},
   "outputs": [],
   "source": [
    "def update_parameter(err_nbuf,err_abuf,acc_size,mu,sigma,threshold):       \n",
    "        # acc_size is the amount of data that used until now for estimating mu and sigma\n",
    "        print(\"Estimating new parameters...\")\n",
    "        \n",
    "        current_size = len(err_nbuf)*2//3\n",
    "        p = current_size/(current_size+acc_size)\n",
    "        \n",
    "        tmp_errBuffer = err_nbuf[:current_size]\n",
    "        err_vec_array = np.array(tmp_errBuffer)\n",
    "        # for univariate  data\n",
    "        __mu = np.mean(err_vec_array.ravel())\n",
    "        mu_new = p*__mu + (1-p)*mu\n",
    "\n",
    "        __sigma =np.var(err_vec_array.ravel())\n",
    "        sigma_new = p*__sigma + (1-p)*sigma + p*(1-p)*(mu-mu_new)*(mu-mu_new)\n",
    "        \n",
    "        _score_n = scoring(np.array(err_nbuf[current_size:]).reshape(-1,elem_num),mu_new,sigma_new) \n",
    "        _score_a = scoring(np.array(err_abuf).reshape(-1,elem_num),mu_new,sigma_new) \n",
    "        \n",
    "        scores = pd.Series(_score_n + _score_a)\n",
    "        label = pd.Series( [\"normal\"]*len(_score_n) + [\"anomaly\"]*len(_score_a))\n",
    "        \n",
    "        upper = max(np.array(_score_a).max(),np.array(_score_n).max())\n",
    "        lower = min(np.array(_score_a).max(),np.array(_score_n).max())\n",
    "        scala = 20\n",
    "        delta = (upper-lower) / scala\n",
    "        cand = (upper+lower)/2\n",
    "        __threshold = 0\n",
    "        result = 0\n",
    "        print(np.array(_score_a).max(),np.array(_score_n).max())\n",
    "        candidates = []\n",
    "        for s in range(scala):\n",
    "            candidates.append( cand + (s+1)*delta)\n",
    "            candidates.append( cand - (s+1)*delta)\n",
    "            \n",
    "        for candidate in candidates:\n",
    "            r = evaluate(candidate,scores,label)\n",
    "            if r > result:\n",
    "                result = r \n",
    "                __threshold = candidate\n",
    "           \n",
    "\n",
    "            \n",
    "        threshold_new = __threshold\n",
    "        print(\"New parameters learned!\")\n",
    "        \n",
    "        return mu_new,sigma_new,threshold_new"
   ]
  },
  {
   "cell_type": "code",
   "execution_count": 9,
   "metadata": {
    "collapsed": true
   },
   "outputs": [],
   "source": [
    "def evaluate(threoshld,scores,label):\n",
    "\n",
    "    beta = 1\n",
    "    tp = len(set(scores[ scores > threshold].index) & set( label[label=='anomaly'].index))\n",
    "    fn = len(set(scores[ scores > threshold].index) & set(label[label=='normal'].index))\n",
    "    fp = len(set(scores[ scores <= threshold].index) & set( label[label=='anomaly'].index))\n",
    "    tn = len(set(scores[ scores <= threshold].index) & set(label[label=='normal'].index))\n",
    "\n",
    "    \n",
    "\n",
    "    if tp == 0: \n",
    "        print(\"TP is 0.\")\n",
    "        return 0\n",
    "    \n",
    "\n",
    "    P = tp/(tp+fp) # reduce the number of didn't detected anomaly\n",
    "    R = tp/(tp+fn) # recuce the number of normal points that predicted as abnormal\n",
    "    fbeta= (1+beta*beta)*P*R/(beta*beta*P+R)\n",
    "    return fbeta"
   ]
  },
  {
   "cell_type": "code",
   "execution_count": 10,
   "metadata": {
    "collapsed": true
   },
   "outputs": [],
   "source": [
    "def plot_roc(fpr,tpr,auc):\n",
    "    plt.figure()\n",
    "    lw = 2\n",
    "    plt.plot(fpr, tpr, color='darkorange',\n",
    "             lw=lw, label='ROC curve (area = %0.2f)' %auc)\n",
    "    plt.plot([0, 1], [0, 1], color='navy', lw=lw, linestyle='--')\n",
    "    plt.xlim([0.0, 1.0])\n",
    "    plt.ylim([0.0, 1.05])\n",
    "    plt.xlabel('False Positive Rate')\n",
    "    plt.ylabel('True Positive Rate')\n",
    "    plt.title('Receiver operating characteristic example')\n",
    "    plt.legend(loc=\"lower right\")\n",
    "    plt.show()"
   ]
  },
  {
   "cell_type": "code",
   "execution_count": 11,
   "metadata": {
    "collapsed": true
   },
   "outputs": [],
   "source": [
    "mus = [mu]\n",
    "sigmas = [sigma]"
   ]
  },
  {
   "cell_type": "code",
   "execution_count": 48,
   "metadata": {},
   "outputs": [
    {
     "name": "stdout",
     "output_type": "stream",
     "text": [
      "TP\n",
      "FP\n",
      "new mu 0.085, new sigma 0.005, acc: 253\n",
      "FP\n",
      "new mu 0.085, new sigma 0.005, acc: 338\n",
      "FP\n",
      "new mu 0.085, new sigma 0.005, acc: 423\n",
      "TP\n",
      "TP\n",
      "FP\n",
      "new mu 0.086, new sigma 0.005, acc: 508\n",
      "TP\n",
      "FP\n",
      "new mu 0.086, new sigma 0.005, acc: 593\n",
      "FP\n",
      "new mu 0.086, new sigma 0.005, acc: 678\n",
      "FP\n",
      "new mu 0.086, new sigma 0.005, acc: 763\n",
      "FP\n",
      "new mu 0.086, new sigma 0.005, acc: 848\n",
      "retrain...\n",
      "new mu 0.109, new sigma 0.009, acc: 932\n",
      "New parameters:  0.10895050317 0.00902948342264 0.00738290778404\n",
      "FP\n",
      "new mu 0.109, new sigma 0.009, acc: 933\n",
      "FP\n",
      "new mu 0.109, new sigma 0.009, acc: 1018\n",
      "FP\n",
      "new mu 0.109, new sigma 0.009, acc: 1103\n",
      "FP\n",
      "new mu 0.109, new sigma 0.009, acc: 1188\n",
      "FP\n",
      "new mu 0.108, new sigma 0.009, acc: 1273\n",
      "FP\n",
      "new mu 0.108, new sigma 0.009, acc: 1358\n",
      "FP\n",
      "new mu 0.108, new sigma 0.009, acc: 1443\n",
      "FP\n",
      "new mu 0.108, new sigma 0.009, acc: 1528\n",
      "FP\n",
      "new mu 0.107, new sigma 0.009, acc: 1613\n",
      "FP\n",
      "new mu 0.107, new sigma 0.009, acc: 1698\n",
      "FP\n",
      "new mu 0.107, new sigma 0.009, acc: 1783\n",
      "FP\n",
      "new mu 0.106, new sigma 0.009, acc: 1868\n",
      "FP\n",
      "new mu 0.106, new sigma 0.009, acc: 1953\n",
      "FP\n",
      "new mu 0.106, new sigma 0.009, acc: 2038\n",
      "TP\n",
      "retrain...\n",
      "new mu 0.082, new sigma 0.006, acc: 2122\n",
      "New parameters:  0.0819964632392 0.00623268121853 0.00475773179673\n",
      "FP\n",
      "new mu 0.082, new sigma 0.006, acc: 2123\n",
      "FP\n",
      "new mu 0.082, new sigma 0.006, acc: 2208\n",
      "FP\n",
      "new mu 0.082, new sigma 0.006, acc: 2293\n",
      "FP\n",
      "new mu 0.082, new sigma 0.006, acc: 2378\n",
      "FP\n",
      "new mu 0.082, new sigma 0.006, acc: 2463\n",
      "FP\n",
      "new mu 0.082, new sigma 0.006, acc: 2548\n",
      "FP\n",
      "new mu 0.082, new sigma 0.006, acc: 2633\n",
      "FP\n",
      "new mu 0.082, new sigma 0.006, acc: 2718\n",
      "FP\n",
      "new mu 0.082, new sigma 0.006, acc: 2803\n",
      "FP\n",
      "new mu 0.083, new sigma 0.006, acc: 2888\n",
      "FP\n",
      "new mu 0.083, new sigma 0.006, acc: 2973\n",
      "TP\n",
      "retrain...\n",
      "new mu 0.094, new sigma 0.008, acc: 3057\n",
      "New parameters:  0.0937064886093 0.0075113219209 0.00571608125692\n"
     ]
    },
    {
     "data": {
      "image/png": "[encoded data removed]",
      "text/plain": [
       "<matplotlib.figure.Figure at 0x1b857d11278>"
      ]
     },
     "metadata": {},
     "output_type": "display_data"
    },
    {
     "data": {
      "image/png": "[encoded data removed]",
      "text/plain": [
       "<matplotlib.figure.Figure at 0x1b857e172b0>"
      ]
     },
     "metadata": {},
     "output_type": "display_data"
    },
    {
     "data": {
      "image/png": "[encoded data removed]",
      "text/plain": [
       "<matplotlib.figure.Figure at 0x1b857dfb160>"
      ]
     },
     "metadata": {},
     "output_type": "display_data"
    }
   ],
   "source": [
    "count = 0\n",
    "n_buf = []\n",
    "a_buf = []\n",
    "\n",
    "y = []\n",
    "output=[]\n",
    "box = []\n",
    "err_nbuf = []\n",
    "err_abuf = []\n",
    "all_scores = []\n",
    "\n",
    "for l in labels:\n",
    "    if l == \"normal\":\n",
    "        y +=[0]\n",
    "    else: \n",
    "        y +=[1]\n",
    "for data in test_set_list:\n",
    "    \n",
    "        prediction = []\n",
    "        \n",
    "        (input_n, output_n) = sess.run([input_, output_], {p_input: data, p_is_training: False})\n",
    "\n",
    "        err = abs(input_n-output_n).reshape(-1,elem_num)\n",
    "        \n",
    "        box.append(err.reshape(-1,))\n",
    "        \n",
    "        scores = scoring(err,mu,sigma)\n",
    "        scores = pd.Series(scores)\n",
    "        \n",
    "        all_scores.append(scores)\n",
    "        output +=  [np.array(heapq.nlargest(10,scores)).mean()]\n",
    "        #output += [scores.max()]\n",
    "        pred = [scores[b*step_num:(b+1)*step_num] for b in range(batch_num)]\n",
    "        label = [expert[count*batch_num+b]for b in range(batch_num)]\n",
    "        e = [err.ravel()[b*step_num:(b+1)*step_num] for b in range(batch_num)]\n",
    "        for index,value in enumerate(pred):\n",
    "            if value[value>threshold].size>=5: \n",
    "                if label[index] == \"anomaly\":\n",
    "                    print(\"TP\")                 \n",
    "                    a_buf.append(data[index])\n",
    "                    err_abuf.append(e[index])\n",
    "                else:\n",
    "                    print(\"FP\")\n",
    "                    err_nbuf.append(e[index])\n",
    "                    n_buf.append(data[index])\n",
    "                    mu,sigma = update(err_nbuf,acc_size,mu,sigma)\n",
    "                    mus.append(mu)\n",
    "                    sigmas.append(sigma)\n",
    "                    acc_size += step_num\n",
    "            else:               \n",
    "                if label[index] == \"anomaly\":             \n",
    "                    print(\"FN\")\n",
    "                    a_buf.append(data[index])\n",
    "                    err_abuf.append(e[index])\n",
    "                else:\n",
    "                    err_nbuf.append(e[index])\n",
    "                    mu,sigma = update(err_nbuf,acc_size,mu,sigma)\n",
    "                    mus.append(mu)\n",
    "                    sigmas.append(sigma)\n",
    "                    acc_size += step_num\n",
    "                    print(\"TN\")\n",
    "        count +=1\n",
    "        \n",
    "\n",
    "        \n",
    "        if len(n_buf)>=8 and len(a_buf)>=1:\n",
    "            print(\"retrain...\")\n",
    "            loss_list_all=[]\n",
    "\n",
    "            datalist = np.array(n_buf[:6]).reshape(-1,batch_num,step_num,elem_num)\n",
    "            validation_list_n = np.array(n_buf[6:]).reshape(-1,batch_num,step_num,elem_num)\n",
    "            validation_list_a = np.array(a_buf).reshape(-1,batch_num,step_num,elem_num)\n",
    "            \n",
    "            for i in range(50):\n",
    "                \n",
    "                loss_list=[]\n",
    "                for data in datalist:\n",
    "                    (loss, _) = sess.run([loss_, train_], {p_input: data,p_is_training : True})\n",
    "                    loss_list.append(loss)\n",
    "                #print('Retrain-iter %d:' % (i + 1), np.array(loss_list).mean())\n",
    "                loss_list_all.append( np.array(loss_list).mean()) \n",
    "            \n",
    "\n",
    "            \n",
    "            #mu,sigma,threshold = update_parameter(err_nbuf,err_abuf,acc_size,mu,sigma,threshold)\n",
    "            mu,sigma = update(err_nbuf,acc_size,mu,sigma,retraining=True)\n",
    "            normal_score = []\n",
    "            abnormal_score = []\n",
    "            \n",
    "            for val in validation_list_n:\n",
    "                (ein,aus) = sess.run([input_,output_], {p_input: val,p_is_training :False})\n",
    "                \n",
    "                err = abs(ein-aus).reshape(-1,elem_num)\n",
    "        \n",
    "                normal_score +=scoring(err,mu,sigma)\n",
    "            \n",
    "            for val_a in validation_list_a:\n",
    "                (ein,aus) = sess.run([input_,output_], {p_input: val_a,p_is_training :False})\n",
    "                \n",
    "                err = abs(ein-aus).reshape(-1,elem_num)\n",
    "        \n",
    "                abnormal_score +=scoring(err,mu,sigma)\n",
    "            threshold = get_threshold(normal_score, abnormal_score)\n",
    "        \n",
    "            print(\"New parameters: \",mu,sigma,threshold)\n",
    "            pd.Series(loss_list_all).plot(title=\"Loss\")\n",
    "            n_buf = []\n",
    "            a_buf = []\n",
    "            err_buf = []\n",
    "                \n",
    "fpr, tpr, thresholds = metrics.roc_curve(expert, output, pos_label=\"anomaly\")\n",
    "auc = metrics.auc(fpr, tpr)\n",
    "#print(fpr,tpr,thresholds,auc)\n",
    "plot_roc(fpr,tpr,auc)\n",
    "fig, ax = plt.subplots()\n",
    "fig.set_size_inches(18.5, 5.5)\n",
    "ax.boxplot(box)\n",
    "\n",
    "plt.show()"
   ]
  },
  {
   "cell_type": "code",
   "execution_count": 27,
   "metadata": {
    "collapsed": true
   },
   "outputs": [],
   "source": [
    "mu,sigma,threshold = 0.0854842 ,0.00507233, 0.00671047"
   ]
  },
  {
   "cell_type": "code",
   "execution_count": null,
   "metadata": {
    "collapsed": true
   },
   "outputs": [],
   "source": []
  }
 ],
 "metadata": {
  "kernelspec": {
   "display_name": "Python 3",
   "language": "python",
   "name": "python3"
  }
 },
 "nbformat": 4,
 "nbformat_minor": 2
}
