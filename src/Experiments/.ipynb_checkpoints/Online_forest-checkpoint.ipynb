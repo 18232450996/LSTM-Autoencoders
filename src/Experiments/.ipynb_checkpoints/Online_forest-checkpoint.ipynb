{
 "cells": [
  {
   "cell_type": "code",
   "execution_count": 1,
   "metadata": {
    "collapsed": true
   },
   "outputs": [],
   "source": [
    "%matplotlib inline\n",
    "import pandas as pd\n",
    "import numpy as np\n",
    "from sklearn.preprocessing import MinMaxScaler\n",
    "import tensorflow as tf\n",
    "import matplotlib.pyplot as plt\n",
    "from sklearn.metrics import confusion_matrix\n",
    "import time\n",
    "from scipy.spatial.distance import mahalanobis,euclidean\n",
    "from sklearn import metrics\n",
    "from scipy.spatial.distance import mahalanobis\n",
    "import heapq"
   ]
  },
  {
   "cell_type": "markdown",
   "metadata": {},
   "source": [
    "# Load data"
   ]
  },
  {
   "cell_type": "code",
   "execution_count": 2,
   "metadata": {
    "collapsed": true
   },
   "outputs": [],
   "source": [
    "batch_num = 1\n",
    "hidden_num = 45\n",
    "step_num = 10\n",
    "elem_num = 7\n",
    "init_wins = 1000\n",
    "\n",
    "names = [str(x) for x in range(elem_num)] +[\"label\"]\n",
    "forest = pd.read_csv(\"C:/Users/Bin/Desktop/Thesis/dataset/forest.csv\",names=names,skiprows=step_num*init_wins)\n",
    "wins = forest.shape[0]//step_num\n",
    "test_set = forest.iloc[:wins*batch_num*step_num,:-1]\n",
    "labels =forest.iloc[:wins*batch_num*step_num,-1]\n",
    "\n",
    "ts = test_set.as_matrix().reshape(wins,batch_num,step_num,elem_num)\n",
    "test_set_list = [ts[a] for a in range(wins)]"
   ]
  },
  {
   "cell_type": "code",
   "execution_count": 3,
   "metadata": {
    "collapsed": true
   },
   "outputs": [],
   "source": [
    "labels[labels!=\"normal\"] = \"anomaly\""
   ]
  },
  {
   "cell_type": "code",
   "execution_count": 4,
   "metadata": {
    "collapsed": true
   },
   "outputs": [],
   "source": [
    "del forest\n",
    "del test_set"
   ]
  },
  {
   "cell_type": "code",
   "execution_count": 5,
   "metadata": {},
   "outputs": [
    {
     "name": "stdout",
     "output_type": "stream",
     "text": [
      "[10674, 10699, 10724, 10773, 10796, 10892, 10986, 11055, 11078, 11101, 11150, 11199, 11225, 11275, 11302, 11357, 11438, 11467, 11559, 11684, 11686, 11711, 11716, 11741, 11744, 11746, 11747, 11772, 11776, 11806, 11835, 11860, 11864, 11891, 11918, 11922, 11946, 11949, 11950, 11976, 11978, 12004, 12027, 12031, 12032, 12058, 12080, 12083, 12084, 12110, 12134, 12135, 12138, 12139, 12158, 12159, 12163, 12164, 12181, 12182, 12183, 12202, 12204, 12205, 12224, 12227, 12228, 12231, 12232, 12247, 12249, 12250, 12268, 12271, 12272, 12276, 12293, 12314, 12315, 12318, 12333, 12334, 12338, 12340, 12341, 12358, 12360, 12363, 12380, 12382, 12384, 12385, 12405, 12407, 12409, 12410, 12412, 12431, 12432, 12434, 12454, 12456, 12457, 12458, 12461, 12479, 12481, 12482, 12483, 12484, 12487, 12506, 12508, 12509, 12511, 12512, 12513, 12530, 12531, 12532, 12533, 12534, 12537, 12555, 12556, 12558, 12559, 12560, 12564, 12581, 12582, 12583, 12585, 12605, 12606, 12608, 12610, 12613, 12631, 12634, 12636, 12660, 12661, 12663, 12688, 12691, 12694, 12713, 12716, 12718, 12719, 12740, 12741, 12743, 12744, 12746, 12751, 12768, 12772, 12774, 12779, 12800, 12803, 12809, 12810, 12829, 12832, 12835, 12838, 12858, 12859, 12861, 12862, 12866, 12884, 12887, 12891, 12896, 12913, 12919, 12920, 12926, 12949, 12953, 12970, 12976, 12978, 12982, 12983, 13003, 13007, 13010, 13013, 13036, 13065, 13067, 13070, 13088, 13090, 13093, 13098, 13117, 13121, 13122, 13125, 13150, 13173, 13178, 13182, 13184, 13206, 13207, 13234, 13235, 13239, 13240, 13263, 13264, 13269, 13293, 13320, 13321, 13322, 13326, 13346, 13356, 13378, 13383, 13406, 13430, 13458, 13462, 13463, 13486, 13507, 13508, 13532, 13536, 13555, 13559, 13579, 13604, 13681, 13702, 13705, 13729, 13750, 13768, 13794, 13797, 13798, 13820, 13821, 13885, 13889, 13926, 13944, 13988, 14002, 14007, 14025, 14027, 14042, 14045, 14086, 14114, 14139, 14286, 14308, 14335, 14360]\n"
     ]
    }
   ],
   "source": [
    "# figure out anomaly windows\n",
    "buffer = [labels[i*step_num:(i+1)*step_num] for i in range(0,labels.size//step_num)]\n",
    "anomaly_index = []\n",
    "count = 0\n",
    "for buf in buffer:\n",
    "    if \"anomaly\" in buf.tolist():\n",
    "        anomaly_index.append(count)\n",
    "    else:\n",
    "        pass\n",
    "    count +=1\n",
    "print(anomaly_index)\n",
    "\n",
    "expert = [\"normal\"]*wins\n",
    "for x in anomaly_index:\n",
    "    expert[x] = \"anomaly\""
   ]
  },
  {
   "cell_type": "markdown",
   "metadata": {},
   "source": [
    "# Load Model"
   ]
  },
  {
   "cell_type": "code",
   "execution_count": 6,
   "metadata": {},
   "outputs": [
    {
     "name": "stdout",
     "output_type": "stream",
     "text": [
      "INFO:tensorflow:Restoring parameters from C:/Users/Bin/Desktop/Thesis/models/forest_20win/_1_45_20_para.ckpt\n"
     ]
    }
   ],
   "source": [
    "modelpath_root =\"C:/Users/Bin/Desktop/Thesis/models/forest_10win/\"\n",
    "modelmeta_p = modelpath_root + \"_1_45_10_para.ckpt.meta\"\n",
    "\n",
    "sess = tf.Session()\n",
    "saver = tf.train.import_meta_graph(modelmeta_p) # load trained gragh, but without the trained parameters\n",
    "saver.restore(sess,tf.train.latest_checkpoint(modelpath_root))\n",
    "graph = tf.get_default_graph()\n",
    "\n",
    "p_input = graph.get_tensor_by_name(\"p_input:0\")\n",
    "p_inputs = [tf.squeeze(t, [1]) for t in tf.split(p_input, step_num, 1)] \n",
    "p_is_training = graph.get_tensor_by_name(\"is_training_:0\")\n",
    "\n",
    "input_= tf.transpose(tf.stack(p_inputs), [1, 0, 2])    \n",
    "output_ = graph.get_tensor_by_name(\"decoder/output_:0\")\n",
    "\n",
    "tensor_mu = graph.get_tensor_by_name(\"mu:0\")\n",
    "tensor_sigma = graph.get_tensor_by_name(\"sigma:0\")\n",
    "tensor_threshold = graph.get_tensor_by_name(\"threshold:0\")\n",
    "\n",
    "loss_ = graph.get_tensor_by_name(\"decoder/loss:0\")\n",
    "train_ = graph.get_operation_by_name(\"cond/train_\")\n",
    "\n",
    "mu = sess.run(tensor_mu)\n",
    "sigma = sess.run(tensor_sigma)\n",
    "threshold = sess.run(tensor_threshold)"
   ]
  },
  {
   "cell_type": "code",
   "execution_count": 7,
   "metadata": {},
   "outputs": [
    {
     "name": "stdout",
     "output_type": "stream",
     "text": [
      "(7,) (7, 7) 0.00811583\n"
     ]
    }
   ],
   "source": [
    "print(mu.shape,sigma.shape,threshold)"
   ]
  },
  {
   "cell_type": "markdown",
   "metadata": {},
   "source": [
    "# Online Phase (With expert)"
   ]
  },
  {
   "cell_type": "code",
   "execution_count": 8,
   "metadata": {
    "collapsed": true
   },
   "outputs": [],
   "source": [
    "def local_preprocessing(batchdata):\n",
    "    # input batchdata with shape : [batch_num, step_num, elem_num]\n",
    "    # minmax scaler on window level\n",
    "    df = pd.DataFrame()\n",
    "    \n",
    "    for window in batchdata:\n",
    "        \n",
    "        scaler = MinMaxScaler()\n",
    "        scaler.fit(window)\n",
    "        new_win = scaler.transform(window)\n",
    "        df = pd.concat((df, pd.DataFrame(new_win)),axis=0) if df.size!=0 else pd.DataFrame(new_win)\n",
    "    return df.as_matrix().reshape(batchdata.shape)\n",
    "\n",
    "    "
   ]
  },
  {
   "cell_type": "code",
   "execution_count": 9,
   "metadata": {
    "collapsed": true
   },
   "outputs": [],
   "source": [
    "def scoring(err,mu,sigma):\n",
    "    \n",
    "    scores = []\n",
    "    for e in err:\n",
    "        scores.append(mahalanobis(e,mu,sigma))\n",
    "\n",
    "    return scores"
   ]
  },
  {
   "cell_type": "code",
   "execution_count": 10,
   "metadata": {
    "collapsed": true
   },
   "outputs": [],
   "source": [
    "def get_musigma(err_nbuf,mu,sigma):       \n",
    "    \n",
    "        err_vec_array = np.array(err_nbuf)\n",
    "        # for multivariate  data\n",
    "        mu = np.mean(err_vec_array,axis=0)\n",
    "        sigma = np.cov(err_vec_array.T)\n",
    "        return mu, sigma"
   ]
  },
  {
   "cell_type": "code",
   "execution_count": 11,
   "metadata": {
    "collapsed": true
   },
   "outputs": [],
   "source": [
    "def get_threshold(normal_score, abnormal_score):\n",
    "        upper = np.median(np.array(abnormal_score))\n",
    "        lower = np.median(np.array(normal_score)) \n",
    "        scala = 20\n",
    "        delta = (upper-lower) / scala\n",
    "        candidate = lower\n",
    "        threshold = 0\n",
    "        result = 0\n",
    "\n",
    "        def evaluate(threshold,normal_score,abnormal_score):\n",
    "\n",
    "            beta = 0.5\n",
    "            tp = np.array(abnormal_score)[np.array(abnormal_score)>threshold].size\n",
    "            fp = len(abnormal_score)-tp\n",
    "            fn = np.array(normal_score)[np.array(normal_score)>threshold].size\n",
    "            tn = len(normal_score)- fn\n",
    "\n",
    "            if tp == 0: return 0\n",
    "\n",
    "            P = tp/(tp+fp)\n",
    "            R = tp/(tp+fn)\n",
    "            fbeta= (1+beta*beta)*P*R/(beta*beta*P+R)\n",
    "            return fbeta \n",
    "\n",
    "        for _ in range(scala):\n",
    "            r = evaluate(candidate,normal_score,abnormal_score)\n",
    "            if r > result:\n",
    "                result = r \n",
    "                threshold = candidate\n",
    "            candidate += delta \n",
    "        return threshold"
   ]
  },
  {
   "cell_type": "code",
   "execution_count": 12,
   "metadata": {
    "collapsed": true
   },
   "outputs": [],
   "source": [
    "def plot_roc(fpr,tpr,auc):\n",
    "    plt.figure()\n",
    "    lw = 2\n",
    "    plt.plot(fpr, tpr, color='darkorange',\n",
    "             lw=lw, label='ROC curve (area = %0.2f)' %auc)\n",
    "    plt.plot([0, 1], [0, 1], color='navy', lw=lw, linestyle='--')\n",
    "    plt.xlim([0.0, 1.0])\n",
    "    plt.ylim([0.0, 1.05])\n",
    "    plt.xlabel('False Positive Rate')\n",
    "    plt.ylabel('True Positive Rate')\n",
    "    plt.title('Receiver operating characteristic example')\n",
    "    plt.legend(loc=\"lower right\")\n",
    "    plt.show()"
   ]
  },
  {
   "cell_type": "code",
   "execution_count": 14,
   "metadata": {},
   "outputs": [
    {
     "name": "stderr",
     "output_type": "stream",
     "text": [
      "C:\\ProgramData\\Anaconda3\\lib\\site-packages\\sklearn\\utils\\validation.py:475: DataConversionWarning: Data with input dtype int64 was converted to float64 by MinMaxScaler.\n",
      "  warnings.warn(msg, DataConversionWarning)\n"
     ]
    },
    {
     "name": "stdout",
     "output_type": "stream",
     "text": [
      "retrain at 11685 batch\n",
      "Parameters updated!\n"
     ]
    },
    {
     "name": "stderr",
     "output_type": "stream",
     "text": [
      "C:\\ProgramData\\Anaconda3\\lib\\site-packages\\sklearn\\utils\\validation.py:475: DataConversionWarning: Data with input dtype int64 was converted to float64 by MinMaxScaler.\n",
      "  warnings.warn(msg, DataConversionWarning)\n"
     ]
    },
    {
     "name": "stdout",
     "output_type": "stream",
     "text": [
      "retrain at 12894 batch\n",
      "Parameters updated!\n",
      "retrain at 14019 batch\n",
      "Parameters updated!\n"
     ]
    },
    {
     "data": {
      "image/png": "[encoded data removed]",
      "text/plain": [
       "<matplotlib.figure.Figure at 0x23b134bfbe0>"
      ]
     },
     "metadata": {},
     "output_type": "display_data"
    },
    {
     "data": {
      "image/png": "[encoded data removed]",
      "text/plain": [
       "<matplotlib.figure.Figure at 0x23b10c74cf8>"
      ]
     },
     "metadata": {},
     "output_type": "display_data"
    }
   ],
   "source": [
    "count = 0\n",
    "n_buf = []\n",
    "a_buf = []\n",
    "\n",
    "y = []\n",
    "output=[]\n",
    "box = []\n",
    "err_nbuf = []\n",
    "err_abuf = []\n",
    "all_scores = []\n",
    "\n",
    "for l in labels:\n",
    "    if l == \"normal\":\n",
    "        y +=[0]\n",
    "    else: \n",
    "        y +=[1]\n",
    "for data in test_set_list:\n",
    "    \n",
    "        prediction = []\n",
    "        df = local_preprocessing(data)\n",
    "        (input_n, output_n) = sess.run([input_, output_], {p_input: df, p_is_training: False})\n",
    "\n",
    "        err = abs(input_n-output_n).reshape(-1,elem_num)\n",
    "        \n",
    "        box.append(err.reshape(-1,))\n",
    "        \n",
    "        scores = scoring(err,mu,sigma)\n",
    "        scores = pd.Series(scores)\n",
    "        \n",
    "        all_scores.append(scores)\n",
    "        output +=  [np.array(heapq.nlargest(10,scores)).mean()]\n",
    "#        output += [scores.max()]\n",
    "        pred = [scores[b*step_num:(b+1)*step_num] for b in range(batch_num)]\n",
    "        label = [expert[count*batch_num+b]for b in range(batch_num)]\n",
    "        e = [err.reshape(-1,elem_num)]\n",
    "        for index,value in enumerate(pred):\n",
    "            if value[value>threshold].size>=5: \n",
    "                if label[index] == \"anomaly\":\n",
    "                    #print(\"TP\")                 \n",
    "                    a_buf.append(df[index])\n",
    "                    err_abuf.append(e[index])\n",
    "                    #err_abuf = err_abuf + e[index] if len(err_abuf) != 0 else e[index]\n",
    "                else:\n",
    "                    #print(\"FP\")\n",
    "                    err_nbuf.append(e[index])\n",
    "                    #err_nbuf = err_nbuf + e[index] if len(err_nbuf) != 0 else e[index]\n",
    "                    n_buf.append(df[index])\n",
    "            else:               \n",
    "                if label[index] == \"anomaly\":             \n",
    "                    #print(\"FN\")\n",
    "                    a_buf.append(df[index])\n",
    "                    err_abuf.append(e[index])\n",
    "                    #err_abuf = err_abuf + e[index] if len(err_abuf) != 0 else e[index]\n",
    "                else:\n",
    "                    err_nbuf.append(e[index])\n",
    "                    #err_nbuf = err_nbuf + e[index] if len(err_nbuf) != 0 else e[index]\n",
    "                    #print(\"TN\")\n",
    "        count +=1\n",
    "        \n",
    "\n",
    "        \n",
    "        if len(n_buf)>=1000 and len(a_buf)>=20:\n",
    "            print(\"retrain at %d batch\"%count)\n",
    "            loss_list_all=[]\n",
    "\n",
    "            datalist = np.array(n_buf[:6]).reshape(-1,batch_num,step_num,elem_num)\n",
    "            validation_list_n = np.array(n_buf[6:]).reshape(-1,batch_num,step_num,elem_num)\n",
    "            validation_list_a = np.array(a_buf).reshape(-1,batch_num,step_num,elem_num)\n",
    "            \n",
    "            for i in range(50):\n",
    "                \n",
    "                loss_list=[]\n",
    "                for data in datalist:\n",
    "                    (loss, _) = sess.run([loss_, train_], {p_input: data,p_is_training : True})\n",
    "                    loss_list.append(loss)\n",
    "                #print('Retrain-iter %d:' % (i + 1), np.array(loss_list).mean())\n",
    "                loss_list_all.append( np.array(loss_list).mean()) \n",
    "            \n",
    "\n",
    "            err_nbuf_tmp = np.array(err_nbuf).reshape(-1,elem_num)\n",
    "            mu,sigma = get_musigma(err_nbuf_tmp,mu,sigma)\n",
    "\n",
    "            normal_score = []\n",
    "            abnormal_score = []\n",
    "            \n",
    "            for val in validation_list_n:\n",
    "                (ein,aus) = sess.run([input_,output_], {p_input: val,p_is_training :False})\n",
    "                \n",
    "                err = abs(ein-aus).reshape(-1,elem_num)\n",
    "        \n",
    "                normal_score +=scoring(err,mu,sigma)\n",
    "            \n",
    "            for val_a in validation_list_a:\n",
    "                (ein,aus) = sess.run([input_,output_], {p_input: val_a,p_is_training :False})\n",
    "                \n",
    "                err = abs(ein-aus).reshape(-1,elem_num)\n",
    "        \n",
    "                abnormal_score +=scoring(err,mu,sigma)\n",
    "            \n",
    "            threshold = get_threshold(normal_score, abnormal_score)\n",
    "        \n",
    "            print(\"Parameters updated!\")\n",
    "            pd.Series(loss_list_all).plot(title=\"Loss\")\n",
    "            n_buf = []\n",
    "            a_buf = []\n",
    "            err_buf = []\n",
    "                \n",
    "fpr, tpr, thresholds = metrics.roc_curve(expert, output, pos_label=\"anomaly\")\n",
    "auc = metrics.auc(fpr, tpr)\n",
    "#print(fpr,tpr,thresholds,auc)\n",
    "plot_roc(fpr,tpr,auc)\n",
    "\n",
    "plt.show()"
   ]
  },
  {
   "cell_type": "markdown",
   "metadata": {},
   "source": [
    "# Without retraining"
   ]
  },
  {
   "cell_type": "code",
   "execution_count": 13,
   "metadata": {},
   "outputs": [
    {
     "name": "stderr",
     "output_type": "stream",
     "text": [
      "C:\\ProgramData\\Anaconda3\\lib\\site-packages\\sklearn\\utils\\validation.py:475: DataConversionWarning: Data with input dtype int64 was converted to float64 by MinMaxScaler.\n",
      "  warnings.warn(msg, DataConversionWarning)\n"
     ]
    },
    {
     "data": {
      "image/png": "[encoded data removed]",
      "text/plain": [
       "<matplotlib.figure.Figure at 0x23b10c97828>"
      ]
     },
     "metadata": {},
     "output_type": "display_data"
    }
   ],
   "source": [
    "count = 0\n",
    "n_buf = []\n",
    "a_buf = []\n",
    "\n",
    "y = []\n",
    "output=[]\n",
    "box = []\n",
    "err_nbuf = []\n",
    "err_abuf = []\n",
    "all_scores = []\n",
    "\n",
    "for l in labels:\n",
    "    if l == \"normal\":\n",
    "        y +=[0]\n",
    "    else: \n",
    "        y +=[1]\n",
    "for data in test_set_list:\n",
    "    \n",
    "        prediction = []\n",
    "        df = local_preprocessing(data)\n",
    "        (input_n, output_n) = sess.run([input_, output_], {p_input: df, p_is_training: False})\n",
    "\n",
    "        err = abs(input_n-output_n).reshape(-1,elem_num)\n",
    "        \n",
    "        box.append(err.reshape(-1,))\n",
    "        \n",
    "        scores = scoring(err,mu,sigma)\n",
    "        scores = pd.Series(scores)\n",
    "        \n",
    "        all_scores.append(scores)\n",
    "        output +=  [np.array(heapq.nlargest(10,scores)).mean()]\n",
    "#        output += [scores.max()]\n",
    "        pred = [scores[b*step_num:(b+1)*step_num] for b in range(batch_num)]\n",
    "        label = [expert[count*batch_num+b]for b in range(batch_num)]\n",
    "        e = [err.reshape(-1,elem_num)]\n",
    "        for index,value in enumerate(pred):\n",
    "            if value[value>threshold].size>=20: \n",
    "                if label[index] == \"anomaly\":\n",
    "                    #print(\"TP\")                 \n",
    "                    a_buf.append(df[index])\n",
    "                    err_abuf.append(e[index])\n",
    "                    #err_abuf = err_abuf + e[index] if len(err_abuf) != 0 else e[index]\n",
    "                else:\n",
    "                    #print(\"FP\")\n",
    "                    err_nbuf.append(e[index])\n",
    "                    #err_nbuf = err_nbuf + e[index] if len(err_nbuf) != 0 else e[index]\n",
    "                    n_buf.append(df[index])\n",
    "            else:               \n",
    "                if label[index] == \"anomaly\":             \n",
    "                    #print(\"FN\")\n",
    "                    a_buf.append(df[index])\n",
    "                    err_abuf.append(e[index])\n",
    "                    #err_abuf = err_abuf + e[index] if len(err_abuf) != 0 else e[index]\n",
    "                else:\n",
    "                    err_nbuf.append(e[index])\n",
    "                    #err_nbuf = err_nbuf + e[index] if len(err_nbuf) != 0 else e[index]\n",
    "                    #print(\"TN\")\n",
    "        count +=1\n",
    "        \n",
    "\n",
    "fpr, tpr, thresholds = metrics.roc_curve(expert, output, pos_label=\"anomaly\")\n",
    "auc = metrics.auc(fpr, tpr)\n",
    "#print(fpr,tpr,thresholds,auc)\n",
    "plot_roc(fpr,tpr,auc)\n",
    "\n",
    "plt.show()"
   ]
  },
  {
   "cell_type": "code",
   "execution_count": 15,
   "metadata": {},
   "outputs": [],
   "source": [
    "foo = pd.Series(np.array(output).ravel())"
   ]
  },
  {
   "cell_type": "code",
   "execution_count": 16,
   "metadata": {},
   "outputs": [],
   "source": [
    "bar = pd.Series(expert)"
   ]
  },
  {
   "cell_type": "code",
   "execution_count": 17,
   "metadata": {},
   "outputs": [
    {
     "data": {
      "text/plain": [
       "(271,)"
      ]
     },
     "execution_count": 17,
     "metadata": {},
     "output_type": "execute_result"
    }
   ],
   "source": [
    "bar[bar!=\"normal\"].shape"
   ]
  },
  {
   "cell_type": "code",
   "execution_count": 18,
   "metadata": {},
   "outputs": [
    {
     "data": {
      "text/plain": [
       "0.06508463511144186"
      ]
     },
     "execution_count": 18,
     "metadata": {},
     "output_type": "execute_result"
    }
   ],
   "source": [
    "foo[bar==\"normal\"].mean()"
   ]
  },
  {
   "cell_type": "code",
   "execution_count": 19,
   "metadata": {},
   "outputs": [
    {
     "data": {
      "text/plain": [
       "0.0877401213329429"
      ]
     },
     "execution_count": 19,
     "metadata": {},
     "output_type": "execute_result"
    }
   ],
   "source": [
    "foo[bar!=\"normal\"].mean()"
   ]
  },
  {
   "cell_type": "code",
   "execution_count": 20,
   "metadata": {},
   "outputs": [
    {
     "name": "stderr",
     "output_type": "stream",
     "text": [
      "C:\\ProgramData\\Anaconda3\\lib\\site-packages\\numpy\\core\\fromnumeric.py:57: FutureWarning: reshape is deprecated and will raise in a subsequent release. Please use .values.reshape(...) instead\n",
      "  return getattr(obj, method)(*args, **kwds)\n"
     ]
    },
    {
     "data": {
      "image/png": "[encoded data removed]",
      "text/plain": [
       "<matplotlib.figure.Figure at 0x23b0a016748>"
      ]
     },
     "metadata": {},
     "output_type": "display_data"
    }
   ],
   "source": [
    "fig, ax = plt.subplots()\n",
    "fig.set_size_inches(18.5, 5.5)\n",
    "ax.boxplot([foo[bar==\"normal\"],foo[bar!=\"normal\"]])\n",
    "\n",
    "plt.show()"
   ]
  },
  {
   "cell_type": "code",
   "execution_count": null,
   "metadata": {
    "collapsed": true
   },
   "outputs": [],
   "source": []
  }
 ],
 "metadata": {
  "kernelspec": {
   "display_name": "Python 3",
   "language": "python",
   "name": "python3"
  },
  "language_info": {
   "codemirror_mode": {
    "name": "ipython",
    "version": 3
   },
   "file_extension": ".py",
   "mimetype": "text/x-python",
   "name": "python",
   "nbconvert_exporter": "python",
   "pygments_lexer": "ipython3",
   "version": "3.6.3"
  }
 },
 "nbformat": 4,
 "nbformat_minor": 2
}
