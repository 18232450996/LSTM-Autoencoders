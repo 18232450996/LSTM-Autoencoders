{
 "cells": [
  {
   "cell_type": "code",
   "execution_count": 31,
   "metadata": {
    "collapsed": true
   },
   "outputs": [],
   "source": [
    "%matplotlib inline\n",
    "import pandas as pd\n",
    "import numpy as np\n",
    "from sklearn.preprocessing import MinMaxScaler\n",
    "import tensorflow as tf\n",
    "import matplotlib.pyplot as plt\n",
    "from sklearn.metrics import confusion_matrix\n",
    "import time\n",
    "from scipy.spatial.distance import mahalanobis,euclidean\n",
    "from sklearn import metrics\n",
    "from scipy.spatial.distance import mahalanobis"
   ]
  },
  {
   "cell_type": "markdown",
   "metadata": {},
   "source": [
    "# Load data"
   ]
  },
  {
   "cell_type": "code",
   "execution_count": 23,
   "metadata": {},
   "outputs": [],
   "source": [
    "batch_num = 1\n",
    "hidden_num = 5\n",
    "step_num = 100\n",
    "elem_num = 34\n",
    "init_wins = 200\n",
    "names = [str(x) for x in range(elem_num)] +[\"label\"]\n",
    "smtp = pd.read_csv(\"C:/Users/Bin/Desktop/Thesis/dataset/smtp.csv\",names=names,skiprows=step_num*init_wins)\n",
    "test_set = smtp.iloc[:wins*batch_num*step_num,:-1]\n",
    "labels =smtp.iloc[:wins*batch_num*step_num,-1]\n",
    "wins = smtp.shape[0]//step_num\n",
    "ts = test_set.as_matrix().reshape(wins,batch_num,step_num,elem_num)\n",
    "test_set_list = [ts[a] for a in range(wins)]"
   ]
  },
  {
   "cell_type": "code",
   "execution_count": 29,
   "metadata": {
    "collapsed": true
   },
   "outputs": [],
   "source": [
    "labels[labels!=\"normal\"] = \"anomaly\""
   ]
  },
  {
   "cell_type": "code",
   "execution_count": 14,
   "metadata": {
    "collapsed": true
   },
   "outputs": [],
   "source": [
    "del smtp\n",
    "del test_set"
   ]
  },
  {
   "cell_type": "code",
   "execution_count": 30,
   "metadata": {},
   "outputs": [
    {
     "name": "stdout",
     "output_type": "stream",
     "text": [
      "[47, 60, 81, 118, 119, 120, 236, 261, 299, 319, 320, 321, 360, 400, 422, 484, 503, 566, 567, 568, 569, 571, 589, 590, 591, 597, 659, 699, 700, 701, 740, 741]\n"
     ]
    }
   ],
   "source": [
    "# figure out anomaly windows\n",
    "buffer = [labels[i*step_num:(i+1)*step_num] for i in range(0,labels.size//step_num)]\n",
    "anomaly_index = []\n",
    "count = 0\n",
    "for buf in buffer:\n",
    "    if \"anomaly\" in buf.tolist():\n",
    "        anomaly_index.append(count)\n",
    "    else:\n",
    "        pass\n",
    "    count +=1\n",
    "print(anomaly_index)\n",
    "\n",
    "expert = [\"normal\"]*wins\n",
    "for x in anomaly_index:\n",
    "    expert[x] = \"anomaly\""
   ]
  },
  {
   "cell_type": "markdown",
   "metadata": {},
   "source": [
    "# Load Model"
   ]
  },
  {
   "cell_type": "code",
   "execution_count": null,
   "metadata": {},
   "outputs": [],
   "source": [
    "modelpath_root =\"C:/Users/Bin/Desktop/Thesis/models/smtp/\"\n",
    "modelmeta_p = modelpath_root + \"_1_5_100_para.ckpt.meta\"\n",
    "\n",
    "sess = tf.Session()\n",
    "saver = tf.train.import_meta_graph(modelmeta_p) # load trained gragh, but without the trained parameters\n",
    "saver.restore(sess,tf.train.latest_checkpoint(modelpath_root))\n",
    "graph = tf.get_default_graph()\n",
    "\n",
    "p_input = graph.get_tensor_by_name(\"p_input:0\")\n",
    "p_inputs = [tf.squeeze(t, [1]) for t in tf.split(p_input, step_num, 1)] \n",
    "p_is_training = graph.get_tensor_by_name(\"is_training_:0\")\n",
    "\n",
    "input_= tf.transpose(tf.stack(p_inputs), [1, 0, 2])    \n",
    "output_ = graph.get_tensor_by_name(\"decoder/output_:0\")\n",
    "\n",
    "tensor_mu = graph.get_tensor_by_name(\"mu:0\")\n",
    "tensor_sigma = graph.get_tensor_by_name(\"sigma:0\")\n",
    "tensor_threshold = graph.get_tensor_by_name(\"threshold:0\")\n",
    "\n",
    "loss_ = graph.get_tensor_by_name(\"decoder/loss:0\")\n",
    "train_ = graph.get_operation_by_name(\"cond/train_\")\n",
    "\n",
    "mu = sess.run(tensor_mu)\n",
    "sigma = sess.run(tensor_sigma)\n",
    "threshold = sess.run(tensor_threshold)"
   ]
  },
  {
   "cell_type": "code",
   "execution_count": null,
   "metadata": {},
   "outputs": [],
   "source": [
    "print(mu.shape,sigma.shape,threshold)"
   ]
  },
  {
   "cell_type": "markdown",
   "metadata": {},
   "source": [
    "# Online Phase (With expert)"
   ]
  },
  {
   "cell_type": "code",
   "execution_count": 99,
   "metadata": {
    "collapsed": true
   },
   "outputs": [],
   "source": [
    "def scoring(err,mu,sigma):\n",
    "    \n",
    "    scores = []\n",
    "    for e in err:\n",
    "        scores.append(mahalanobis(e,mu,sigma))\n",
    "\n",
    "    return scores"
   ]
  },
  {
   "cell_type": "code",
   "execution_count": null,
   "metadata": {
    "collapsed": true
   },
   "outputs": [],
   "source": [
    "def update_parameter(errBuffer,mu,sigma,eta,threshold,score,label):       \n",
    "        tmp_errBuffer = errBuffer[-3:] if len(errBuffer)>3 else errBuffer\n",
    "        err_vec_array = np.array(tmp_errBuffer)\n",
    "        # for univariate  data\n",
    "        __mu = np.mean(err_vec_array.ravel())\n",
    "        mu = mu*eta + __mu*(1-eta)\n",
    "\n",
    "        __sigma =np.var(err_vec_array.ravel())\n",
    "        sigma = __sigma\n",
    "        \n",
    "        __thresold = scores.min()\n",
    "        f = 0\n",
    "        for t in range(int(scores.min()*100),int(scores.max()*100),5):\n",
    "            fbeta,_, _ = evaluate(t/100,score,label)\n",
    "            __thresold = t/100 if fbeta>f else __thresold\n",
    "            \n",
    "        threshold = threshold*eta + __thresold*(1-eta)\n",
    "        return mu,sigma,threshold"
   ]
  },
  {
   "cell_type": "code",
   "execution_count": 35,
   "metadata": {
    "collapsed": true
   },
   "outputs": [],
   "source": [
    "def plot_roc(fpr,tpr,auc):\n",
    "    plt.figure()\n",
    "    lw = 2\n",
    "    plt.plot(fpr, tpr, color='darkorange',\n",
    "             lw=lw, label='ROC curve (area = %0.2f)' %auc)\n",
    "    plt.plot([0, 1], [0, 1], color='navy', lw=lw, linestyle='--')\n",
    "    plt.xlim([0.0, 1.0])\n",
    "    plt.ylim([0.0, 1.05])\n",
    "    plt.xlabel('False Positive Rate')\n",
    "    plt.ylabel('True Positive Rate')\n",
    "    plt.title('Receiver operating characteristic example')\n",
    "    plt.legend(loc=\"lower right\")\n",
    "    plt.show()"
   ]
  },
  {
   "cell_type": "code",
   "execution_count": 102,
   "metadata": {},
   "outputs": [
    {
     "name": "stdout",
     "output_type": "stream",
     "text": [
      "FP\n",
      "TP\n",
      "TP\n",
      "TP\n",
      "FP\n",
      "FP\n",
      "TP\n",
      "FP\n",
      "TP\n",
      "TP\n",
      "TP\n",
      "TP\n",
      "TP\n",
      "TP\n",
      "TP\n",
      "TP\n",
      "TP\n",
      "TP\n",
      "TP\n",
      "TP\n",
      "retrain...\n",
      "TP\n",
      "TP\n",
      "TP\n",
      "TP\n",
      "TP\n",
      "TP\n",
      "FP\n",
      "TP\n",
      "TP\n",
      "TP\n",
      "TP\n",
      "TP\n",
      "TP\n",
      "TP\n",
      "TP\n",
      "TP\n",
      "TP\n",
      "TP\n",
      "FP\n"
     ]
    },
    {
     "data": {
      "image/png": "[encoded data removed]",
      "text/plain": [
       "<matplotlib.figure.Figure at 0x226a9a549e8>"
      ]
     },
     "metadata": {},
     "output_type": "display_data"
    },
    {
     "data": {
      "image/png": "[encoded data removed]",
      "text/plain": [
       "<matplotlib.figure.Figure at 0x226a9a475c0>"
      ]
     },
     "metadata": {},
     "output_type": "display_data"
    },
    {
     "data": {
      "image/png": "[encoded data removed]",
      "text/plain": [
       "<matplotlib.figure.Figure at 0x226a9b22518>"
      ]
     },
     "metadata": {},
     "output_type": "display_data"
    }
   ],
   "source": [
    "count = 0\n",
    "n_buf = []\n",
    "a_buf = []\n",
    "\n",
    "y = []\n",
    "output=[]\n",
    "box = []\n",
    "for l in labels:\n",
    "    if l == \"normal\":\n",
    "        y +=[0]\n",
    "    else: \n",
    "        y +=[1]\n",
    "for data in test_set_list:\n",
    "    \n",
    "        prediction = []\n",
    "        \n",
    "        (input_n, output_n) = sess.run([input_, output_], {p_input: data, p_is_training: False})\n",
    "\n",
    "        err = abs(input_n-output_n).reshape(-1,1)\n",
    "       \n",
    "        scores = scoring(err,mu,sigma)\n",
    "        scores = pd.Series(scores)\n",
    "        output += [1/x for x in err.ravel()]\n",
    "    \n",
    "        pred = [scores[b*step_num:(b+1)*step_num] for b in range(batch_num)]\n",
    "        label = [expert[count*batch_num+b]for b in range(batch_num)]\n",
    "        \n",
    "        for index,value in enumerate(pred):\n",
    "            box.append(value)\n",
    "            if value[value>threshold].size>=5: \n",
    "                if label[index] == \"anomaly\":\n",
    "                    #print(\"TN\")                 \n",
    "                    a_buf.append(value)                  \n",
    "                else:\n",
    "                    #print(\"FN\")                    \n",
    "                    n_buf.append(value)\n",
    "            else:               \n",
    "                if label[index] == \"anomaly\":             \n",
    "                    #print(\"FP\")\n",
    "                    a_buf.append(value)\n",
    "                else:\n",
    "                    #print(\"TP\")\n",
    "        count +=1\n",
    "        n_buf = box\n",
    "\n",
    "        \n",
    "        if count ==20:\n",
    "            print(\"retrain...\")\n",
    "            loss_list_all=[]\n",
    "            for i in range(50):\n",
    "                buff = n_buf[::-1]\n",
    "                loss_list=[]\n",
    "                for _ in range(len(n_buf)):\n",
    "                    \n",
    "                    data =[]\n",
    "                    for _ in range(batch_num):\n",
    "                        data.append(buff.pop())\n",
    "                    data = np.array(data).reshape(batch_num,step_num,elem_num)\n",
    "                    \n",
    "                    (loss, _) = sess.run([loss_, train_], {p_input: data,p_is_training : True})\n",
    "                    loss_list.append(loss)\n",
    "                #print('Retrain-iter %d:' % (i + 1), np.array(loss_list).mean())\n",
    "                loss_list_all.append( np.array(loss_list).mean())    \n",
    "            pd.Series(loss_list_all).plot(title=\"Loss\")\n",
    "            n_buf = []\n",
    "                \n",
    "fpr, tpr, thresholds = metrics.roc_curve(y, output, pos_label=0)\n",
    "auc = metrics.auc(fpr, tpr)\n",
    "#print(fpr,tpr,thresholds,auc)\n",
    "plot_roc(fpr,tpr,auc)\n",
    "fig, ax = plt.subplots()\n",
    "fig.set_size_inches(18.5, 5.5)\n",
    "ax.boxplot(box)\n",
    "\n",
    "plt.show()"
   ]
  }
 ],
 "metadata": {
  "kernelspec": {
   "display_name": "Python 3",
   "language": "python",
   "name": "python3"
  },
  "language_info": {
   "codemirror_mode": {
    "name": "ipython",
    "version": 3
   },
   "file_extension": ".py",
   "mimetype": "text/x-python",
   "name": "python",
   "nbconvert_exporter": "python",
   "pygments_lexer": "ipython3",
   "version": "3.6.3"
  }
 },
 "nbformat": 4,
 "nbformat_minor": 2
}
