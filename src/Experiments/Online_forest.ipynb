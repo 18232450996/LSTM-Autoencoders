{
 "cells": [
  {
   "cell_type": "code",
   "execution_count": 1,
   "metadata": {
    "collapsed": true
   },
   "outputs": [],
   "source": [
    "%matplotlib inline\n",
    "import pandas as pd\n",
    "import numpy as np\n",
    "from sklearn.preprocessing import MinMaxScaler\n",
    "import tensorflow as tf\n",
    "import matplotlib.pyplot as plt\n",
    "from sklearn.metrics import confusion_matrix\n",
    "import time\n",
    "from scipy.spatial.distance import mahalanobis,euclidean\n",
    "from sklearn import metrics\n",
    "from scipy.spatial.distance import mahalanobis\n",
    "import heapq"
   ]
  },
  {
   "cell_type": "markdown",
   "metadata": {},
   "source": [
    "# Load data"
   ]
  },
  {
   "cell_type": "code",
   "execution_count": 2,
   "metadata": {},
   "outputs": [],
   "source": [
    "batch_num = 8\n",
    "hidden_num = 45\n",
    "step_num = 20\n",
    "elem_num = 7\n",
    "init_wins = 10000\n",
    "\n",
    "names = [str(x) for x in range(elem_num)] +[\"label\"]\n",
    "forest = pd.read_csv(\"C:/Users/Bin/Desktop/Thesis/dataset/forest.csv\",names=names,skiprows=step_num*init_wins)\n",
    "batches = forest.shape[0]//step_num//batch_num\n",
    "test_set = forest.iloc[:batches*batch_num*step_num,:-1]\n",
    "labels =forest.iloc[:batches*batch_num*step_num,-1]\n",
    "\n",
    "ts = test_set.as_matrix().reshape(batches,batch_num,step_num,elem_num)\n",
    "test_set_list = [ts[a] for a in range(batches)]"
   ]
  },
  {
   "cell_type": "code",
   "execution_count": 3,
   "metadata": {
    "collapsed": true
   },
   "outputs": [],
   "source": [
    "labels[labels!=\"normal\"] = \"anomaly\""
   ]
  },
  {
   "cell_type": "code",
   "execution_count": 4,
   "metadata": {
    "collapsed": true
   },
   "outputs": [],
   "source": [
    "del forest\n",
    "del test_set"
   ]
  },
  {
   "cell_type": "code",
   "execution_count": 5,
   "metadata": {},
   "outputs": [
    {
     "name": "stdout",
     "output_type": "stream",
     "text": [
      "[1674, 1699, 1724, 1773, 1796, 1892, 1986, 2055, 2078, 2101, 2150, 2199, 2225, 2275, 2302, 2357, 2438, 2467, 2559, 2684, 2686, 2711, 2716, 2741, 2744, 2746, 2747, 2772, 2776, 2806, 2835, 2860, 2864, 2891, 2918, 2922, 2946, 2949, 2950, 2976, 2978, 3004, 3027, 3031, 3032, 3058, 3080, 3083, 3084, 3110, 3134, 3135, 3138, 3139, 3158, 3159, 3163, 3164, 3181, 3182, 3183, 3202, 3204, 3205, 3224, 3227, 3228, 3231, 3232, 3247, 3249, 3250, 3268, 3271, 3272, 3276, 3293, 3314, 3315, 3318, 3333, 3334, 3338, 3340, 3341, 3358, 3360, 3363, 3380, 3382, 3384, 3385, 3405, 3407, 3409, 3410, 3412, 3431, 3432, 3434, 3454, 3456, 3457, 3458, 3461, 3479, 3481, 3482, 3483, 3484, 3487, 3506, 3508, 3509, 3511, 3512, 3513, 3530, 3531, 3532, 3533, 3534, 3537, 3555, 3556, 3558, 3559, 3560, 3564, 3581, 3582, 3583, 3585, 3605, 3606, 3608, 3610, 3613, 3631, 3634, 3636, 3660, 3661, 3663, 3688, 3691, 3694, 3713, 3716, 3718, 3719, 3740, 3741, 3743, 3744, 3746, 3751, 3768, 3772, 3774, 3779, 3800, 3803, 3809, 3810, 3829, 3832, 3835, 3838, 3858, 3859, 3861, 3862, 3866, 3884, 3887, 3891, 3896, 3913, 3919, 3920, 3926, 3949, 3953, 3970, 3976, 3978, 3982, 3983, 4003, 4007, 4010, 4013, 4036, 4065, 4067, 4070, 4088, 4090, 4093, 4098, 4117, 4121, 4122, 4125, 4150, 4173, 4178, 4182, 4184, 4206, 4207, 4234, 4235, 4239, 4240, 4263, 4264, 4269, 4293, 4320, 4321, 4322, 4326, 4346, 4356, 4378, 4383, 4406, 4430, 4458, 4462, 4463, 4486, 4507, 4508, 4532, 4536, 4555, 4559, 4579, 4604, 4681, 4702, 4705, 4729, 4750, 4768, 4794, 4797, 4798, 4820, 4821, 4885, 4889, 4926, 4944, 4988, 5002, 5007, 5025, 5027, 5042, 5045, 5086, 5114, 5139, 5286, 5308, 5335, 5360]\n"
     ]
    }
   ],
   "source": [
    "wins = batches * batch_num\n",
    "# figure out anomaly windows\n",
    "buffer = [labels[i*step_num:(i+1)*step_num] for i in range(0,labels.size//step_num)]\n",
    "anomaly_index = []\n",
    "count = 0\n",
    "for buf in buffer:\n",
    "    if \"anomaly\" in buf.tolist():\n",
    "        anomaly_index.append(count)\n",
    "    else:\n",
    "        pass\n",
    "    count +=1\n",
    "print(anomaly_index)\n",
    "\n",
    "expert = [\"normal\"]*wins\n",
    "for x in anomaly_index:\n",
    "    expert[x] = \"anomaly\""
   ]
  },
  {
   "cell_type": "markdown",
   "metadata": {},
   "source": [
    "# Load Model"
   ]
  },
  {
   "cell_type": "code",
   "execution_count": 6,
   "metadata": {},
   "outputs": [
    {
     "name": "stdout",
     "output_type": "stream",
     "text": [
      "INFO:tensorflow:Restoring parameters from C:/Users/Bin/Desktop/Thesis/models/forest_8_45_20/_8_45_20_para.ckpt\n"
     ]
    }
   ],
   "source": [
    "modelpath_root =\"C:/Users/Bin/Desktop/Thesis/models/forest_8_45_20/\"\n",
    "modelmeta_p = modelpath_root + \"_8_45_20_para.ckpt.meta\"\n",
    "\n",
    "sess = tf.Session()\n",
    "saver = tf.train.import_meta_graph(modelmeta_p) # load trained gragh, but without the trained parameters\n",
    "saver.restore(sess,tf.train.latest_checkpoint(modelpath_root))\n",
    "graph = tf.get_default_graph()\n",
    "\n",
    "p_input = graph.get_tensor_by_name(\"p_input:0\")\n",
    "p_inputs = [tf.squeeze(t, [1]) for t in tf.split(p_input, step_num, 1)] \n",
    "p_is_training = graph.get_tensor_by_name(\"is_training_:0\")\n",
    "\n",
    "input_= tf.transpose(tf.stack(p_inputs), [1, 0, 2])    \n",
    "output_ = graph.get_tensor_by_name(\"decoder/output_:0\")\n",
    "\n",
    "tensor_mu = graph.get_tensor_by_name(\"mu:0\")\n",
    "tensor_sigma = graph.get_tensor_by_name(\"sigma:0\")\n",
    "tensor_threshold = graph.get_tensor_by_name(\"threshold:0\")\n",
    "\n",
    "loss_ = graph.get_tensor_by_name(\"decoder/loss:0\")\n",
    "train_ = graph.get_operation_by_name(\"cond/train_\")\n",
    "\n",
    "mu = sess.run(tensor_mu)\n",
    "sigma = sess.run(tensor_sigma)\n",
    "threshold = sess.run(tensor_threshold)"
   ]
  },
  {
   "cell_type": "code",
   "execution_count": 7,
   "metadata": {},
   "outputs": [
    {
     "name": "stdout",
     "output_type": "stream",
     "text": [
      "(7,) (7, 7) 0.00636554\n"
     ]
    }
   ],
   "source": [
    "print(mu.shape,sigma.shape,threshold)"
   ]
  },
  {
   "cell_type": "markdown",
   "metadata": {},
   "source": [
    "# Online Phase (With expert)"
   ]
  },
  {
   "cell_type": "code",
   "execution_count": 8,
   "metadata": {
    "collapsed": true
   },
   "outputs": [],
   "source": [
    "def local_preprocessing(batchdata):\n",
    "    # input batchdata with shape : [batch_num, step_num, elem_num]\n",
    "    # minmax scaler on window level\n",
    "    df = pd.DataFrame()\n",
    "    \n",
    "    for window in batchdata:\n",
    "        \n",
    "        scaler = MinMaxScaler()\n",
    "        scaler.fit(window)\n",
    "        new_win = scaler.transform(window)\n",
    "        df = pd.concat((df, pd.DataFrame(new_win)),axis=0) if df.size!=0 else pd.DataFrame(new_win)\n",
    "    return df.as_matrix().reshape(batchdata.shape)\n",
    "\n",
    "    "
   ]
  },
  {
   "cell_type": "code",
   "execution_count": 9,
   "metadata": {
    "collapsed": true
   },
   "outputs": [],
   "source": [
    "def scoring(err,mu,sigma):\n",
    "    \n",
    "    scores = []\n",
    "    for e in err:\n",
    "        scores.append(mahalanobis(e,mu,sigma))\n",
    "\n",
    "    return scores"
   ]
  },
  {
   "cell_type": "code",
   "execution_count": 10,
   "metadata": {
    "collapsed": true
   },
   "outputs": [],
   "source": [
    "def get_musigma(err_nbuf,mu,sigma):       \n",
    "    \n",
    "        err_vec_array = np.array(err_nbuf)\n",
    "        # for multivariate  data\n",
    "        mu = np.mean(err_vec_array,axis=0)\n",
    "        sigma = np.cov(err_vec_array.T)\n",
    "        return mu, sigma"
   ]
  },
  {
   "cell_type": "code",
   "execution_count": 11,
   "metadata": {
    "collapsed": true
   },
   "outputs": [],
   "source": [
    "def get_threshold(normal_score, abnormal_score):\n",
    "        upper = np.median(np.array(abnormal_score))\n",
    "        lower = np.median(np.array(normal_score)) \n",
    "        scala = 20\n",
    "        delta = (upper-lower) / scala\n",
    "        candidate = lower\n",
    "        threshold = 0\n",
    "        result = 0\n",
    "\n",
    "        def evaluate(threshold,normal_score,abnormal_score):\n",
    "\n",
    "            beta = 0.5\n",
    "            tp = np.array(abnormal_score)[np.array(abnormal_score)>threshold].size\n",
    "            fp = len(abnormal_score)-tp\n",
    "            fn = np.array(normal_score)[np.array(normal_score)>threshold].size\n",
    "            tn = len(normal_score)- fn\n",
    "\n",
    "            if tp == 0: return 0\n",
    "\n",
    "            P = tp/(tp+fp)\n",
    "            R = tp/(tp+fn)\n",
    "            fbeta= (1+beta*beta)*P*R/(beta*beta*P+R)\n",
    "            return fbeta \n",
    "\n",
    "        for _ in range(scala):\n",
    "            r = evaluate(candidate,normal_score,abnormal_score)\n",
    "            if r > result:\n",
    "                result = r \n",
    "                threshold = candidate\n",
    "            candidate += delta \n",
    "        return threshold"
   ]
  },
  {
   "cell_type": "code",
   "execution_count": 12,
   "metadata": {
    "collapsed": true
   },
   "outputs": [],
   "source": [
    "def plot_roc(fpr,tpr,auc):\n",
    "    plt.figure()\n",
    "    lw = 2\n",
    "    plt.plot(fpr, tpr, color='darkorange',\n",
    "             lw=lw, label='ROC curve (area = %0.2f)' %auc)\n",
    "    plt.plot([0, 1], [0, 1], color='navy', lw=lw, linestyle='--')\n",
    "    plt.xlim([0.0, 1.0])\n",
    "    plt.ylim([0.0, 1.05])\n",
    "    plt.xlabel('False Positive Rate')\n",
    "    plt.ylabel('True Positive Rate')\n",
    "    plt.title('Receiver operating characteristic example')\n",
    "    plt.legend(loc=\"lower right\")\n",
    "    plt.show()"
   ]
  },
  {
   "cell_type": "code",
   "execution_count": 30,
   "metadata": {},
   "outputs": [
    {
     "name": "stderr",
     "output_type": "stream",
     "text": [
      "C:\\ProgramData\\Anaconda3\\lib\\site-packages\\sklearn\\utils\\validation.py:475: DataConversionWarning: Data with input dtype int64 was converted to float64 by MinMaxScaler.\n",
      "  warnings.warn(msg, DataConversionWarning)\n"
     ]
    },
    {
     "ename": "IndexError",
     "evalue": "list index out of range",
     "output_type": "error",
     "traceback": [
      "\u001b[1;31m---------------------------------------------------------------------------\u001b[0m",
      "\u001b[1;31mIndexError\u001b[0m                                Traceback (most recent call last)",
      "\u001b[1;32m<ipython-input-30-b706f5d52383>\u001b[0m in \u001b[0;36m<module>\u001b[1;34m()\u001b[0m\n\u001b[0;32m     43\u001b[0m                 \u001b[1;32melse\u001b[0m\u001b[1;33m:\u001b[0m\u001b[1;33m\u001b[0m\u001b[0m\n\u001b[0;32m     44\u001b[0m                     \u001b[1;31m#print(\"FP\")\u001b[0m\u001b[1;33m\u001b[0m\u001b[1;33m\u001b[0m\u001b[0m\n\u001b[1;32m---> 45\u001b[1;33m                     \u001b[0merr_nbuf\u001b[0m\u001b[1;33m.\u001b[0m\u001b[0mappend\u001b[0m\u001b[1;33m(\u001b[0m\u001b[0me\u001b[0m\u001b[1;33m[\u001b[0m\u001b[0mindex\u001b[0m\u001b[1;33m]\u001b[0m\u001b[1;33m)\u001b[0m\u001b[1;33m\u001b[0m\u001b[0m\n\u001b[0m\u001b[0;32m     46\u001b[0m                     \u001b[1;31m#err_nbuf = err_nbuf + e[index] if len(err_nbuf) != 0 else e[index]\u001b[0m\u001b[1;33m\u001b[0m\u001b[1;33m\u001b[0m\u001b[0m\n\u001b[0;32m     47\u001b[0m                     \u001b[0mn_buf\u001b[0m\u001b[1;33m.\u001b[0m\u001b[0mappend\u001b[0m\u001b[1;33m(\u001b[0m\u001b[0mdf\u001b[0m\u001b[1;33m[\u001b[0m\u001b[0mindex\u001b[0m\u001b[1;33m]\u001b[0m\u001b[1;33m)\u001b[0m\u001b[1;33m\u001b[0m\u001b[0m\n",
      "\u001b[1;31mIndexError\u001b[0m: list index out of range"
     ]
    }
   ],
   "source": [
    "count = 0\n",
    "n_buf = []\n",
    "a_buf = []\n",
    "\n",
    "y = []\n",
    "output=[]\n",
    "box = []\n",
    "err_nbuf = []\n",
    "err_abuf = []\n",
    "all_scores = []\n",
    "\n",
    "for l in labels:\n",
    "    if l == \"normal\":\n",
    "        y +=[0]\n",
    "    else: \n",
    "        y +=[1]\n",
    "for data in test_set_list:\n",
    "    \n",
    "        prediction = []\n",
    "        df = local_preprocessing(data)\n",
    "        (input_n, output_n) = sess.run([input_, output_], {p_input: df, p_is_training: False})\n",
    "\n",
    "        err = abs(input_n-output_n).reshape(-1,elem_num)\n",
    "        \n",
    "        box.append(err.reshape(-1,))\n",
    "        \n",
    "        scores = scoring(err,mu,sigma)\n",
    "        scores = pd.Series(scores)\n",
    "        \n",
    "        all_scores.append(scores)\n",
    "        output +=  [np.array(heapq.nlargest(10,scores)).mean()]\n",
    "#        output += [scores.max()]\n",
    "        pred = [scores[b*step_num:(b+1)*step_num] for b in range(batch_num)]\n",
    "        label = [expert[count*batch_num+b]for b in range(batch_num)]\n",
    "        e = [err.reshape(-1,elem_num)]\n",
    "        for index,value in enumerate(pred):\n",
    "            if value[value>threshold].size>=5: \n",
    "                if label[index] == \"anomaly\":\n",
    "                    #print(\"TP\")                 \n",
    "                    a_buf.append(df[index])\n",
    "                    err_abuf.append(e[index])\n",
    "                    #err_abuf = err_abuf + e[index] if len(err_abuf) != 0 else e[index]\n",
    "                else:\n",
    "                    #print(\"FP\")\n",
    "                    err_nbuf.append(e[index])\n",
    "                    #err_nbuf = err_nbuf + e[index] if len(err_nbuf) != 0 else e[index]\n",
    "                    n_buf.append(df[index])\n",
    "            else:               \n",
    "                if label[index] == \"anomaly\":             \n",
    "                    #print(\"FN\")\n",
    "                    a_buf.append(df[index])\n",
    "                    err_abuf.append(e[index])\n",
    "                    #err_abuf = err_abuf + e[index] if len(err_abuf) != 0 else e[index]\n",
    "                else:\n",
    "                    err_nbuf.append(e[index])\n",
    "                    #err_nbuf = err_nbuf + e[index] if len(err_nbuf) != 0 else e[index]\n",
    "                    #print(\"TN\")\n",
    "        count +=1\n",
    "        \n",
    "\n",
    "        if count in [2000,5300]:\n",
    "#        if len(n_buf)>=1000 and len(a_buf)>=20:\n",
    "            print(\"retrain at %d batch\"%count)\n",
    "            loss_list_all=[]\n",
    "\n",
    "            datalist = np.array(n_buf[:6]).reshape(-1,batch_num,step_num,elem_num)\n",
    "            validation_list_n = np.array(n_buf[6:]).reshape(-1,batch_num,step_num,elem_num)\n",
    "            validation_list_a = np.array(a_buf).reshape(-1,batch_num,step_num,elem_num)\n",
    "            \n",
    "            for i in range(50):\n",
    "                \n",
    "                loss_list=[]\n",
    "                for data in datalist:\n",
    "                    (loss, _) = sess.run([loss_, train_], {p_input: data,p_is_training : True})\n",
    "                    loss_list.append(loss)\n",
    "                #print('Retrain-iter %d:' % (i + 1), np.array(loss_list).mean())\n",
    "                loss_list_all.append( np.array(loss_list).mean()) \n",
    "            \n",
    "\n",
    "            err_nbuf_tmp = np.array(err_nbuf).reshape(-1,elem_num)\n",
    "            mu,sigma = get_musigma(err_nbuf_tmp,mu,sigma)\n",
    "\n",
    "            normal_score = []\n",
    "            abnormal_score = []\n",
    "            \n",
    "            for val in validation_list_n:\n",
    "                (ein,aus) = sess.run([input_,output_], {p_input: val,p_is_training :False})\n",
    "                \n",
    "                err = abs(ein-aus).reshape(-1,elem_num)\n",
    "        \n",
    "                normal_score +=scoring(err,mu,sigma)\n",
    "            \n",
    "            for val_a in validation_list_a:\n",
    "                (ein,aus) = sess.run([input_,output_], {p_input: val_a,p_is_training :False})\n",
    "                \n",
    "                err = abs(ein-aus).reshape(-1,elem_num)\n",
    "        \n",
    "                abnormal_score +=scoring(err,mu,sigma)\n",
    "            \n",
    "            threshold = get_threshold(normal_score, abnormal_score)\n",
    "        \n",
    "            print(\"Parameters updated!\")\n",
    "            pd.Series(loss_list_all).plot(title=\"Loss\")\n",
    "            n_buf = []\n",
    "            a_buf = []\n",
    "            err_buf = []\n",
    "                \n",
    "fpr, tpr, thresholds = metrics.roc_curve(expert, output, pos_label=\"anomaly\")\n",
    "auc = metrics.auc(fpr, tpr)\n",
    "#print(fpr,tpr,thresholds,auc)\n",
    "plot_roc(fpr,tpr,auc)\n",
    "\n",
    "plt.show()"
   ]
  },
  {
   "cell_type": "code",
   "execution_count": 32,
   "metadata": {},
   "outputs": [
    {
     "name": "stdout",
     "output_type": "stream",
     "text": [
      "0\n"
     ]
    },
    {
     "name": "stderr",
     "output_type": "stream",
     "text": [
      "C:\\ProgramData\\Anaconda3\\lib\\site-packages\\sklearn\\utils\\validation.py:475: DataConversionWarning: Data with input dtype int64 was converted to float64 by MinMaxScaler.\n",
      "  warnings.warn(msg, DataConversionWarning)\n"
     ]
    },
    {
     "name": "stdout",
     "output_type": "stream",
     "text": [
      "100\n",
      "200\n",
      "300\n",
      "400\n",
      "500\n",
      "600\n",
      "700\n",
      "800\n",
      "900\n",
      "1000\n",
      "1100\n",
      "1200\n",
      "1300\n",
      "1400\n",
      "1500\n",
      "1600\n",
      "1700\n",
      "1800\n",
      "1900\n",
      "retrain at 2000 batch\n",
      "0\n",
      "1\n",
      "2\n",
      "3\n",
      "4\n",
      "5\n",
      "6\n",
      "7\n",
      "8\n",
      "9\n",
      "10\n",
      "11\n",
      "12\n",
      "13\n",
      "14\n",
      "15\n",
      "16\n",
      "17\n",
      "18\n",
      "19\n",
      "20\n",
      "21\n",
      "22\n",
      "23\n",
      "24\n",
      "25\n",
      "26\n",
      "27\n",
      "28\n",
      "29\n",
      "Parameters updated! new threshold 0.006\n",
      "2000\n",
      "2100\n",
      "2200\n",
      "2300\n"
     ]
    },
    {
     "data": {
      "image/png": "[encoded data removed]",
      "text/plain": [
       "<matplotlib.figure.Figure at 0x25d8b523f98>"
      ]
     },
     "metadata": {},
     "output_type": "display_data"
    },
    {
     "data": {
      "image/png": "[encoded data removed]",
      "text/plain": [
       "<matplotlib.figure.Figure at 0x25d8b4e2940>"
      ]
     },
     "metadata": {},
     "output_type": "display_data"
    }
   ],
   "source": [
    "count = 0\n",
    "n_buf = []\n",
    "a_buf = []\n",
    "\n",
    "y = []\n",
    "output=[]\n",
    "err_nbuf = []\n",
    "err_abuf = []\n",
    "all_scores = []\n",
    "\n",
    "\n",
    "for l in labels:\n",
    "    if l == \"normal\":\n",
    "        y +=[0]\n",
    "    else: \n",
    "        y +=[1]\n",
    "for data in test_set_list:\n",
    "        if count % 100 == 0:\n",
    "            print(count)\n",
    "            \n",
    "        prediction = []\n",
    "        df = local_preprocessing(data)\n",
    "        (input_n, output_n) = sess.run([input_, output_], {p_input: df, p_is_training: False})\n",
    "\n",
    "        err = abs(input_n-output_n).reshape(-1,elem_num)\n",
    "        \n",
    "  \n",
    "        scores = scoring(err,mu,sigma) # (8*30,)\n",
    "        #scores = pd.Series(scores)\n",
    "        \n",
    "        all_scores.append(scores)\n",
    "#        output +=  [np.array(heapq.nlargest(10,ss)).mean() for ss in scores.as_matrix().reshape(batch_num,step_num)]\n",
    "        output += [ss.max() for ss in np.array(scores).reshape(batch_num,step_num)]\n",
    "        pred = [scores[b*step_num:(b+1)*step_num] for b in range(batch_num)]  # (8,30)\n",
    "        \n",
    "        label = [expert[count*batch_num+b] for b in range(batch_num)]\n",
    "        e = err\n",
    "        \n",
    "#       for index,value in enumerate(pd.DataFrame(pred)):\n",
    "        for i in range(pd.DataFrame(pred).shape[0]):#loop batch_num\n",
    "            index = i\n",
    "            value=pd.DataFrame(pred).iloc[i,:]\n",
    "            \n",
    "            if value[value>threshold].size>=5: \n",
    "                if label[index] == \"anomaly\":\n",
    "                    #print(\"TP\")                 \n",
    "                    a_buf += [df[index,x,:] for x in range(step_num)]\n",
    "                    #err_abuf.append(e[index*step_num:(index+1)*step_num])\n",
    "                    err_abuf = np.concatenate((err_abuf , e[index*step_num:(index+1)*step_num]),axis=0) if len(err_abuf) != 0 else e[index*step_num:(index+1)*step_num]\n",
    "                else:\n",
    "                    #print(\"FP\")\n",
    "                    #err_nbuf.append(e[index])\n",
    "                    err_nbuf =np.concatenate((err_nbuf , e[index*step_num:(index+1)*step_num]),axis=0) if len(err_nbuf) != 0 else e[index*step_num:(index+1)*step_num]\n",
    "                    \n",
    "                    n_buf += [df[index,x,:] for x in range(step_num)]\n",
    "            else:               \n",
    "                if label[index] == \"anomaly\":             \n",
    "                    #print(\"FN\")\n",
    "                    a_buf += [df[index,x,:] for x in range(step_num)]\n",
    "                    #err_abuf.append(e[index])\n",
    "                    err_abuf = np.concatenate((err_abuf , e[index*step_num:(index+1)*step_num]),axis=0) if len(err_abuf) != 0 else e[index*step_num:(index+1)*step_num]\n",
    "                else:\n",
    "                    \n",
    "                    #err_nbuf.append(e[index])\n",
    "                    err_nbuf = np.concatenate((err_nbuf , e[index*step_num:(index+1)*step_num]),axis=0) if len(err_nbuf) != 0 else e[index*step_num:(index+1)*step_num]\n",
    "                    #print(\"TN\")\n",
    "        count +=1\n",
    "        \n",
    "        \n",
    "        #n_buf = list(np.concatenate(n_buf,axis=0)) if len(n_buf) != 0 else list(n_buf)\n",
    "        #a_buf = list(np.concatenate(a_buf,axis=0)) if len(a_buf) != 0 else list(a_buf)\n",
    "        if count in [2000,5300]:\n",
    "#        if len(n_buf)>=batch_num*step_num*50000000 and len(a_buf) !=0:\n",
    "            while (len(a_buf) < batch_num*step_num):\n",
    "                a_buf += a_buf\n",
    "            \n",
    "            B = len(n_buf) //(batch_num*step_num)\n",
    "            n_buf = n_buf[:batch_num*step_num*B]\n",
    "            A = len(a_buf)//(batch_num*step_num)\n",
    "            a_buf = a_buf[:batch_num*step_num*A]\n",
    "            \n",
    "            print(\"retrain at %d batch\"%count)\n",
    "            loss_list_all=[]\n",
    "\n",
    "            #datalist = np.array(n_buf).reshape(-1,batch_num,step_num,elem_num)\n",
    "            datalist = np.array(n_buf[:batch_num*step_num*(B-1)]).reshape(-1,batch_num,step_num,elem_num)\n",
    "            validation_list_n = np.array(n_buf[batch_num*step_num*(B-1):]).reshape(-1,batch_num,step_num,elem_num)\n",
    "            validation_list_a = np.array(a_buf).reshape(-1,batch_num,step_num,elem_num)\n",
    "            \n",
    "            for i in range(30):\n",
    "                print(i)\n",
    "                loss_list=[]\n",
    "                for data in datalist:\n",
    "                    (loss, _) = sess.run([loss_, train_], {p_input: data,p_is_training : True})\n",
    "                    loss_list.append(loss)\n",
    "                #print('Retrain-iter %d:' % (i + 1), np.array(loss_list).mean())\n",
    "                loss_list_all.append( np.array(loss_list).mean()) \n",
    "            \n",
    "            err_nbuf_tmp = np.array(err_nbuf).reshape(-1,elem_num)\n",
    "            mu,sigma = get_musigma(err_nbuf_tmp,mu,sigma)\n",
    "\n",
    "      \n",
    "\n",
    "            print(\"Parameters updated! new threshold %.3f\"%threshold)\n",
    "            pd.Series(loss_list_all).plot(title=\"Loss\")\n",
    "            n_buf = []\n",
    "            a_buf = []\n",
    "            err_buf = []\n",
    "            err_nbuf = []\n",
    "            err_abuf = []\n",
    "                \n",
    "fpr, tpr, thresholds = metrics.roc_curve(expert, output, pos_label=\"anomaly\")\n",
    "auc = metrics.auc(fpr, tpr)\n",
    "#print(fpr,tpr,thresholds,auc)\n",
    "plot_roc(fpr,tpr,auc)\n",
    "\n",
    "plt.show()"
   ]
  },
  {
   "cell_type": "code",
   "execution_count": 33,
   "metadata": {},
   "outputs": [
    {
     "data": {
      "text/plain": [
       "<matplotlib.axes._subplots.AxesSubplot at 0x25d83ff2c50>"
      ]
     },
     "execution_count": 33,
     "metadata": {},
     "output_type": "execute_result"
    },
    {
     "data": {
      "image/png": "[encoded data removed]",
      "text/plain": [
       "<matplotlib.figure.Figure at 0x25d83fe1898>"
      ]
     },
     "metadata": {},
     "output_type": "display_data"
    }
   ],
   "source": [
    "pd.Series(output).plot()\n",
    "pd.Series(output)[anomaly_index].plot()"
   ]
  },
  {
   "cell_type": "markdown",
   "metadata": {},
   "source": [
    "# Without retraining"
   ]
  },
  {
   "cell_type": "code",
   "execution_count": 13,
   "metadata": {},
   "outputs": [
    {
     "name": "stderr",
     "output_type": "stream",
     "text": [
      "C:\\ProgramData\\Anaconda3\\lib\\site-packages\\sklearn\\utils\\validation.py:475: DataConversionWarning: Data with input dtype int64 was converted to float64 by MinMaxScaler.\n",
      "  warnings.warn(msg, DataConversionWarning)\n"
     ]
    },
    {
     "ename": "IndexError",
     "evalue": "list index out of range",
     "output_type": "error",
     "traceback": [
      "\u001b[1;31m---------------------------------------------------------------------------\u001b[0m",
      "\u001b[1;31mIndexError\u001b[0m                                Traceback (most recent call last)",
      "\u001b[1;32m<ipython-input-13-01438b944950>\u001b[0m in \u001b[0;36m<module>\u001b[1;34m()\u001b[0m\n\u001b[0;32m     53\u001b[0m                     \u001b[1;31m#err_abuf = err_abuf + e[index] if len(err_abuf) != 0 else e[index]\u001b[0m\u001b[1;33m\u001b[0m\u001b[1;33m\u001b[0m\u001b[0m\n\u001b[0;32m     54\u001b[0m                 \u001b[1;32melse\u001b[0m\u001b[1;33m:\u001b[0m\u001b[1;33m\u001b[0m\u001b[0m\n\u001b[1;32m---> 55\u001b[1;33m                     \u001b[0merr_nbuf\u001b[0m\u001b[1;33m.\u001b[0m\u001b[0mappend\u001b[0m\u001b[1;33m(\u001b[0m\u001b[0me\u001b[0m\u001b[1;33m[\u001b[0m\u001b[0mindex\u001b[0m\u001b[1;33m]\u001b[0m\u001b[1;33m)\u001b[0m\u001b[1;33m\u001b[0m\u001b[0m\n\u001b[0m\u001b[0;32m     56\u001b[0m                     \u001b[1;31m#err_nbuf = err_nbuf + e[index] if len(err_nbuf) != 0 else e[index]\u001b[0m\u001b[1;33m\u001b[0m\u001b[1;33m\u001b[0m\u001b[0m\n\u001b[0;32m     57\u001b[0m                     \u001b[1;31m#print(\"TN\")\u001b[0m\u001b[1;33m\u001b[0m\u001b[1;33m\u001b[0m\u001b[0m\n",
      "\u001b[1;31mIndexError\u001b[0m: list index out of range"
     ]
    }
   ],
   "source": [
    "count = 0\n",
    "n_buf = []\n",
    "a_buf = []\n",
    "\n",
    "y = []\n",
    "output=[]\n",
    "box = []\n",
    "err_nbuf = []\n",
    "err_abuf = []\n",
    "all_scores = []\n",
    "\n",
    "for l in labels:\n",
    "    if l == \"normal\":\n",
    "        y +=[0]\n",
    "    else: \n",
    "        y +=[1]\n",
    "for data in test_set_list:\n",
    "    \n",
    "        prediction = []\n",
    "        df = local_preprocessing(data)\n",
    "        (input_n, output_n) = sess.run([input_, output_], {p_input: df, p_is_training: False})\n",
    "\n",
    "        err = abs(input_n-output_n).reshape(-1,elem_num)\n",
    "        \n",
    "        box.append(err.reshape(-1,))\n",
    "        \n",
    "        scores = scoring(err,mu,sigma)\n",
    "        scores = pd.Series(scores)\n",
    "        \n",
    "        all_scores.append(scores)\n",
    "        output +=  [np.array(heapq.nlargest(10,scores)).mean()]\n",
    "#        output += [scores.max()]\n",
    "        pred = [scores[b*step_num:(b+1)*step_num] for b in range(batch_num)]\n",
    "        label = [expert[count*batch_num+b]for b in range(batch_num)]\n",
    "        e = [err.reshape(-1,elem_num)]\n",
    "        for index,value in enumerate(pred):\n",
    "            if value[value>threshold].size>=20: \n",
    "                if label[index] == \"anomaly\":\n",
    "                    #print(\"TP\")                 \n",
    "                    a_buf.append(df[index])\n",
    "                    err_abuf.append(e[index])\n",
    "                    #err_abuf = err_abuf + e[index] if len(err_abuf) != 0 else e[index]\n",
    "                else:\n",
    "                    #print(\"FP\")\n",
    "                    err_nbuf.append(e[index])\n",
    "                    #err_nbuf = err_nbuf + e[index] if len(err_nbuf) != 0 else e[index]\n",
    "                    n_buf.append(df[index])\n",
    "            else:               \n",
    "                if label[index] == \"anomaly\":             \n",
    "                    #print(\"FN\")\n",
    "                    a_buf.append(df[index])\n",
    "                    err_abuf.append(e[index])\n",
    "                    #err_abuf = err_abuf + e[index] if len(err_abuf) != 0 else e[index]\n",
    "                else:\n",
    "                    err_nbuf.append(e[index])\n",
    "                    #err_nbuf = err_nbuf + e[index] if len(err_nbuf) != 0 else e[index]\n",
    "                    #print(\"TN\")\n",
    "        count +=1\n",
    "        \n",
    "\n",
    "fpr, tpr, thresholds = metrics.roc_curve(expert, output, pos_label=\"anomaly\")\n",
    "auc = metrics.auc(fpr, tpr)\n",
    "#print(fpr,tpr,thresholds,auc)\n",
    "plot_roc(fpr,tpr,auc)\n",
    "\n",
    "plt.show()"
   ]
  },
  {
   "cell_type": "code",
   "execution_count": 41,
   "metadata": {
    "collapsed": true
   },
   "outputs": [],
   "source": [
    "foo = pd.Series(np.array(output).ravel())"
   ]
  },
  {
   "cell_type": "code",
   "execution_count": 42,
   "metadata": {
    "collapsed": true
   },
   "outputs": [],
   "source": [
    "bar = pd.Series(expert)"
   ]
  },
  {
   "cell_type": "code",
   "execution_count": 43,
   "metadata": {},
   "outputs": [
    {
     "data": {
      "text/plain": [
       "(271,)"
      ]
     },
     "execution_count": 43,
     "metadata": {},
     "output_type": "execute_result"
    }
   ],
   "source": [
    "bar[bar!=\"normal\"].shape"
   ]
  },
  {
   "cell_type": "code",
   "execution_count": 44,
   "metadata": {},
   "outputs": [
    {
     "data": {
      "text/plain": [
       "0.06917340944129498"
      ]
     },
     "execution_count": 44,
     "metadata": {},
     "output_type": "execute_result"
    }
   ],
   "source": [
    "foo[bar==\"normal\"].mean()"
   ]
  },
  {
   "cell_type": "code",
   "execution_count": 45,
   "metadata": {},
   "outputs": [
    {
     "data": {
      "text/plain": [
       "0.0876076409210934"
      ]
     },
     "execution_count": 45,
     "metadata": {},
     "output_type": "execute_result"
    }
   ],
   "source": [
    "foo[bar!=\"normal\"].mean()"
   ]
  },
  {
   "cell_type": "code",
   "execution_count": 46,
   "metadata": {},
   "outputs": [
    {
     "name": "stderr",
     "output_type": "stream",
     "text": [
      "C:\\ProgramData\\Anaconda3\\lib\\site-packages\\numpy\\core\\fromnumeric.py:57: FutureWarning: reshape is deprecated and will raise in a subsequent release. Please use .values.reshape(...) instead\n",
      "  return getattr(obj, method)(*args, **kwds)\n"
     ]
    },
    {
     "data": {
      "image/png": "[encoded data removed]",
      "text/plain": [
       "<matplotlib.figure.Figure at 0x1f2f98f29e8>"
      ]
     },
     "metadata": {},
     "output_type": "display_data"
    }
   ],
   "source": [
    "fig, ax = plt.subplots()\n",
    "fig.set_size_inches(18.5, 5.5)\n",
    "ax.boxplot([foo[bar==\"normal\"],foo[bar!=\"normal\"]])\n",
    "\n",
    "plt.show()"
   ]
  },
  {
   "cell_type": "code",
   "execution_count": 47,
   "metadata": {},
   "outputs": [
    {
     "ename": "TypeError",
     "evalue": "Empty 'DataFrame': no numeric data to plot",
     "output_type": "error",
     "traceback": [
      "\u001b[1;31m---------------------------------------------------------------------------\u001b[0m",
      "\u001b[1;31mTypeError\u001b[0m                                 Traceback (most recent call last)",
      "\u001b[1;32m<ipython-input-47-b2557e241eb1>\u001b[0m in \u001b[0;36m<module>\u001b[1;34m()\u001b[0m\n\u001b[1;32m----> 1\u001b[1;33m \u001b[0mbar\u001b[0m\u001b[1;33m.\u001b[0m\u001b[0mplot\u001b[0m\u001b[1;33m(\u001b[0m\u001b[1;33m)\u001b[0m\u001b[1;33m\u001b[0m\u001b[0m\n\u001b[0m",
      "\u001b[1;32mC:\\ProgramData\\Anaconda3\\lib\\site-packages\\pandas\\plotting\\_core.py\u001b[0m in \u001b[0;36m__call__\u001b[1;34m(self, kind, ax, figsize, use_index, title, grid, legend, style, logx, logy, loglog, xticks, yticks, xlim, ylim, rot, fontsize, colormap, table, yerr, xerr, label, secondary_y, **kwds)\u001b[0m\n\u001b[0;32m   2451\u001b[0m                            \u001b[0mcolormap\u001b[0m\u001b[1;33m=\u001b[0m\u001b[0mcolormap\u001b[0m\u001b[1;33m,\u001b[0m \u001b[0mtable\u001b[0m\u001b[1;33m=\u001b[0m\u001b[0mtable\u001b[0m\u001b[1;33m,\u001b[0m \u001b[0myerr\u001b[0m\u001b[1;33m=\u001b[0m\u001b[0myerr\u001b[0m\u001b[1;33m,\u001b[0m\u001b[1;33m\u001b[0m\u001b[0m\n\u001b[0;32m   2452\u001b[0m                            \u001b[0mxerr\u001b[0m\u001b[1;33m=\u001b[0m\u001b[0mxerr\u001b[0m\u001b[1;33m,\u001b[0m \u001b[0mlabel\u001b[0m\u001b[1;33m=\u001b[0m\u001b[0mlabel\u001b[0m\u001b[1;33m,\u001b[0m \u001b[0msecondary_y\u001b[0m\u001b[1;33m=\u001b[0m\u001b[0msecondary_y\u001b[0m\u001b[1;33m,\u001b[0m\u001b[1;33m\u001b[0m\u001b[0m\n\u001b[1;32m-> 2453\u001b[1;33m                            **kwds)\n\u001b[0m\u001b[0;32m   2454\u001b[0m     \u001b[0m__call__\u001b[0m\u001b[1;33m.\u001b[0m\u001b[0m__doc__\u001b[0m \u001b[1;33m=\u001b[0m \u001b[0mplot_series\u001b[0m\u001b[1;33m.\u001b[0m\u001b[0m__doc__\u001b[0m\u001b[1;33m\u001b[0m\u001b[0m\n\u001b[0;32m   2455\u001b[0m \u001b[1;33m\u001b[0m\u001b[0m\n",
      "\u001b[1;32mC:\\ProgramData\\Anaconda3\\lib\\site-packages\\pandas\\plotting\\_core.py\u001b[0m in \u001b[0;36mplot_series\u001b[1;34m(data, kind, ax, figsize, use_index, title, grid, legend, style, logx, logy, loglog, xticks, yticks, xlim, ylim, rot, fontsize, colormap, table, yerr, xerr, label, secondary_y, **kwds)\u001b[0m\n\u001b[0;32m   1892\u001b[0m                  \u001b[0myerr\u001b[0m\u001b[1;33m=\u001b[0m\u001b[0myerr\u001b[0m\u001b[1;33m,\u001b[0m \u001b[0mxerr\u001b[0m\u001b[1;33m=\u001b[0m\u001b[0mxerr\u001b[0m\u001b[1;33m,\u001b[0m\u001b[1;33m\u001b[0m\u001b[0m\n\u001b[0;32m   1893\u001b[0m                  \u001b[0mlabel\u001b[0m\u001b[1;33m=\u001b[0m\u001b[0mlabel\u001b[0m\u001b[1;33m,\u001b[0m \u001b[0msecondary_y\u001b[0m\u001b[1;33m=\u001b[0m\u001b[0msecondary_y\u001b[0m\u001b[1;33m,\u001b[0m\u001b[1;33m\u001b[0m\u001b[0m\n\u001b[1;32m-> 1894\u001b[1;33m                  **kwds)\n\u001b[0m\u001b[0;32m   1895\u001b[0m \u001b[1;33m\u001b[0m\u001b[0m\n\u001b[0;32m   1896\u001b[0m \u001b[1;33m\u001b[0m\u001b[0m\n",
      "\u001b[1;32mC:\\ProgramData\\Anaconda3\\lib\\site-packages\\pandas\\plotting\\_core.py\u001b[0m in \u001b[0;36m_plot\u001b[1;34m(data, x, y, subplots, ax, kind, **kwds)\u001b[0m\n\u001b[0;32m   1692\u001b[0m         \u001b[0mplot_obj\u001b[0m \u001b[1;33m=\u001b[0m \u001b[0mklass\u001b[0m\u001b[1;33m(\u001b[0m\u001b[0mdata\u001b[0m\u001b[1;33m,\u001b[0m \u001b[0msubplots\u001b[0m\u001b[1;33m=\u001b[0m\u001b[0msubplots\u001b[0m\u001b[1;33m,\u001b[0m \u001b[0max\u001b[0m\u001b[1;33m=\u001b[0m\u001b[0max\u001b[0m\u001b[1;33m,\u001b[0m \u001b[0mkind\u001b[0m\u001b[1;33m=\u001b[0m\u001b[0mkind\u001b[0m\u001b[1;33m,\u001b[0m \u001b[1;33m**\u001b[0m\u001b[0mkwds\u001b[0m\u001b[1;33m)\u001b[0m\u001b[1;33m\u001b[0m\u001b[0m\n\u001b[0;32m   1693\u001b[0m \u001b[1;33m\u001b[0m\u001b[0m\n\u001b[1;32m-> 1694\u001b[1;33m     \u001b[0mplot_obj\u001b[0m\u001b[1;33m.\u001b[0m\u001b[0mgenerate\u001b[0m\u001b[1;33m(\u001b[0m\u001b[1;33m)\u001b[0m\u001b[1;33m\u001b[0m\u001b[0m\n\u001b[0m\u001b[0;32m   1695\u001b[0m     \u001b[0mplot_obj\u001b[0m\u001b[1;33m.\u001b[0m\u001b[0mdraw\u001b[0m\u001b[1;33m(\u001b[0m\u001b[1;33m)\u001b[0m\u001b[1;33m\u001b[0m\u001b[0m\n\u001b[0;32m   1696\u001b[0m     \u001b[1;32mreturn\u001b[0m \u001b[0mplot_obj\u001b[0m\u001b[1;33m.\u001b[0m\u001b[0mresult\u001b[0m\u001b[1;33m\u001b[0m\u001b[0m\n",
      "\u001b[1;32mC:\\ProgramData\\Anaconda3\\lib\\site-packages\\pandas\\plotting\\_core.py\u001b[0m in \u001b[0;36mgenerate\u001b[1;34m(self)\u001b[0m\n\u001b[0;32m    241\u001b[0m     \u001b[1;32mdef\u001b[0m \u001b[0mgenerate\u001b[0m\u001b[1;33m(\u001b[0m\u001b[0mself\u001b[0m\u001b[1;33m)\u001b[0m\u001b[1;33m:\u001b[0m\u001b[1;33m\u001b[0m\u001b[0m\n\u001b[0;32m    242\u001b[0m         \u001b[0mself\u001b[0m\u001b[1;33m.\u001b[0m\u001b[0m_args_adjust\u001b[0m\u001b[1;33m(\u001b[0m\u001b[1;33m)\u001b[0m\u001b[1;33m\u001b[0m\u001b[0m\n\u001b[1;32m--> 243\u001b[1;33m         \u001b[0mself\u001b[0m\u001b[1;33m.\u001b[0m\u001b[0m_compute_plot_data\u001b[0m\u001b[1;33m(\u001b[0m\u001b[1;33m)\u001b[0m\u001b[1;33m\u001b[0m\u001b[0m\n\u001b[0m\u001b[0;32m    244\u001b[0m         \u001b[0mself\u001b[0m\u001b[1;33m.\u001b[0m\u001b[0m_setup_subplots\u001b[0m\u001b[1;33m(\u001b[0m\u001b[1;33m)\u001b[0m\u001b[1;33m\u001b[0m\u001b[0m\n\u001b[0;32m    245\u001b[0m         \u001b[0mself\u001b[0m\u001b[1;33m.\u001b[0m\u001b[0m_make_plot\u001b[0m\u001b[1;33m(\u001b[0m\u001b[1;33m)\u001b[0m\u001b[1;33m\u001b[0m\u001b[0m\n",
      "\u001b[1;32mC:\\ProgramData\\Anaconda3\\lib\\site-packages\\pandas\\plotting\\_core.py\u001b[0m in \u001b[0;36m_compute_plot_data\u001b[1;34m(self)\u001b[0m\n\u001b[0;32m    350\u001b[0m         \u001b[1;32mif\u001b[0m \u001b[0mis_empty\u001b[0m\u001b[1;33m:\u001b[0m\u001b[1;33m\u001b[0m\u001b[0m\n\u001b[0;32m    351\u001b[0m             raise TypeError('Empty {0!r}: no numeric data to '\n\u001b[1;32m--> 352\u001b[1;33m                             'plot'.format(numeric_data.__class__.__name__))\n\u001b[0m\u001b[0;32m    353\u001b[0m \u001b[1;33m\u001b[0m\u001b[0m\n\u001b[0;32m    354\u001b[0m         \u001b[0mself\u001b[0m\u001b[1;33m.\u001b[0m\u001b[0mdata\u001b[0m \u001b[1;33m=\u001b[0m \u001b[0mnumeric_data\u001b[0m\u001b[1;33m\u001b[0m\u001b[0m\n",
      "\u001b[1;31mTypeError\u001b[0m: Empty 'DataFrame': no numeric data to plot"
     ]
    }
   ],
   "source": [
    "bar.plot()"
   ]
  },
  {
   "cell_type": "code",
   "execution_count": 62,
   "metadata": {},
   "outputs": [
    {
     "data": {
      "text/plain": [
       "<matplotlib.axes._subplots.AxesSubplot at 0x1f2807492e8>"
      ]
     },
     "execution_count": 62,
     "metadata": {},
     "output_type": "execute_result"
    },
    {
     "data": {
      "image/png": "[encoded data removed]",
      "text/plain": [
       "<matplotlib.figure.Figure at 0x1f280b7dc18>"
      ]
     },
     "metadata": {},
     "output_type": "display_data"
    }
   ],
   "source": [
    "foo.plot(figsize=(20,5))"
   ]
  },
  {
   "cell_type": "code",
   "execution_count": 55,
   "metadata": {},
   "outputs": [
    {
     "data": {
      "text/plain": [
       "array(['normal', 'abnormal'], dtype=object)"
      ]
     },
     "execution_count": 55,
     "metadata": {},
     "output_type": "execute_result"
    }
   ],
   "source": [
    "forest.iloc[:,-1].unique()"
   ]
  },
  {
   "cell_type": "code",
   "execution_count": 57,
   "metadata": {
    "collapsed": true
   },
   "outputs": [],
   "source": [
    "forest_test = pd.read_csv(\"C:/Users/Bin/Documents/Datasets/forest cover/covtype.data\",header=None)"
   ]
  },
  {
   "cell_type": "code",
   "execution_count": 61,
   "metadata": {},
   "outputs": [
    {
     "data": {
      "text/plain": [
       "<matplotlib.axes._subplots.AxesSubplot at 0x1f2804cdf98>"
      ]
     },
     "execution_count": 61,
     "metadata": {},
     "output_type": "execute_result"
    },
    {
     "data": {
      "image/png": "[encoded data removed]",
      "text/plain": [
       "<matplotlib.figure.Figure at 0x1f28613def0>"
      ]
     },
     "metadata": {},
     "output_type": "display_data"
    }
   ],
   "source": [
    "forest_test.iloc[:,-1].plot()"
   ]
  },
  {
   "cell_type": "code",
   "execution_count": null,
   "metadata": {
    "collapsed": true
   },
   "outputs": [],
   "source": []
  }
 ],
 "metadata": {
  "kernelspec": {
   "display_name": "Python 3",
   "language": "python",
   "name": "python3"
  },
  "language_info": {
   "codemirror_mode": {
    "name": "ipython",
    "version": 3
   },
   "file_extension": ".py",
   "mimetype": "text/x-python",
   "name": "python",
   "nbconvert_exporter": "python",
   "pygments_lexer": "ipython3",
   "version": "3.6.3"
  }
 },
 "nbformat": 4,
 "nbformat_minor": 2
}
