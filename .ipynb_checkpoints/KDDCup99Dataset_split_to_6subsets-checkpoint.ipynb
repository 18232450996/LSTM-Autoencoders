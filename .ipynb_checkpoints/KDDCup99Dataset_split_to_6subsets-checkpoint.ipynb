{
 "cells": [
  {
   "cell_type": "code",
   "execution_count": 2,
   "metadata": {
    "collapsed": true
   },
   "outputs": [],
   "source": [
    "%matplotlib inline\n",
    "import pandas as pd\n",
    "import numpy as np"
   ]
  },
  {
   "cell_type": "code",
   "execution_count": 3,
   "metadata": {
    "collapsed": true
   },
   "outputs": [],
   "source": [
    "# column names, is_guest_login & dis_host_login & logged_in & land & flag & service & protocol_type\n",
    "with open(\"C:/Users/Bin/Documents/Datasets/KDD99/columns.txt\") as col_file:\n",
    "    line = col_file.readline()\n",
    "#line = line.replace('.',',')\n",
    "columns = line.split('.')\n",
    "col_names = []\n",
    "col_types = []\n",
    "for col in columns:\n",
    "    col_names.append(col.split(': ')[0].strip())\n",
    "    col_types.append(col.split(': ')[1])\n",
    "col_names.append(\"label\")"
   ]
  },
  {
   "cell_type": "code",
   "execution_count": 4,
   "metadata": {
    "collapsed": true
   },
   "outputs": [],
   "source": [
    "#import 10% collection samples\n",
    "df = pd.read_csv(\"C:/Users/Bin/Documents/Datasets/KDD99/kddcup.data_10_percent_corrected\",names=col_names)"
   ]
  },
  {
   "cell_type": "code",
   "execution_count": 5,
   "metadata": {
    "collapsed": true
   },
   "outputs": [],
   "source": [
    "continuous = df.iloc[:,np.array(pd.Series(col_types)==\"continuous\")]\n",
    "label = df.iloc[:,-1]\n"
   ]
  },
  {
   "cell_type": "code",
   "execution_count": 6,
   "metadata": {
    "collapsed": true
   },
   "outputs": [],
   "source": [
    "from sklearn.preprocessing import MinMaxScaler\n",
    "scaler = MinMaxScaler()\n",
    "scaler.fit(continuous)\n",
    "cont = scaler.transform(continuous)"
   ]
  },
  {
   "cell_type": "code",
   "execution_count": 7,
   "metadata": {
    "collapsed": true
   },
   "outputs": [],
   "source": [
    "cont = pd.DataFrame(cont)\n",
    "cont.columns = continuous.columns.values\n"
   ]
  },
  {
   "cell_type": "code",
   "execution_count": 57,
   "metadata": {
    "collapsed": true
   },
   "outputs": [],
   "source": [
    "data = pd.concat((cont,label),axis=1)"
   ]
  },
  {
   "cell_type": "code",
   "execution_count": 58,
   "metadata": {},
   "outputs": [],
   "source": [
    "normal = data[(data.label==\"smurf.\") | (label==\"normal.\")].iloc[:,:-1]\n",
    "anomaly = data[(data.label!=\"smurf.\") & (label!=\"normal.\")].iloc[:,:-1]\n",
    "del data"
   ]
  },
  {
   "cell_type": "code",
   "execution_count": 59,
   "metadata": {
    "collapsed": true
   },
   "outputs": [],
   "source": [
    "x = normal.shape[0]\n",
    "sn = normal[:x//2]\n",
    "vn1 = normal[x//2:(x//2)+(x//6)]\n",
    "vn2 = normal[(x//2)+(x//6):(x//2)+(x//3)]\n",
    "tn = normal[(x//2)+(x//3):]"
   ]
  },
  {
   "cell_type": "code",
   "execution_count": 64,
   "metadata": {},
   "outputs": [],
   "source": [
    "y = anomaly.shape[0]\n",
    "va = anomaly[:y//4]\n",
    "ta = anomaly[y//4:]"
   ]
  },
  {
   "cell_type": "code",
   "execution_count": 71,
   "metadata": {},
   "outputs": [],
   "source": [
    "sn.to_csv(\"C:/Users/Bin/Documents/Datasets/KDD99/6_subsets_smurf/training_normal.csv\",index=None,header=None)\n",
    "vn1.to_csv(\"C:/Users/Bin/Documents/Datasets/KDD99/6_subsets_smurf/validation_1.csv.csv\",index=None,header=None)\n",
    "vn2.to_csv(\"C:/Users/Bin/Documents/Datasets/KDD99/6_subsets_smurf/validation_2.csv.csv\",index=None,header=None)\n",
    "tn.to_csv(\"C:/Users/Bin/Documents/Datasets/KDD99/6_subsets_smurf/test_normal.csv\",index=None,header=None)\n",
    "va.to_csv(\"C:/Users/Bin/Documents/Datasets/KDD99/6_subsets_smurf/validation_anomaly.csv\",index=None,header=None)\n",
    "ta.to_csv(\"C:/Users/Bin/Documents/Datasets/KDD99/6_subsets_smurf/test_anomaly.csv\",index=None,header=None)"
   ]
  },
  {
   "cell_type": "code",
   "execution_count": null,
   "metadata": {
    "collapsed": true
   },
   "outputs": [],
   "source": []
  }
 ],
 "metadata": {
  "kernelspec": {
   "display_name": "Python 3",
   "language": "python",
   "name": "python3"
  },
  "language_info": {
   "codemirror_mode": {
    "name": "ipython",
    "version": 3
   },
   "file_extension": ".py",
   "mimetype": "text/x-python",
   "name": "python",
   "nbconvert_exporter": "python",
   "pygments_lexer": "ipython3",
   "version": "3.6.3"
  }
 },
 "nbformat": 4,
 "nbformat_minor": 2
}
