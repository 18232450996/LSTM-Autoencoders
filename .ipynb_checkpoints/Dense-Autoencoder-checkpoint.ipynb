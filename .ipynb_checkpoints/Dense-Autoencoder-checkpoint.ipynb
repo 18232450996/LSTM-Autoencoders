{
 "cells": [
  {
   "cell_type": "code",
   "execution_count": 28,
   "metadata": {
    "collapsed": true
   },
   "outputs": [],
   "source": [
    "%matplotlib inline\n",
    "import pandas as pd\n",
    "from sklearn.preprocessing import MinMaxScaler\n",
    "import numpy as np\n",
    "from datetime import datetime"
   ]
  },
  {
   "cell_type": "markdown",
   "metadata": {},
   "source": [
    "# Load (10%)KDD99 dataset (only numeric features)"
   ]
  },
  {
   "cell_type": "code",
   "execution_count": 2,
   "metadata": {
    "collapsed": true
   },
   "outputs": [],
   "source": [
    "with open(\"C:/Users/Bin/Documents/Datasets/KDD99/columns.txt\") as col_file:\n",
    "    line = col_file.readline()\n",
    "\n",
    "columns = line.split('.')\n",
    "col_names = []\n",
    "col_types = []\n",
    "for col in columns:\n",
    "    col_names.append(col.split(': ')[0].strip())\n",
    "    col_types.append(col.split(': ')[1])\n",
    "col_names.append(\"label\")\n",
    "\n",
    "df = pd.read_csv(\"C:/Users/Bin/Documents/Datasets/KDD99/kddcup.data_10_percent_corrected\",names=col_names)\n",
    "\n",
    "data = df.iloc[:,np.array(pd.Series(col_types)==\"continuous\")].as_matrix()\n",
    "label = df.iloc[:,-1]"
   ]
  },
  {
   "cell_type": "markdown",
   "metadata": {},
   "source": [
    "# Scaling dataset to [0,1]"
   ]
  },
  {
   "cell_type": "code",
   "execution_count": 3,
   "metadata": {
    "collapsed": true
   },
   "outputs": [],
   "source": [
    "from sklearn.preprocessing import MinMaxScaler\n",
    "scaler = MinMaxScaler()\n",
    "scaler.fit(data)\n",
    "dataset = scaler.transform(data)\n",
    "del data"
   ]
  },
  {
   "cell_type": "code",
   "execution_count": 4,
   "metadata": {},
   "outputs": [
    {
     "data": {
      "text/plain": [
       "(494021, 34)"
      ]
     },
     "execution_count": 4,
     "metadata": {},
     "output_type": "execute_result"
    }
   ],
   "source": [
    "dataset.shape"
   ]
  },
  {
   "cell_type": "code",
   "execution_count": 6,
   "metadata": {},
   "outputs": [
    {
     "name": "stderr",
     "output_type": "stream",
     "text": [
      "Using TensorFlow backend.\n"
     ]
    }
   ],
   "source": [
    "from keras.layers import Input, Dense\n",
    "from keras.models import Model\n",
    "\n",
    "\n",
    "encoding_dim =10\n",
    "input_dim = dataset.shape[1]\n",
    "input_vec = Input(shape=(input_dim,))\n",
    "\n",
    "encoded = Dense(encoding_dim, activation='relu')(input_vec)\n",
    "\n",
    "encoder = Model(input_vec, encoded)\n",
    "decoded = Dense(input_dim, activation='sigmoid')(encoded)\n",
    "autoencoder = Model(input_vec, decoded)\n"
   ]
  },
  {
   "cell_type": "code",
   "execution_count": 7,
   "metadata": {
    "collapsed": true
   },
   "outputs": [],
   "source": [
    "autoencoder.compile(optimizer='adadelta', loss='mean_squared_error')"
   ]
  },
  {
   "cell_type": "code",
   "execution_count": 29,
   "metadata": {},
   "outputs": [
    {
     "name": "stdout",
     "output_type": "stream",
     "text": [
      "Trianing autoencoder...\n",
      "Train on 330994 samples, validate on 163027 samples\n",
      "Epoch 1/100\n",
      "330994/330994 [==============================] - 5s 16us/step - loss: 2.7046e-04 - val_loss: 8.7404e-04\n",
      "Epoch 2/100\n",
      "330994/330994 [==============================] - 5s 15us/step - loss: 2.6983e-04 - val_loss: 8.6769e-04\n",
      "Epoch 3/100\n",
      "330994/330994 [==============================] - 5s 15us/step - loss: 2.6922e-04 - val_loss: 8.6446e-04\n",
      "Epoch 4/100\n",
      "330994/330994 [==============================] - 5s 15us/step - loss: 2.6862e-04 - val_loss: 8.5993e-04\n",
      "Epoch 5/100\n",
      "330994/330994 [==============================] - 5s 15us/step - loss: 2.6802e-04 - val_loss: 8.5420e-04\n",
      "Epoch 6/100\n",
      "330994/330994 [==============================] - 5s 16us/step - loss: 2.6742e-04 - val_loss: 8.5321e-04\n",
      "Epoch 7/100\n",
      "330994/330994 [==============================] - 5s 16us/step - loss: 2.6682e-04 - val_loss: 8.5008e-04\n",
      "Epoch 8/100\n",
      "330994/330994 [==============================] - 5s 15us/step - loss: 2.6622e-04 - val_loss: 8.4655e-04\n",
      "Epoch 9/100\n",
      "330994/330994 [==============================] - 5s 15us/step - loss: 2.6562e-04 - val_loss: 8.4120e-04\n",
      "Epoch 10/100\n",
      "330994/330994 [==============================] - 5s 15us/step - loss: 2.6502e-04 - val_loss: 8.3618e-04\n",
      "Epoch 11/100\n",
      "330994/330994 [==============================] - 5s 15us/step - loss: 2.6444e-04 - val_loss: 8.3533e-04\n",
      "Epoch 12/100\n",
      "330994/330994 [==============================] - 5s 16us/step - loss: 2.6386e-04 - val_loss: 8.3582e-04\n",
      "Epoch 13/100\n",
      "330994/330994 [==============================] - 5s 15us/step - loss: 2.6328e-04 - val_loss: 8.3007e-04\n",
      "Epoch 14/100\n",
      "330994/330994 [==============================] - 5s 14us/step - loss: 2.6270e-04 - val_loss: 8.2091e-04\n",
      "Epoch 15/100\n",
      "330994/330994 [==============================] - 5s 15us/step - loss: 2.6214e-04 - val_loss: 8.2203e-04\n",
      "Epoch 16/100\n",
      "330994/330994 [==============================] - 5s 15us/step - loss: 2.6157e-04 - val_loss: 8.1633e-04\n",
      "Epoch 17/100\n",
      "330994/330994 [==============================] - 5s 15us/step - loss: 2.6101e-04 - val_loss: 8.1766e-04\n",
      "Epoch 18/100\n",
      "330994/330994 [==============================] - 5s 15us/step - loss: 2.6045e-04 - val_loss: 8.1510e-04\n",
      "Epoch 19/100\n",
      "330994/330994 [==============================] - 5s 16us/step - loss: 2.5989e-04 - val_loss: 8.1103e-04\n",
      "Epoch 20/100\n",
      "330994/330994 [==============================] - 5s 16us/step - loss: 2.5934e-04 - val_loss: 8.1161e-04\n",
      "Epoch 21/100\n",
      "330994/330994 [==============================] - 5s 16us/step - loss: 2.5879e-04 - val_loss: 8.0509e-04\n",
      "Epoch 22/100\n",
      "330994/330994 [==============================] - 5s 16us/step - loss: 2.5825e-04 - val_loss: 8.0098e-04\n",
      "Epoch 23/100\n",
      "330994/330994 [==============================] - 5s 14us/step - loss: 2.5770e-04 - val_loss: 8.0043e-04\n",
      "Epoch 24/100\n",
      "330994/330994 [==============================] - 5s 15us/step - loss: 2.5717e-04 - val_loss: 7.9677e-04\n",
      "Epoch 25/100\n",
      "330994/330994 [==============================] - 5s 14us/step - loss: 2.5664e-04 - val_loss: 7.9922e-04\n",
      "Epoch 26/100\n",
      "330994/330994 [==============================] - 5s 15us/step - loss: 2.5612e-04 - val_loss: 7.9655e-04\n",
      "Epoch 27/100\n",
      "330994/330994 [==============================] - 5s 15us/step - loss: 2.5558e-04 - val_loss: 7.8843e-04\n",
      "Epoch 28/100\n",
      "330994/330994 [==============================] - 5s 15us/step - loss: 2.5507e-04 - val_loss: 7.9068e-04\n",
      "Epoch 29/100\n",
      "330994/330994 [==============================] - 5s 15us/step - loss: 2.5454e-04 - val_loss: 7.9009e-04\n",
      "Epoch 30/100\n",
      "330994/330994 [==============================] - 5s 15us/step - loss: 2.5403e-04 - val_loss: 7.8408e-04\n",
      "Epoch 31/100\n",
      "330994/330994 [==============================] - 5s 16us/step - loss: 2.5353e-04 - val_loss: 7.8166e-04\n",
      "Epoch 32/100\n",
      "330994/330994 [==============================] - 5s 15us/step - loss: 2.5302e-04 - val_loss: 7.8117e-04\n",
      "Epoch 33/100\n",
      "330994/330994 [==============================] - 5s 15us/step - loss: 2.5252e-04 - val_loss: 7.7670e-04\n",
      "Epoch 34/100\n",
      "330994/330994 [==============================] - 5s 15us/step - loss: 2.5203e-04 - val_loss: 7.7536e-04\n",
      "Epoch 35/100\n",
      "330994/330994 [==============================] - 5s 15us/step - loss: 2.5153e-04 - val_loss: 7.7204e-04\n",
      "Epoch 36/100\n",
      "330994/330994 [==============================] - 5s 15us/step - loss: 2.5104e-04 - val_loss: 7.7172e-04\n",
      "Epoch 37/100\n",
      "330994/330994 [==============================] - 5s 15us/step - loss: 2.5055e-04 - val_loss: 7.7152e-04\n",
      "Epoch 38/100\n",
      "330994/330994 [==============================] - 5s 15us/step - loss: 2.5008e-04 - val_loss: 7.6799e-04\n",
      "Epoch 39/100\n",
      "330994/330994 [==============================] - 5s 15us/step - loss: 2.4958e-04 - val_loss: 7.7111e-04\n",
      "Epoch 40/100\n",
      "330994/330994 [==============================] - 5s 15us/step - loss: 2.4912e-04 - val_loss: 7.6749e-04\n",
      "Epoch 41/100\n",
      "330994/330994 [==============================] - 5s 15us/step - loss: 2.4865e-04 - val_loss: 7.6091e-04\n",
      "Epoch 42/100\n",
      "330994/330994 [==============================] - 5s 15us/step - loss: 2.4818e-04 - val_loss: 7.6357e-04\n",
      "Epoch 43/100\n",
      "330994/330994 [==============================] - 5s 15us/step - loss: 2.4770e-04 - val_loss: 7.6052e-04\n",
      "Epoch 44/100\n",
      "330994/330994 [==============================] - 5s 15us/step - loss: 2.4723e-04 - val_loss: 7.6077e-04\n",
      "Epoch 45/100\n",
      "330994/330994 [==============================] - 5s 15us/step - loss: 2.4675e-04 - val_loss: 7.5741e-04\n",
      "Epoch 46/100\n",
      "330994/330994 [==============================] - 5s 15us/step - loss: 2.4627e-04 - val_loss: 7.5644e-04\n",
      "Epoch 47/100\n",
      "330994/330994 [==============================] - 5s 15us/step - loss: 2.4577e-04 - val_loss: 7.5498e-04\n",
      "Epoch 48/100\n",
      "330994/330994 [==============================] - 5s 15us/step - loss: 2.4525e-04 - val_loss: 7.5067e-04\n",
      "Epoch 49/100\n",
      "330994/330994 [==============================] - 5s 15us/step - loss: 2.4471e-04 - val_loss: 7.5093e-04\n",
      "Epoch 50/100\n",
      "330994/330994 [==============================] - 5s 16us/step - loss: 2.4412e-04 - val_loss: 7.4583e-04\n",
      "Epoch 51/100\n",
      "330994/330994 [==============================] - 5s 15us/step - loss: 2.4344e-04 - val_loss: 7.4373e-04\n",
      "Epoch 52/100\n",
      "330994/330994 [==============================] - 5s 14us/step - loss: 2.4257e-04 - val_loss: 7.4027e-04\n",
      "Epoch 53/100\n",
      "330994/330994 [==============================] - 5s 14us/step - loss: 2.4141e-04 - val_loss: 7.3713e-04\n",
      "Epoch 54/100\n",
      "330994/330994 [==============================] - 5s 14us/step - loss: 2.3993e-04 - val_loss: 7.2858e-04\n",
      "Epoch 55/100\n",
      "330994/330994 [==============================] - 6s 17us/step - loss: 2.3870e-04 - val_loss: 7.2542e-04\n",
      "Epoch 56/100\n",
      "330994/330994 [==============================] - 6s 17us/step - loss: 2.3791e-04 - val_loss: 7.2041e-04\n",
      "Epoch 57/100\n",
      "330994/330994 [==============================] - 5s 15us/step - loss: 2.3724e-04 - val_loss: 7.1825e-04\n",
      "Epoch 58/100\n",
      "330994/330994 [==============================] - 5s 15us/step - loss: 2.3667e-04 - val_loss: 7.1590e-04\n",
      "Epoch 59/100\n",
      "330994/330994 [==============================] - 5s 15us/step - loss: 2.3617e-04 - val_loss: 7.1491e-04\n",
      "Epoch 60/100\n",
      "330994/330994 [==============================] - 5s 15us/step - loss: 2.3572e-04 - val_loss: 7.1427e-04\n",
      "Epoch 61/100\n",
      "330994/330994 [==============================] - 5s 15us/step - loss: 2.3528e-04 - val_loss: 7.1014e-04\n",
      "Epoch 62/100\n",
      "330994/330994 [==============================] - 5s 15us/step - loss: 2.3485e-04 - val_loss: 7.1212e-04\n",
      "Epoch 63/100\n",
      "330994/330994 [==============================] - 5s 15us/step - loss: 2.3445e-04 - val_loss: 7.0869e-04\n",
      "Epoch 64/100\n",
      "330994/330994 [==============================] - 5s 15us/step - loss: 2.3405e-04 - val_loss: 7.0560e-04\n",
      "Epoch 65/100\n",
      "330994/330994 [==============================] - 5s 15us/step - loss: 2.3365e-04 - val_loss: 7.0568e-04\n",
      "Epoch 66/100\n",
      "330994/330994 [==============================] - 5s 15us/step - loss: 2.3327e-04 - val_loss: 7.0187e-04\n",
      "Epoch 67/100\n",
      "330994/330994 [==============================] - 5s 15us/step - loss: 2.3288e-04 - val_loss: 7.0096e-04\n",
      "Epoch 68/100\n",
      "330994/330994 [==============================] - 5s 15us/step - loss: 2.3251e-04 - val_loss: 7.0071e-04\n",
      "Epoch 69/100\n",
      "330994/330994 [==============================] - 5s 15us/step - loss: 2.3215e-04 - val_loss: 7.0222e-04\n",
      "Epoch 70/100\n"
     ]
    },
    {
     "name": "stdout",
     "output_type": "stream",
     "text": [
      "330994/330994 [==============================] - 5s 14us/step - loss: 2.3180e-04 - val_loss: 6.9807e-04\n",
      "Epoch 71/100\n",
      "330994/330994 [==============================] - 5s 14us/step - loss: 2.3146e-04 - val_loss: 6.9617e-04\n",
      "Epoch 72/100\n",
      "330994/330994 [==============================] - 5s 14us/step - loss: 2.3113e-04 - val_loss: 6.9681e-04\n",
      "Epoch 73/100\n",
      "330994/330994 [==============================] - 5s 14us/step - loss: 2.3079e-04 - val_loss: 6.9418e-04\n",
      "Epoch 74/100\n",
      "330994/330994 [==============================] - 5s 14us/step - loss: 2.3046e-04 - val_loss: 6.9205e-04\n",
      "Epoch 75/100\n",
      "330994/330994 [==============================] - 5s 14us/step - loss: 2.3015e-04 - val_loss: 6.9009e-04\n",
      "Epoch 76/100\n",
      "330994/330994 [==============================] - 5s 16us/step - loss: 2.2982e-04 - val_loss: 6.8853e-04\n",
      "Epoch 77/100\n",
      "330994/330994 [==============================] - 6s 17us/step - loss: 2.2950e-04 - val_loss: 6.8803e-04\n",
      "Epoch 78/100\n",
      "330994/330994 [==============================] - 5s 14us/step - loss: 2.2919e-04 - val_loss: 6.8584e-04\n",
      "Epoch 79/100\n",
      "330994/330994 [==============================] - 5s 14us/step - loss: 2.2889e-04 - val_loss: 6.8820e-04\n",
      "Epoch 80/100\n",
      "330994/330994 [==============================] - 5s 14us/step - loss: 2.2858e-04 - val_loss: 6.8794e-04\n",
      "Epoch 81/100\n",
      "330994/330994 [==============================] - 5s 14us/step - loss: 2.2828e-04 - val_loss: 6.8417e-04\n",
      "Epoch 82/100\n",
      "330994/330994 [==============================] - 5s 16us/step - loss: 2.2797e-04 - val_loss: 6.8619e-04\n",
      "Epoch 83/100\n",
      "330994/330994 [==============================] - 5s 14us/step - loss: 2.2768e-04 - val_loss: 6.8841e-04\n",
      "Epoch 84/100\n",
      "330994/330994 [==============================] - 5s 14us/step - loss: 2.2739e-04 - val_loss: 6.8588e-04\n",
      "Epoch 85/100\n",
      "330994/330994 [==============================] - 5s 14us/step - loss: 2.2711e-04 - val_loss: 6.8373e-04\n",
      "Epoch 86/100\n",
      "330994/330994 [==============================] - 5s 14us/step - loss: 2.2682e-04 - val_loss: 6.8393e-04\n",
      "Epoch 87/100\n",
      "330994/330994 [==============================] - 5s 14us/step - loss: 2.2655e-04 - val_loss: 6.8664e-04\n",
      "Epoch 88/100\n",
      "330994/330994 [==============================] - 5s 14us/step - loss: 2.2630e-04 - val_loss: 6.8266e-04\n",
      "Epoch 89/100\n",
      "330994/330994 [==============================] - 5s 14us/step - loss: 2.2602e-04 - val_loss: 6.8389e-04\n",
      "Epoch 90/100\n",
      "330994/330994 [==============================] - 5s 14us/step - loss: 2.2577e-04 - val_loss: 6.7990e-04\n",
      "Epoch 91/100\n",
      "330994/330994 [==============================] - 5s 14us/step - loss: 2.2551e-04 - val_loss: 6.8066e-04\n",
      "Epoch 92/100\n",
      "330994/330994 [==============================] - 5s 14us/step - loss: 2.2527e-04 - val_loss: 6.8272e-04\n",
      "Epoch 93/100\n",
      "330994/330994 [==============================] - 5s 14us/step - loss: 2.2502e-04 - val_loss: 6.8080e-04\n",
      "Epoch 94/100\n",
      "330994/330994 [==============================] - 5s 16us/step - loss: 2.2479e-04 - val_loss: 6.8284e-04\n",
      "Epoch 95/100\n",
      "330994/330994 [==============================] - 5s 16us/step - loss: 2.2454e-04 - val_loss: 6.7534e-04\n",
      "Epoch 96/100\n",
      "330994/330994 [==============================] - 5s 17us/step - loss: 2.2432e-04 - val_loss: 6.7628e-04\n",
      "Epoch 97/100\n",
      "330994/330994 [==============================] - 5s 15us/step - loss: 2.2408e-04 - val_loss: 6.8155e-04\n",
      "Epoch 98/100\n",
      "330994/330994 [==============================] - 5s 14us/step - loss: 2.2386e-04 - val_loss: 6.8306e-04\n",
      "Epoch 99/100\n",
      "330994/330994 [==============================] - 5s 15us/step - loss: 2.2364e-04 - val_loss: 6.7839e-04\n",
      "Epoch 100/100\n",
      "330994/330994 [==============================] - 5s 14us/step - loss: 2.2342e-04 - val_loss: 6.7927e-04\n",
      "time used of training autoencoder:  0:08:15.099840 s\n"
     ]
    }
   ],
   "source": [
    "print(\"Trianing autoencoder...\")\n",
    "dt1 = datetime.now()\n",
    "history = autoencoder.fit(dataset, dataset,\n",
    "                epochs=100,\n",
    "                batch_size=100,\n",
    "                validation_split=0.33)\n",
    "dt2 = datetime.now()\n",
    "print(\"time used of training autoencoder: \",(dt2-dt1),\"s\")"
   ]
  },
  {
   "cell_type": "code",
   "execution_count": 17,
   "metadata": {},
   "outputs": [
    {
     "data": {
      "image/png": "[encoded data removed]",
      "text/plain": [
       "<matplotlib.figure.Figure at 0x1e252759278>"
      ]
     },
     "metadata": {},
     "output_type": "display_data"
    }
   ],
   "source": [
    "import matplotlib.pyplot as plt\n",
    "plt.plot(history.history[\"loss\"])\n",
    "plt.plot(history.history[\"val_loss\"])\n",
    "plt.title('model loss')\n",
    "plt.ylabel('loss')\n",
    "plt.xlabel('epoch')\n",
    "plt.legend(['train', 'test'], loc='upper left')\n",
    "plt.show()"
   ]
  },
  {
   "cell_type": "code",
   "execution_count": 31,
   "metadata": {},
   "outputs": [
    {
     "name": "stdout",
     "output_type": "stream",
     "text": [
      "Encoding...\n",
      "time used for encoding:  0:00:04.250576 s\n"
     ]
    }
   ],
   "source": [
    "print(\"Encoding...\")\n",
    "dt1 = datetime.now()\n",
    "encoded_dataset = encoder.predict(dataset)\n",
    "dt2 = datetime.now()\n",
    "print(\"time used for encoding: \",(dt2-dt1),\"s\")"
   ]
  },
  {
   "cell_type": "code",
   "execution_count": 21,
   "metadata": {
    "collapsed": true
   },
   "outputs": [],
   "source": [
    "def train_test_split(dataset,label):\n",
    "    train_size = int(len(dataset) * 0.67)\n",
    "    test_size = len(dataset) - train_size\n",
    "    train, test = dataset[0:train_size,:], dataset[train_size:len(dataset),:]\n",
    "    y_train, y_test = label[0:train_size],label[train_size:len(dataset)]\n",
    "    # label str2int\n",
    "    with open(\"C:/Users/Bin/Documents/Datasets/KDD99/classes.txt\") as f:\n",
    "        line = f.readline()\n",
    "    classes = line.split(\",\")\n",
    "    class_dic = {classes[i]:i for i in range(len(classes))}\n",
    "    y_train_num = [class_dic[x.strip('.')] for x in y_train]\n",
    "    y_test_num = [class_dic[x.strip('.')] for x in y_test]\n",
    "    return train,test,y_train_num,y_test_num\n",
    "xe_train, xe_test, ye_train,ye_test =  train_test_split(encoded_dataset,label)"
   ]
  },
  {
   "cell_type": "code",
   "execution_count": 22,
   "metadata": {},
   "outputs": [
    {
     "name": "stdout",
     "output_type": "stream",
     "text": [
      "Trianing SVM classifier with encoded dataset...\n",
      "time used of training on encoded dataset:  0:00:21.306493 s\n"
     ]
    }
   ],
   "source": [
    "from sklearn import svm\n",
    "\n",
    "\n",
    "print(\"Trianing SVM classifier with encoded dataset...\")\n",
    "dt3 = datetime.now()\n",
    "clf_e = svm.SVC()\n",
    "clf_e.fit(xe_train,ye_train)\n",
    "dt4 = datetime.now()\n",
    "print(\"time used of training on encoded dataset: \",(dt4-dt3),\"s\")"
   ]
  },
  {
   "cell_type": "code",
   "execution_count": 23,
   "metadata": {},
   "outputs": [
    {
     "name": "stdout",
     "output_type": "stream",
     "text": [
      "Making prediction using encoded dataset...\n",
      "time used of prediction using encoded dataset:  0:00:39.279328 s\n"
     ]
    }
   ],
   "source": [
    "print(\"Making prediction using encoded dataset...\")\n",
    "dt3 = datetime.now()\n",
    "prediction_e = clf_e.predict(xe_test)\n",
    "dt4 = datetime.now()\n",
    "print(\"time used of prediction using encoded dataset: \",(dt4-dt3),\"s\")"
   ]
  },
  {
   "cell_type": "code",
   "execution_count": 26,
   "metadata": {},
   "outputs": [
    {
     "name": "stdout",
     "output_type": "stream",
     "text": [
      "Performance on original dataset\n",
      "\n",
      "             precision    recall  f1-score   support\n",
      "\n",
      "          0    0.04505   0.10000   0.06211       100\n",
      "          1    0.00000   0.00000   0.00000        18\n",
      "          4    0.00000   0.00000   0.00000         0\n",
      "          5    0.94304   0.38701   0.54880       385\n",
      "          6    0.00000   0.00000   0.00000         4\n",
      "          7    0.00000   0.00000   0.00000         1\n",
      "          9    0.99996   0.69028   0.81675     66079\n",
      "         10    0.00000   0.00000   0.00000         0\n",
      "         11    0.98505   0.98653   0.98579     26053\n",
      "         12    0.00000   0.00000   0.00000         1\n",
      "         13    0.00000   0.00000   0.00000         1\n",
      "         14    0.96296   0.16049   0.27513       162\n",
      "         15    0.01767   0.91771   0.03467       401\n",
      "         16    0.00000   0.00000   0.00000         3\n",
      "         17    0.00000   0.00000   0.00000         2\n",
      "         18    0.99955   0.99938   0.99947     69235\n",
      "         20    0.99582   0.40893   0.57978       582\n",
      "         21    0.00000   0.00000   0.00000         0\n",
      "\n",
      "avg / total    0.99403   0.86672   0.91681    163027\n",
      "\n"
     ]
    },
    {
     "name": "stderr",
     "output_type": "stream",
     "text": [
      "C:\\ProgramData\\Anaconda3\\lib\\site-packages\\sklearn\\metrics\\classification.py:1135: UndefinedMetricWarning: Precision and F-score are ill-defined and being set to 0.0 in labels with no predicted samples.\n",
      "  'precision', 'predicted', average, warn_for)\n",
      "C:\\ProgramData\\Anaconda3\\lib\\site-packages\\sklearn\\metrics\\classification.py:1137: UndefinedMetricWarning: Recall and F-score are ill-defined and being set to 0.0 in labels with no true samples.\n",
      "  'recall', 'true', average, warn_for)\n"
     ]
    }
   ],
   "source": [
    "from sklearn.metrics import classification_report\n",
    "# performance using original dataset\n",
    "print(\"Performance on original dataset\\n\")\n",
    "print(classification_report(ye_test, prediction_e,digits=5))"
   ]
  },
  {
   "cell_type": "code",
   "execution_count": 27,
   "metadata": {},
   "outputs": [
    {
     "data": {
      "text/plain": [
       "(494021, 10)"
      ]
     },
     "execution_count": 27,
     "metadata": {},
     "output_type": "execute_result"
    }
   ],
   "source": [
    "encoded_dataset.shape"
   ]
  },
  {
   "cell_type": "code",
   "execution_count": null,
   "metadata": {
    "collapsed": true
   },
   "outputs": [],
   "source": []
  }
 ],
 "metadata": {
  "kernelspec": {
   "display_name": "Python 3",
   "language": "python",
   "name": "python3"
  },
  "language_info": {
   "codemirror_mode": {
    "name": "ipython",
    "version": 3
   },
   "file_extension": ".py",
   "mimetype": "text/x-python",
   "name": "python",
   "nbconvert_exporter": "python",
   "pygments_lexer": "ipython3",
   "version": "3.6.3"
  }
 },
 "nbformat": 4,
 "nbformat_minor": 2
}
