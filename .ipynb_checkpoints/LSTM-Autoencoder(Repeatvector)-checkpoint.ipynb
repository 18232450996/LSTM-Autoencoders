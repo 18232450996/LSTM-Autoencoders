{
 "cells": [
  {
   "cell_type": "code",
   "execution_count": 2,
   "metadata": {},
   "outputs": [
    {
     "name": "stderr",
     "output_type": "stream",
     "text": [
      "Using TensorFlow backend.\n"
     ]
    }
   ],
   "source": [
    "import pandas as pd\n",
    "import numpy as np\n",
    "from keras.layers import Input, LSTM, RepeatVector\n",
    "from keras.models import Model,Sequential\n",
    "import math"
   ]
  },
  {
   "cell_type": "code",
   "execution_count": 3,
   "metadata": {
    "collapsed": true
   },
   "outputs": [],
   "source": [
    "with open(\"C:/Users/Bin/Documents/Datasets/KDD99/columns.txt\") as col_file:\n",
    "    line = col_file.readline()\n",
    "\n",
    "columns = line.split('.')\n",
    "col_names = []\n",
    "col_types = []\n",
    "for col in columns:\n",
    "    col_names.append(col.split(': ')[0].strip())\n",
    "    col_types.append(col.split(': ')[1])\n",
    "col_names.append(\"label\")\n",
    "\n",
    "df = pd.read_csv(\"C:/Users/Bin/Documents/Datasets/KDD99/kddcup.data_10_percent_corrected\",names=col_names)\n",
    "\n",
    "data = df.iloc[:10000,np.array(pd.Series(col_types)==\"continuous\")].as_matrix()"
   ]
  },
  {
   "cell_type": "code",
   "execution_count": 4,
   "metadata": {
    "collapsed": true
   },
   "outputs": [],
   "source": [
    "from sklearn.preprocessing import MinMaxScaler\n",
    "scaler = MinMaxScaler()\n",
    "scaler.fit(data)\n",
    "dataset = scaler.transform(data)"
   ]
  },
  {
   "cell_type": "code",
   "execution_count": 5,
   "metadata": {
    "collapsed": true
   },
   "outputs": [],
   "source": [
    "# LSTM-based autoencoder\n",
    "\n",
    "def reshape(dataset,timesteps):\n",
    "    sample_num = math.floor(dataset.shape[0]/timesteps)\n",
    "    new_dataset = np.reshape(dataset[:sample_num*timesteps],(sample_num,timesteps,dataset.shape[1]))\n",
    "    return new_dataset\n",
    "\n",
    "def lstm_autoencoder_repeatvector(dataset,latent_dim,timesteps,n_epoch,n_batch,\n",
    "                                 optimizer='adadelta',loss='mse'):\n",
    "    input_dim = dataset.shape[1]\n",
    "    inputs = Input(shape=(timesteps,input_dim))\n",
    "    encoded = LSTM(latent_dim)(inputs)\n",
    "    decoded = RepeatVector(timesteps)(encoded)\n",
    "    decoded = LSTM(input_dim,return_sequences=True)(decoded)\n",
    "    autoencoder = Model(inputs,decoded)\n",
    "    encoder = Model(inputs,encoded)\n",
    "    autoencoder.compile(optimizer=optimizer,loss=loss)\n",
    "    \n",
    "    reversed_dataset = np.empty([0,dataset.shape[-1]])\n",
    "    for i in range(int(dataset.shape[0]/timesteps)):\n",
    "        temp = dataset[i*timesteps:i*timesteps+timesteps,:]\n",
    "        temp = temp[::-1,:]\n",
    "        reversed_dataset = np.concatenate((reversed_dataset,temp))\n",
    "    pd.DataFrame(dataset).to_csv(\"foo\")\n",
    "    pd.DataFrame(reversed_dataset).to_csv(\"bar\")\n",
    "    \n",
    "    dataset = reshape(dataset,timesteps)\n",
    "    reversed_dataset = reshape(reversed_dataset,timesteps)\n",
    "    history = autoencoder.fit(dataset,reversed_dataset,\n",
    "                epochs=n_epoch,\n",
    "                batch_size=n_batch,\n",
    "                validation_split=0.33\n",
    "                )\n",
    "    \n",
    "    encoded_dataset = encoder.predict(dataset)\n",
    "    \n",
    "    return encoded_dataset"
   ]
  },
  {
   "cell_type": "code",
   "execution_count": 6,
   "metadata": {},
   "outputs": [
    {
     "name": "stdout",
     "output_type": "stream",
     "text": [
      "Train on 67 samples, validate on 33 samples\n",
      "Epoch 1/10\n",
      "67/67 [==============================] - 1s 22ms/step - loss: 0.1060 - val_loss: 0.1733\n",
      "Epoch 2/10\n",
      "67/67 [==============================] - 0s 4ms/step - loss: 0.1042 - val_loss: 0.1724\n",
      "Epoch 3/10\n",
      "67/67 [==============================] - 0s 4ms/step - loss: 0.1026 - val_loss: 0.1715\n",
      "Epoch 4/10\n",
      "67/67 [==============================] - 0s 3ms/step - loss: 0.1011 - val_loss: 0.1707\n",
      "Epoch 5/10\n",
      "67/67 [==============================] - 0s 3ms/step - loss: 0.0998 - val_loss: 0.1699\n",
      "Epoch 6/10\n",
      "67/67 [==============================] - 0s 4ms/step - loss: 0.0984 - val_loss: 0.1691\n",
      "Epoch 7/10\n",
      "67/67 [==============================] - 0s 3ms/step - loss: 0.0970 - val_loss: 0.1682\n",
      "Epoch 8/10\n",
      "67/67 [==============================] - 0s 4ms/step - loss: 0.0957 - val_loss: 0.1673\n",
      "Epoch 9/10\n",
      "67/67 [==============================] - 0s 3ms/step - loss: 0.0943 - val_loss: 0.1664\n",
      "Epoch 10/10\n",
      "67/67 [==============================] - 0s 3ms/step - loss: 0.0928 - val_loss: 0.1654\n"
     ]
    }
   ],
   "source": [
    "foo = lstm_autoencoder_repeatvector(dataset,5,100,10,30)"
   ]
  },
  {
   "cell_type": "code",
   "execution_count": null,
   "metadata": {
    "collapsed": true
   },
   "outputs": [],
   "source": [
    "#Todo\n",
    "#inverse scaling"
   ]
  },
  {
   "cell_type": "code",
   "execution_count": null,
   "metadata": {
    "collapsed": true
   },
   "outputs": [],
   "source": [
    "#todo\n",
    "#train a classifier to check perfermence"
   ]
  }
 ],
 "metadata": {
  "kernelspec": {
   "display_name": "Python 3",
   "language": "python",
   "name": "python3"
  },
  "language_info": {
   "codemirror_mode": {
    "name": "ipython",
    "version": 3
   },
   "file_extension": ".py",
   "mimetype": "text/x-python",
   "name": "python",
   "nbconvert_exporter": "python",
   "pygments_lexer": "ipython3",
   "version": "3.6.3"
  }
 },
 "nbformat": 4,
 "nbformat_minor": 2
}
