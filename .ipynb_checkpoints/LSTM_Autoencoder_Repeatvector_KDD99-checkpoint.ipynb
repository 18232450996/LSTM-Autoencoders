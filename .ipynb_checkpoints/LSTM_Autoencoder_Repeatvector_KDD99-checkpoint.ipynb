{
 "cells": [
  {
   "cell_type": "code",
   "execution_count": 59,
   "metadata": {},
   "outputs": [],
   "source": [
    "import pandas as pd\n",
    "import numpy as np\n",
    "from keras.layers import Input, LSTM, RepeatVector\n",
    "from keras.models import Model,Sequential\n",
    "import math\n",
    "import matplotlib.pyplot as plt\n",
    "from datetime import datetime"
   ]
  },
  {
   "cell_type": "markdown",
   "metadata": {},
   "source": [
    "# Definition of LSTM_Autoencoder(RepeatVector)"
   ]
  },
  {
   "cell_type": "code",
   "execution_count": 60,
   "metadata": {},
   "outputs": [],
   "source": [
    "class LSTM_Autoencoder_RepeatVector:\n",
    "\n",
    "    def __init__(self, dataset, timesteps, latent_dim, n_epoch,n_batch):\n",
    "        self.dataset = dataset\n",
    "        self.timesteps = timesteps\n",
    "        self.latent_dim = latent_dim \n",
    "        self.n_batch = n_batch\n",
    "        self.n_epoch = n_epoch\n",
    "\n",
    "    def reshape(self,data):\n",
    "        sample_num = math.floor(data.shape[0]/self.timesteps)\n",
    "        new_dataset = np.reshape(data[:sample_num*self.timesteps],(sample_num,self.timesteps,data.shape[1]))\n",
    "        return new_dataset\n",
    "\n",
    "    def lstm_autoencoder_repeatvector(self,optimizer='adadelta',loss='mse'):\n",
    "        input_dim = self.dataset.shape[1]\n",
    "        inputs = Input(shape=(self.timesteps,input_dim))\n",
    "        encoded = LSTM(self.latent_dim)(inputs)\n",
    "        decoded = RepeatVector(self.timesteps)(encoded)\n",
    "        decoded = LSTM(input_dim,return_sequences=True)(decoded)\n",
    "        autoencoder = Model(inputs,decoded)\n",
    "        encoder = Model(inputs,encoded)\n",
    "        autoencoder.compile(optimizer=optimizer,loss=loss)\n",
    "\n",
    "        reversed_dataset = np.empty([0,self.dataset.shape[-1]])\n",
    "        for i in range(int(self.dataset.shape[0]/self.timesteps)):\n",
    "            temp = self.dataset[i*self.timesteps:i*self.timesteps+self.timesteps,:]\n",
    "            temp = temp[::-1,:]\n",
    "            reversed_dataset = np.concatenate((reversed_dataset,temp))\n",
    "        new_dataset = self.reshape(self.dataset)\n",
    "        reversed_dataset = self.reshape(reversed_dataset)\n",
    "        print(\"Trianing LSTM-Autoencoder...\")\n",
    "        dt1 = datetime.now()\n",
    "        history = autoencoder.fit(new_dataset,reversed_dataset,\n",
    "                    epochs=self.n_epoch,\n",
    "                    batch_size=self.n_batch,\n",
    "                    validation_split=0.33\n",
    "                    )\n",
    "        dt2 = datetime.now()\n",
    "        print(\"time used of trianing LSTM-Autoencoder: \",(dt2-dt1),\"s\")\n",
    "        Print(\"Encoding dataset\")\n",
    "        dt3 = datetime.now()\n",
    "        encoded_dataset = encoder.predict(new_dataset)\n",
    "        dt4 = datetime.now()\n",
    "        print(\"time used of encoding dataset \",(dt2-dt1),\"s\")\n",
    "        # plot the performance of training\n",
    "        plt.plot(history.history[\"loss\"])\n",
    "        plt.plot(history.history[\"val_loss\"])\n",
    "        plt.title('model loss')\n",
    "        plt.ylabel('loss')\n",
    "        plt.xlabel('epoch')\n",
    "        plt.legend(['train', 'test'], loc='upper right')\n",
    "        plt.show()\n",
    "        \n",
    "        return encoded_dataset"
   ]
  },
  {
   "cell_type": "markdown",
   "metadata": {},
   "source": [
    "# Load (10%)KDD99 dataset (only numeric features)"
   ]
  },
  {
   "cell_type": "code",
   "execution_count": 105,
   "metadata": {
    "collapsed": true
   },
   "outputs": [],
   "source": [
    "with open(\"C:/Users/Bin/Documents/Datasets/KDD99/columns.txt\") as col_file:\n",
    "    line = col_file.readline()\n",
    "\n",
    "columns = line.split('.')\n",
    "col_names = []\n",
    "col_types = []\n",
    "for col in columns:\n",
    "    col_names.append(col.split(': ')[0].strip())\n",
    "    col_types.append(col.split(': ')[1])\n",
    "col_names.append(\"label\")\n",
    "\n",
    "df = pd.read_csv(\"C:/Users/Bin/Documents/Datasets/KDD99/kddcup.data_10_percent_corrected\",names=col_names)\n",
    "\n",
    "data = df.iloc[:,np.array(pd.Series(col_types)==\"continuous\")].as_matrix()\n",
    "label = df.iloc[:,-1]"
   ]
  },
  {
   "cell_type": "markdown",
   "metadata": {},
   "source": [
    "# Scaling dataset to [0,1]"
   ]
  },
  {
   "cell_type": "code",
   "execution_count": 106,
   "metadata": {
    "collapsed": true
   },
   "outputs": [],
   "source": [
    "from sklearn.preprocessing import MinMaxScaler\n",
    "scaler = MinMaxScaler()\n",
    "scaler.fit(data)\n",
    "dataset = scaler.transform(data)\n",
    "del data"
   ]
  },
  {
   "cell_type": "markdown",
   "metadata": {},
   "source": [
    "# Train the Autoencoder "
   ]
  },
  {
   "cell_type": "code",
   "execution_count": 107,
   "metadata": {},
   "outputs": [
    {
     "name": "stdout",
     "output_type": "stream",
     "text": [
      "Train on 3309 samples, validate on 1631 samples\n",
      "Epoch 1/10\n",
      "3309/3309 [==============================] - 12s 4ms/step - loss: 0.1136 - val_loss: 0.0799\n",
      "Epoch 2/10\n",
      "3309/3309 [==============================] - 11s 3ms/step - loss: 0.0383 - val_loss: 0.0559\n",
      "Epoch 3/10\n",
      "3309/3309 [==============================] - 9s 3ms/step - loss: 0.0216 - val_loss: 0.0441\n",
      "Epoch 4/10\n",
      "3309/3309 [==============================] - 10s 3ms/step - loss: 0.0154 - val_loss: 0.0369\n",
      "Epoch 5/10\n",
      "3309/3309 [==============================] - 9s 3ms/step - loss: 0.0123 - val_loss: 0.0327\n",
      "Epoch 6/10\n",
      "3309/3309 [==============================] - 9s 3ms/step - loss: 0.0106 - val_loss: 0.0302\n",
      "Epoch 7/10\n",
      "3309/3309 [==============================] - 9s 3ms/step - loss: 0.0095 - val_loss: 0.0285\n",
      "Epoch 8/10\n",
      "3309/3309 [==============================] - 9s 3ms/step - loss: 0.0088 - val_loss: 0.0274\n",
      "Epoch 9/10\n",
      "3309/3309 [==============================] - 9s 3ms/step - loss: 0.0084 - val_loss: 0.0266\n",
      "Epoch 10/10\n",
      "3309/3309 [==============================] - 10s 3ms/step - loss: 0.0081 - val_loss: 0.0260\n"
     ]
    },
    {
     "data": {
      "image/png": "[encoded data removed]",
      "text/plain": [
       "<matplotlib.figure.Figure at 0x20ddc29da20>"
      ]
     },
     "metadata": {},
     "output_type": "display_data"
    }
   ],
   "source": [
    "timesteps = 100\n",
    "latent_dim = 5\n",
    "n_epoch = 10\n",
    "n_batch = 30\n",
    "\n",
    "model = LSTM_Autoencoder_RepeatVector(dataset,timesteps,latent_dim,n_epoch,n_batch)\n",
    "encoded_dataset = model.lstm_autoencoder_repeatvector()\n",
    "# generate labels for encoded_dataset\n",
    "e_label = [None]*encoded_dataset.shape[0]\n",
    "for i in range(encoded_dataset.shape[0]):\n",
    "    e_label[i] = label[(i+1)*timesteps-1] # for each batch, use the last sample label as the encoded batch label\n",
    "e_label = np.array(e_label)"
   ]
  },
  {
   "cell_type": "code",
   "execution_count": null,
   "metadata": {
    "collapsed": true
   },
   "outputs": [],
   "source": [
    "#Todo\n",
    "#inverse scaling"
   ]
  },
  {
   "cell_type": "markdown",
   "metadata": {
    "collapsed": true
   },
   "source": [
    "# Check autoencoder performance by applying a SVM classifier using the encoded dataset"
   ]
  },
  {
   "cell_type": "code",
   "execution_count": 108,
   "metadata": {
    "collapsed": true
   },
   "outputs": [],
   "source": [
    "# prepare both original and encoded data\n",
    "\n",
    "def train_test_split(dataset,label):\n",
    "    train_size = int(len(dataset) * 0.67)\n",
    "    test_size = len(dataset) - train_size\n",
    "    train, test = dataset[0:train_size,:], dataset[train_size:len(dataset),:]\n",
    "    y_train, y_test = label[0:train_size],label[train_size:len(dataset)]\n",
    "    # label str2int\n",
    "    with open(\"C:/Users/Bin/Documents/Datasets/KDD99/classes.txt\") as f:\n",
    "        line = f.readline()\n",
    "    classes = line.split(\",\")\n",
    "    class_dic = {classes[i]:i for i in range(len(classes))}\n",
    "    y_train_num = [class_dic[x.strip('.')] for x in y_train]\n",
    "    y_test_num = [class_dic[x.strip('.')] for x in y_test]\n",
    "    return train,test,y_train_num,y_test_num\n",
    "xn_train, xn_test, yn_train,yn_test =  train_test_split(dataset,label)\n",
    "xe_train, xe_test, ye_train,ye_test =  train_test_split(encoded_dataset,e_label)\n"
   ]
  },
  {
   "cell_type": "code",
   "execution_count": 109,
   "metadata": {},
   "outputs": [
    {
     "name": "stdout",
     "output_type": "stream",
     "text": [
      "Trianing SVM classifier with original dataset...\n",
      "time used of trianing on original dataset:  0:01:08.626674 s\n",
      "Trianing SVM classifier with encoded dataset...\n",
      "time used of training on encoded dataset:  0:00:00.015628 s\n"
     ]
    }
   ],
   "source": [
    "# train two svm classifiers\n",
    "from sklearn import svm\n",
    "\n",
    "print(\"Trianing SVM classifier with original dataset...\")\n",
    "dt1 = datetime.now()\n",
    "clf_n = svm.SVC()\n",
    "clf_n.fit(xn_train,yn_train)\n",
    "dt2 = datetime.now()\n",
    "print(\"time used of trianing on original dataset: \",(dt2-dt1),\"s\")\n",
    "print(\"Trianing SVM classifier with encoded dataset...\")\n",
    "dt3 = datetime.now()\n",
    "clf_e = svm.SVC()\n",
    "clf_e.fit(xe_train,ye_train)\n",
    "dt4 = datetime.now()\n",
    "print(\"time used of training on encoded dataset: \",(dt4-dt3),\"s\")"
   ]
  },
  {
   "cell_type": "code",
   "execution_count": 111,
   "metadata": {},
   "outputs": [
    {
     "name": "stdout",
     "output_type": "stream",
     "text": [
      "time used of prediction using original dataset:  0:01:41.026441 s\n",
      "time used of prediction using encoded dataset:  0:00:00.008021 s\n"
     ]
    }
   ],
   "source": [
    "# making prediction using both classifier and both dataset\n",
    "\n",
    "#original\n",
    "print(\"Making prediction using original dataset...\")\n",
    "dt1 = datetime.now()\n",
    "prediction_n = clf_n.predict(xn_test)\n",
    "dt2 = datetime.now()\n",
    "print(\"time used of prediction using original dataset: \",(dt2-dt1),\"s\")\n",
    "#encoded\n",
    "print(\"Making prediction using encoded dataset...\")\n",
    "dt3 = datetime.now()\n",
    "prediction_e = clf_e.predict(xe_test)\n",
    "dt4 = datetime.now()\n",
    "print(\"time used of prediction using encoded dataset: \",(dt4-dt3),\"s\")"
   ]
  },
  {
   "cell_type": "markdown",
   "metadata": {},
   "source": [
    "# Performance comparation"
   ]
  },
  {
   "cell_type": "code",
   "execution_count": 112,
   "metadata": {},
   "outputs": [
    {
     "name": "stdout",
     "output_type": "stream",
     "text": [
      "             precision    recall  f1-score   support\n",
      "\n",
      "          0       0.00      0.00      0.00       100\n",
      "          1       0.00      0.00      0.00        18\n",
      "          3       0.00      0.00      0.00         0\n",
      "          5       0.55      0.14      0.23       385\n",
      "          6       0.50      0.25      0.33         4\n",
      "          7       0.00      0.00      0.00         1\n",
      "          9       1.00      0.69      0.82     66079\n",
      "         10       0.00      0.00      0.00         0\n",
      "         11       0.98      0.97      0.98     26053\n",
      "         12       0.00      0.00      0.00         1\n",
      "         13       0.00      0.00      0.00         1\n",
      "         14       0.00      0.00      0.00       162\n",
      "         15       0.02      0.87      0.03       401\n",
      "         16       0.00      0.00      0.00         3\n",
      "         17       0.00      0.00      0.00         2\n",
      "         18       1.00      1.00      1.00     69235\n",
      "         20       1.00      0.99      1.00       582\n",
      "         21       0.00      0.00      0.00         0\n",
      "\n",
      "avg / total       0.99      0.87      0.92    163027\n",
      "\n"
     ]
    },
    {
     "name": "stderr",
     "output_type": "stream",
     "text": [
      "C:\\ProgramData\\Anaconda3\\lib\\site-packages\\sklearn\\metrics\\classification.py:1135: UndefinedMetricWarning: Precision and F-score are ill-defined and being set to 0.0 in labels with no predicted samples.\n",
      "  'precision', 'predicted', average, warn_for)\n",
      "C:\\ProgramData\\Anaconda3\\lib\\site-packages\\sklearn\\metrics\\classification.py:1137: UndefinedMetricWarning: Recall and F-score are ill-defined and being set to 0.0 in labels with no true samples.\n",
      "  'recall', 'true', average, warn_for)\n"
     ]
    }
   ],
   "source": [
    "#Evaluation\n",
    "from sklearn.metrics import classification_report\n",
    "# performance using original dataset\n",
    "print(classification_report(yn_test, prediction_n))\n"
   ]
  },
  {
   "cell_type": "code",
   "execution_count": 113,
   "metadata": {},
   "outputs": [
    {
     "name": "stdout",
     "output_type": "stream",
     "text": [
      "             precision    recall  f1-score   support\n",
      "\n",
      "          0       0.00      0.00      0.00         1\n",
      "          5       0.00      0.00      0.00         2\n",
      "          9       1.00      0.69      0.82       662\n",
      "         11       0.96      0.99      0.97       263\n",
      "         14       0.00      0.00      0.00         2\n",
      "         15       0.00      0.00      0.00         4\n",
      "         17       0.00      0.00      0.00         0\n",
      "         18       1.00      1.00      1.00       691\n",
      "         20       0.00      0.00      0.00         6\n",
      "\n",
      "avg / total       0.98      0.86      0.91      1631\n",
      "\n"
     ]
    },
    {
     "name": "stderr",
     "output_type": "stream",
     "text": [
      "C:\\ProgramData\\Anaconda3\\lib\\site-packages\\sklearn\\metrics\\classification.py:1135: UndefinedMetricWarning: Precision and F-score are ill-defined and being set to 0.0 in labels with no predicted samples.\n",
      "  'precision', 'predicted', average, warn_for)\n",
      "C:\\ProgramData\\Anaconda3\\lib\\site-packages\\sklearn\\metrics\\classification.py:1137: UndefinedMetricWarning: Recall and F-score are ill-defined and being set to 0.0 in labels with no true samples.\n",
      "  'recall', 'true', average, warn_for)\n"
     ]
    }
   ],
   "source": [
    "# Performance using encoded dataset\n",
    "print(classification_report(ye_test, prediction_e))"
   ]
  },
  {
   "cell_type": "code",
   "execution_count": null,
   "metadata": {
    "collapsed": true
   },
   "outputs": [],
   "source": []
  }
 ],
 "metadata": {
  "kernelspec": {
   "display_name": "Python 3",
   "language": "python",
   "name": "python3"
  },
  "language_info": {
   "codemirror_mode": {
    "name": "ipython",
    "version": 3
   },
   "file_extension": ".py",
   "mimetype": "text/x-python",
   "name": "python",
   "nbconvert_exporter": "python",
   "pygments_lexer": "ipython3",
   "version": "3.6.3"
  }
 },
 "nbformat": 4,
 "nbformat_minor": 2
}
