{
 "cells": [
  {
   "cell_type": "code",
   "execution_count": 12,
   "metadata": {},
   "outputs": [],
   "source": [
    "import pandas as pd\n",
    "import numpy as np\n",
    "from keras.layers import Input, LSTM, RepeatVector\n",
    "from keras.models import Model,Sequential\n",
    "import math\n",
    "import matplotlib.pyplot as plt\n",
    "from datetime import datetime"
   ]
  },
  {
   "cell_type": "markdown",
   "metadata": {},
   "source": [
    "# Definition of LSTM_Autoencoder(RepeatVector)"
   ]
  },
  {
   "cell_type": "code",
   "execution_count": 13,
   "metadata": {
    "collapsed": true
   },
   "outputs": [],
   "source": [
    "class LSTM_Autoencoder_RepeatVector:\n",
    "\n",
    "    def __init__(self, dataset, timesteps, latent_dim, n_epoch,n_batch):\n",
    "        self.dataset = dataset\n",
    "        self.timesteps = timesteps\n",
    "        self.latent_dim = latent_dim \n",
    "        self.n_batch = n_batch\n",
    "        self.n_epoch = n_epoch\n",
    "\n",
    "    def reshape(self,data):\n",
    "        sample_num = math.floor(data.shape[0]/self.timesteps)\n",
    "        new_dataset = np.reshape(data[:sample_num*self.timesteps],(sample_num,self.timesteps,data.shape[1]))\n",
    "        return new_dataset\n",
    "\n",
    "    def lstm_autoencoder_repeatvector(self,optimizer='adadelta',loss='mse'):\n",
    "        input_dim = self.dataset.shape[1]\n",
    "        inputs = Input(shape=(self.timesteps,input_dim))\n",
    "        encoded = LSTM(self.latent_dim)(inputs)\n",
    "        decoded = RepeatVector(self.timesteps)(encoded)\n",
    "        decoded = LSTM(input_dim,return_sequences=True)(decoded)\n",
    "        autoencoder = Model(inputs,decoded)\n",
    "        encoder = Model(inputs,encoded)\n",
    "        autoencoder.compile(optimizer=optimizer,loss=loss)\n",
    "\n",
    "        reversed_dataset = np.empty([0,self.dataset.shape[-1]])\n",
    "        for i in range(int(self.dataset.shape[0]/self.timesteps)):\n",
    "            temp = self.dataset[i*self.timesteps:i*self.timesteps+self.timesteps,:]\n",
    "            temp = temp[::-1,:]\n",
    "            reversed_dataset = np.concatenate((reversed_dataset,temp))\n",
    "        new_dataset = self.reshape(self.dataset)\n",
    "        reversed_dataset = self.reshape(reversed_dataset)\n",
    "        print(\"Trianing LSTM-Autoencoder...\")\n",
    "        dt1 = datetime.now()\n",
    "        history = autoencoder.fit(new_dataset,reversed_dataset,\n",
    "                    epochs=self.n_epoch,\n",
    "                    batch_size=self.n_batch,\n",
    "                    validation_split=0.33\n",
    "                    )\n",
    "        dt2 = datetime.now()\n",
    "        print(\"time used of trianing LSTM-Autoencoder: \",(dt2-dt1),\"s\")\n",
    "        print(\"Encoding dataset\")\n",
    "        dt3 = datetime.now()\n",
    "        encoded_dataset = encoder.predict(new_dataset)\n",
    "        dt4 = datetime.now()\n",
    "        print(\"time used of encoding dataset \",(dt2-dt1),\"s\")\n",
    "\n",
    "        \n",
    "        # plot the performance of training\n",
    "        plt.plot(history.history[\"loss\"])\n",
    "        plt.plot(history.history[\"val_loss\"])\n",
    "        plt.title('model loss')\n",
    "        plt.ylabel('loss')\n",
    "        plt.xlabel('epoch')\n",
    "        plt.legend(['train', 'test'], loc='upper right')\n",
    "        plt.show()\n",
    "        \n",
    "        # get decoder output\n",
    "        decoder_output = autoencoder.predict(new_dataset)\n",
    "        \n",
    "        return encoded_dataset, decoder_output"
   ]
  },
  {
   "cell_type": "markdown",
   "metadata": {},
   "source": [
    "# Load (10%)KDD99 dataset (only numeric features)"
   ]
  },
  {
   "cell_type": "code",
   "execution_count": 3,
   "metadata": {
    "collapsed": true
   },
   "outputs": [],
   "source": [
    "with open(\"C:/Users/Bin/Documents/Datasets/KDD99/columns.txt\") as col_file:\n",
    "    line = col_file.readline()\n",
    "\n",
    "columns = line.split('.')\n",
    "col_names = []\n",
    "col_types = []\n",
    "for col in columns:\n",
    "    col_names.append(col.split(': ')[0].strip())\n",
    "    col_types.append(col.split(': ')[1])\n",
    "col_names.append(\"label\")\n",
    "\n",
    "df = pd.read_csv(\"C:/Users/Bin/Documents/Datasets/KDD99/kddcup.data_10_percent_corrected\",names=col_names)\n",
    "\n",
    "data = df.iloc[:,np.array(pd.Series(col_types)==\"continuous\")].as_matrix()\n",
    "label = df.iloc[:,-1]"
   ]
  },
  {
   "cell_type": "markdown",
   "metadata": {},
   "source": [
    "# Scaling dataset to [0,1]"
   ]
  },
  {
   "cell_type": "code",
   "execution_count": 4,
   "metadata": {
    "collapsed": true
   },
   "outputs": [],
   "source": [
    "from sklearn.preprocessing import MinMaxScaler\n",
    "scaler = MinMaxScaler()\n",
    "scaler.fit(data)\n",
    "dataset = scaler.transform(data)\n",
    "del data"
   ]
  },
  {
   "cell_type": "code",
   "execution_count": 5,
   "metadata": {},
   "outputs": [
    {
     "data": {
      "text/plain": [
       "(494021, 34)"
      ]
     },
     "execution_count": 5,
     "metadata": {},
     "output_type": "execute_result"
    }
   ],
   "source": [
    "dataset.shape"
   ]
  },
  {
   "cell_type": "markdown",
   "metadata": {},
   "source": [
    "# Updata: Load power demand dataset"
   ]
  },
  {
   "cell_type": "code",
   "execution_count": 14,
   "metadata": {},
   "outputs": [
    {
     "name": "stderr",
     "output_type": "stream",
     "text": [
      "C:\\Users\\Bin\\Desktop\\Thesis\\code\\Loaddata.py:56: FutureWarning: reshape is deprecated and will raise in a subsequent release. Please use .values.reshape(...) instead\n",
      "  sub_power = sub_power.reshape(-1, 1)\n",
      "C:\\ProgramData\\Anaconda3\\lib\\site-packages\\sklearn\\utils\\validation.py:475: DataConversionWarning: Data with input dtype int64 was converted to float64 by MinMaxScaler.\n",
      "  warnings.warn(msg, DataConversionWarning)\n"
     ]
    }
   ],
   "source": [
    "%run Loaddata\n",
    "from Loaddata import Loaddata\n",
    "\n",
    "ld = Loaddata(\"power_demand\")\n",
    "datasets = ld.read()\n",
    "[training_normal, validation_1, validation_2, test_normal, validation_anomaly, test_anomaly,whole_normal,whole_anormaly] = datasets\n",
    "dataset = np.reshape(whole_normal,(-1,1))"
   ]
  },
  {
   "cell_type": "code",
   "execution_count": 15,
   "metadata": {},
   "outputs": [
    {
     "name": "stdout",
     "output_type": "stream",
     "text": [
      "Trianing LSTM-Autoencoder...\n",
      "Train on 30 samples, validate on 15 samples\n",
      "Epoch 1/50\n",
      "30/30 [==============================] - 4s 120ms/step - loss: 0.1461 - val_loss: 0.1413\n",
      "Epoch 2/50\n",
      "30/30 [==============================] - 1s 34ms/step - loss: 0.1057 - val_loss: 0.1017\n",
      "Epoch 3/50\n",
      "30/30 [==============================] - 1s 35ms/step - loss: 0.0711 - val_loss: 0.0661\n",
      "Epoch 4/50\n",
      "30/30 [==============================] - 1s 34ms/step - loss: 0.0459 - val_loss: 0.0478\n",
      "Epoch 5/50\n",
      "30/30 [==============================] - 1s 35ms/step - loss: 0.0384 - val_loss: 0.0449\n",
      "Epoch 6/50\n",
      "30/30 [==============================] - 1s 35ms/step - loss: 0.0378 - val_loss: 0.0446\n",
      "Epoch 7/50\n",
      "30/30 [==============================] - 1s 33ms/step - loss: 0.0377 - val_loss: 0.0443\n",
      "Epoch 8/50\n",
      "30/30 [==============================] - 1s 35ms/step - loss: 0.0376 - val_loss: 0.0445\n",
      "Epoch 9/50\n",
      "30/30 [==============================] - 1s 34ms/step - loss: 0.0375 - val_loss: 0.0441\n",
      "Epoch 10/50\n",
      "30/30 [==============================] - 1s 34ms/step - loss: 0.0374 - val_loss: 0.0444\n",
      "Epoch 11/50\n",
      "30/30 [==============================] - 1s 34ms/step - loss: 0.0374 - val_loss: 0.0439\n",
      "Epoch 12/50\n",
      "30/30 [==============================] - 1s 35ms/step - loss: 0.0373 - val_loss: 0.0439\n",
      "Epoch 13/50\n",
      "30/30 [==============================] - 1s 34ms/step - loss: 0.0372 - val_loss: 0.0437\n",
      "Epoch 14/50\n",
      "30/30 [==============================] - 1s 35ms/step - loss: 0.0371 - val_loss: 0.0438\n",
      "Epoch 15/50\n",
      "30/30 [==============================] - 1s 35ms/step - loss: 0.0371 - val_loss: 0.0439\n",
      "Epoch 16/50\n",
      "30/30 [==============================] - 1s 34ms/step - loss: 0.0370 - val_loss: 0.0434\n",
      "Epoch 17/50\n",
      "30/30 [==============================] - 1s 34ms/step - loss: 0.0369 - val_loss: 0.0435\n",
      "Epoch 18/50\n",
      "30/30 [==============================] - 1s 34ms/step - loss: 0.0368 - val_loss: 0.0435\n",
      "Epoch 19/50\n",
      "30/30 [==============================] - 1s 34ms/step - loss: 0.0367 - val_loss: 0.0435\n",
      "Epoch 20/50\n",
      "30/30 [==============================] - 1s 34ms/step - loss: 0.0365 - val_loss: 0.0434\n",
      "Epoch 21/50\n",
      "30/30 [==============================] - 1s 35ms/step - loss: 0.0365 - val_loss: 0.0431\n",
      "Epoch 22/50\n",
      "30/30 [==============================] - 1s 35ms/step - loss: 0.0363 - val_loss: 0.0435\n",
      "Epoch 23/50\n",
      "30/30 [==============================] - 1s 34ms/step - loss: 0.0363 - val_loss: 0.0428\n",
      "Epoch 24/50\n",
      "30/30 [==============================] - 1s 35ms/step - loss: 0.0360 - val_loss: 0.0426\n",
      "Epoch 25/50\n",
      "30/30 [==============================] - 1s 34ms/step - loss: 0.0360 - val_loss: 0.0424\n",
      "Epoch 26/50\n",
      "30/30 [==============================] - 1s 35ms/step - loss: 0.0358 - val_loss: 0.0429\n",
      "Epoch 27/50\n",
      "30/30 [==============================] - 1s 34ms/step - loss: 0.0356 - val_loss: 0.0428\n",
      "Epoch 28/50\n",
      "30/30 [==============================] - 1s 35ms/step - loss: 0.0353 - val_loss: 0.0417\n",
      "Epoch 29/50\n",
      "30/30 [==============================] - 1s 34ms/step - loss: 0.0350 - val_loss: 0.0414\n",
      "Epoch 30/50\n",
      "30/30 [==============================] - 1s 35ms/step - loss: 0.0346 - val_loss: 0.0409\n",
      "Epoch 31/50\n",
      "30/30 [==============================] - 1s 34ms/step - loss: 0.0347 - val_loss: 0.0404\n",
      "Epoch 32/50\n",
      "30/30 [==============================] - 1s 33ms/step - loss: 0.0337 - val_loss: 0.0426\n",
      "Epoch 33/50\n",
      "30/30 [==============================] - 1s 35ms/step - loss: 0.0346 - val_loss: 0.0397\n",
      "Epoch 34/50\n",
      "30/30 [==============================] - 1s 40ms/step - loss: 0.0345 - val_loss: 0.0426\n",
      "Epoch 35/50\n",
      "30/30 [==============================] - 1s 39ms/step - loss: 0.0347 - val_loss: 0.0451\n",
      "Epoch 36/50\n",
      "30/30 [==============================] - 1s 38ms/step - loss: 0.0339 - val_loss: 0.0444\n",
      "Epoch 37/50\n",
      "30/30 [==============================] - 1s 36ms/step - loss: 0.0348 - val_loss: 0.0392\n",
      "Epoch 38/50\n",
      "30/30 [==============================] - 1s 34ms/step - loss: 0.0342 - val_loss: 0.0386\n",
      "Epoch 39/50\n",
      "30/30 [==============================] - 1s 34ms/step - loss: 0.0327 - val_loss: 0.0386\n",
      "Epoch 40/50\n",
      "30/30 [==============================] - 1s 33ms/step - loss: 0.0340 - val_loss: 0.0389\n",
      "Epoch 41/50\n",
      "30/30 [==============================] - 1s 34ms/step - loss: 0.0342 - val_loss: 0.0401\n",
      "Epoch 42/50\n",
      "30/30 [==============================] - 1s 33ms/step - loss: 0.0344 - val_loss: 0.0391\n",
      "Epoch 43/50\n",
      "30/30 [==============================] - 1s 35ms/step - loss: 0.0324 - val_loss: 0.0380\n",
      "Epoch 44/50\n",
      "30/30 [==============================] - 1s 33ms/step - loss: 0.0338 - val_loss: 0.0380\n",
      "Epoch 45/50\n",
      "30/30 [==============================] - 1s 34ms/step - loss: 0.0319 - val_loss: 0.0379\n",
      "Epoch 46/50\n",
      "30/30 [==============================] - 1s 34ms/step - loss: 0.0320 - val_loss: 0.0389\n",
      "Epoch 47/50\n",
      "30/30 [==============================] - 1s 35ms/step - loss: 0.0344 - val_loss: 0.0382\n",
      "Epoch 48/50\n",
      "30/30 [==============================] - 1s 34ms/step - loss: 0.0323 - val_loss: 0.0378\n",
      "Epoch 49/50\n",
      "30/30 [==============================] - 1s 34ms/step - loss: 0.0322 - val_loss: 0.0384\n",
      "Epoch 50/50\n",
      "30/30 [==============================] - 1s 33ms/step - loss: 0.0329 - val_loss: 0.0378\n",
      "time used of trianing LSTM-Autoencoder:  0:00:58.009793 s\n",
      "Encoding dataset\n",
      "time used of encoding dataset  0:00:58.009793 s\n"
     ]
    },
    {
     "data": {
      "image/png": "[encoded data removed]",
      "text/plain": [
       "<matplotlib.figure.Figure at 0x2305579ff28>"
      ]
     },
     "metadata": {},
     "output_type": "display_data"
    }
   ],
   "source": [
    "# power demand training\n",
    "timesteps = 84\n",
    "latent_dim = 40\n",
    "n_epoch = 50\n",
    "n_batch = 3\n",
    "model = LSTM_Autoencoder_RepeatVector(dataset,timesteps,latent_dim,n_epoch,n_batch)\n",
    "encoded_dataset,output = model.lstm_autoencoder_repeatvector()"
   ]
  },
  {
   "cell_type": "markdown",
   "metadata": {},
   "source": [
    "# Train the Autoencoder "
   ]
  },
  {
   "cell_type": "code",
   "execution_count": null,
   "metadata": {},
   "outputs": [],
   "source": [
    "# KDD99 training\n",
    "timesteps = 10\n",
    "latent_dim = 10\n",
    "n_epoch = 100\n",
    "n_batch = 100\n",
    "\n",
    "model = LSTM_Autoencoder_RepeatVector(dataset,timesteps,latent_dim,n_epoch,n_batch)\n",
    "encoded_dataset = model.lstm_autoencoder_repeatvector()\n",
    "# generate labels for encoded_dataset\n",
    "e_label = [None]*encoded_dataset.shape[0]\n",
    "for i in range(encoded_dataset.shape[0]):\n",
    "    e_label[i] = label[(i+1)*timesteps-1] # for each batch, use the last sample label as the encoded batch label\n",
    "e_label = np.array(e_label)"
   ]
  },
  {
   "cell_type": "code",
   "execution_count": null,
   "metadata": {
    "collapsed": true
   },
   "outputs": [],
   "source": [
    "#Todo\n",
    "#inverse scaling"
   ]
  },
  {
   "cell_type": "markdown",
   "metadata": {
    "collapsed": true
   },
   "source": [
    "# Two SVM classifier for original dataset and encoded dataset"
   ]
  },
  {
   "cell_type": "code",
   "execution_count": 115,
   "metadata": {
    "collapsed": true
   },
   "outputs": [],
   "source": [
    "# prepare both original and encoded data\n",
    "\n",
    "def train_test_split(dataset,label):\n",
    "    train_size = int(len(dataset) * 0.67)\n",
    "    test_size = len(dataset) - train_size\n",
    "    train, test = dataset[0:train_size,:], dataset[train_size:len(dataset),:]\n",
    "    y_train, y_test = label[0:train_size],label[train_size:len(dataset)]\n",
    "    # label str2int\n",
    "    with open(\"C:/Users/Bin/Documents/Datasets/KDD99/classes.txt\") as f:\n",
    "        line = f.readline()\n",
    "    classes = line.split(\",\")\n",
    "    class_dic = {classes[i]:i for i in range(len(classes))}\n",
    "    y_train_num = [class_dic[x.strip('.')] for x in y_train]\n",
    "    y_test_num = [class_dic[x.strip('.')] for x in y_test]\n",
    "    return train,test,y_train_num,y_test_num\n",
    "xn_train, xn_test, yn_train,yn_test =  train_test_split(dataset,label)\n",
    "xe_train, xe_test, ye_train,ye_test =  train_test_split(encoded_dataset,e_label)\n"
   ]
  },
  {
   "cell_type": "code",
   "execution_count": 116,
   "metadata": {},
   "outputs": [
    {
     "name": "stdout",
     "output_type": "stream",
     "text": [
      "Trianing SVM classifier with original dataset...\n",
      "time used of trianing on original dataset:  0:01:05.823061 s\n",
      "Trianing SVM classifier with encoded dataset...\n",
      "time used of training on encoded dataset:  0:00:00.118958 s\n"
     ]
    }
   ],
   "source": [
    "# train two svm classifiers\n",
    "from sklearn import svm\n",
    "\n",
    "print(\"Trianing SVM classifier with original dataset...\")\n",
    "dt1 = datetime.now()\n",
    "clf_n = svm.SVC()\n",
    "clf_n.fit(xn_train,yn_train)\n",
    "dt2 = datetime.now()\n",
    "print(\"time used of trianing on original dataset: \",(dt2-dt1),\"s\")\n",
    "print(\"Trianing SVM classifier with encoded dataset...\")\n",
    "dt3 = datetime.now()\n",
    "clf_e = svm.SVC()\n",
    "clf_e.fit(xe_train,ye_train)\n",
    "dt4 = datetime.now()\n",
    "print(\"time used of training on encoded dataset: \",(dt4-dt3),\"s\")"
   ]
  },
  {
   "cell_type": "code",
   "execution_count": 117,
   "metadata": {},
   "outputs": [
    {
     "name": "stdout",
     "output_type": "stream",
     "text": [
      "Making prediction using original dataset...\n",
      "time used of prediction using original dataset:  0:01:34.830185 s\n",
      "Making prediction using encoded dataset...\n",
      "time used of prediction using encoded dataset:  0:00:00.084652 s\n"
     ]
    }
   ],
   "source": [
    "# making prediction using both classifier and both dataset\n",
    "\n",
    "#original\n",
    "print(\"Making prediction using original dataset...\")\n",
    "dt1 = datetime.now()\n",
    "prediction_n = clf_n.predict(xn_test)\n",
    "dt2 = datetime.now()\n",
    "print(\"time used of prediction using original dataset: \",(dt2-dt1),\"s\")\n",
    "#encoded\n",
    "print(\"Making prediction using encoded dataset...\")\n",
    "dt3 = datetime.now()\n",
    "prediction_e = clf_e.predict(xe_test)\n",
    "dt4 = datetime.now()\n",
    "print(\"time used of prediction using encoded dataset: \",(dt4-dt3),\"s\")"
   ]
  },
  {
   "cell_type": "markdown",
   "metadata": {},
   "source": [
    "# Performance comparation"
   ]
  },
  {
   "cell_type": "code",
   "execution_count": 124,
   "metadata": {},
   "outputs": [
    {
     "name": "stdout",
     "output_type": "stream",
     "text": [
      "Performance on original dataset\n",
      "\n",
      "             precision    recall  f1-score   support\n",
      "\n",
      "          0    0.00000   0.00000   0.00000       100\n",
      "          1    0.00000   0.00000   0.00000        18\n",
      "          3    0.00000   0.00000   0.00000         0\n",
      "          5    0.55000   0.14286   0.22680       385\n",
      "          6    0.50000   0.25000   0.33333         4\n",
      "          7    0.00000   0.00000   0.00000         1\n",
      "          9    0.99982   0.69034   0.81675     66079\n",
      "         10    0.00000   0.00000   0.00000         0\n",
      "         11    0.98389   0.97064   0.97722     26053\n",
      "         12    0.00000   0.00000   0.00000         1\n",
      "         13    0.00000   0.00000   0.00000         1\n",
      "         14    0.00000   0.00000   0.00000       162\n",
      "         15    0.01682   0.87282   0.03301       401\n",
      "         16    0.00000   0.00000   0.00000         3\n",
      "         17    0.00000   0.00000   0.00000         2\n",
      "         18    0.99952   0.99908   0.99930     69235\n",
      "         20    1.00000   0.99141   0.99569       582\n",
      "         21    0.00000   0.00000   0.00000         0\n",
      "\n",
      "avg / total    0.99189   0.86525   0.91578    163027\n",
      "\n"
     ]
    },
    {
     "name": "stderr",
     "output_type": "stream",
     "text": [
      "C:\\ProgramData\\Anaconda3\\lib\\site-packages\\sklearn\\metrics\\classification.py:1135: UndefinedMetricWarning: Precision and F-score are ill-defined and being set to 0.0 in labels with no predicted samples.\n",
      "  'precision', 'predicted', average, warn_for)\n",
      "C:\\ProgramData\\Anaconda3\\lib\\site-packages\\sklearn\\metrics\\classification.py:1137: UndefinedMetricWarning: Recall and F-score are ill-defined and being set to 0.0 in labels with no true samples.\n",
      "  'recall', 'true', average, warn_for)\n"
     ]
    }
   ],
   "source": [
    "#Evaluation\n",
    "from sklearn.metrics import classification_report\n",
    "# performance using original dataset\n",
    "print(\"Performance on original dataset\\n\")\n",
    "print(classification_report(yn_test, prediction_n,digits=5))\n"
   ]
  },
  {
   "cell_type": "code",
   "execution_count": 125,
   "metadata": {
    "scrolled": true
   },
   "outputs": [
    {
     "name": "stdout",
     "output_type": "stream",
     "text": [
      "Performance on encoded dataset\n",
      "\n",
      "             precision    recall  f1-score   support\n",
      "\n",
      "          0    0.00000   0.00000   0.00000         3\n",
      "          5    0.00000   0.00000   0.00000        17\n",
      "          9    0.99868   0.68875   0.81525      2204\n",
      "         11    0.93900   0.99538   0.96637       866\n",
      "         14    0.00000   0.00000   0.00000         4\n",
      "         15    1.00000   0.53846   0.70000        13\n",
      "         17    0.00000   0.00000   0.00000         0\n",
      "         18    0.99913   0.99783   0.99848      2308\n",
      "         20    0.00000   0.00000   0.00000        20\n",
      "\n",
      "avg / total    0.98128   0.86293   0.91026      5435\n",
      "\n"
     ]
    },
    {
     "name": "stderr",
     "output_type": "stream",
     "text": [
      "C:\\ProgramData\\Anaconda3\\lib\\site-packages\\sklearn\\metrics\\classification.py:1135: UndefinedMetricWarning: Precision and F-score are ill-defined and being set to 0.0 in labels with no predicted samples.\n",
      "  'precision', 'predicted', average, warn_for)\n",
      "C:\\ProgramData\\Anaconda3\\lib\\site-packages\\sklearn\\metrics\\classification.py:1137: UndefinedMetricWarning: Recall and F-score are ill-defined and being set to 0.0 in labels with no true samples.\n",
      "  'recall', 'true', average, warn_for)\n"
     ]
    }
   ],
   "source": [
    "# Performance using encoded dataset\n",
    "print(\"Performance on encoded dataset\\n\")\n",
    "print(classification_report(ye_test, prediction_e,digits=5))"
   ]
  },
  {
   "cell_type": "code",
   "execution_count": 123,
   "metadata": {},
   "outputs": [
    {
     "data": {
      "text/plain": [
       "(16467, 10)"
      ]
     },
     "execution_count": 123,
     "metadata": {},
     "output_type": "execute_result"
    }
   ],
   "source": [
    "encoded_dataset.shape"
   ]
  },
  {
   "cell_type": "code",
   "execution_count": null,
   "metadata": {
    "collapsed": true
   },
   "outputs": [],
   "source": []
  }
 ],
 "metadata": {
  "kernelspec": {
   "display_name": "Python 3",
   "language": "python",
   "name": "python3"
  },
  "language_info": {
   "codemirror_mode": {
    "name": "ipython",
    "version": 3
   },
   "file_extension": ".py",
   "mimetype": "text/x-python",
   "name": "python",
   "nbconvert_exporter": "python",
   "pygments_lexer": "ipython3",
   "version": "3.6.3"
  }
 },
 "nbformat": 4,
 "nbformat_minor": 2
}
