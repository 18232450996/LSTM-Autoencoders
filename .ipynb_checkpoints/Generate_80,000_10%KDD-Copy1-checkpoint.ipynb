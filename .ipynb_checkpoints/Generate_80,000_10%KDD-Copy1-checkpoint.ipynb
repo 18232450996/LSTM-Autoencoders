{
 "cells": [
  {
   "cell_type": "code",
   "execution_count": 1,
   "metadata": {
    "collapsed": true
   },
   "outputs": [],
   "source": [
    "%matplotlib inline\n",
    "import pandas as pd\n",
    "import numpy as np\n",
    "import matplotlib.pyplot as plt"
   ]
  },
  {
   "cell_type": "code",
   "execution_count": 20,
   "metadata": {
    "collapsed": true
   },
   "outputs": [],
   "source": [
    "#filename = \"C:/Users/Bin/Documents/Datasets/KDD99/kddcup.data_10_percent_corrected\"\n",
    "filename = \"C:/Users/Bin/Documents/Datasets/KDD99/http.csv\"\n",
    "chunksize = 10000\n",
    "\n",
    "count = 0\n",
    "buffer = []\n",
    "for chunk in pd.read_csv(filename,header=None, chunksize=chunksize):\n",
    "    count += 1\n",
    "    if count in range(49,61): # used for training\n",
    "        continue\n",
    "    buffer.append(chunk)\n",
    "data = pd.concat(buffer).reset_index(drop=True)\n",
    "del buffer"
   ]
  },
  {
   "cell_type": "code",
   "execution_count": 21,
   "metadata": {},
   "outputs": [
    {
     "data": {
      "image/png": "[encoded data removed]",
      "text/plain": [
       "<matplotlib.figure.Figure at 0x1d348701048>"
      ]
     },
     "metadata": {},
     "output_type": "display_data"
    }
   ],
   "source": [
    "classes = data.iloc[:,-1].unique()\n",
    "labels = []\n",
    "count = []\n",
    "for c in classes:\n",
    "    labels.append(c)\n",
    "    count.append(list(data.iloc[:,-1]).count(c))\n",
    "#  print(c,\" : \",list(data.iloc[:,-1]).count(c))\n",
    "fig, ax = plt.subplots(1,1,figsize=(13,6))\n",
    "ax.bar(range(len(labels)),count)\n",
    "ax.set_xticklabels(labels,rotation=\"vertical\")\n",
    "ax.set_xticks(range(len(labels)))\n",
    "#ax.set_title(\"Initialization dataset distribution\\n(first 80,000 examples from stream)\")\n",
    "ax.set_xlabel(\"Classes\")\n",
    "ax.set_ylabel(\"Count\")\n",
    "ax.set_ylim([0,max(count)*1.3])\n",
    "rects = ax.patches\n",
    "for rect in rects:\n",
    "    y_value = rect.get_height()\n",
    "    x_value = rect.get_x() + rect.get_width() / 2\n",
    "\n",
    "    ax.annotate(y_value, (x_value, y_value), xytext=(0, 5), textcoords=\"offset points\", \n",
    "        ha='center', va='bottom')\n",
    "    \n",
    "plt.show()"
   ]
  },
  {
   "cell_type": "code",
   "execution_count": 22,
   "metadata": {
    "collapsed": true
   },
   "outputs": [],
   "source": [
    "\n",
    "#data.to_csv(\"C:/Users/Bin/Documents/Datasets/KDD99/80000_10_percent_kdd.csv\",header=None,index=None)\n",
    "data.to_csv(\"C:/Users/Bin/Documents/Datasets/KDD99/http_stream.csv\",header=None)\n",
    "\n",
    "del data"
   ]
  },
  {
   "cell_type": "code",
   "execution_count": null,
   "metadata": {
    "collapsed": true
   },
   "outputs": [],
   "source": []
  }
 ],
 "metadata": {
  "kernelspec": {
   "display_name": "Python 3",
   "language": "python",
   "name": "python3"
  },
  "language_info": {
   "codemirror_mode": {
    "name": "ipython",
    "version": 3
   },
   "file_extension": ".py",
   "mimetype": "text/x-python",
   "name": "python",
   "nbconvert_exporter": "python",
   "pygments_lexer": "ipython3",
   "version": "3.6.3"
  }
 },
 "nbformat": 4,
 "nbformat_minor": 2
}
