{
 "cells": [
  {
   "cell_type": "markdown",
   "metadata": {},
   "source": [
    "# Load Dataset"
   ]
  },
  {
   "cell_type": "code",
   "execution_count": 1,
   "metadata": {
    "collapsed": true
   },
   "outputs": [],
   "source": [
    "import pandas as pd\n",
    "import numpy as np"
   ]
  },
  {
   "cell_type": "code",
   "execution_count": 2,
   "metadata": {
    "collapsed": true
   },
   "outputs": [],
   "source": [
    "class Loaddata(object):\n",
    "    def __init__(self):\n",
    "        folder = \"C:/Users/Bin/Documents/Datasets/KDD99/\"\n",
    "        col_name_suffix = \"columns.txt\"\n",
    "        dataset_suffix = \"kddcup.data_10_percent_corrected\"\n",
    "        \n",
    "    def read(self):\n",
    "        if True:\n",
    "            with open(folder+col_name_suffix) as col_file:\n",
    "                line = col_file.readline()\n",
    "            columns = line.split('.')\n",
    "            col_names = []\n",
    "            col_types = []\n",
    "            for col in columns:\n",
    "                col_names.append(col.split(': ')[0].strip())\n",
    "                col_types.append(col.split(': ')[1])\n",
    "            col_names.append(\"label\")\n",
    "            df = pd.read_csv(folder+dataset_suffix,names=col_names)\n",
    "            data = df.iloc[:,np.array(pd.Series(col_types)==\"continuous\")].as_matrix()   #Select only numeric features\n",
    "            label = df.iloc[:,-1]\n",
    "\n",
    "            # Scaling\n",
    "            scaler = MinMaxScaler()\n",
    "            scaler.fit(data)\n",
    "            dataset = scaler.transform(data) \n",
    "            \n",
    "            return dataset\n",
    "            \n",
    "        else:\n",
    "            print(\"Wrong dataset name\")\n",
    "            return "
   ]
  },
  {
   "cell_type": "code",
   "execution_count": null,
   "metadata": {
    "collapsed": true
   },
   "outputs": [],
   "source": []
  }
 ],
 "metadata": {
  "kernelspec": {
   "display_name": "Python 3",
   "language": "python",
   "name": "python3"
  },
  "language_info": {
   "codemirror_mode": {
    "name": "ipython",
    "version": 3
   },
   "file_extension": ".py",
   "mimetype": "text/x-python",
   "name": "python",
   "nbconvert_exporter": "python",
   "pygments_lexer": "ipython3",
   "version": "3.6.3"
  }
 },
 "nbformat": 4,
 "nbformat_minor": 2
}
