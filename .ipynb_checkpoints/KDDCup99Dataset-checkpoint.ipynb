{
 "cells": [
  {
   "cell_type": "markdown",
   "metadata": {},
   "source": [
    "# read data, use only continuous feature columns, scaling, split into train/test sets "
   ]
  },
  {
   "cell_type": "code",
   "execution_count": 103,
   "metadata": {},
   "outputs": [],
   "source": [
    "%matplotlib inline\n",
    "import pandas as pd\n",
    "import numpy as np"
   ]
  },
  {
   "cell_type": "code",
   "execution_count": 65,
   "metadata": {},
   "outputs": [],
   "source": [
    "# column names, is_guest_login & dis_host_login & logged_in & land & flag & service & protocol_type\n",
    "with open(\"C:/Users/Bin/Documents/Datasets/KDD99/columns.txt\") as col_file:\n",
    "    line = col_file.readline()\n",
    "#line = line.replace('.',',')\n",
    "columns = line.split('.')\n",
    "col_names = []\n",
    "col_types = []\n",
    "for col in columns:\n",
    "    col_names.append(col.split(': ')[0].strip())\n",
    "    col_types.append(col.split(': ')[1])\n",
    "col_names.append(\"label\")"
   ]
  },
  {
   "cell_type": "code",
   "execution_count": 75,
   "metadata": {},
   "outputs": [],
   "source": [
    "#import 10% collection samples\n",
    "df = pd.read_csv(\"C:/Users/Bin/Documents/Datasets/KDD99/kddcup.data_10_percent_corrected\",names=col_names)"
   ]
  },
  {
   "cell_type": "code",
   "execution_count": 94,
   "metadata": {},
   "outputs": [],
   "source": [
    "data = df.iloc[:,np.array(pd.Series(col_types)==\"continuous\")]"
   ]
  },
  {
   "cell_type": "code",
   "execution_count": 95,
   "metadata": {},
   "outputs": [
    {
     "data": {
      "text/plain": [
       "(494021, 34)"
      ]
     },
     "execution_count": 95,
     "metadata": {},
     "output_type": "execute_result"
    }
   ],
   "source": [
    "data.shape"
   ]
  },
  {
   "cell_type": "code",
   "execution_count": 97,
   "metadata": {},
   "outputs": [
    {
     "data": {
      "text/plain": [
       "False"
      ]
     },
     "execution_count": 97,
     "metadata": {},
     "output_type": "execute_result"
    }
   ],
   "source": [
    "#check NaN values\n",
    "data.isnull().values.any()"
   ]
  },
  {
   "cell_type": "code",
   "execution_count": 98,
   "metadata": {
    "collapsed": true
   },
   "outputs": [],
   "source": [
    "from sklearn.preprocessing import MinMaxScaler\n",
    "scaler = MinMaxScaler()\n",
    "scaler.fit(data)\n",
    "dataset = scaler.transform(data)"
   ]
  },
  {
   "cell_type": "code",
   "execution_count": 99,
   "metadata": {},
   "outputs": [
    {
     "name": "stdout",
     "output_type": "stream",
     "text": [
      "330994 163027\n"
     ]
    }
   ],
   "source": [
    "train_size = int(len(dataset) * 0.67)\n",
    "test_size = len(dataset) - train_size\n",
    "train, test = dataset[0:train_size,:], dataset[train_size:len(dataset),:]\n",
    "print(len(train), len(test))"
   ]
  },
  {
   "cell_type": "markdown",
   "metadata": {},
   "source": [
    "# train a LSTM-autoencoder"
   ]
  },
  {
   "cell_type": "code",
   "execution_count": 139,
   "metadata": {},
   "outputs": [],
   "source": [
    "from keras.layers import Input, LSTM, RepeatVector\n",
    "from keras.models import Model,Sequential\n",
    "\n",
    "\n",
    "timesteps = 10\n",
    "input_dim = train.shape[1]\n",
    "latent_dim = 5\n",
    "n_epoch = 50\n",
    "n_batch = 30000\n",
    "\n",
    "\n",
    "inputs = Input(shape=(timesteps,input_dim))\n",
    "encoded = LSTM(latent_dim)(inputs)\n",
    "\n",
    "decoded = RepeatVector(timesteps)(encoded)\n",
    "decoded = LSTM(input_dim,return_sequences=True)(decoded)\n",
    "\n",
    "autoencoder = Model(inputs,decoded)\n",
    "encoder = Model(inputs,encoded)\n",
    "\n",
    "\n",
    "autoencoder.compile(optimizer='adadelta',loss='mse')"
   ]
  },
  {
   "cell_type": "code",
   "execution_count": 140,
   "metadata": {},
   "outputs": [],
   "source": [
    "# reshape the dataset: (samples, timesteps, input_dim)\n",
    "import math\n",
    "'''\n",
    "def reshape(dataset,timesteps):\n",
    "    sample_num = math.floor(dataset.shape[0]/timesteps)\n",
    "    new_dataset = np.reshape(dataset[:sample_num*timesteps],(sample_num,timesteps,dataset.shape[1]))\n",
    "    return new_dataset\n",
    "'''\n",
    "def reshape(dataset, look_back=10):\n",
    "    dataX = []\n",
    "    for i in range(len(dataset)-look_back-1):\n",
    "        a = dataset[i:(i+look_back), :]\n",
    "        dataX.append(a)\n",
    "    return np.array(dataX)\n",
    "train3 = reshape(train)\n",
    "test3 = reshape(test)\n"
   ]
  },
  {
   "cell_type": "code",
   "execution_count": 141,
   "metadata": {},
   "outputs": [
    {
     "name": "stdout",
     "output_type": "stream",
     "text": [
      "Train on 330983 samples, validate on 163016 samples\n",
      "Epoch 1/50\n",
      "330983/330983 [==============================] - 29s 88us/step - loss: 0.1754 - val_loss: 0.1636\n",
      "Epoch 2/50\n",
      "330983/330983 [==============================] - 30s 92us/step - loss: 0.1701 - val_loss: 0.1594\n",
      "Epoch 3/50\n",
      "330983/330983 [==============================] - 32s 97us/step - loss: 0.1647 - val_loss: 0.1547\n",
      "Epoch 4/50\n",
      "330983/330983 [==============================] - 32s 96us/step - loss: 0.1584 - val_loss: 0.1490\n",
      "Epoch 5/50\n",
      "330983/330983 [==============================] - 30s 90us/step - loss: 0.1502 - val_loss: 0.1417\n",
      "Epoch 6/50\n",
      "330983/330983 [==============================] - 30s 90us/step - loss: 0.1394 - val_loss: 0.1324\n",
      "Epoch 7/50\n",
      "330983/330983 [==============================] - 30s 91us/step - loss: 0.1261 - val_loss: 0.1220\n",
      "Epoch 8/50\n",
      "330983/330983 [==============================] - 30s 91us/step - loss: 0.1121 - val_loss: 0.1120\n",
      "Epoch 9/50\n",
      "330983/330983 [==============================] - 31s 94us/step - loss: 0.0993 - val_loss: 0.1032\n",
      "Epoch 10/50\n",
      "330983/330983 [==============================] - 30s 90us/step - loss: 0.0883 - val_loss: 0.0956\n",
      "Epoch 11/50\n",
      "330983/330983 [==============================] - 30s 91us/step - loss: 0.0787 - val_loss: 0.0891\n",
      "Epoch 12/50\n",
      "330983/330983 [==============================] - 33s 98us/step - loss: 0.0705 - val_loss: 0.0835\n",
      "Epoch 13/50\n",
      "330983/330983 [==============================] - 30s 90us/step - loss: 0.0634 - val_loss: 0.0787\n",
      "Epoch 14/50\n",
      "330983/330983 [==============================] - 30s 90us/step - loss: 0.0573 - val_loss: 0.0745\n",
      "Epoch 15/50\n",
      "330983/330983 [==============================] - 30s 90us/step - loss: 0.0521 - val_loss: 0.0711\n",
      "Epoch 16/50\n",
      "330983/330983 [==============================] - 30s 90us/step - loss: 0.0478 - val_loss: 0.0683\n",
      "Epoch 17/50\n",
      "330983/330983 [==============================] - 30s 90us/step - loss: 0.0444 - val_loss: 0.0660\n",
      "Epoch 18/50\n",
      "330983/330983 [==============================] - 29s 89us/step - loss: 0.0415 - val_loss: 0.0641\n",
      "Epoch 19/50\n",
      "330983/330983 [==============================] - 29s 88us/step - loss: 0.0392 - val_loss: 0.0624\n",
      "Epoch 20/50\n",
      "330983/330983 [==============================] - 29s 89us/step - loss: 0.0373 - val_loss: 0.0609\n",
      "Epoch 21/50\n",
      "330983/330983 [==============================] - 29s 88us/step - loss: 0.0357 - val_loss: 0.0595\n",
      "Epoch 22/50\n",
      "330983/330983 [==============================] - 29s 88us/step - loss: 0.0344 - val_loss: 0.0582\n",
      "Epoch 23/50\n",
      "330983/330983 [==============================] - 29s 88us/step - loss: 0.0332 - val_loss: 0.0569\n",
      "Epoch 24/50\n",
      "330983/330983 [==============================] - 29s 89us/step - loss: 0.0320 - val_loss: 0.0555\n",
      "Epoch 25/50\n",
      "330983/330983 [==============================] - 31s 94us/step - loss: 0.0308 - val_loss: 0.0541\n",
      "Epoch 26/50\n",
      "330983/330983 [==============================] - 31s 94us/step - loss: 0.0296 - val_loss: 0.0528\n",
      "Epoch 27/50\n",
      "330983/330983 [==============================] - 30s 90us/step - loss: 0.0285 - val_loss: 0.0516\n",
      "Epoch 28/50\n",
      "330983/330983 [==============================] - 30s 90us/step - loss: 0.0274 - val_loss: 0.0506\n",
      "Epoch 29/50\n",
      "330983/330983 [==============================] - 30s 91us/step - loss: 0.0264 - val_loss: 0.0497\n",
      "Epoch 30/50\n",
      "330983/330983 [==============================] - 32s 95us/step - loss: 0.0255 - val_loss: 0.0488\n",
      "Epoch 31/50\n",
      "330983/330983 [==============================] - 32s 98us/step - loss: 0.0246 - val_loss: 0.0480\n",
      "Epoch 32/50\n",
      "330983/330983 [==============================] - 31s 92us/step - loss: 0.0238 - val_loss: 0.0472\n",
      "Epoch 33/50\n",
      "330983/330983 [==============================] - 30s 91us/step - loss: 0.0231 - val_loss: 0.0465\n",
      "Epoch 34/50\n",
      "330983/330983 [==============================] - 30s 90us/step - loss: 0.0224 - val_loss: 0.0457\n",
      "Epoch 35/50\n",
      "330983/330983 [==============================] - 31s 93us/step - loss: 0.0217 - val_loss: 0.0450\n",
      "Epoch 36/50\n",
      "330983/330983 [==============================] - 32s 96us/step - loss: 0.0211 - val_loss: 0.0443\n",
      "Epoch 37/50\n",
      "330983/330983 [==============================] - 32s 97us/step - loss: 0.0205 - val_loss: 0.0435\n",
      "Epoch 38/50\n",
      "330983/330983 [==============================] - 31s 93us/step - loss: 0.0199 - val_loss: 0.0429\n",
      "Epoch 39/50\n",
      "330983/330983 [==============================] - 33s 100us/step - loss: 0.0194 - val_loss: 0.0422\n",
      "Epoch 40/50\n",
      "330983/330983 [==============================] - 33s 99us/step - loss: 0.0188 - val_loss: 0.0416\n",
      "Epoch 41/50\n",
      "330983/330983 [==============================] - 31s 94us/step - loss: 0.0183 - val_loss: 0.0410\n",
      "Epoch 42/50\n",
      "330983/330983 [==============================] - 31s 93us/step - loss: 0.0178 - val_loss: 0.0404\n",
      "Epoch 43/50\n",
      "330983/330983 [==============================] - 31s 93us/step - loss: 0.0174 - val_loss: 0.0399\n",
      "Epoch 44/50\n",
      "330983/330983 [==============================] - 33s 100us/step - loss: 0.0169 - val_loss: 0.0394\n",
      "Epoch 45/50\n",
      "330983/330983 [==============================] - 34s 101us/step - loss: 0.0165 - val_loss: 0.0389\n",
      "Epoch 46/50\n",
      "330983/330983 [==============================] - 32s 95us/step - loss: 0.0161 - val_loss: 0.0385\n",
      "Epoch 47/50\n",
      "330983/330983 [==============================] - 34s 103us/step - loss: 0.0158 - val_loss: 0.0380\n",
      "Epoch 48/50\n",
      "330983/330983 [==============================] - 34s 103us/step - loss: 0.0154 - val_loss: 0.0376\n",
      "Epoch 49/50\n",
      "330983/330983 [==============================] - 33s 99us/step - loss: 0.0150 - val_loss: 0.0372\n",
      "Epoch 50/50\n",
      "330983/330983 [==============================] - 32s 98us/step - loss: 0.0147 - val_loss: 0.0368\n"
     ]
    }
   ],
   "source": [
    "# train the autoencoder\n",
    "history = autoencoder.fit(train3,train3,\n",
    "                epochs=n_epoch,\n",
    "                batch_size=n_batch,\n",
    "                validation_data=(test3,test3))"
   ]
  },
  {
   "cell_type": "code",
   "execution_count": 142,
   "metadata": {},
   "outputs": [
    {
     "data": {
      "image/png": "[encoded data removed]",
      "text/plain": [
       "<matplotlib.figure.Figure at 0x1aff67d94e0>"
      ]
     },
     "metadata": {},
     "output_type": "display_data"
    }
   ],
   "source": [
    "import matplotlib.pyplot as plt\n",
    "\n",
    "plt.plot(history.history[\"loss\"])\n",
    "plt.plot(history.history[\"val_loss\"])\n",
    "plt.title('model loss')\n",
    "plt.ylabel('loss')\n",
    "plt.xlabel('epoch')\n",
    "plt.legend(['train', 'test'], loc='upper right')\n",
    "plt.show()"
   ]
  },
  {
   "cell_type": "code",
   "execution_count": 143,
   "metadata": {
    "collapsed": true
   },
   "outputs": [],
   "source": [
    "encoded_train = encoder.predict(train3)\n",
    "encoded_test = encoder.predict(test3)"
   ]
  },
  {
   "cell_type": "code",
   "execution_count": 151,
   "metadata": {},
   "outputs": [
    {
     "data": {
      "text/plain": [
       "(330983, 5)"
      ]
     },
     "execution_count": 151,
     "metadata": {},
     "output_type": "execute_result"
    }
   ],
   "source": [
    "encoded_train.shape"
   ]
  },
  {
   "cell_type": "code",
   "execution_count": 153,
   "metadata": {},
   "outputs": [],
   "source": [
    "pd.DataFrame(encoded_train).to_csv(\"C:/Users/Bin/Documents/Datasets/KDD99/kddcup_encoded_train\",index=False,header=None)\n",
    "pd.DataFrame(encoded_test).to_csv(\"C:/Users/Bin/Documents/Datasets/KDD99/kddcup_encoded_test\",index=False,header=None)"
   ]
  },
  {
   "cell_type": "code",
   "execution_count": 159,
   "metadata": {},
   "outputs": [
    {
     "data": {
      "text/plain": [
       "<matplotlib.axes._subplots.AxesSubplot at 0x1affa965c50>"
      ]
     },
     "execution_count": 159,
     "metadata": {},
     "output_type": "execute_result"
    },
    {
     "data": {
      "image/png": "[encoded data removed]",
      "text/plain": [
       "<matplotlib.figure.Figure at 0x1affaa31eb8>"
      ]
     },
     "metadata": {},
     "output_type": "display_data"
    }
   ],
   "source": [
    "pd.DataFrame(encoded_test)[1].plot()"
   ]
  },
  {
   "cell_type": "code",
   "execution_count": 160,
   "metadata": {},
   "outputs": [
    {
     "data": {
      "text/plain": [
       "<matplotlib.axes._subplots.AxesSubplot at 0x1affaa317b8>"
      ]
     },
     "execution_count": 160,
     "metadata": {},
     "output_type": "execute_result"
    },
    {
     "data": {
      "image/png": "[encoded data removed]",
      "text/plain": [
       "<matplotlib.figure.Figure at 0x1aff6649e48>"
      ]
     },
     "metadata": {},
     "output_type": "display_data"
    }
   ],
   "source": [
    "pd.DataFrame(test)[1].plot()"
   ]
  }
 ],
 "metadata": {
  "kernelspec": {
   "display_name": "Python 3",
   "language": "python",
   "name": "python3"
  },
  "language_info": {
   "codemirror_mode": {
    "name": "ipython",
    "version": 3
   },
   "file_extension": ".py",
   "mimetype": "text/x-python",
   "name": "python",
   "nbconvert_exporter": "python",
   "pygments_lexer": "ipython3",
   "version": "3.6.3"
  }
 },
 "nbformat": 4,
 "nbformat_minor": 2
}
