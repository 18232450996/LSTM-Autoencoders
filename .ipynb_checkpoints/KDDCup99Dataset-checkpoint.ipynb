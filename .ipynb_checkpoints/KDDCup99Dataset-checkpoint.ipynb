{
 "cells": [
  {
   "cell_type": "markdown",
   "metadata": {},
   "source": [
    "# read data, use only continuous feature columns, scaling, split into train/test sets "
   ]
  },
  {
   "cell_type": "code",
   "execution_count": 1,
   "metadata": {
    "collapsed": true
   },
   "outputs": [],
   "source": [
    "%matplotlib inline\n",
    "import pandas as pd\n",
    "import numpy as np"
   ]
  },
  {
   "cell_type": "code",
   "execution_count": 2,
   "metadata": {
    "collapsed": true
   },
   "outputs": [],
   "source": [
    "# column names, is_guest_login & dis_host_login & logged_in & land & flag & service & protocol_type\n",
    "with open(\"C:/Users/Bin/Documents/Datasets/KDD99/columns.txt\") as col_file:\n",
    "    line = col_file.readline()\n",
    "#line = line.replace('.',',')\n",
    "columns = line.split('.')\n",
    "col_names = []\n",
    "col_types = []\n",
    "for col in columns:\n",
    "    col_names.append(col.split(': ')[0].strip())\n",
    "    col_types.append(col.split(': ')[1])\n",
    "col_names.append(\"label\")"
   ]
  },
  {
   "cell_type": "code",
   "execution_count": 3,
   "metadata": {
    "collapsed": true
   },
   "outputs": [],
   "source": [
    "#import 10% collection samples\n",
    "df = pd.read_csv(\"C:/Users/Bin/Documents/Datasets/KDD99/kddcup.data_10_percent_corrected\",names=col_names)"
   ]
  },
  {
   "cell_type": "code",
   "execution_count": 4,
   "metadata": {
    "collapsed": true
   },
   "outputs": [],
   "source": [
    "data = df.iloc[:,np.array(pd.Series(col_types)==\"continuous\")]\n",
    "label = df.iloc[:,-1]"
   ]
  },
  {
   "cell_type": "code",
   "execution_count": 33,
   "metadata": {},
   "outputs": [
    {
     "data": {
      "text/plain": [
       "False"
      ]
     },
     "execution_count": 33,
     "metadata": {},
     "output_type": "execute_result"
    }
   ],
   "source": [
    "#check NaN values\n",
    "data.isnull().values.any()"
   ]
  },
  {
   "cell_type": "code",
   "execution_count": 5,
   "metadata": {
    "collapsed": true
   },
   "outputs": [],
   "source": [
    "from sklearn.preprocessing import MinMaxScaler\n",
    "scaler = MinMaxScaler()\n",
    "scaler.fit(data)\n",
    "dataset = scaler.transform(data)"
   ]
  },
  {
   "cell_type": "code",
   "execution_count": 6,
   "metadata": {},
   "outputs": [
    {
     "name": "stdout",
     "output_type": "stream",
     "text": [
      "330994 163027\n"
     ]
    }
   ],
   "source": [
    "train_size = int(len(dataset) * 0.67)\n",
    "test_size = len(dataset) - train_size\n",
    "train, test = dataset[0:train_size,:], dataset[train_size:len(dataset),:]\n",
    "y_train, y_test = label[0:train_size],label[train_size:len(dataset)]\n",
    "print(len(train), len(test))"
   ]
  },
  {
   "cell_type": "code",
   "execution_count": 8,
   "metadata": {},
   "outputs": [
    {
     "data": {
      "text/plain": [
       "(163027, 34)"
      ]
     },
     "execution_count": 8,
     "metadata": {},
     "output_type": "execute_result"
    }
   ],
   "source": [
    "train.shape\n",
    "test.shape"
   ]
  },
  {
   "cell_type": "markdown",
   "metadata": {},
   "source": [
    "# Train a LSTM-autoencoder"
   ]
  },
  {
   "cell_type": "code",
   "execution_count": 55,
   "metadata": {
    "collapsed": true
   },
   "outputs": [],
   "source": [
    "from keras.layers import Input, LSTM, RepeatVector\n",
    "from keras.models import Model,Sequential\n",
    "\n",
    "\n",
    "timesteps = 300\n",
    "input_dim = train.shape[1]\n",
    "latent_dim = 5\n",
    "n_epoch = 100\n",
    "n_batch = 3000\n",
    "\n",
    "\n",
    "inputs = Input(shape=(timesteps,input_dim))\n",
    "#encoded = LSTM(latent_dim)(inputs)\n",
    "encoded = LSTM(latent_dim,return_sequences=True)(inputs) #use return_sequences instead of repeat vector\n",
    "#decoded = RepeatVector(timesteps)(encoded)\n",
    "#decoded = LSTM(input_dim,return_sequences=True)(decoded)\n",
    "decoded = LSTM(input_dim,return_sequences=True)(encoded) #use return_sequences instead of repeat vector\n",
    "autoencoder = Model(inputs,decoded)\n",
    "encoder = Model(inputs,encoded)\n",
    "\n",
    "\n",
    "autoencoder.compile(optimizer='adadelta',loss='mse')"
   ]
  },
  {
   "cell_type": "code",
   "execution_count": 57,
   "metadata": {
    "collapsed": true
   },
   "outputs": [],
   "source": [
    "# reshape the dataset: (samples, timesteps, input_dim)\n",
    "import math\n",
    "\n",
    "def reshape(dataset,timesteps):\n",
    "    sample_num = math.floor(dataset.shape[0]/timesteps)\n",
    "    new_dataset = np.reshape(dataset[:sample_num*timesteps],(sample_num,timesteps,dataset.shape[1]))\n",
    "    return new_dataset\n",
    "\n",
    "'''\n",
    "def reshape(dataset, look_back=10):\n",
    "    dataX = []\n",
    "    for i in range(len(dataset)-look_back-1):\n",
    "        a = dataset[i:(i+look_back), :]\n",
    "        dataX.append(a)\n",
    "    return np.array(dataX)\n",
    "'''\n",
    "train3 = reshape(train,timesteps)\n",
    "test3 = reshape(test,timesteps)\n"
   ]
  },
  {
   "cell_type": "code",
   "execution_count": 59,
   "metadata": {},
   "outputs": [
    {
     "name": "stdout",
     "output_type": "stream",
     "text": [
      "Train on 1103 samples, validate on 543 samples\n",
      "Epoch 1/100\n",
      "1103/1103 [==============================] - 4s 4ms/step - loss: 0.1841 - val_loss: 0.1702\n",
      "Epoch 2/100\n",
      "1103/1103 [==============================] - 2s 2ms/step - loss: 0.1831 - val_loss: 0.1694\n",
      "Epoch 3/100\n",
      "1103/1103 [==============================] - 2s 2ms/step - loss: 0.1821 - val_loss: 0.1687\n",
      "Epoch 4/100\n",
      "1103/1103 [==============================] - 3s 2ms/step - loss: 0.1812 - val_loss: 0.1680\n",
      "Epoch 5/100\n",
      "1103/1103 [==============================] - 3s 2ms/step - loss: 0.1803 - val_loss: 0.1673\n",
      "Epoch 6/100\n",
      "1103/1103 [==============================] - 3s 3ms/step - loss: 0.1794 - val_loss: 0.1667\n",
      "Epoch 7/100\n",
      "1103/1103 [==============================] - 3s 3ms/step - loss: 0.1785 - val_loss: 0.1660\n",
      "Epoch 8/100\n",
      "1103/1103 [==============================] - 3s 3ms/step - loss: 0.1776 - val_loss: 0.1653\n",
      "Epoch 9/100\n",
      "1103/1103 [==============================] - 3s 2ms/step - loss: 0.1767 - val_loss: 0.1647\n",
      "Epoch 10/100\n",
      "1103/1103 [==============================] - 3s 2ms/step - loss: 0.1758 - val_loss: 0.1640\n",
      "Epoch 11/100\n",
      "1103/1103 [==============================] - 3s 3ms/step - loss: 0.1750 - val_loss: 0.1634\n",
      "Epoch 12/100\n",
      "1103/1103 [==============================] - 3s 3ms/step - loss: 0.1741 - val_loss: 0.1627\n",
      "Epoch 13/100\n",
      "1103/1103 [==============================] - 3s 3ms/step - loss: 0.1732 - val_loss: 0.1621\n",
      "Epoch 14/100\n",
      "1103/1103 [==============================] - 3s 3ms/step - loss: 0.1724 - val_loss: 0.1614\n",
      "Epoch 15/100\n",
      "1103/1103 [==============================] - 3s 3ms/step - loss: 0.1715 - val_loss: 0.1608\n",
      "Epoch 16/100\n",
      "1103/1103 [==============================] - 3s 3ms/step - loss: 0.1706 - val_loss: 0.1601\n",
      "Epoch 17/100\n",
      "1103/1103 [==============================] - 3s 3ms/step - loss: 0.1697 - val_loss: 0.1594\n",
      "Epoch 18/100\n",
      "1103/1103 [==============================] - 3s 3ms/step - loss: 0.1688 - val_loss: 0.1587\n",
      "Epoch 19/100\n",
      "1103/1103 [==============================] - 3s 3ms/step - loss: 0.1679 - val_loss: 0.1580\n",
      "Epoch 20/100\n",
      "1103/1103 [==============================] - 3s 3ms/step - loss: 0.1669 - val_loss: 0.1573\n",
      "Epoch 21/100\n",
      "1103/1103 [==============================] - 3s 3ms/step - loss: 0.1660 - val_loss: 0.1566\n",
      "Epoch 22/100\n",
      "1103/1103 [==============================] - 3s 3ms/step - loss: 0.1650 - val_loss: 0.1558\n",
      "Epoch 23/100\n",
      "1103/1103 [==============================] - 3s 3ms/step - loss: 0.1639 - val_loss: 0.1550\n",
      "Epoch 24/100\n",
      "1103/1103 [==============================] - 3s 3ms/step - loss: 0.1629 - val_loss: 0.1542\n",
      "Epoch 25/100\n",
      "1103/1103 [==============================] - 3s 3ms/step - loss: 0.1618 - val_loss: 0.1534\n",
      "Epoch 26/100\n",
      "1103/1103 [==============================] - 3s 3ms/step - loss: 0.1607 - val_loss: 0.1526\n",
      "Epoch 27/100\n",
      "1103/1103 [==============================] - 3s 3ms/step - loss: 0.1595 - val_loss: 0.1517\n",
      "Epoch 28/100\n",
      "1103/1103 [==============================] - 3s 3ms/step - loss: 0.1583 - val_loss: 0.1508\n",
      "Epoch 29/100\n",
      "1103/1103 [==============================] - 3s 3ms/step - loss: 0.1571 - val_loss: 0.1498\n",
      "Epoch 30/100\n",
      "1103/1103 [==============================] - 3s 3ms/step - loss: 0.1557 - val_loss: 0.1488\n",
      "Epoch 31/100\n",
      "1103/1103 [==============================] - 3s 3ms/step - loss: 0.1544 - val_loss: 0.1478\n",
      "Epoch 32/100\n",
      "1103/1103 [==============================] - 3s 3ms/step - loss: 0.1530 - val_loss: 0.1467\n",
      "Epoch 33/100\n",
      "1103/1103 [==============================] - 3s 3ms/step - loss: 0.1515 - val_loss: 0.1456\n",
      "Epoch 34/100\n",
      "1103/1103 [==============================] - 3s 3ms/step - loss: 0.1499 - val_loss: 0.1444\n",
      "Epoch 35/100\n",
      "1103/1103 [==============================] - 3s 3ms/step - loss: 0.1483 - val_loss: 0.1432\n",
      "Epoch 36/100\n",
      "1103/1103 [==============================] - 3s 3ms/step - loss: 0.1466 - val_loss: 0.1419\n",
      "Epoch 37/100\n",
      "1103/1103 [==============================] - 3s 3ms/step - loss: 0.1449 - val_loss: 0.1406\n",
      "Epoch 38/100\n",
      "1103/1103 [==============================] - 3s 3ms/step - loss: 0.1430 - val_loss: 0.1392\n",
      "Epoch 39/100\n",
      "1103/1103 [==============================] - 4s 3ms/step - loss: 0.1411 - val_loss: 0.1378\n",
      "Epoch 40/100\n",
      "1103/1103 [==============================] - 3s 3ms/step - loss: 0.1391 - val_loss: 0.1363\n",
      "Epoch 41/100\n",
      "1103/1103 [==============================] - 3s 3ms/step - loss: 0.1371 - val_loss: 0.1348\n",
      "Epoch 42/100\n",
      "1103/1103 [==============================] - 4s 4ms/step - loss: 0.1350 - val_loss: 0.1332\n",
      "Epoch 43/100\n",
      "1103/1103 [==============================] - 4s 4ms/step - loss: 0.1329 - val_loss: 0.1317\n",
      "Epoch 44/100\n",
      "1103/1103 [==============================] - 3s 3ms/step - loss: 0.1307 - val_loss: 0.1301\n",
      "Epoch 45/100\n",
      "1103/1103 [==============================] - 3s 3ms/step - loss: 0.1285 - val_loss: 0.1285\n",
      "Epoch 46/100\n",
      "1103/1103 [==============================] - 3s 3ms/step - loss: 0.1263 - val_loss: 0.1269\n",
      "Epoch 47/100\n",
      "1103/1103 [==============================] - 3s 3ms/step - loss: 0.1241 - val_loss: 0.1254\n",
      "Epoch 48/100\n",
      "1103/1103 [==============================] - 4s 3ms/step - loss: 0.1219 - val_loss: 0.1239\n",
      "Epoch 49/100\n",
      "1103/1103 [==============================] - 4s 4ms/step - loss: 0.1198 - val_loss: 0.1224\n",
      "Epoch 50/100\n",
      "1103/1103 [==============================] - 4s 4ms/step - loss: 0.1177 - val_loss: 0.1209\n",
      "Epoch 51/100\n",
      "1103/1103 [==============================] - 4s 3ms/step - loss: 0.1157 - val_loss: 0.1195\n",
      "Epoch 52/100\n",
      "1103/1103 [==============================] - 3s 3ms/step - loss: 0.1137 - val_loss: 0.1181\n",
      "Epoch 53/100\n",
      "1103/1103 [==============================] - 4s 3ms/step - loss: 0.1118 - val_loss: 0.1168\n",
      "Epoch 54/100\n",
      "1103/1103 [==============================] - 4s 3ms/step - loss: 0.1099 - val_loss: 0.1155\n",
      "Epoch 55/100\n",
      "1103/1103 [==============================] - 4s 3ms/step - loss: 0.1081 - val_loss: 0.1142\n",
      "Epoch 56/100\n",
      "1103/1103 [==============================] - 4s 3ms/step - loss: 0.1063 - val_loss: 0.1130\n",
      "Epoch 57/100\n",
      "1103/1103 [==============================] - 4s 3ms/step - loss: 0.1046 - val_loss: 0.1118\n",
      "Epoch 58/100\n",
      "1103/1103 [==============================] - 4s 3ms/step - loss: 0.1029 - val_loss: 0.1106\n",
      "Epoch 59/100\n",
      "1103/1103 [==============================] - 4s 4ms/step - loss: 0.1013 - val_loss: 0.1095\n",
      "Epoch 60/100\n",
      "1103/1103 [==============================] - 4s 4ms/step - loss: 0.0997 - val_loss: 0.1084\n",
      "Epoch 61/100\n",
      "1103/1103 [==============================] - 4s 4ms/step - loss: 0.0982 - val_loss: 0.1073\n",
      "Epoch 62/100\n",
      "1103/1103 [==============================] - 4s 4ms/step - loss: 0.0967 - val_loss: 0.1062\n",
      "Epoch 63/100\n",
      "1103/1103 [==============================] - 4s 4ms/step - loss: 0.0952 - val_loss: 0.1052\n",
      "Epoch 64/100\n",
      "1103/1103 [==============================] - 4s 4ms/step - loss: 0.0938 - val_loss: 0.1042\n",
      "Epoch 65/100\n",
      "1103/1103 [==============================] - 4s 4ms/step - loss: 0.0924 - val_loss: 0.1032\n",
      "Epoch 66/100\n",
      "1103/1103 [==============================] - 4s 4ms/step - loss: 0.0911 - val_loss: 0.1022\n",
      "Epoch 67/100\n",
      "1103/1103 [==============================] - 4s 4ms/step - loss: 0.0897 - val_loss: 0.1013\n",
      "Epoch 68/100\n",
      "1103/1103 [==============================] - 4s 4ms/step - loss: 0.0884 - val_loss: 0.1004\n",
      "Epoch 69/100\n",
      "1103/1103 [==============================] - 4s 4ms/step - loss: 0.0872 - val_loss: 0.0995\n",
      "Epoch 70/100\n",
      "1103/1103 [==============================] - 4s 3ms/step - loss: 0.0859 - val_loss: 0.0986\n",
      "Epoch 71/100\n",
      "1103/1103 [==============================] - 4s 4ms/step - loss: 0.0847 - val_loss: 0.0977\n",
      "Epoch 72/100\n",
      "1103/1103 [==============================] - 4s 4ms/step - loss: 0.0835 - val_loss: 0.0969\n",
      "Epoch 73/100\n",
      "1103/1103 [==============================] - 4s 4ms/step - loss: 0.0824 - val_loss: 0.0961\n",
      "Epoch 74/100\n",
      "1103/1103 [==============================] - 4s 4ms/step - loss: 0.0812 - val_loss: 0.0952\n",
      "Epoch 75/100\n",
      "1103/1103 [==============================] - 4s 4ms/step - loss: 0.0801 - val_loss: 0.0945\n",
      "Epoch 76/100\n",
      "1103/1103 [==============================] - 4s 4ms/step - loss: 0.0791 - val_loss: 0.0937\n",
      "Epoch 77/100\n",
      "1103/1103 [==============================] - 4s 4ms/step - loss: 0.0780 - val_loss: 0.0929\n",
      "Epoch 78/100\n",
      "1103/1103 [==============================] - 4s 3ms/step - loss: 0.0770 - val_loss: 0.0922\n",
      "Epoch 79/100\n",
      "1103/1103 [==============================] - 4s 3ms/step - loss: 0.0760 - val_loss: 0.0915\n"
     ]
    },
    {
     "name": "stdout",
     "output_type": "stream",
     "text": [
      "Epoch 80/100\n",
      "1103/1103 [==============================] - 4s 3ms/step - loss: 0.0750 - val_loss: 0.0908\n",
      "Epoch 81/100\n",
      "1103/1103 [==============================] - 4s 3ms/step - loss: 0.0740 - val_loss: 0.0901\n",
      "Epoch 82/100\n",
      "1103/1103 [==============================] - 4s 3ms/step - loss: 0.0731 - val_loss: 0.0894\n",
      "Epoch 83/100\n",
      "1103/1103 [==============================] - 4s 3ms/step - loss: 0.0722 - val_loss: 0.0888\n",
      "Epoch 84/100\n",
      "1103/1103 [==============================] - 4s 3ms/step - loss: 0.0713 - val_loss: 0.0881\n",
      "Epoch 85/100\n",
      "1103/1103 [==============================] - 4s 3ms/step - loss: 0.0704 - val_loss: 0.0875\n",
      "Epoch 86/100\n",
      "1103/1103 [==============================] - 4s 3ms/step - loss: 0.0695 - val_loss: 0.0869\n",
      "Epoch 87/100\n",
      "1103/1103 [==============================] - 4s 3ms/step - loss: 0.0687 - val_loss: 0.0863\n",
      "Epoch 88/100\n",
      "1103/1103 [==============================] - 4s 3ms/step - loss: 0.0679 - val_loss: 0.0857\n",
      "Epoch 89/100\n",
      "1103/1103 [==============================] - 4s 3ms/step - loss: 0.0671 - val_loss: 0.0851\n",
      "Epoch 90/100\n",
      "1103/1103 [==============================] - 4s 3ms/step - loss: 0.0663 - val_loss: 0.0846\n",
      "Epoch 91/100\n",
      "1103/1103 [==============================] - 4s 3ms/step - loss: 0.0655 - val_loss: 0.0840\n",
      "Epoch 92/100\n",
      "1103/1103 [==============================] - 4s 3ms/step - loss: 0.0648 - val_loss: 0.0835\n",
      "Epoch 93/100\n",
      "1103/1103 [==============================] - 4s 3ms/step - loss: 0.0640 - val_loss: 0.0830\n",
      "Epoch 94/100\n",
      "1103/1103 [==============================] - 4s 3ms/step - loss: 0.0633 - val_loss: 0.0824\n",
      "Epoch 95/100\n",
      "1103/1103 [==============================] - 4s 3ms/step - loss: 0.0626 - val_loss: 0.0819\n",
      "Epoch 96/100\n",
      "1103/1103 [==============================] - 4s 3ms/step - loss: 0.0619 - val_loss: 0.0814\n",
      "Epoch 97/100\n",
      "1103/1103 [==============================] - 4s 3ms/step - loss: 0.0613 - val_loss: 0.0809\n",
      "Epoch 98/100\n",
      "1103/1103 [==============================] - 4s 3ms/step - loss: 0.0606 - val_loss: 0.0805\n",
      "Epoch 99/100\n",
      "1103/1103 [==============================] - 4s 3ms/step - loss: 0.0600 - val_loss: 0.0800\n",
      "Epoch 100/100\n",
      "1103/1103 [==============================] - 4s 3ms/step - loss: 0.0593 - val_loss: 0.0795\n"
     ]
    }
   ],
   "source": [
    "# train the autoencoder\n",
    "history = autoencoder.fit(train3,train3,\n",
    "                epochs=n_epoch,\n",
    "                batch_size=n_batch,\n",
    "                validation_data=(test3,test3))"
   ]
  },
  {
   "cell_type": "code",
   "execution_count": 61,
   "metadata": {},
   "outputs": [
    {
     "data": {
      "image/png": "[encoded data removed]",
      "text/plain": [
       "<matplotlib.figure.Figure at 0x29f09cce400>"
      ]
     },
     "metadata": {},
     "output_type": "display_data"
    }
   ],
   "source": [
    "import matplotlib.pyplot as plt\n",
    "\n",
    "plt.plot(history.history[\"loss\"])\n",
    "plt.plot(history.history[\"val_loss\"])\n",
    "plt.title('model loss')\n",
    "plt.ylabel('loss')\n",
    "plt.xlabel('epoch')\n",
    "plt.legend(['train', 'test'], loc='upper right')\n",
    "plt.show()"
   ]
  },
  {
   "cell_type": "code",
   "execution_count": 63,
   "metadata": {
    "collapsed": true
   },
   "outputs": [],
   "source": [
    "encoded_train = encoder.predict(train3)\n",
    "encoded_test = encoder.predict(test3)"
   ]
  },
  {
   "cell_type": "code",
   "execution_count": 64,
   "metadata": {
    "collapsed": true
   },
   "outputs": [],
   "source": [
    "encoded_train = np.reshape(encoded_train,(encoded_train.shape[0]*encoded_train.shape[1],encoded_train.shape[2]))\n",
    "encoded_test = np.reshape(encoded_test,(encoded_test.shape[0]*encoded_test.shape[1],encoded_test.shape[2]))"
   ]
  },
  {
   "cell_type": "code",
   "execution_count": 65,
   "metadata": {
    "collapsed": true
   },
   "outputs": [],
   "source": [
    "pd.DataFrame(encoded_train).to_csv(\"C:/Users/Bin/Documents/Datasets/KDD99/kddcup_encoded_train\",index=False,header=None)\n",
    "pd.DataFrame(encoded_test).to_csv(\"C:/Users/Bin/Documents/Datasets/KDD99/kddcup_encoded_test\",index=False,header=None)"
   ]
  },
  {
   "cell_type": "code",
   "execution_count": 66,
   "metadata": {},
   "outputs": [
    {
     "data": {
      "text/plain": [
       "<matplotlib.axes._subplots.AxesSubplot at 0x29f0f5aa358>"
      ]
     },
     "execution_count": 66,
     "metadata": {},
     "output_type": "execute_result"
    },
    {
     "data": {
      "image/png": "[encoded data removed]",
      "text/plain": [
       "<matplotlib.figure.Figure at 0x29f0f5786d8>"
      ]
     },
     "metadata": {},
     "output_type": "display_data"
    }
   ],
   "source": [
    "pd.DataFrame(encoded_test)[1].plot()"
   ]
  },
  {
   "cell_type": "code",
   "execution_count": 46,
   "metadata": {},
   "outputs": [
    {
     "data": {
      "text/plain": [
       "<matplotlib.axes._subplots.AxesSubplot at 0x29f09843748>"
      ]
     },
     "execution_count": 46,
     "metadata": {},
     "output_type": "execute_result"
    },
    {
     "data": {
      "image/png": "[encoded data removed]",
      "text/plain": [
       "<matplotlib.figure.Figure at 0x29f05accac8>"
      ]
     },
     "metadata": {},
     "output_type": "display_data"
    }
   ],
   "source": [
    "pd.DataFrame(test)[1].plot()"
   ]
  },
  {
   "cell_type": "markdown",
   "metadata": {},
   "source": [
    "# network status classification using encoded dataset "
   ]
  },
  {
   "cell_type": "code",
   "execution_count": 173,
   "metadata": {},
   "outputs": [
    {
     "data": {
      "text/plain": [
       "array(['smurf.', 'normal.', 'satan.', 'ipsweep.', 'buffer_overflow.',\n",
       "       'portsweep.', 'perl.', 'pod.', 'teardrop.', 'land.', 'neptune.',\n",
       "       'loadmodule.', 'rootkit.', 'phf.', 'back.'], dtype=object)"
      ]
     },
     "execution_count": 173,
     "metadata": {},
     "output_type": "execute_result"
    }
   ],
   "source": [
    "y_test.unique()"
   ]
  },
  {
   "cell_type": "code",
   "execution_count": 47,
   "metadata": {
    "collapsed": true
   },
   "outputs": [],
   "source": [
    "# mapping class labels to num\n",
    "with open(\"C:/Users/Bin/Documents/Datasets/KDD99/classes.txt\") as f:\n",
    "    line = f.readline()\n",
    "classes = line.split(\",\")\n",
    "class_dic = {classes[i]:i for i in range(len(classes))}\n",
    "y_train_num = [class_dic[x.strip('.')] for x in y_train]\n",
    "y_test_num = [class_dic[x.strip('.')] for x in y_test]"
   ]
  },
  {
   "cell_type": "code",
   "execution_count": 67,
   "metadata": {},
   "outputs": [
    {
     "data": {
      "text/plain": [
       "SVC(C=1.0, cache_size=200, class_weight=None, coef0=0.0,\n",
       "  decision_function_shape='ovr', degree=3, gamma='auto', kernel='rbf',\n",
       "  max_iter=-1, probability=False, random_state=None, shrinking=True,\n",
       "  tol=0.001, verbose=False)"
      ]
     },
     "execution_count": 67,
     "metadata": {},
     "output_type": "execute_result"
    }
   ],
   "source": [
    "from sklearn import svm\n",
    "# encoded dataset\n",
    "clf = svm.SVC()\n",
    "clf.fit(encoded_train,y_train_num[:encoded_train.shape[0]])"
   ]
  },
  {
   "cell_type": "code",
   "execution_count": 49,
   "metadata": {},
   "outputs": [
    {
     "data": {
      "text/plain": [
       "SVC(C=1.0, cache_size=200, class_weight=None, coef0=0.0,\n",
       "  decision_function_shape='ovr', degree=3, gamma='auto', kernel='rbf',\n",
       "  max_iter=-1, probability=False, random_state=None, shrinking=True,\n",
       "  tol=0.001, verbose=False)"
      ]
     },
     "execution_count": 49,
     "metadata": {},
     "output_type": "execute_result"
    }
   ],
   "source": [
    "# original dataset\n",
    "clf_ori = svm.SVC()\n",
    "clf_ori.fit(train,y_train_num)"
   ]
  },
  {
   "cell_type": "code",
   "execution_count": 69,
   "metadata": {},
   "outputs": [
    {
     "name": "stdout",
     "output_type": "stream",
     "text": [
      "time used of prediction using encoded dataset:  161 s\n",
      "time used of prediction using original dataset:  86260 s\n"
     ]
    }
   ],
   "source": [
    "from datetime import datetime\n",
    "\n",
    "#encoded\n",
    "dt1 = datetime.now()\n",
    "prediction = clf.predict(encoded_test)\n",
    "dt2 = datetime.now()\n",
    "print(\"time used of prediction using encoded dataset: \",(dt2-dt1).seconds,\"s\")\n",
    "#original\n",
    "dt3 = datetime.now()\n",
    "prediction_ori = clf_ori.predict(test)\n",
    "dt4 = datetime.now()\n",
    "print(\"time used of prediction using original dataset: \",(dt4-dt3).seconds,\"s\")"
   ]
  },
  {
   "cell_type": "code",
   "execution_count": 70,
   "metadata": {},
   "outputs": [
    {
     "name": "stdout",
     "output_type": "stream",
     "text": [
      "Confusion matrix, without normalization\n",
      "[[    0     0     1     0     0     0     0    99     0     0     0     0\n",
      "      0     0     0     0]\n",
      " [    1     0     2     0     0     0     0    14     0     0     0     0\n",
      "      0     0     1     0]\n",
      " [    0     0   275     0     0     0     0   109     0     0     0     0\n",
      "      0     0     1     0]\n",
      " [    0     0     1     0     0     1     1     1     0     0     0     0\n",
      "      0     0     0     0]\n",
      " [    0     0     0     0     0     0     0     1     0     0     0     0\n",
      "      0     0     0     0]\n",
      " [    0     0     0     0     0 45609     0 20308     0     0     0     0\n",
      "      0   153     9     0]\n",
      " [    0     0     0     0     0     0     0     0     0     0     0     0\n",
      "      0     0     0     0]\n",
      " [    0     0   111     0     0    10     4 25728     0     0     0     0\n",
      "      0     4    69     0]\n",
      " [    0     0     0     0     0     0     0     1     0     0     0     0\n",
      "      0     0     0     0]\n",
      " [    0     0     0     0     0     0     0     1     0     0     0     0\n",
      "      0     0     0     0]\n",
      " [    0     0    21     0     0     0     0   141     0     0     0     0\n",
      "      0     0     0     0]\n",
      " [    0     0     0     0     0     0     0    98     0     0     0   295\n",
      "      0     8     0     0]\n",
      " [    0     0     0     0     0     0     0     3     0     0     0     0\n",
      "      0     0     0     0]\n",
      " [    0     0     0     0     0     0     0     2     0     0     0     0\n",
      "      0     0     0     0]\n",
      " [    0     0     0     0     0     0     0    61     0     0     0     0\n",
      "      0     0 69174     0]\n",
      " [    0     0     0     0     0     0     0    64     0     0     0     0\n",
      "      0     0     0   518]]\n",
      "Normalized confusion matrix\n",
      "[[  0.00000000e+00   0.00000000e+00   1.00000000e-02   0.00000000e+00\n",
      "    0.00000000e+00   0.00000000e+00   0.00000000e+00   9.90000000e-01\n",
      "    0.00000000e+00   0.00000000e+00   0.00000000e+00   0.00000000e+00\n",
      "    0.00000000e+00   0.00000000e+00   0.00000000e+00   0.00000000e+00]\n",
      " [  5.55555556e-02   0.00000000e+00   1.11111111e-01   0.00000000e+00\n",
      "    0.00000000e+00   0.00000000e+00   0.00000000e+00   7.77777778e-01\n",
      "    0.00000000e+00   0.00000000e+00   0.00000000e+00   0.00000000e+00\n",
      "    0.00000000e+00   0.00000000e+00   5.55555556e-02   0.00000000e+00]\n",
      " [  0.00000000e+00   0.00000000e+00   7.14285714e-01   0.00000000e+00\n",
      "    0.00000000e+00   0.00000000e+00   0.00000000e+00   2.83116883e-01\n",
      "    0.00000000e+00   0.00000000e+00   0.00000000e+00   0.00000000e+00\n",
      "    0.00000000e+00   0.00000000e+00   2.59740260e-03   0.00000000e+00]\n",
      " [  0.00000000e+00   0.00000000e+00   2.50000000e-01   0.00000000e+00\n",
      "    0.00000000e+00   2.50000000e-01   2.50000000e-01   2.50000000e-01\n",
      "    0.00000000e+00   0.00000000e+00   0.00000000e+00   0.00000000e+00\n",
      "    0.00000000e+00   0.00000000e+00   0.00000000e+00   0.00000000e+00]\n",
      " [  0.00000000e+00   0.00000000e+00   0.00000000e+00   0.00000000e+00\n",
      "    0.00000000e+00   0.00000000e+00   0.00000000e+00   1.00000000e+00\n",
      "    0.00000000e+00   0.00000000e+00   0.00000000e+00   0.00000000e+00\n",
      "    0.00000000e+00   0.00000000e+00   0.00000000e+00   0.00000000e+00]\n",
      " [  0.00000000e+00   0.00000000e+00   0.00000000e+00   0.00000000e+00\n",
      "    0.00000000e+00   6.90219283e-01   0.00000000e+00   3.07329106e-01\n",
      "    0.00000000e+00   0.00000000e+00   0.00000000e+00   0.00000000e+00\n",
      "    0.00000000e+00   2.31541034e-03   1.36200608e-04   0.00000000e+00]\n",
      " [             nan              nan              nan              nan\n",
      "               nan              nan              nan              nan\n",
      "               nan              nan              nan              nan\n",
      "               nan              nan              nan              nan]\n",
      " [  0.00000000e+00   0.00000000e+00   4.28141634e-03   0.00000000e+00\n",
      "    0.00000000e+00   3.85713184e-04   1.54285273e-04   9.92362879e-01\n",
      "    0.00000000e+00   0.00000000e+00   0.00000000e+00   0.00000000e+00\n",
      "    0.00000000e+00   1.54285273e-04   2.66142097e-03   0.00000000e+00]\n",
      " [  0.00000000e+00   0.00000000e+00   0.00000000e+00   0.00000000e+00\n",
      "    0.00000000e+00   0.00000000e+00   0.00000000e+00   1.00000000e+00\n",
      "    0.00000000e+00   0.00000000e+00   0.00000000e+00   0.00000000e+00\n",
      "    0.00000000e+00   0.00000000e+00   0.00000000e+00   0.00000000e+00]\n",
      " [  0.00000000e+00   0.00000000e+00   0.00000000e+00   0.00000000e+00\n",
      "    0.00000000e+00   0.00000000e+00   0.00000000e+00   1.00000000e+00\n",
      "    0.00000000e+00   0.00000000e+00   0.00000000e+00   0.00000000e+00\n",
      "    0.00000000e+00   0.00000000e+00   0.00000000e+00   0.00000000e+00]\n",
      " [  0.00000000e+00   0.00000000e+00   1.29629630e-01   0.00000000e+00\n",
      "    0.00000000e+00   0.00000000e+00   0.00000000e+00   8.70370370e-01\n",
      "    0.00000000e+00   0.00000000e+00   0.00000000e+00   0.00000000e+00\n",
      "    0.00000000e+00   0.00000000e+00   0.00000000e+00   0.00000000e+00]\n",
      " [  0.00000000e+00   0.00000000e+00   0.00000000e+00   0.00000000e+00\n",
      "    0.00000000e+00   0.00000000e+00   0.00000000e+00   2.44389027e-01\n",
      "    0.00000000e+00   0.00000000e+00   0.00000000e+00   7.35660848e-01\n",
      "    0.00000000e+00   1.99501247e-02   0.00000000e+00   0.00000000e+00]\n",
      " [  0.00000000e+00   0.00000000e+00   0.00000000e+00   0.00000000e+00\n",
      "    0.00000000e+00   0.00000000e+00   0.00000000e+00   1.00000000e+00\n",
      "    0.00000000e+00   0.00000000e+00   0.00000000e+00   0.00000000e+00\n",
      "    0.00000000e+00   0.00000000e+00   0.00000000e+00   0.00000000e+00]\n",
      " [  0.00000000e+00   0.00000000e+00   0.00000000e+00   0.00000000e+00\n",
      "    0.00000000e+00   0.00000000e+00   0.00000000e+00   1.00000000e+00\n",
      "    0.00000000e+00   0.00000000e+00   0.00000000e+00   0.00000000e+00\n",
      "    0.00000000e+00   0.00000000e+00   0.00000000e+00   0.00000000e+00]\n",
      " [  0.00000000e+00   0.00000000e+00   0.00000000e+00   0.00000000e+00\n",
      "    0.00000000e+00   0.00000000e+00   0.00000000e+00   8.81057269e-04\n",
      "    0.00000000e+00   0.00000000e+00   0.00000000e+00   0.00000000e+00\n",
      "    0.00000000e+00   0.00000000e+00   9.99118943e-01   0.00000000e+00]\n",
      " [  0.00000000e+00   0.00000000e+00   0.00000000e+00   0.00000000e+00\n",
      "    0.00000000e+00   0.00000000e+00   0.00000000e+00   1.09965636e-01\n",
      "    0.00000000e+00   0.00000000e+00   0.00000000e+00   0.00000000e+00\n",
      "    0.00000000e+00   0.00000000e+00   0.00000000e+00   8.90034364e-01]]\n"
     ]
    },
    {
     "name": "stderr",
     "output_type": "stream",
     "text": [
      "C:\\ProgramData\\Anaconda3\\lib\\site-packages\\ipykernel_launcher.py:14: RuntimeWarning: invalid value encountered in true_divide\n",
      "  \n"
     ]
    },
    {
     "data": {
      "image/png": "[encoded data removed]",
      "text/plain": [
       "<matplotlib.figure.Figure at 0x29f0f56eeb8>"
      ]
     },
     "metadata": {},
     "output_type": "display_data"
    },
    {
     "data": {
      "image/png": "[encoded data removed]",
      "text/plain": [
       "<matplotlib.figure.Figure at 0x29f09f024a8>"
      ]
     },
     "metadata": {},
     "output_type": "display_data"
    }
   ],
   "source": [
    "from sklearn.metrics import confusion_matrix\n",
    "import itertools\n",
    "cnf_matrix = confusion_matrix(y_test_num[:encoded_test.shape[0]], prediction)\n",
    "class_names=range(16)\n",
    "def plot_confusion_matrix(cm, classes,\n",
    "                          normalize=False,\n",
    "                          title='Confusion matrix',\n",
    "                          cmap=plt.cm.Blues):\n",
    "    \"\"\"\n",
    "    This function prints and plots the confusion matrix.\n",
    "    Normalization can be applied by setting `normalize=True`.\n",
    "    \"\"\"\n",
    "    if normalize:\n",
    "        cm = cm.astype('float') / cm.sum(axis=1)[:, np.newaxis]\n",
    "        print(\"Normalized confusion matrix\")\n",
    "    else:\n",
    "        print('Confusion matrix, without normalization')\n",
    "\n",
    "    print(cm)\n",
    "\n",
    "    plt.imshow(cm, interpolation='nearest', cmap=cmap)\n",
    "    plt.title(title)\n",
    "    plt.colorbar()\n",
    "    tick_marks = np.arange(len(classes))\n",
    "    plt.xticks(tick_marks, classes, rotation=45)\n",
    "    plt.yticks(tick_marks, classes)\n",
    "\n",
    "    fmt = '.2f' if normalize else 'd'\n",
    "    thresh = cm.max() / 2.\n",
    "    for i, j in itertools.product(range(cm.shape[0]), range(cm.shape[1])):\n",
    "        plt.text(j, i, format(cm[i, j], fmt),\n",
    "                 horizontalalignment=\"center\",\n",
    "                 color=\"white\" if cm[i, j] > thresh else \"black\")\n",
    "\n",
    "    plt.tight_layout()\n",
    "    plt.ylabel('True label')\n",
    "    plt.xlabel('Predicted label')\n",
    "\n",
    "plt.figure(figsize=(10,10))\n",
    "plot_confusion_matrix(cnf_matrix, classes=class_names,\n",
    "                      title='Confusion matrix, without normalization')\n",
    "\n",
    "# Plot normalized confusion matrix\n",
    "plt.figure(figsize=(10,10))\n",
    "plot_confusion_matrix(cnf_matrix, classes=class_names, normalize=True,\n",
    "                      title='Normalized confusion matrix')\n",
    "\n",
    "plt.show()"
   ]
  },
  {
   "cell_type": "code",
   "execution_count": 71,
   "metadata": {},
   "outputs": [
    {
     "name": "stdout",
     "output_type": "stream",
     "text": [
      "             precision    recall  f1-score   support\n",
      "\n",
      "          0       0.00      0.00      0.00       100\n",
      "          1       0.00      0.00      0.00        18\n",
      "          5       0.67      0.71      0.69       385\n",
      "          6       0.00      0.00      0.00         4\n",
      "          7       0.00      0.00      0.00         1\n",
      "          9       1.00      0.69      0.82     66079\n",
      "         10       0.00      0.00      0.00         0\n",
      "         11       0.55      0.99      0.71     25926\n",
      "         12       0.00      0.00      0.00         1\n",
      "         13       0.00      0.00      0.00         1\n",
      "         14       0.00      0.00      0.00       162\n",
      "         15       1.00      0.74      0.85       401\n",
      "         16       0.00      0.00      0.00         3\n",
      "         17       0.00      0.00      0.00         2\n",
      "         18       1.00      1.00      1.00     69235\n",
      "         20       1.00      0.89      0.94       582\n",
      "\n",
      "avg / total       0.93      0.87      0.88    162900\n",
      "\n"
     ]
    },
    {
     "name": "stderr",
     "output_type": "stream",
     "text": [
      "C:\\ProgramData\\Anaconda3\\lib\\site-packages\\sklearn\\metrics\\classification.py:1135: UndefinedMetricWarning: Precision and F-score are ill-defined and being set to 0.0 in labels with no predicted samples.\n",
      "  'precision', 'predicted', average, warn_for)\n",
      "C:\\ProgramData\\Anaconda3\\lib\\site-packages\\sklearn\\metrics\\classification.py:1137: UndefinedMetricWarning: Recall and F-score are ill-defined and being set to 0.0 in labels with no true samples.\n",
      "  'recall', 'true', average, warn_for)\n"
     ]
    }
   ],
   "source": [
    "from sklearn.metrics import classification_report\n",
    "print(classification_report(y_test_num[:encoded_test.shape[0]], prediction))\n"
   ]
  },
  {
   "cell_type": "code",
   "execution_count": 72,
   "metadata": {},
   "outputs": [
    {
     "name": "stdout",
     "output_type": "stream",
     "text": [
      "             precision    recall  f1-score   support\n",
      "\n",
      "          0       0.00      0.00      0.00       100\n",
      "          1       0.00      0.00      0.00        18\n",
      "          3       0.00      0.00      0.00         0\n",
      "          5       0.55      0.14      0.23       385\n",
      "          6       0.50      0.25      0.33         4\n",
      "          7       0.00      0.00      0.00         1\n",
      "          9       1.00      0.69      0.82     66079\n",
      "         10       0.00      0.00      0.00         0\n",
      "         11       0.98      0.97      0.98     26053\n",
      "         12       0.00      0.00      0.00         1\n",
      "         13       0.00      0.00      0.00         1\n",
      "         14       0.00      0.00      0.00       162\n",
      "         15       0.02      0.87      0.03       401\n",
      "         16       0.00      0.00      0.00         3\n",
      "         17       0.00      0.00      0.00         2\n",
      "         18       1.00      1.00      1.00     69235\n",
      "         20       1.00      0.99      1.00       582\n",
      "         21       0.00      0.00      0.00         0\n",
      "\n",
      "avg / total       0.99      0.87      0.92    163027\n",
      "\n"
     ]
    },
    {
     "name": "stderr",
     "output_type": "stream",
     "text": [
      "C:\\ProgramData\\Anaconda3\\lib\\site-packages\\sklearn\\metrics\\classification.py:1135: UndefinedMetricWarning: Precision and F-score are ill-defined and being set to 0.0 in labels with no predicted samples.\n",
      "  'precision', 'predicted', average, warn_for)\n",
      "C:\\ProgramData\\Anaconda3\\lib\\site-packages\\sklearn\\metrics\\classification.py:1137: UndefinedMetricWarning: Recall and F-score are ill-defined and being set to 0.0 in labels with no true samples.\n",
      "  'recall', 'true', average, warn_for)\n"
     ]
    }
   ],
   "source": [
    "print(classification_report(y_test_num, prediction_ori))"
   ]
  },
  {
   "cell_type": "code",
   "execution_count": null,
   "metadata": {
    "collapsed": true
   },
   "outputs": [],
   "source": []
  }
 ],
 "metadata": {
  "kernelspec": {
   "display_name": "Python 3",
   "language": "python",
   "name": "python3"
  },
  "language_info": {
   "codemirror_mode": {
    "name": "ipython",
    "version": 3
   },
   "file_extension": ".py",
   "mimetype": "text/x-python",
   "name": "python",
   "nbconvert_exporter": "python",
   "pygments_lexer": "ipython3",
   "version": "3.6.3"
  }
 },
 "nbformat": 4,
 "nbformat_minor": 2
}
