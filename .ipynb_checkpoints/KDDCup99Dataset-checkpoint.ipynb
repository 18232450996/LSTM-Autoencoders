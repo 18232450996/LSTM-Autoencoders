{
 "cells": [
  {
   "cell_type": "markdown",
   "metadata": {},
   "source": [
    "# read data, use only continuous feature columns, scaling, split into train/test sets "
   ]
  },
  {
   "cell_type": "code",
   "execution_count": 103,
   "metadata": {},
   "outputs": [],
   "source": [
    "%matplotlib inline\n",
    "import pandas as pd\n",
    "import numpy as np"
   ]
  },
  {
   "cell_type": "code",
   "execution_count": 65,
   "metadata": {},
   "outputs": [],
   "source": [
    "# column names, is_guest_login & dis_host_login & logged_in & land & flag & service & protocol_type\n",
    "with open(\"C:/Users/Bin/Documents/Datasets/KDD99/columns.txt\") as col_file:\n",
    "    line = col_file.readline()\n",
    "#line = line.replace('.',',')\n",
    "columns = line.split('.')\n",
    "col_names = []\n",
    "col_types = []\n",
    "for col in columns:\n",
    "    col_names.append(col.split(': ')[0].strip())\n",
    "    col_types.append(col.split(': ')[1])\n",
    "col_names.append(\"label\")"
   ]
  },
  {
   "cell_type": "code",
   "execution_count": 75,
   "metadata": {},
   "outputs": [],
   "source": [
    "#import 10% collection samples\n",
    "df = pd.read_csv(\"C:/Users/Bin/Documents/Datasets/KDD99/kddcup.data_10_percent_corrected\",names=col_names)"
   ]
  },
  {
   "cell_type": "code",
   "execution_count": 165,
   "metadata": {},
   "outputs": [],
   "source": [
    "data = df.iloc[:,np.array(pd.Series(col_types)==\"continuous\")]\n",
    "label = df.iloc[:,-1]"
   ]
  },
  {
   "cell_type": "code",
   "execution_count": 95,
   "metadata": {},
   "outputs": [
    {
     "data": {
      "text/plain": [
       "(494021, 34)"
      ]
     },
     "execution_count": 95,
     "metadata": {},
     "output_type": "execute_result"
    }
   ],
   "source": [
    "data.shape"
   ]
  },
  {
   "cell_type": "code",
   "execution_count": 97,
   "metadata": {},
   "outputs": [
    {
     "data": {
      "text/plain": [
       "False"
      ]
     },
     "execution_count": 97,
     "metadata": {},
     "output_type": "execute_result"
    }
   ],
   "source": [
    "#check NaN values\n",
    "data.isnull().values.any()"
   ]
  },
  {
   "cell_type": "code",
   "execution_count": 98,
   "metadata": {
    "collapsed": true
   },
   "outputs": [],
   "source": [
    "from sklearn.preprocessing import MinMaxScaler\n",
    "scaler = MinMaxScaler()\n",
    "scaler.fit(data)\n",
    "dataset = scaler.transform(data)"
   ]
  },
  {
   "cell_type": "code",
   "execution_count": 168,
   "metadata": {},
   "outputs": [
    {
     "name": "stdout",
     "output_type": "stream",
     "text": [
      "330994 163027\n"
     ]
    }
   ],
   "source": [
    "train_size = int(len(dataset) * 0.67)\n",
    "test_size = len(dataset) - train_size\n",
    "train, test = dataset[0:train_size,:], dataset[train_size:len(dataset),:]\n",
    "y_train, y_test = label[0:train_size],label[train_size:len(dataset)]\n",
    "print(len(train), len(test))"
   ]
  },
  {
   "cell_type": "markdown",
   "metadata": {},
   "source": [
    "# train a LSTM-autoencoder"
   ]
  },
  {
   "cell_type": "code",
   "execution_count": 139,
   "metadata": {},
   "outputs": [],
   "source": [
    "from keras.layers import Input, LSTM, RepeatVector\n",
    "from keras.models import Model,Sequential\n",
    "\n",
    "\n",
    "timesteps = 10\n",
    "input_dim = train.shape[1]\n",
    "latent_dim = 5\n",
    "n_epoch = 50\n",
    "n_batch = 30000\n",
    "\n",
    "\n",
    "inputs = Input(shape=(timesteps,input_dim))\n",
    "encoded = LSTM(latent_dim)(inputs)\n",
    "\n",
    "decoded = RepeatVector(timesteps)(encoded)\n",
    "decoded = LSTM(input_dim,return_sequences=True)(decoded)\n",
    "\n",
    "autoencoder = Model(inputs,decoded)\n",
    "encoder = Model(inputs,encoded)\n",
    "\n",
    "\n",
    "autoencoder.compile(optimizer='adadelta',loss='mse')"
   ]
  },
  {
   "cell_type": "code",
   "execution_count": 140,
   "metadata": {},
   "outputs": [],
   "source": [
    "# reshape the dataset: (samples, timesteps, input_dim)\n",
    "import math\n",
    "'''\n",
    "def reshape(dataset,timesteps):\n",
    "    sample_num = math.floor(dataset.shape[0]/timesteps)\n",
    "    new_dataset = np.reshape(dataset[:sample_num*timesteps],(sample_num,timesteps,dataset.shape[1]))\n",
    "    return new_dataset\n",
    "'''\n",
    "def reshape(dataset, look_back=10):\n",
    "    dataX = []\n",
    "    for i in range(len(dataset)-look_back-1):\n",
    "        a = dataset[i:(i+look_back), :]\n",
    "        dataX.append(a)\n",
    "    return np.array(dataX)\n",
    "train3 = reshape(train)\n",
    "test3 = reshape(test)\n"
   ]
  },
  {
   "cell_type": "code",
   "execution_count": 141,
   "metadata": {},
   "outputs": [
    {
     "name": "stdout",
     "output_type": "stream",
     "text": [
      "Train on 330983 samples, validate on 163016 samples\n",
      "Epoch 1/50\n",
      "330983/330983 [==============================] - 29s 88us/step - loss: 0.1754 - val_loss: 0.1636\n",
      "Epoch 2/50\n",
      "330983/330983 [==============================] - 30s 92us/step - loss: 0.1701 - val_loss: 0.1594\n",
      "Epoch 3/50\n",
      "330983/330983 [==============================] - 32s 97us/step - loss: 0.1647 - val_loss: 0.1547\n",
      "Epoch 4/50\n",
      "330983/330983 [==============================] - 32s 96us/step - loss: 0.1584 - val_loss: 0.1490\n",
      "Epoch 5/50\n",
      "330983/330983 [==============================] - 30s 90us/step - loss: 0.1502 - val_loss: 0.1417\n",
      "Epoch 6/50\n",
      "330983/330983 [==============================] - 30s 90us/step - loss: 0.1394 - val_loss: 0.1324\n",
      "Epoch 7/50\n",
      "330983/330983 [==============================] - 30s 91us/step - loss: 0.1261 - val_loss: 0.1220\n",
      "Epoch 8/50\n",
      "330983/330983 [==============================] - 30s 91us/step - loss: 0.1121 - val_loss: 0.1120\n",
      "Epoch 9/50\n",
      "330983/330983 [==============================] - 31s 94us/step - loss: 0.0993 - val_loss: 0.1032\n",
      "Epoch 10/50\n",
      "330983/330983 [==============================] - 30s 90us/step - loss: 0.0883 - val_loss: 0.0956\n",
      "Epoch 11/50\n",
      "330983/330983 [==============================] - 30s 91us/step - loss: 0.0787 - val_loss: 0.0891\n",
      "Epoch 12/50\n",
      "330983/330983 [==============================] - 33s 98us/step - loss: 0.0705 - val_loss: 0.0835\n",
      "Epoch 13/50\n",
      "330983/330983 [==============================] - 30s 90us/step - loss: 0.0634 - val_loss: 0.0787\n",
      "Epoch 14/50\n",
      "330983/330983 [==============================] - 30s 90us/step - loss: 0.0573 - val_loss: 0.0745\n",
      "Epoch 15/50\n",
      "330983/330983 [==============================] - 30s 90us/step - loss: 0.0521 - val_loss: 0.0711\n",
      "Epoch 16/50\n",
      "330983/330983 [==============================] - 30s 90us/step - loss: 0.0478 - val_loss: 0.0683\n",
      "Epoch 17/50\n",
      "330983/330983 [==============================] - 30s 90us/step - loss: 0.0444 - val_loss: 0.0660\n",
      "Epoch 18/50\n",
      "330983/330983 [==============================] - 29s 89us/step - loss: 0.0415 - val_loss: 0.0641\n",
      "Epoch 19/50\n",
      "330983/330983 [==============================] - 29s 88us/step - loss: 0.0392 - val_loss: 0.0624\n",
      "Epoch 20/50\n",
      "330983/330983 [==============================] - 29s 89us/step - loss: 0.0373 - val_loss: 0.0609\n",
      "Epoch 21/50\n",
      "330983/330983 [==============================] - 29s 88us/step - loss: 0.0357 - val_loss: 0.0595\n",
      "Epoch 22/50\n",
      "330983/330983 [==============================] - 29s 88us/step - loss: 0.0344 - val_loss: 0.0582\n",
      "Epoch 23/50\n",
      "330983/330983 [==============================] - 29s 88us/step - loss: 0.0332 - val_loss: 0.0569\n",
      "Epoch 24/50\n",
      "330983/330983 [==============================] - 29s 89us/step - loss: 0.0320 - val_loss: 0.0555\n",
      "Epoch 25/50\n",
      "330983/330983 [==============================] - 31s 94us/step - loss: 0.0308 - val_loss: 0.0541\n",
      "Epoch 26/50\n",
      "330983/330983 [==============================] - 31s 94us/step - loss: 0.0296 - val_loss: 0.0528\n",
      "Epoch 27/50\n",
      "330983/330983 [==============================] - 30s 90us/step - loss: 0.0285 - val_loss: 0.0516\n",
      "Epoch 28/50\n",
      "330983/330983 [==============================] - 30s 90us/step - loss: 0.0274 - val_loss: 0.0506\n",
      "Epoch 29/50\n",
      "330983/330983 [==============================] - 30s 91us/step - loss: 0.0264 - val_loss: 0.0497\n",
      "Epoch 30/50\n",
      "330983/330983 [==============================] - 32s 95us/step - loss: 0.0255 - val_loss: 0.0488\n",
      "Epoch 31/50\n",
      "330983/330983 [==============================] - 32s 98us/step - loss: 0.0246 - val_loss: 0.0480\n",
      "Epoch 32/50\n",
      "330983/330983 [==============================] - 31s 92us/step - loss: 0.0238 - val_loss: 0.0472\n",
      "Epoch 33/50\n",
      "330983/330983 [==============================] - 30s 91us/step - loss: 0.0231 - val_loss: 0.0465\n",
      "Epoch 34/50\n",
      "330983/330983 [==============================] - 30s 90us/step - loss: 0.0224 - val_loss: 0.0457\n",
      "Epoch 35/50\n",
      "330983/330983 [==============================] - 31s 93us/step - loss: 0.0217 - val_loss: 0.0450\n",
      "Epoch 36/50\n",
      "330983/330983 [==============================] - 32s 96us/step - loss: 0.0211 - val_loss: 0.0443\n",
      "Epoch 37/50\n",
      "330983/330983 [==============================] - 32s 97us/step - loss: 0.0205 - val_loss: 0.0435\n",
      "Epoch 38/50\n",
      "330983/330983 [==============================] - 31s 93us/step - loss: 0.0199 - val_loss: 0.0429\n",
      "Epoch 39/50\n",
      "330983/330983 [==============================] - 33s 100us/step - loss: 0.0194 - val_loss: 0.0422\n",
      "Epoch 40/50\n",
      "330983/330983 [==============================] - 33s 99us/step - loss: 0.0188 - val_loss: 0.0416\n",
      "Epoch 41/50\n",
      "330983/330983 [==============================] - 31s 94us/step - loss: 0.0183 - val_loss: 0.0410\n",
      "Epoch 42/50\n",
      "330983/330983 [==============================] - 31s 93us/step - loss: 0.0178 - val_loss: 0.0404\n",
      "Epoch 43/50\n",
      "330983/330983 [==============================] - 31s 93us/step - loss: 0.0174 - val_loss: 0.0399\n",
      "Epoch 44/50\n",
      "330983/330983 [==============================] - 33s 100us/step - loss: 0.0169 - val_loss: 0.0394\n",
      "Epoch 45/50\n",
      "330983/330983 [==============================] - 34s 101us/step - loss: 0.0165 - val_loss: 0.0389\n",
      "Epoch 46/50\n",
      "330983/330983 [==============================] - 32s 95us/step - loss: 0.0161 - val_loss: 0.0385\n",
      "Epoch 47/50\n",
      "330983/330983 [==============================] - 34s 103us/step - loss: 0.0158 - val_loss: 0.0380\n",
      "Epoch 48/50\n",
      "330983/330983 [==============================] - 34s 103us/step - loss: 0.0154 - val_loss: 0.0376\n",
      "Epoch 49/50\n",
      "330983/330983 [==============================] - 33s 99us/step - loss: 0.0150 - val_loss: 0.0372\n",
      "Epoch 50/50\n",
      "330983/330983 [==============================] - 32s 98us/step - loss: 0.0147 - val_loss: 0.0368\n"
     ]
    }
   ],
   "source": [
    "# train the autoencoder\n",
    "history = autoencoder.fit(train3,train3,\n",
    "                epochs=n_epoch,\n",
    "                batch_size=n_batch,\n",
    "                validation_data=(test3,test3))"
   ]
  },
  {
   "cell_type": "code",
   "execution_count": 142,
   "metadata": {},
   "outputs": [
    {
     "data": {
      "image/png": "[encoded data removed]",
      "text/plain": [
       "<matplotlib.figure.Figure at 0x1aff67d94e0>"
      ]
     },
     "metadata": {},
     "output_type": "display_data"
    }
   ],
   "source": [
    "import matplotlib.pyplot as plt\n",
    "\n",
    "plt.plot(history.history[\"loss\"])\n",
    "plt.plot(history.history[\"val_loss\"])\n",
    "plt.title('model loss')\n",
    "plt.ylabel('loss')\n",
    "plt.xlabel('epoch')\n",
    "plt.legend(['train', 'test'], loc='upper right')\n",
    "plt.show()"
   ]
  },
  {
   "cell_type": "code",
   "execution_count": 143,
   "metadata": {
    "collapsed": true
   },
   "outputs": [],
   "source": [
    "encoded_train = encoder.predict(train3)\n",
    "encoded_test = encoder.predict(test3)"
   ]
  },
  {
   "cell_type": "code",
   "execution_count": 151,
   "metadata": {},
   "outputs": [
    {
     "data": {
      "text/plain": [
       "(330983, 5)"
      ]
     },
     "execution_count": 151,
     "metadata": {},
     "output_type": "execute_result"
    }
   ],
   "source": [
    "encoded_train.shape"
   ]
  },
  {
   "cell_type": "code",
   "execution_count": 153,
   "metadata": {},
   "outputs": [],
   "source": [
    "pd.DataFrame(encoded_train).to_csv(\"C:/Users/Bin/Documents/Datasets/KDD99/kddcup_encoded_train\",index=False,header=None)\n",
    "pd.DataFrame(encoded_test).to_csv(\"C:/Users/Bin/Documents/Datasets/KDD99/kddcup_encoded_test\",index=False,header=None)"
   ]
  },
  {
   "cell_type": "code",
   "execution_count": 159,
   "metadata": {},
   "outputs": [
    {
     "data": {
      "text/plain": [
       "<matplotlib.axes._subplots.AxesSubplot at 0x1affa965c50>"
      ]
     },
     "execution_count": 159,
     "metadata": {},
     "output_type": "execute_result"
    },
    {
     "data": {
      "image/png": "[encoded data removed]",
      "text/plain": [
       "<matplotlib.figure.Figure at 0x1affaa31eb8>"
      ]
     },
     "metadata": {},
     "output_type": "display_data"
    }
   ],
   "source": [
    "pd.DataFrame(encoded_test)[1].plot()"
   ]
  },
  {
   "cell_type": "code",
   "execution_count": 160,
   "metadata": {},
   "outputs": [
    {
     "data": {
      "text/plain": [
       "<matplotlib.axes._subplots.AxesSubplot at 0x1affaa317b8>"
      ]
     },
     "execution_count": 160,
     "metadata": {},
     "output_type": "execute_result"
    },
    {
     "data": {
      "image/png": "[encoded data removed]",
      "text/plain": [
       "<matplotlib.figure.Figure at 0x1aff6649e48>"
      ]
     },
     "metadata": {},
     "output_type": "display_data"
    }
   ],
   "source": [
    "pd.DataFrame(test)[1].plot()"
   ]
  },
  {
   "cell_type": "markdown",
   "metadata": {},
   "source": [
    "# network status classification using encoded dataset "
   ]
  },
  {
   "cell_type": "code",
   "execution_count": 161,
   "metadata": {},
   "outputs": [
    {
     "data": {
      "text/plain": [
       "(330983, 5)"
      ]
     },
     "execution_count": 161,
     "metadata": {},
     "output_type": "execute_result"
    }
   ],
   "source": [
    "encoded_train.shape"
   ]
  },
  {
   "cell_type": "code",
   "execution_count": 163,
   "metadata": {},
   "outputs": [
    {
     "data": {
      "text/html": [
       "<div>\n",
       "<style>\n",
       "    .dataframe thead tr:only-child th {\n",
       "        text-align: right;\n",
       "    }\n",
       "\n",
       "    .dataframe thead th {\n",
       "        text-align: left;\n",
       "    }\n",
       "\n",
       "    .dataframe tbody tr th {\n",
       "        vertical-align: top;\n",
       "    }\n",
       "</style>\n",
       "<table border=\"1\" class=\"dataframe\">\n",
       "  <thead>\n",
       "    <tr style=\"text-align: right;\">\n",
       "      <th></th>\n",
       "      <th>0</th>\n",
       "      <th>1</th>\n",
       "      <th>2</th>\n",
       "      <th>3</th>\n",
       "      <th>4</th>\n",
       "      <th>5</th>\n",
       "      <th>6</th>\n",
       "      <th>7</th>\n",
       "      <th>8</th>\n",
       "      <th>9</th>\n",
       "      <th>...</th>\n",
       "      <th>24</th>\n",
       "      <th>25</th>\n",
       "      <th>26</th>\n",
       "      <th>27</th>\n",
       "      <th>28</th>\n",
       "      <th>29</th>\n",
       "      <th>30</th>\n",
       "      <th>31</th>\n",
       "      <th>32</th>\n",
       "      <th>33</th>\n",
       "    </tr>\n",
       "  </thead>\n",
       "  <tbody>\n",
       "    <tr>\n",
       "      <th>0</th>\n",
       "      <td>0.0</td>\n",
       "      <td>2.610418e-07</td>\n",
       "      <td>0.001057</td>\n",
       "      <td>0.0</td>\n",
       "      <td>0.0</td>\n",
       "      <td>0.0</td>\n",
       "      <td>0.0</td>\n",
       "      <td>0.0</td>\n",
       "      <td>0.0</td>\n",
       "      <td>0.0</td>\n",
       "      <td>...</td>\n",
       "      <td>0.035294</td>\n",
       "      <td>0.035294</td>\n",
       "      <td>1.0</td>\n",
       "      <td>0.0</td>\n",
       "      <td>0.11</td>\n",
       "      <td>0.0</td>\n",
       "      <td>0.0</td>\n",
       "      <td>0.0</td>\n",
       "      <td>0.0</td>\n",
       "      <td>0.0</td>\n",
       "    </tr>\n",
       "    <tr>\n",
       "      <th>1</th>\n",
       "      <td>0.0</td>\n",
       "      <td>3.446905e-07</td>\n",
       "      <td>0.000094</td>\n",
       "      <td>0.0</td>\n",
       "      <td>0.0</td>\n",
       "      <td>0.0</td>\n",
       "      <td>0.0</td>\n",
       "      <td>0.0</td>\n",
       "      <td>0.0</td>\n",
       "      <td>0.0</td>\n",
       "      <td>...</td>\n",
       "      <td>0.074510</td>\n",
       "      <td>0.074510</td>\n",
       "      <td>1.0</td>\n",
       "      <td>0.0</td>\n",
       "      <td>0.05</td>\n",
       "      <td>0.0</td>\n",
       "      <td>0.0</td>\n",
       "      <td>0.0</td>\n",
       "      <td>0.0</td>\n",
       "      <td>0.0</td>\n",
       "    </tr>\n",
       "    <tr>\n",
       "      <th>2</th>\n",
       "      <td>0.0</td>\n",
       "      <td>3.389216e-07</td>\n",
       "      <td>0.000259</td>\n",
       "      <td>0.0</td>\n",
       "      <td>0.0</td>\n",
       "      <td>0.0</td>\n",
       "      <td>0.0</td>\n",
       "      <td>0.0</td>\n",
       "      <td>0.0</td>\n",
       "      <td>0.0</td>\n",
       "      <td>...</td>\n",
       "      <td>0.113725</td>\n",
       "      <td>0.113725</td>\n",
       "      <td>1.0</td>\n",
       "      <td>0.0</td>\n",
       "      <td>0.03</td>\n",
       "      <td>0.0</td>\n",
       "      <td>0.0</td>\n",
       "      <td>0.0</td>\n",
       "      <td>0.0</td>\n",
       "      <td>0.0</td>\n",
       "    </tr>\n",
       "    <tr>\n",
       "      <th>3</th>\n",
       "      <td>0.0</td>\n",
       "      <td>3.158461e-07</td>\n",
       "      <td>0.000259</td>\n",
       "      <td>0.0</td>\n",
       "      <td>0.0</td>\n",
       "      <td>0.0</td>\n",
       "      <td>0.0</td>\n",
       "      <td>0.0</td>\n",
       "      <td>0.0</td>\n",
       "      <td>0.0</td>\n",
       "      <td>...</td>\n",
       "      <td>0.152941</td>\n",
       "      <td>0.152941</td>\n",
       "      <td>1.0</td>\n",
       "      <td>0.0</td>\n",
       "      <td>0.03</td>\n",
       "      <td>0.0</td>\n",
       "      <td>0.0</td>\n",
       "      <td>0.0</td>\n",
       "      <td>0.0</td>\n",
       "      <td>0.0</td>\n",
       "    </tr>\n",
       "    <tr>\n",
       "      <th>4</th>\n",
       "      <td>0.0</td>\n",
       "      <td>3.129617e-07</td>\n",
       "      <td>0.000394</td>\n",
       "      <td>0.0</td>\n",
       "      <td>0.0</td>\n",
       "      <td>0.0</td>\n",
       "      <td>0.0</td>\n",
       "      <td>0.0</td>\n",
       "      <td>0.0</td>\n",
       "      <td>0.0</td>\n",
       "      <td>...</td>\n",
       "      <td>0.192157</td>\n",
       "      <td>0.192157</td>\n",
       "      <td>1.0</td>\n",
       "      <td>0.0</td>\n",
       "      <td>0.02</td>\n",
       "      <td>0.0</td>\n",
       "      <td>0.0</td>\n",
       "      <td>0.0</td>\n",
       "      <td>0.0</td>\n",
       "      <td>0.0</td>\n",
       "    </tr>\n",
       "  </tbody>\n",
       "</table>\n",
       "<p>5 rows × 34 columns</p>\n",
       "</div>"
      ],
      "text/plain": [
       "    0             1         2    3    4    5    6    7    8    9  ...   \\\n",
       "0  0.0  2.610418e-07  0.001057  0.0  0.0  0.0  0.0  0.0  0.0  0.0 ...    \n",
       "1  0.0  3.446905e-07  0.000094  0.0  0.0  0.0  0.0  0.0  0.0  0.0 ...    \n",
       "2  0.0  3.389216e-07  0.000259  0.0  0.0  0.0  0.0  0.0  0.0  0.0 ...    \n",
       "3  0.0  3.158461e-07  0.000259  0.0  0.0  0.0  0.0  0.0  0.0  0.0 ...    \n",
       "4  0.0  3.129617e-07  0.000394  0.0  0.0  0.0  0.0  0.0  0.0  0.0 ...    \n",
       "\n",
       "         24        25   26   27    28   29   30   31   32   33  \n",
       "0  0.035294  0.035294  1.0  0.0  0.11  0.0  0.0  0.0  0.0  0.0  \n",
       "1  0.074510  0.074510  1.0  0.0  0.05  0.0  0.0  0.0  0.0  0.0  \n",
       "2  0.113725  0.113725  1.0  0.0  0.03  0.0  0.0  0.0  0.0  0.0  \n",
       "3  0.152941  0.152941  1.0  0.0  0.03  0.0  0.0  0.0  0.0  0.0  \n",
       "4  0.192157  0.192157  1.0  0.0  0.02  0.0  0.0  0.0  0.0  0.0  \n",
       "\n",
       "[5 rows x 34 columns]"
      ]
     },
     "execution_count": 163,
     "metadata": {},
     "output_type": "execute_result"
    }
   ],
   "source": [
    "pd.DataFrame(train).head()"
   ]
  },
  {
   "cell_type": "code",
   "execution_count": 177,
   "metadata": {},
   "outputs": [
    {
     "data": {
      "text/plain": [
       "(23,)"
      ]
     },
     "execution_count": 177,
     "metadata": {},
     "output_type": "execute_result"
    }
   ],
   "source": [
    "y_train.unique().shape"
   ]
  },
  {
   "cell_type": "code",
   "execution_count": 173,
   "metadata": {},
   "outputs": [
    {
     "data": {
      "text/plain": [
       "array(['smurf.', 'normal.', 'satan.', 'ipsweep.', 'buffer_overflow.',\n",
       "       'portsweep.', 'perl.', 'pod.', 'teardrop.', 'land.', 'neptune.',\n",
       "       'loadmodule.', 'rootkit.', 'phf.', 'back.'], dtype=object)"
      ]
     },
     "execution_count": 173,
     "metadata": {},
     "output_type": "execute_result"
    }
   ],
   "source": [
    "y_test.unique()"
   ]
  },
  {
   "cell_type": "code",
   "execution_count": 181,
   "metadata": {},
   "outputs": [],
   "source": [
    "# mapping class labels to num\n",
    "with open(\"C:/Users/Bin/Documents/Datasets/KDD99/classes.txt\") as f:\n",
    "    line = f.readline()\n",
    "classes = line.split(\",\")\n",
    "class_dic = {classes[i]:i for i in range(len(classes))}\n",
    "y_train_num = [class_dic[x.strip('.')] for x in y_train]\n",
    "y_test_num = [class_dic[x.strip('.')] for x in y_test]"
   ]
  },
  {
   "cell_type": "code",
   "execution_count": 201,
   "metadata": {},
   "outputs": [
    {
     "data": {
      "text/plain": [
       "SVC(C=1.0, cache_size=200, class_weight=None, coef0=0.0,\n",
       "  decision_function_shape='ovr', degree=3, gamma='auto', kernel='rbf',\n",
       "  max_iter=-1, probability=False, random_state=None, shrinking=True,\n",
       "  tol=0.001, verbose=False)"
      ]
     },
     "execution_count": 201,
     "metadata": {},
     "output_type": "execute_result"
    }
   ],
   "source": [
    "from sklearn import svm\n",
    "# encoded dataset\n",
    "clf = svm.SVC()\n",
    "clf.fit(encoded_train,y_train_num[:encoded_train.shape[0]])\n",
    "# original dataset\n",
    "clf_ori = svm.SVC()\n",
    "clf_ori.fit(train,y_train_num)"
   ]
  },
  {
   "cell_type": "code",
   "execution_count": 202,
   "metadata": {
    "collapsed": true
   },
   "outputs": [],
   "source": [
    "#encoded\n",
    "prediction = clf.predict(encoded_test)\n",
    "#original\n",
    "prediction_ori = clf_ori.predict(test)"
   ]
  },
  {
   "cell_type": "code",
   "execution_count": 197,
   "metadata": {},
   "outputs": [
    {
     "data": {
      "text/plain": [
       "(16, 16)"
      ]
     },
     "execution_count": 197,
     "metadata": {},
     "output_type": "execute_result"
    }
   ],
   "source": [
    "cnf_matrix.shape"
   ]
  },
  {
   "cell_type": "code",
   "execution_count": 198,
   "metadata": {
    "collapsed": true
   },
   "outputs": [
    {
     "name": "stdout",
     "output_type": "stream",
     "text": [
      "Confusion matrix, without normalization\n",
      "[[    0     0     0     0     0     0   100     0     0     0     0     0\n",
      "      0     0     0     0]\n",
      " [    0     0     0     0     0     6    12     0     0     0     0     0\n",
      "      0     0     0     0]\n",
      " [    0     0    11     0     0     0   271     0     0     0     0     0\n",
      "      0     0     0   103]\n",
      " [    0     0     0     0     0     3     1     0     0     0     0     0\n",
      "      0     0     0     0]\n",
      " [    0     0     0     0     0     0     1     0     0     0     0     0\n",
      "      0     0     0     0]\n",
      " [    0     0     0     0     0 45600 20479     0     0     0     0     0\n",
      "      0     0     0     0]\n",
      " [    0     0    20     0     0    16 25931     0     0     0     4     0\n",
      "      1    33     1    36]\n",
      " [    0     0     0     0     0     0     1     0     0     0     0     0\n",
      "      0     0     0     0]\n",
      " [    0     0     0     0     0     0     1     0     0     0     0     0\n",
      "      0     0     0     0]\n",
      " [    0     0     0     0     0     0   156     0     0     0     6     0\n",
      "      0     0     0     0]\n",
      " [    0     0     7     0     0     0   127     0     0     0   264     0\n",
      "      3     0     0     0]\n",
      " [    0     0     0     0     0     0     2     0     0     0     0     0\n",
      "      0     1     0     0]\n",
      " [    0     0     0     0     0     0     2     0     0     0     0     0\n",
      "      0     0     0     0]\n",
      " [    0     0     0     0     0     0    35     0     0     0     0     0\n",
      "      0 69191     9     0]\n",
      " [    0     0    29     0     0     0   280     0     0     0     0     0\n",
      "      0     0   270     3]\n",
      " [    0     0     0     0     0     0     0     0     0     0     0     0\n",
      "      0     0     0     0]]\n",
      "Normalized confusion matrix\n",
      "[[  0.00000000e+00   0.00000000e+00   0.00000000e+00   0.00000000e+00\n",
      "    0.00000000e+00   0.00000000e+00   1.00000000e+00   0.00000000e+00\n",
      "    0.00000000e+00   0.00000000e+00   0.00000000e+00   0.00000000e+00\n",
      "    0.00000000e+00   0.00000000e+00   0.00000000e+00   0.00000000e+00]\n",
      " [  0.00000000e+00   0.00000000e+00   0.00000000e+00   0.00000000e+00\n",
      "    0.00000000e+00   3.33333333e-01   6.66666667e-01   0.00000000e+00\n",
      "    0.00000000e+00   0.00000000e+00   0.00000000e+00   0.00000000e+00\n",
      "    0.00000000e+00   0.00000000e+00   0.00000000e+00   0.00000000e+00]\n",
      " [  0.00000000e+00   0.00000000e+00   2.85714286e-02   0.00000000e+00\n",
      "    0.00000000e+00   0.00000000e+00   7.03896104e-01   0.00000000e+00\n",
      "    0.00000000e+00   0.00000000e+00   0.00000000e+00   0.00000000e+00\n",
      "    0.00000000e+00   0.00000000e+00   0.00000000e+00   2.67532468e-01]\n",
      " [  0.00000000e+00   0.00000000e+00   0.00000000e+00   0.00000000e+00\n",
      "    0.00000000e+00   7.50000000e-01   2.50000000e-01   0.00000000e+00\n",
      "    0.00000000e+00   0.00000000e+00   0.00000000e+00   0.00000000e+00\n",
      "    0.00000000e+00   0.00000000e+00   0.00000000e+00   0.00000000e+00]\n",
      " [  0.00000000e+00   0.00000000e+00   0.00000000e+00   0.00000000e+00\n",
      "    0.00000000e+00   0.00000000e+00   1.00000000e+00   0.00000000e+00\n",
      "    0.00000000e+00   0.00000000e+00   0.00000000e+00   0.00000000e+00\n",
      "    0.00000000e+00   0.00000000e+00   0.00000000e+00   0.00000000e+00]\n",
      " [  0.00000000e+00   0.00000000e+00   0.00000000e+00   0.00000000e+00\n",
      "    0.00000000e+00   6.90083082e-01   3.09916918e-01   0.00000000e+00\n",
      "    0.00000000e+00   0.00000000e+00   0.00000000e+00   0.00000000e+00\n",
      "    0.00000000e+00   0.00000000e+00   0.00000000e+00   0.00000000e+00]\n",
      " [  0.00000000e+00   0.00000000e+00   7.67990170e-04   0.00000000e+00\n",
      "    0.00000000e+00   6.14392136e-04   9.95737655e-01   0.00000000e+00\n",
      "    0.00000000e+00   0.00000000e+00   1.53598034e-04   0.00000000e+00\n",
      "    3.83995085e-05   1.26718378e-03   3.83995085e-05   1.38238231e-03]\n",
      " [  0.00000000e+00   0.00000000e+00   0.00000000e+00   0.00000000e+00\n",
      "    0.00000000e+00   0.00000000e+00   1.00000000e+00   0.00000000e+00\n",
      "    0.00000000e+00   0.00000000e+00   0.00000000e+00   0.00000000e+00\n",
      "    0.00000000e+00   0.00000000e+00   0.00000000e+00   0.00000000e+00]\n",
      " [  0.00000000e+00   0.00000000e+00   0.00000000e+00   0.00000000e+00\n",
      "    0.00000000e+00   0.00000000e+00   1.00000000e+00   0.00000000e+00\n",
      "    0.00000000e+00   0.00000000e+00   0.00000000e+00   0.00000000e+00\n",
      "    0.00000000e+00   0.00000000e+00   0.00000000e+00   0.00000000e+00]\n",
      " [  0.00000000e+00   0.00000000e+00   0.00000000e+00   0.00000000e+00\n",
      "    0.00000000e+00   0.00000000e+00   9.62962963e-01   0.00000000e+00\n",
      "    0.00000000e+00   0.00000000e+00   3.70370370e-02   0.00000000e+00\n",
      "    0.00000000e+00   0.00000000e+00   0.00000000e+00   0.00000000e+00]\n",
      " [  0.00000000e+00   0.00000000e+00   1.74563591e-02   0.00000000e+00\n",
      "    0.00000000e+00   0.00000000e+00   3.16708229e-01   0.00000000e+00\n",
      "    0.00000000e+00   0.00000000e+00   6.58354115e-01   0.00000000e+00\n",
      "    7.48129676e-03   0.00000000e+00   0.00000000e+00   0.00000000e+00]\n",
      " [  0.00000000e+00   0.00000000e+00   0.00000000e+00   0.00000000e+00\n",
      "    0.00000000e+00   0.00000000e+00   6.66666667e-01   0.00000000e+00\n",
      "    0.00000000e+00   0.00000000e+00   0.00000000e+00   0.00000000e+00\n",
      "    0.00000000e+00   3.33333333e-01   0.00000000e+00   0.00000000e+00]\n",
      " [  0.00000000e+00   0.00000000e+00   0.00000000e+00   0.00000000e+00\n",
      "    0.00000000e+00   0.00000000e+00   1.00000000e+00   0.00000000e+00\n",
      "    0.00000000e+00   0.00000000e+00   0.00000000e+00   0.00000000e+00\n",
      "    0.00000000e+00   0.00000000e+00   0.00000000e+00   0.00000000e+00]\n",
      " [  0.00000000e+00   0.00000000e+00   0.00000000e+00   0.00000000e+00\n",
      "    0.00000000e+00   0.00000000e+00   5.05524662e-04   0.00000000e+00\n",
      "    0.00000000e+00   0.00000000e+00   0.00000000e+00   0.00000000e+00\n",
      "    0.00000000e+00   9.99364483e-01   1.29992056e-04   0.00000000e+00]\n",
      " [  0.00000000e+00   0.00000000e+00   4.98281787e-02   0.00000000e+00\n",
      "    0.00000000e+00   0.00000000e+00   4.81099656e-01   0.00000000e+00\n",
      "    0.00000000e+00   0.00000000e+00   0.00000000e+00   0.00000000e+00\n",
      "    0.00000000e+00   0.00000000e+00   4.63917526e-01   5.15463918e-03]\n",
      " [             nan              nan              nan              nan\n",
      "               nan              nan              nan              nan\n",
      "               nan              nan              nan              nan\n",
      "               nan              nan              nan              nan]]\n"
     ]
    },
    {
     "name": "stderr",
     "output_type": "stream",
     "text": [
      "C:\\ProgramData\\Anaconda3\\lib\\site-packages\\ipykernel_launcher.py:14: RuntimeWarning: invalid value encountered in true_divide\n",
      "  \n"
     ]
    },
    {
     "data": {
      "image/png": "[encoded data removed]",
      "text/plain": [
       "<matplotlib.figure.Figure at 0x1affcb02550>"
      ]
     },
     "metadata": {},
     "output_type": "display_data"
    },
    {
     "data": {
      "image/png": "[encoded data removed]",
      "text/plain": [
       "<matplotlib.figure.Figure at 0x1affc0e6e10>"
      ]
     },
     "metadata": {},
     "output_type": "display_data"
    }
   ],
   "source": [
    "from sklearn.metrics import confusion_matrix\n",
    "import itertools\n",
    "cnf_matrix = confusion_matrix(y_test_num[:encoded_test.shape[0]], prediction)\n",
    "class_names=range(16)\n",
    "def plot_confusion_matrix(cm, classes,\n",
    "                          normalize=False,\n",
    "                          title='Confusion matrix',\n",
    "                          cmap=plt.cm.Blues):\n",
    "    \"\"\"\n",
    "    This function prints and plots the confusion matrix.\n",
    "    Normalization can be applied by setting `normalize=True`.\n",
    "    \"\"\"\n",
    "    if normalize:\n",
    "        cm = cm.astype('float') / cm.sum(axis=1)[:, np.newaxis]\n",
    "        print(\"Normalized confusion matrix\")\n",
    "    else:\n",
    "        print('Confusion matrix, without normalization')\n",
    "\n",
    "    print(cm)\n",
    "\n",
    "    plt.imshow(cm, interpolation='nearest', cmap=cmap)\n",
    "    plt.title(title)\n",
    "    plt.colorbar()\n",
    "    tick_marks = np.arange(len(classes))\n",
    "    plt.xticks(tick_marks, classes, rotation=45)\n",
    "    plt.yticks(tick_marks, classes)\n",
    "\n",
    "    fmt = '.2f' if normalize else 'd'\n",
    "    thresh = cm.max() / 2.\n",
    "    for i, j in itertools.product(range(cm.shape[0]), range(cm.shape[1])):\n",
    "        plt.text(j, i, format(cm[i, j], fmt),\n",
    "                 horizontalalignment=\"center\",\n",
    "                 color=\"white\" if cm[i, j] > thresh else \"black\")\n",
    "\n",
    "    plt.tight_layout()\n",
    "    plt.ylabel('True label')\n",
    "    plt.xlabel('Predicted label')\n",
    "\n",
    "plt.figure(figsize=(10,10))\n",
    "plot_confusion_matrix(cnf_matrix, classes=class_names,\n",
    "                      title='Confusion matrix, without normalization')\n",
    "\n",
    "# Plot normalized confusion matrix\n",
    "plt.figure(figsize=(10,10))\n",
    "plot_confusion_matrix(cnf_matrix, classes=class_names, normalize=True,\n",
    "                      title='Normalized confusion matrix')\n",
    "\n",
    "plt.show()"
   ]
  },
  {
   "cell_type": "code",
   "execution_count": 200,
   "metadata": {},
   "outputs": [
    {
     "name": "stdout",
     "output_type": "stream",
     "text": [
      "             precision    recall  f1-score   support\n",
      "\n",
      "          0       0.00      0.00      0.00       100\n",
      "          1       0.00      0.00      0.00        18\n",
      "          5       0.16      0.03      0.05       385\n",
      "          6       0.00      0.00      0.00         4\n",
      "          7       0.00      0.00      0.00         1\n",
      "          9       1.00      0.69      0.82     66079\n",
      "         11       0.55      1.00      0.71     26042\n",
      "         12       0.00      0.00      0.00         1\n",
      "         13       0.00      0.00      0.00         1\n",
      "         14       0.00      0.00      0.00       162\n",
      "         15       0.96      0.66      0.78       401\n",
      "         16       0.00      0.00      0.00         3\n",
      "         17       0.00      0.00      0.00         2\n",
      "         18       1.00      1.00      1.00     69235\n",
      "         20       0.96      0.46      0.63       582\n",
      "         21       0.00      0.00      0.00         0\n",
      "\n",
      "avg / total       0.92      0.87      0.87    163016\n",
      "\n"
     ]
    },
    {
     "name": "stderr",
     "output_type": "stream",
     "text": [
      "C:\\ProgramData\\Anaconda3\\lib\\site-packages\\sklearn\\metrics\\classification.py:1135: UndefinedMetricWarning: Precision and F-score are ill-defined and being set to 0.0 in labels with no predicted samples.\n",
      "  'precision', 'predicted', average, warn_for)\n",
      "C:\\ProgramData\\Anaconda3\\lib\\site-packages\\sklearn\\metrics\\classification.py:1137: UndefinedMetricWarning: Recall and F-score are ill-defined and being set to 0.0 in labels with no true samples.\n",
      "  'recall', 'true', average, warn_for)\n"
     ]
    }
   ],
   "source": [
    "from sklearn.metrics import classification_report\n",
    "print(classification_report(y_test_num[:encoded_test.shape[0]], prediction))\n"
   ]
  },
  {
   "cell_type": "code",
   "execution_count": 204,
   "metadata": {},
   "outputs": [
    {
     "name": "stdout",
     "output_type": "stream",
     "text": [
      "             precision    recall  f1-score   support\n",
      "\n",
      "          0       0.00      0.00      0.00       100\n",
      "          1       0.00      0.00      0.00        18\n",
      "          3       0.00      0.00      0.00         0\n",
      "          5       0.55      0.14      0.23       385\n",
      "          6       0.50      0.25      0.33         4\n",
      "          7       0.00      0.00      0.00         1\n",
      "          9       1.00      0.69      0.82     66079\n",
      "         10       0.00      0.00      0.00         0\n",
      "         11       0.98      0.97      0.98     26053\n",
      "         12       0.00      0.00      0.00         1\n",
      "         13       0.00      0.00      0.00         1\n",
      "         14       0.00      0.00      0.00       162\n",
      "         15       0.02      0.87      0.03       401\n",
      "         16       0.00      0.00      0.00         3\n",
      "         17       0.00      0.00      0.00         2\n",
      "         18       1.00      1.00      1.00     69235\n",
      "         20       1.00      0.99      1.00       582\n",
      "         21       0.00      0.00      0.00         0\n",
      "\n",
      "avg / total       0.99      0.87      0.92    163027\n",
      "\n"
     ]
    },
    {
     "name": "stderr",
     "output_type": "stream",
     "text": [
      "C:\\ProgramData\\Anaconda3\\lib\\site-packages\\sklearn\\metrics\\classification.py:1135: UndefinedMetricWarning: Precision and F-score are ill-defined and being set to 0.0 in labels with no predicted samples.\n",
      "  'precision', 'predicted', average, warn_for)\n",
      "C:\\ProgramData\\Anaconda3\\lib\\site-packages\\sklearn\\metrics\\classification.py:1137: UndefinedMetricWarning: Recall and F-score are ill-defined and being set to 0.0 in labels with no true samples.\n",
      "  'recall', 'true', average, warn_for)\n"
     ]
    }
   ],
   "source": [
    "print(classification_report(y_test_num, prediction_ori))"
   ]
  },
  {
   "cell_type": "code",
   "execution_count": null,
   "metadata": {
    "collapsed": true
   },
   "outputs": [],
   "source": []
  }
 ],
 "metadata": {
  "kernelspec": {
   "display_name": "Python 3",
   "language": "python",
   "name": "python3"
  },
  "language_info": {
   "codemirror_mode": {
    "name": "ipython",
    "version": 3
   },
   "file_extension": ".py",
   "mimetype": "text/x-python",
   "name": "python",
   "nbconvert_exporter": "python",
   "pygments_lexer": "ipython3",
   "version": "3.6.3"
  }
 },
 "nbformat": 4,
 "nbformat_minor": 2
}
