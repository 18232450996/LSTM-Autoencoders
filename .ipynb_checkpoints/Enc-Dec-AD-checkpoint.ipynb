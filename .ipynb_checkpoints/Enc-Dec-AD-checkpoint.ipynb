{
 "cells": [
  {
   "cell_type": "code",
   "execution_count": null,
   "metadata": {
    "collapsed": true
   },
   "outputs": [],
   "source": [
    "# This is the implementation of the EncDec-AD model based on the paper \"LSTM-based Encoder-Decoder for Multi-sensor Anomaly Detection\". And a slight variantion \"TimeNet\" based on the paper \"TimeNet: Pre-trained deep recurrent neural network for time series classiﬁcation\", which has been shown that achives better performance in the time series anomaly detection scenario. The only difference is the second model feeds constants to its decoder as input."
   ]
  },
  {
   "cell_type": "code",
   "execution_count": 1,
   "metadata": {
    "collapsed": true
   },
   "outputs": [],
   "source": [
    "%matplotlib inline\n",
    "import numpy as np\n",
    "import pandas as pd\n",
    "import tensorflow as tf"
   ]
  },
  {
   "cell_type": "markdown",
   "metadata": {},
   "source": [
    "# Definition of the EncDec-AD model"
   ]
  },
  {
   "cell_type": "code",
   "execution_count": 2,
   "metadata": {
    "collapsed": true
   },
   "outputs": [],
   "source": [
    "class EncDecAD(object):\n",
    "    def __init__(self,latent_dim,inputs):\n",
    "        self.batch_num = inputs[0].get_shape().as_list()[0]\n",
    "        self.input_dim = inputs[0].get_shape().as_list()[1]\n",
    "        \n",
    "        self.enc_cell = tf.nn.rnn_cell.LSTMCell(latent_dim)\n",
    "        self.dec_cell = tf.nn.rnn_cell.LSTMCell(latent_dim)\n",
    "        \n",
    "        with tf.variable_scope('encoder'):\n",
    "            self.enc_outputs, self.enc_state = tf.nn.static_rnn(self.enc_cell, inputs, \n",
    "                                                         dtype=tf.float32)\n",
    "        with tf.variable_scope('decoder') as scope_dec:\n",
    "            w = tf.Variable(tf.truncated_normal([latent_dim,self.input_dim],\n",
    "                                               dtype=tf.float32),name=\"w\")\n",
    "            b = tf.Variable(tf.constant(0.1,shape=[self.input_dim],\n",
    "                                               dtype=tf.float32),name=\"b\")\n",
    "            dec_state = self.enc_state\n",
    "            dec_input = tf.zeros(tf.shape(inputs[0]),dtype=tf.float32)\n",
    "            dec_outputs = []\n",
    "            for time_steps in range(len(inputs)):\n",
    "                if time_steps>0:\n",
    "                    scope_dec.reuse_variables()\n",
    "                dec_input, dec_state = self.dec_cell(dec_input,dec_state)\n",
    "                dec_input = tf.matmul(dec_input,w) + b\n",
    "                dec_outputs.append(dec_input)\n",
    "            dec_outputs = dec_outputs[::-1]\n",
    "            # convert output to the form [batch_size, time_steps, input_dim]\n",
    "            self.output = tf.transpose(tf.stack(dec_outputs),[1,0,2]) \n",
    "        #Calculate loss\n",
    "        self.input = tf.transpose(tf.stack(inputs),[1,0,2])\n",
    "        self.loss = tf.reduce_sum(tf.square(self.input - self.output))\n",
    "        \n",
    "        #Optimization\n",
    "        self.train = tf.train.AdamOptimizer(learning_rate=0.001).minimize(self.loss)"
   ]
  },
  {
   "cell_type": "markdown",
   "metadata": {},
   "source": [
    "# Definition of the TimeNet model"
   ]
  },
  {
   "cell_type": "code",
   "execution_count": 2,
   "metadata": {
    "collapsed": true
   },
   "outputs": [],
   "source": [
    "class TimeNet(object):\n",
    "    def __init__(self,latent_dim,inputs):\n",
    "        self.batch_num = inputs[0].get_shape().as_list()[0]\n",
    "        self.input_dim = inputs[0].get_shape().as_list()[1]\n",
    "        \n",
    "        self.enc_cell = tf.nn.rnn_cell.LSTMCell(latent_dim)\n",
    "        self.dec_cell = tf.nn.rnn_cell.LSTMCell(latent_dim)\n",
    "        \n",
    "        with tf.variable_scope('encoder'):\n",
    "            self.enc_outputs, self.enc_state = tf.nn.static_rnn(self.enc_cell, inputs, \n",
    "                                                         dtype=tf.float32)\n",
    "        with tf.variable_scope('decoder') as scope_dec:\n",
    "            w = tf.Variable(tf.truncated_normal([latent_dim,self.input_dim],\n",
    "                                               dtype=tf.float32),name=\"w\")\n",
    "            b = tf.Variable(tf.constant(0.1,shape=[self.input_dim],\n",
    "                                               dtype=tf.float32),name=\"b\")\n",
    "            \n",
    "            dec_inputs = [tf.zeros(tf.shape(inputs[0]),dtype=tf.float32)\n",
    "                                  for _ in range(len(inputs))]\n",
    "            dec_outputs, dec_state = tf.nn.static_rnn(self.dec_cell, dec_inputs,\n",
    "                                                     initial_state=self.enc_state,\n",
    "                                                     dtype=tf.float32)\n",
    "            dec_outputs = dec_outputs[::-1]\n",
    "            dec_output = tf.transpose(tf.stack(dec_outputs),[1,0,2])\n",
    "            w = tf.tile(tf.expand_dims(w,0),[self.batch_num,1,1])\n",
    "            self.output = tf.matmul(dec_output,w)+b\n",
    "            \n",
    "        #Calculate loss\n",
    "        self.input = tf.transpose(tf.stack(inputs),[1,0,2])\n",
    "        self.loss = tf.reduce_mean(tf.square(self.input - self.output))\n",
    "        \n",
    "        #Optimization\n",
    "        self.train = tf.train.AdamOptimizer().minimize(self.loss)"
   ]
  },
  {
   "cell_type": "markdown",
   "metadata": {},
   "source": [
    "# Experiments"
   ]
  },
  {
   "cell_type": "markdown",
   "metadata": {},
   "source": [
    "## Load dataset"
   ]
  },
  {
   "cell_type": "code",
   "execution_count": 3,
   "metadata": {},
   "outputs": [
    {
     "name": "stderr",
     "output_type": "stream",
     "text": [
      "C:\\Users\\Bin\\Desktop\\Thesis\\code\\Loaddata.py:54: FutureWarning: reshape is deprecated and will raise in a subsequent release. Please use .values.reshape(...) instead\n",
      "  sub_power = sub_power.reshape(-1, 1)\n",
      "C:\\ProgramData\\Anaconda3\\lib\\site-packages\\sklearn\\utils\\validation.py:475: DataConversionWarning: Data with input dtype int64 was converted to float64 by MinMaxScaler.\n",
      "  warnings.warn(msg, DataConversionWarning)\n"
     ]
    },
    {
     "data": {
      "text/plain": [
       "(4380, 1)"
      ]
     },
     "execution_count": 3,
     "metadata": {},
     "output_type": "execute_result"
    }
   ],
   "source": [
    "# power demand dataset\n",
    "\n",
    "%run Loaddata\n",
    "from Loaddata import Loaddata\n",
    "\n",
    "ld = Loaddata(\"power_demand\")\n",
    "dataset = ld.read()\n",
    "dataset.shape\n",
    "\n",
    "\n",
    "time_steps = 84\n",
    "latent_dim = 1\n",
    "n_epoch = 100\n",
    "batch_size = 17\n",
    "input_dim = 1\n",
    "\n",
    "# reshape the dataset to a list, each element with the shape [batch_size, time_steps, input_dim]\n",
    "size = dataset.shape[0]//time_steps//batch_size\n",
    "data_input = np.reshape(dataset[:size*batch_size*time_steps],(size,batch_size,time_steps,input_dim))\n",
    "array = [t for t in data_input]\n",
    "del dataset, data_input\n",
    "\n",
    "# inputs placeholder\n",
    "p_input = tf.placeholder(tf.float32, [batch_size, time_steps, input_dim])\n",
    "p_inputs = [t for t in tf.split(p_input, time_steps, 1)]\n",
    "p_inputs = [tf.squeeze(t, [1]) for t in tf.split(p_input, time_steps, 1)]\n",
    "\n"
   ]
  },
  {
   "cell_type": "code",
   "execution_count": 3,
   "metadata": {},
   "outputs": [
    {
     "name": "stderr",
     "output_type": "stream",
     "text": [
      "C:\\ProgramData\\Anaconda3\\lib\\site-packages\\numpy\\core\\fromnumeric.py:57: FutureWarning: reshape is deprecated and will raise in a subsequent release. Please use .values.reshape(...) instead\n",
      "  return getattr(obj, method)(*args, **kwds)\n"
     ]
    }
   ],
   "source": [
    "# tek17\n",
    "\n",
    "%run Loaddata\n",
    "from Loaddata import Loaddata\n",
    "\n",
    "ld = Loaddata(\"tek17\")\n",
    "dataset = ld.read()\n",
    "\n",
    "time_steps = 500\n",
    "latent_dim = 1\n",
    "n_epoch = 100\n",
    "batch_size = 3\n",
    "input_dim = 1\n",
    "\n",
    "# reshape the dataset to a list, each element with the shape [batch_size, time_steps, input_dim]\n",
    "size = dataset.shape[0]//time_steps//batch_size\n",
    "data_input = np.reshape(dataset[:size*batch_size*time_steps],(size,batch_size,time_steps,input_dim))\n",
    "array = [t for t in data_input]\n",
    "#del dataset, data_input\n",
    "\n",
    "# inputs placeholder\n",
    "p_input = tf.placeholder(tf.float32, [batch_size, time_steps, input_dim])\n",
    "p_inputs = [t for t in tf.split(p_input, time_steps, 1)]\n",
    "p_inputs = [tf.squeeze(t, [1]) for t in tf.split(p_input, time_steps, 1)]\n"
   ]
  },
  {
   "cell_type": "code",
   "execution_count": 4,
   "metadata": {},
   "outputs": [
    {
     "name": "stdout",
     "output_type": "stream",
     "text": [
      "Epoch 1:  5671.88\n",
      "Epoch 2:  5665.79\n",
      "Epoch 3:  5659.69\n",
      "Epoch 4:  5653.59\n",
      "Epoch 5:  5647.48\n",
      "Epoch 6:  5641.35\n",
      "Epoch 7:  5635.23\n",
      "Epoch 8:  5629.09\n",
      "Epoch 9:  5622.94\n",
      "Epoch 10:  5616.78\n",
      "Epoch 11:  5610.61\n",
      "Epoch 12:  5604.42\n",
      "Epoch 13:  5598.24\n",
      "Epoch 14:  5592.03\n",
      "Epoch 15:  5585.82\n",
      "Epoch 16:  5579.6\n",
      "Epoch 17:  5573.37\n",
      "Epoch 18:  5567.12\n",
      "Epoch 19:  5560.86\n",
      "Epoch 20:  5554.59\n",
      "Epoch 21:  5548.3\n",
      "Epoch 22:  5542.01\n",
      "Epoch 23:  5535.7\n",
      "Epoch 24:  5529.37\n",
      "Epoch 25:  5523.03\n",
      "Epoch 26:  5516.67\n",
      "Epoch 27:  5510.3\n",
      "Epoch 28:  5503.92\n",
      "Epoch 29:  5497.52\n",
      "Epoch 30:  5491.11\n",
      "Epoch 31:  5484.67\n",
      "Epoch 32:  5478.22\n",
      "Epoch 33:  5471.75\n",
      "Epoch 34:  5465.27\n",
      "Epoch 35:  5458.77\n",
      "Epoch 36:  5452.25\n",
      "Epoch 37:  5445.71\n",
      "Epoch 38:  5439.16\n",
      "Epoch 39:  5432.58\n",
      "Epoch 40:  5425.98\n",
      "Epoch 41:  5419.36\n",
      "Epoch 42:  5412.73\n",
      "Epoch 43:  5406.07\n",
      "Epoch 44:  5399.4\n",
      "Epoch 45:  5392.7\n",
      "Epoch 46:  5385.98\n",
      "Epoch 47:  5379.24\n",
      "Epoch 48:  5372.48\n",
      "Epoch 49:  5365.69\n",
      "Epoch 50:  5358.88\n",
      "Epoch 51:  5352.06\n",
      "Epoch 52:  5345.21\n",
      "Epoch 53:  5338.33\n",
      "Epoch 54:  5331.42\n",
      "Epoch 55:  5324.51\n",
      "Epoch 56:  5317.55\n",
      "Epoch 57:  5310.58\n",
      "Epoch 58:  5303.57\n",
      "Epoch 59:  5296.55\n",
      "Epoch 60:  5289.49\n",
      "Epoch 61:  5282.42\n",
      "Epoch 62:  5275.32\n",
      "Epoch 63:  5268.19\n",
      "Epoch 64:  5261.03\n",
      "Epoch 65:  5253.85\n",
      "Epoch 66:  5246.63\n",
      "Epoch 67:  5239.39\n",
      "Epoch 68:  5232.12\n",
      "Epoch 69:  5224.83\n",
      "Epoch 70:  5217.51\n",
      "Epoch 71:  5210.16\n",
      "Epoch 72:  5202.77\n",
      "Epoch 73:  5195.36\n",
      "Epoch 74:  5187.92\n",
      "Epoch 75:  5180.45\n",
      "Epoch 76:  5172.95\n",
      "Epoch 77:  5165.42\n",
      "Epoch 78:  5157.85\n",
      "Epoch 79:  5150.26\n",
      "Epoch 80:  5142.64\n",
      "Epoch 81:  5134.98\n",
      "Epoch 82:  5127.31\n",
      "Epoch 83:  5119.59\n",
      "Epoch 84:  5111.83\n",
      "Epoch 85:  5104.05\n",
      "Epoch 86:  5096.24\n",
      "Epoch 87:  5088.4\n",
      "Epoch 88:  5080.52\n",
      "Epoch 89:  5072.62\n",
      "Epoch 90:  5064.69\n",
      "Epoch 91:  5056.71\n",
      "Epoch 92:  5048.71\n",
      "Epoch 93:  5040.67\n",
      "Epoch 94:  5032.6\n",
      "Epoch 95:  5024.5\n",
      "Epoch 96:  5016.37\n",
      "Epoch 97:  5008.21\n",
      "Epoch 98:  5000.01\n",
      "Epoch 99:  4991.77\n",
      "Epoch 100:  4983.51\n"
     ]
    },
    {
     "ename": "IndexError",
     "evalue": "list index out of range",
     "output_type": "error",
     "traceback": [
      "\u001b[1;31m---------------------------------------------------------------------------\u001b[0m",
      "\u001b[1;31mIndexError\u001b[0m                                Traceback (most recent call last)",
      "\u001b[1;32m<ipython-input-4-2dc6174ca545>\u001b[0m in \u001b[0;36m<module>\u001b[1;34m()\u001b[0m\n\u001b[0;32m     11\u001b[0m      \u001b[1;31m#example\u001b[0m\u001b[1;33m\u001b[0m\u001b[1;33m\u001b[0m\u001b[0m\n\u001b[0;32m     12\u001b[0m     input_, output_, encoded_, enc_state = sess1.run([encdecad.input, encdecad.output, \n\u001b[1;32m---> 13\u001b[1;33m                                                     encdecad.enc_outputs, encdecad.enc_state], {p_input:array[2]})\n\u001b[0m\u001b[0;32m     14\u001b[0m     \u001b[0membedding\u001b[0m \u001b[1;33m=\u001b[0m \u001b[0menc_state\u001b[0m\u001b[1;33m[\u001b[0m\u001b[1;36m0\u001b[0m\u001b[1;33m]\u001b[0m\u001b[1;33m\u001b[0m\u001b[0m\n\u001b[0;32m     15\u001b[0m     \u001b[0mprint\u001b[0m\u001b[1;33m(\u001b[0m\u001b[1;34m\"Example: \"\u001b[0m\u001b[1;33m)\u001b[0m\u001b[1;33m\u001b[0m\u001b[0m\n",
      "\u001b[1;31mIndexError\u001b[0m: list index out of range"
     ]
    }
   ],
   "source": [
    "# EncDec-AD model\n",
    "\n",
    "encdecad = EncDecAD(latent_dim, p_inputs)\n",
    "with tf.Session() as sess1:\n",
    "    sess1.run(tf.global_variables_initializer())\n",
    "    for i in range(n_epoch):\n",
    "        for a in array:\n",
    "            loss_val, _ = sess1.run([encdecad.loss,encdecad.train],{p_input:a})\n",
    "        print(\"Epoch %d: \" % (i+1),loss_val)\n",
    "        \n",
    "     #example\n",
    "    input_, output_, encoded_, enc_state = sess1.run([encdecad.input, encdecad.output, \n",
    "                                                    encdecad.enc_outputs, encdecad.enc_state], {p_input:array[2]})\n",
    "    embedding = enc_state[0]\n",
    "    print(\"Example: \")\n",
    "    print(\"embedding: \",embedding)\n",
    "    print(\"input :\", input_[0,:,:].flatten())\n",
    "    print(\"output :\", output_[0,:,:].flatten())"
   ]
  },
  {
   "cell_type": "code",
   "execution_count": 5,
   "metadata": {},
   "outputs": [
    {
     "data": {
      "text/plain": [
       "<matplotlib.axes._subplots.AxesSubplot at 0x21bdee2b4e0>"
      ]
     },
     "execution_count": 5,
     "metadata": {},
     "output_type": "execute_result"
    },
    {
     "data": {
      "image/png": "[encoded data removed]",
      "text/plain": [
       "<matplotlib.figure.Figure at 0x21bdee2b2e8>"
      ]
     },
     "metadata": {},
     "output_type": "display_data"
    }
   ],
   "source": [
    "pd.Series(input_[0,:,:].flatten()).plot()"
   ]
  },
  {
   "cell_type": "code",
   "execution_count": 6,
   "metadata": {},
   "outputs": [
    {
     "data": {
      "text/plain": [
       "<matplotlib.axes._subplots.AxesSubplot at 0x21bbf454b00>"
      ]
     },
     "execution_count": 6,
     "metadata": {},
     "output_type": "execute_result"
    },
    {
     "data": {
      "image/png": "[encoded data removed]",
      "text/plain": [
       "<matplotlib.figure.Figure at 0x21bbe94a630>"
      ]
     },
     "metadata": {},
     "output_type": "display_data"
    }
   ],
   "source": [
    "pd.Series(output_[0,:,:].flatten()).plot()"
   ]
  },
  {
   "cell_type": "code",
   "execution_count": 5,
   "metadata": {},
   "outputs": [
    {
     "name": "stdout",
     "output_type": "stream",
     "text": [
      "Epoch 1:  0.12222\n",
      "Epoch 2:  0.118857\n",
      "Epoch 3:  0.115543\n",
      "Epoch 4:  0.112282\n",
      "Epoch 5:  0.109077\n",
      "Epoch 6:  0.10593\n",
      "Epoch 7:  0.102845\n",
      "Epoch 8:  0.0998246\n",
      "Epoch 9:  0.0968713\n",
      "Epoch 10:  0.0939876\n",
      "Epoch 11:  0.0911752\n",
      "Epoch 12:  0.0884356\n",
      "Epoch 13:  0.0857696\n",
      "Epoch 14:  0.0831777\n",
      "Epoch 15:  0.0806601\n",
      "Epoch 16:  0.0782171\n",
      "Epoch 17:  0.0758495\n",
      "Epoch 18:  0.073558\n",
      "Epoch 19:  0.0713443\n",
      "Epoch 20:  0.06921\n",
      "Epoch 21:  0.067157\n",
      "Epoch 22:  0.065187\n",
      "Epoch 23:  0.063302\n",
      "Epoch 24:  0.0615036\n",
      "Epoch 25:  0.0597935\n",
      "Epoch 26:  0.058173\n",
      "Epoch 27:  0.0566432\n",
      "Epoch 28:  0.055205\n",
      "Epoch 29:  0.0538587\n",
      "Epoch 30:  0.0526043\n",
      "Epoch 31:  0.0514414\n",
      "Epoch 32:  0.0503689\n",
      "Epoch 33:  0.0493854\n",
      "Epoch 34:  0.0484887\n",
      "Epoch 35:  0.047676\n",
      "Epoch 36:  0.0469442\n",
      "Epoch 37:  0.0462892\n",
      "Epoch 38:  0.0457069\n",
      "Epoch 39:  0.0451924\n",
      "Epoch 40:  0.0447406\n",
      "Epoch 41:  0.0443462\n",
      "Epoch 42:  0.044004\n",
      "Epoch 43:  0.0437085\n",
      "Epoch 44:  0.0434546\n",
      "Epoch 45:  0.0432375\n",
      "Epoch 46:  0.0430525\n",
      "Epoch 47:  0.0428958\n",
      "Epoch 48:  0.0427635\n",
      "Epoch 49:  0.0426524\n",
      "Epoch 50:  0.0425597\n",
      "Epoch 51:  0.0424828\n",
      "Epoch 52:  0.0424195\n",
      "Epoch 53:  0.0423679\n",
      "Epoch 54:  0.0423261\n",
      "Epoch 55:  0.0422923\n",
      "Epoch 56:  0.0422652\n",
      "Epoch 57:  0.0422432\n",
      "Epoch 58:  0.0422251\n",
      "Epoch 59:  0.04221\n",
      "Epoch 60:  0.0421969\n",
      "Epoch 61:  0.0421853\n",
      "Epoch 62:  0.0421747\n",
      "Epoch 63:  0.0421647\n",
      "Epoch 64:  0.0421554\n",
      "Epoch 65:  0.0421464\n",
      "Epoch 66:  0.0421378\n",
      "Epoch 67:  0.0421296\n",
      "Epoch 68:  0.0421217\n",
      "Epoch 69:  0.042114\n",
      "Epoch 70:  0.0421066\n",
      "Epoch 71:  0.0420993\n",
      "Epoch 72:  0.0420921\n",
      "Epoch 73:  0.042085\n",
      "Epoch 74:  0.0420779\n",
      "Epoch 75:  0.0420707\n",
      "Epoch 76:  0.0420635\n",
      "Epoch 77:  0.0420562\n",
      "Epoch 78:  0.0420487\n",
      "Epoch 79:  0.042041\n",
      "Epoch 80:  0.0420332\n",
      "Epoch 81:  0.0420252\n",
      "Epoch 82:  0.042017\n",
      "Epoch 83:  0.0420086\n",
      "Epoch 84:  0.0420001\n",
      "Epoch 85:  0.0419913\n",
      "Epoch 86:  0.0419824\n",
      "Epoch 87:  0.0419734\n",
      "Epoch 88:  0.0419643\n",
      "Epoch 89:  0.041955\n",
      "Epoch 90:  0.0419457\n",
      "Epoch 91:  0.0419362\n",
      "Epoch 92:  0.0419266\n",
      "Epoch 93:  0.041917\n",
      "Epoch 94:  0.0419073\n",
      "Epoch 95:  0.0418975\n",
      "Epoch 96:  0.0418877\n",
      "Epoch 97:  0.0418778\n",
      "Epoch 98:  0.0418678\n",
      "Epoch 99:  0.0418577\n",
      "Epoch 100:  0.0418475\n"
     ]
    }
   ],
   "source": [
    "# TimeNet\n",
    "timenet = TimeNet(latent_dim, p_inputs)\n",
    "with tf.Session() as sess2:\n",
    "    sess2.run(tf.global_variables_initializer())\n",
    "    for i in range(n_epoch):\n",
    "        for a in array:\n",
    "            loss_val, _ = sess2.run([timenet.loss,timenet.train],{p_input:a})\n",
    "        print(\"Epoch %d: \" % (i+1),loss_val)\n",
    "    #example\n",
    "    input_, output_, encoded_, enc_state = sess2.run([timenet.input, timenet.output, \n",
    "                                                    timenet.enc_outputs, timenet.enc_state], {p_input:array[-1]})\n",
    "   "
   ]
  },
  {
   "cell_type": "code",
   "execution_count": null,
   "metadata": {
    "collapsed": true
   },
   "outputs": [],
   "source": []
  }
 ],
 "metadata": {
  "kernelspec": {
   "display_name": "Python 3",
   "language": "python",
   "name": "python3"
  },
  "language_info": {
   "codemirror_mode": {
    "name": "ipython",
    "version": 3
   },
   "file_extension": ".py",
   "mimetype": "text/x-python",
   "name": "python",
   "nbconvert_exporter": "python",
   "pygments_lexer": "ipython3",
   "version": "3.6.3"
  }
 },
 "nbformat": 4,
 "nbformat_minor": 2
}
