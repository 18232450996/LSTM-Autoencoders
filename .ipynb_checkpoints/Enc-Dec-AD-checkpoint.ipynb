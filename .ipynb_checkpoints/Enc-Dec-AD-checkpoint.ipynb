{
 "cells": [
  {
   "cell_type": "code",
   "execution_count": null,
   "metadata": {
    "collapsed": true
   },
   "outputs": [],
   "source": [
    "# This is the implementation of the EncDec-AD model based on the paper \"LSTM-based Encoder-Decoder for Multi-sensor Anomaly Detection\". And a slight variantion \"TimeNet\" based on the paper \"TimeNet: Pre-trained deep recurrent neural network for time series classiﬁcation\", which has been shown that achives better performance in the time series anomaly detection scenario. The only difference is the second model feeds constants to its decoder as input."
   ]
  },
  {
   "cell_type": "code",
   "execution_count": 1,
   "metadata": {
    "collapsed": true
   },
   "outputs": [],
   "source": [
    "%matplotlib inline\n",
    "import numpy as np\n",
    "import pandas as pd\n",
    "import tensorflow as tf\n",
    "from functools import reduce"
   ]
  },
  {
   "cell_type": "markdown",
   "metadata": {},
   "source": [
    "# Definition of the EncDec-AD model"
   ]
  },
  {
   "cell_type": "code",
   "execution_count": 2,
   "metadata": {},
   "outputs": [],
   "source": [
    "# decoder input: original time series value at last time step\n",
    "\n",
    "class EncDecAD(object):\n",
    "    def __init__(self,latent_dim,inputs,is_training=False):\n",
    "        self.batch_num = inputs[0].get_shape().as_list()[0]\n",
    "        self.input_dim = inputs[0].get_shape().as_list()[1]\n",
    "        self.is_training = is_training\n",
    "        \n",
    "        self.enc_cell = tf.nn.rnn_cell.LSTMCell(latent_dim)\n",
    "        self.dec_cell = tf.nn.rnn_cell.LSTMCell(latent_dim)\n",
    "        \n",
    "        with tf.variable_scope('encoder'):\n",
    "            self.enc_outputs, self.enc_state = tf.nn.static_rnn(self.enc_cell, inputs, \n",
    "                                                         dtype=tf.float32)\n",
    "        with tf.variable_scope('decoder') as scope_dec:\n",
    "            w = tf.Variable(tf.truncated_normal([latent_dim,self.input_dim],\n",
    "                                               dtype=tf.float32),name=\"w\")\n",
    "            b = tf.Variable(tf.constant(0.1,shape=[self.input_dim],\n",
    "                                               dtype=tf.float32),name=\"b\")\n",
    "            \n",
    "            dec_inputs = [tf.zeros(tf.shape(inputs[0]),dtype=tf.float32)]+inputs[::-1][:-1]\n",
    "            dec_outputs, dec_state = tf.nn.static_rnn(self.dec_cell, dec_inputs,\n",
    "                                                     initial_state=self.enc_state,\n",
    "                                                     dtype=tf.float32)\n",
    "            dec_outputs = dec_outputs[::-1]\n",
    "            dec_output = tf.transpose(tf.stack(dec_outputs),[1,0,2])\n",
    "            w = tf.tile(tf.expand_dims(w,0),[self.batch_num,1,1])\n",
    "            self.output = tf.matmul(dec_output,w)+b\n",
    "            \n",
    "        #Calculate loss\n",
    "        self.input = tf.transpose(tf.stack(inputs),[1,0,2])\n",
    "        self.loss = tf.reduce_sum(tf.square(self.input - self.output))\n",
    "        self.error_vec = tf.abs(tf.reshape((self.input - self.output),[-1]))\n",
    "\n",
    "        #Optimization if is training\n",
    "        if self.is_training == True:\n",
    "            self.train = tf.train.AdamOptimizer().minimize(self.loss)"
   ]
  },
  {
   "cell_type": "markdown",
   "metadata": {},
   "source": [
    "# Definition of the TimeNet model"
   ]
  },
  {
   "cell_type": "code",
   "execution_count": null,
   "metadata": {
    "collapsed": true
   },
   "outputs": [],
   "source": [
    "class TimeNet(object):\n",
    "    def __init__(self,latent_dim,inputs,is_training=False):\n",
    "        self.batch_num = inputs[0].get_shape().as_list()[0]\n",
    "        self.input_dim = inputs[0].get_shape().as_list()[1]\n",
    "        \n",
    "        self.enc_cell = tf.nn.rnn_cell.LSTMCell(latent_dim)\n",
    "        self.dec_cell = tf.nn.rnn_cell.LSTMCell(latent_dim)\n",
    "        \n",
    "        with tf.variable_scope('encoder'):\n",
    "            self.enc_outputs, self.enc_state = tf.nn.static_rnn(self.enc_cell, inputs, \n",
    "                                                         dtype=tf.float32)\n",
    "        with tf.variable_scope('decoder') as scope_dec:\n",
    "            w = tf.Variable(tf.truncated_normal([latent_dim,self.input_dim],\n",
    "                                               dtype=tf.float32),name=\"w\")\n",
    "            b = tf.Variable(tf.constant(0.1,shape=[self.input_dim],\n",
    "                                               dtype=tf.float32),name=\"b\")\n",
    "            \n",
    "            dec_inputs = [tf.zeros(tf.shape(inputs[0]),dtype=tf.float32)\n",
    "                                  for _ in range(len(inputs))]\n",
    "            dec_outputs, dec_state = tf.nn.static_rnn(self.dec_cell, dec_inputs,\n",
    "                                                     initial_state=self.enc_state,\n",
    "                                                     dtype=tf.float32)\n",
    "            dec_outputs = dec_outputs[::-1]\n",
    "            dec_output = tf.transpose(tf.stack(dec_outputs),[1,0,2])\n",
    "            w = tf.tile(tf.expand_dims(w,0),[self.batch_num,1,1])\n",
    "            self.output = tf.matmul(dec_output,w)+b\n",
    "            \n",
    "        #Calculate loss\n",
    "        self.input = tf.transpose(tf.stack(inputs),[1,0,2])\n",
    "        self.loss = tf.reduce_mean(tf.square(self.input - self.output))\n",
    "        self.error_vec = tf.abs(tf.reshape((self.input - self.output),[-1]))\n",
    "        #Optimization\n",
    "        if self.is_training == True:\n",
    "            self.train = tf.train.AdamOptimizer().minimize(self.loss)"
   ]
  },
  {
   "cell_type": "markdown",
   "metadata": {},
   "source": [
    "# Experiments"
   ]
  },
  {
   "cell_type": "markdown",
   "metadata": {},
   "source": [
    "## Load dataset"
   ]
  },
  {
   "cell_type": "markdown",
   "metadata": {},
   "source": [
    "### 1. power demand dataset"
   ]
  },
  {
   "cell_type": "code",
   "execution_count": 3,
   "metadata": {},
   "outputs": [
    {
     "name": "stderr",
     "output_type": "stream",
     "text": [
      "C:\\Users\\Bin\\Desktop\\Thesis\\code\\Loaddata.py:136: FutureWarning: reshape is deprecated and will raise in a subsequent release. Please use .values.reshape(...) instead\n",
      "  sub_power = sub_power.reshape(-1, 1)\n",
      "C:\\ProgramData\\Anaconda3\\lib\\site-packages\\sklearn\\utils\\validation.py:475: DataConversionWarning: Data with input dtype int64 was converted to float64 by MinMaxScaler.\n",
      "  warnings.warn(msg, DataConversionWarning)\n",
      "C:\\Users\\Bin\\Desktop\\Thesis\\code\\Loaddata.py:136: FutureWarning: reshape is deprecated and will raise in a subsequent release. Please use .values.reshape(...) instead\n",
      "  sub_power = sub_power.reshape(-1, 1)\n",
      "C:\\Users\\Bin\\Desktop\\Thesis\\code\\Loaddata.py:56: FutureWarning: reshape is deprecated and will raise in a subsequent release. Please use .values.reshape(...) instead\n",
      "  sub_power = sub_power.reshape(-1, 1)\n"
     ]
    },
    {
     "ename": "ValueError",
     "evalue": "not enough values to unpack (expected 7, got 6)",
     "output_type": "error",
     "traceback": [
      "\u001b[1;31m---------------------------------------------------------------------------\u001b[0m",
      "\u001b[1;31mValueError\u001b[0m                                Traceback (most recent call last)",
      "\u001b[1;32m<ipython-input-3-e0ead43a2cf1>\u001b[0m in \u001b[0;36m<module>\u001b[1;34m()\u001b[0m\n\u001b[0;32m      6\u001b[0m \u001b[0mld\u001b[0m \u001b[1;33m=\u001b[0m \u001b[0mLoaddata\u001b[0m\u001b[1;33m(\u001b[0m\u001b[1;34m\"power_demand\"\u001b[0m\u001b[1;33m)\u001b[0m\u001b[1;33m\u001b[0m\u001b[0m\n\u001b[0;32m      7\u001b[0m \u001b[0mdatasets\u001b[0m \u001b[1;33m=\u001b[0m \u001b[0mld\u001b[0m\u001b[1;33m.\u001b[0m\u001b[0mread\u001b[0m\u001b[1;33m(\u001b[0m\u001b[1;33m)\u001b[0m\u001b[1;33m\u001b[0m\u001b[0m\n\u001b[1;32m----> 8\u001b[1;33m \u001b[1;33m[\u001b[0m\u001b[0mtraining_normal\u001b[0m\u001b[1;33m,\u001b[0m \u001b[0mvalidation_1\u001b[0m\u001b[1;33m,\u001b[0m \u001b[0mvalidation_2\u001b[0m\u001b[1;33m,\u001b[0m \u001b[0mtest_normal\u001b[0m\u001b[1;33m,\u001b[0m \u001b[0mvalidation_anomaly\u001b[0m\u001b[1;33m,\u001b[0m \u001b[0mtest_anomaly\u001b[0m\u001b[1;33m,\u001b[0m\u001b[0mwhole_normal\u001b[0m\u001b[1;33m]\u001b[0m \u001b[1;33m=\u001b[0m \u001b[0mdatasets\u001b[0m\u001b[1;33m\u001b[0m\u001b[0m\n\u001b[0m\u001b[0;32m      9\u001b[0m \u001b[1;33m\u001b[0m\u001b[0m\n\u001b[0;32m     10\u001b[0m \u001b[0mL\u001b[0m \u001b[1;33m=\u001b[0m \u001b[1;36m84\u001b[0m\u001b[1;33m\u001b[0m\u001b[0m\n",
      "\u001b[1;31mValueError\u001b[0m: not enough values to unpack (expected 7, got 6)"
     ]
    }
   ],
   "source": [
    "# power demand dataset\n",
    "\n",
    "%run Loaddata\n",
    "from Loaddata import Loaddata\n",
    "\n",
    "ld = Loaddata(\"power_demand\")\n",
    "datasets = ld.read()\n",
    "[training_normal, validation_1, validation_2, test_normal, validation_anomaly, test_anomaly,whole_normal] = datasets\n",
    "\n",
    "L = 84\n",
    "NUM_LSTM_UNITS = 40\n",
    "\n",
    "time_steps = L\n",
    "latent_dim = NUM_LSTM_UNITS\n",
    "n_epoch = 500\n",
    "batch_size = 3\n",
    "input_dim = 1\n",
    "\n",
    "inputs_array = []\n",
    "for dataset in datasets:\n",
    "\n",
    "    # reshape the dataset to a list, each element with the shape [batch_size, time_steps, input_dim]\n",
    "    size = dataset.shape[0]//time_steps//batch_size\n",
    "    data_input = np.reshape(dataset[:size*batch_size*time_steps],(size,batch_size,time_steps,input_dim))\n",
    "    array = [t for t in data_input]\n",
    "    inputs_array.append(array)\n",
    "\n",
    "# inputs placeholder\n",
    "p_input = tf.placeholder(tf.float32, [batch_size, time_steps, input_dim])\n",
    "p_inputs = [t for t in tf.split(p_input, time_steps, 1)]\n",
    "p_inputs = [tf.squeeze(t, [1]) for t in tf.split(p_input, time_steps, 1)]\n",
    "\n"
   ]
  },
  {
   "cell_type": "markdown",
   "metadata": {},
   "source": [
    "### 2. space shuttle dataset"
   ]
  },
  {
   "cell_type": "code",
   "execution_count": null,
   "metadata": {},
   "outputs": [],
   "source": [
    "# space shuttle dataset\n",
    "\n",
    "%run Loaddata\n",
    "from Loaddata import Loaddata\n",
    "\n",
    "ld = Loaddata(\"space_shuttle\")\n",
    "dataset = ld.read()\n",
    "\n",
    "SUB_SEQUENCE_LENGTH = 500 # 1500/3\n",
    "time_steps = SUB_SEQUENCE_LENGTH\n",
    "latent_dim = 50\n",
    "n_epoch = 500\n",
    "batch_size = 2\n",
    "input_dim = 1\n",
    "\n",
    "# reshape the dataset to a list, each element with the shape [batch_size, time_steps, input_dim]\n",
    "size = dataset.shape[0]//time_steps//batch_size\n",
    "data_input = np.reshape(dataset[:size*batch_size*time_steps],(size,batch_size,time_steps,input_dim))\n",
    "array = [t for t in data_input]\n",
    "#del dataset, data_input\n",
    "\n",
    "# inputs placeholder\n",
    "p_input = tf.placeholder(tf.float32, [batch_size, time_steps, input_dim])\n",
    "p_inputs = [t for t in tf.split(p_input, time_steps, 1)]\n",
    "p_inputs = [tf.squeeze(t, [1]) for t in tf.split(p_input, time_steps, 1)]\n"
   ]
  },
  {
   "cell_type": "markdown",
   "metadata": {},
   "source": [
    "### 3. ECG dataset"
   ]
  },
  {
   "cell_type": "code",
   "execution_count": null,
   "metadata": {},
   "outputs": [],
   "source": [
    "# ECG dataset\n",
    "\n",
    "%run Loaddata\n",
    "from Loaddata import Loaddata\n",
    "\n",
    "ld = Loaddata(\"ecg\")\n",
    "dataset = ld.read()\n",
    "\n",
    "SUB_SEQUENCE_LENGTH = 208\n",
    "time_steps = SUB_SEQUENCE_LENGTH\n",
    "latent_dim = 1\n",
    "n_epoch = 500\n",
    "batch_size = 15\n",
    "input_dim = 1\n",
    "\n",
    "# reshape the dataset to a list, each element with the shape [batch_size, time_steps, input_dim]\n",
    "size = dataset.shape[0]//time_steps//batch_size\n",
    "data_input = np.reshape(dataset[:size*batch_size*time_steps],(size,batch_size,time_steps,input_dim))\n",
    "array = [t for t in data_input]\n",
    "#del dataset, data_input\n",
    "\n",
    "# inputs placeholder\n",
    "p_input = tf.placeholder(tf.float32, [batch_size, time_steps, input_dim])\n",
    "p_inputs = [t for t in tf.split(p_input, time_steps, 1)]\n",
    "p_inputs = [tf.squeeze(t, [1]) for t in tf.split(p_input, time_steps, 1)]"
   ]
  },
  {
   "cell_type": "markdown",
   "metadata": {},
   "source": [
    "## Training"
   ]
  },
  {
   "cell_type": "code",
   "execution_count": null,
   "metadata": {},
   "outputs": [],
   "source": [
    "# EncDec-AD model training\n",
    "# inputs_array: [training_normal, validation_1, validation_2, test_normal, validation_anomaly, test_anomaly]\n",
    "\n",
    "encdecad = EncDecAD(latent_dim, p_inputs,is_training=True)\n",
    "saver = tf.train.Saver()\n",
    "with tf.Session() as sess1:\n",
    "    #saver.restore(sess, \"/tmp/EncDecAD_model.ckpt\")\n",
    "    #print(\"Model restored.\")\n",
    "    sess1.run(tf.global_variables_initializer())\n",
    "    for i in range(n_epoch):\n",
    "        for a in array:  #training_normal\n",
    "            loss_val, _ = sess1.run([encdecad.loss,encdecad.train],{p_input:a})\n",
    "        print(\"Epoch %d: \" % (i+1),loss_val)\n",
    "    save_path = saver.save(sess1, \"C:/Users/Bin/Desktop/Thesis/code/tmp/EncDecAD_space_training_500epochs_50unit.ckpt\")\n",
    "    print(\"Model saved in file: %s\" % save_path) \n",
    "'''\n",
    "    #example\n",
    "    input_, output_, encoded_, enc_state = sess1.run([encdecad.input, encdecad.output, \n",
    "                                                    encdecad.enc_outputs, encdecad.enc_state], {p_input:array[-1]})\n",
    "    embedding = enc_state[0]\n",
    "    print(\"Example: \")\n",
    "    print(\"embedding: \",embedding)\n",
    "    print(\"input :\", input_[0,:,:].flatten())\n",
    "    print(\"output :\", output_[0,:,:].flatten())\n",
    "'''"
   ]
  },
  {
   "cell_type": "code",
   "execution_count": 4,
   "metadata": {},
   "outputs": [
    {
     "name": "stdout",
     "output_type": "stream",
     "text": [
      "INFO:tensorflow:Restoring parameters from C:/Users/Bin/Desktop/Thesis/code/tmp/EncDecAD_power_training_500epochs.ckpt\n",
      "Model restored.\n"
     ]
    }
   ],
   "source": [
    "# try\n",
    "\n",
    "is_training = False\n",
    "encdecad = EncDecAD(latent_dim, p_inputs,is_training)\n",
    "saver = tf.train.Saver()\n",
    "with tf.Session() as sess:\n",
    "    saver.restore(sess, \"C:/Users/Bin/Desktop/Thesis/code/tmp/EncDecAD_power_training_500epochs.ckpt\")\n",
    "    print(\"Model restored.\")\n",
    "    \n",
    "    \n",
    "    sess.run(tf.global_variables_initializer())\n",
    "    test_error_vectors = []\n",
    "    \n",
    "    foo1 = []\n",
    "    foo2 = []\n",
    "    foo3 = []\n",
    "    for a in inputs_array[5]: \n",
    "        error_vector,input_,output_ = sess.run([encdecad.error_vec,encdecad.input,encdecad.output],{p_input:a})\n",
    "        foo1.append(error_vector)\n",
    "        foo2.append(input_)\n",
    "        foo3.append(output_)\n",
    "\n",
    "    \n",
    "    '''\n",
    "    anomaly_scores = []\n",
    "    for error_vec in test_error_vectors:\n",
    "        error_vec = np.reshape(error_vec,error_mean.shape)\n",
    "        tmp = np.dot( (error_vec - error_mean) ,error_variance.T )\n",
    "        a_score =np.dot(tmp,(error_vec - error_mean).T)#**********\n",
    "        anomaly_scores.append(a_score)\n",
    "    '''"
   ]
  },
  {
   "cell_type": "code",
   "execution_count": 9,
   "metadata": {},
   "outputs": [
    {
     "data": {
      "text/plain": [
       "<matplotlib.axes._subplots.AxesSubplot at 0x23afe26ba90>"
      ]
     },
     "execution_count": 9,
     "metadata": {},
     "output_type": "execute_result"
    },
    {
     "data": {
      "image/png": "[encoded data removed]",
      "text/plain": [
       "<matplotlib.figure.Figure at 0x23afa283400>"
      ]
     },
     "metadata": {},
     "output_type": "display_data"
    }
   ],
   "source": [
    "pd.Series(np.reshape(foo1,(-1)))[-100:].reset_index(drop=True).plot(ylim=[0,1]) #error"
   ]
  },
  {
   "cell_type": "code",
   "execution_count": 6,
   "metadata": {},
   "outputs": [
    {
     "data": {
      "text/plain": [
       "<matplotlib.axes._subplots.AxesSubplot at 0x23afe3dedd8>"
      ]
     },
     "execution_count": 6,
     "metadata": {},
     "output_type": "execute_result"
    },
    {
     "data": {
      "image/png": "[encoded data removed]",
      "text/plain": [
       "<matplotlib.figure.Figure at 0x23afa2ac160>"
      ]
     },
     "metadata": {},
     "output_type": "display_data"
    }
   ],
   "source": [
    "pd.Series(np.reshape(foo2,(-1)))[-100:].reset_index(drop=True).plot(ylim=[0,1.]) #input"
   ]
  },
  {
   "cell_type": "code",
   "execution_count": 8,
   "metadata": {},
   "outputs": [
    {
     "data": {
      "text/plain": [
       "<matplotlib.axes._subplots.AxesSubplot at 0x23afe1a6630>"
      ]
     },
     "execution_count": 8,
     "metadata": {},
     "output_type": "execute_result"
    },
    {
     "data": {
      "image/png": "[encoded data removed]",
      "text/plain": [
       "<matplotlib.figure.Figure at 0x23afe234e10>"
      ]
     },
     "metadata": {},
     "output_type": "display_data"
    }
   ],
   "source": [
    "pd.Series(np.reshape(foo3,(-1)))[-100:].reset_index(drop=True).plot() #output"
   ]
  },
  {
   "cell_type": "code",
   "execution_count": null,
   "metadata": {},
   "outputs": [],
   "source": [
    "# create an EncDecAD object\n",
    "\n",
    "is_training = False\n",
    "encdecad = EncDecAD(latent_dim, p_inputs,is_training)\n",
    "saver = tf.train.Saver()\n",
    "\n",
    "with tf.Session() as sess:\n",
    "    saver.restore(sess, \"C:/Users/Bin/Desktop/Thesis/code/tmp/EncDecAD_power_training_500epochs.ckpt\")\n",
    "    print(\"Model restored.\")\n",
    "    sess.run(tf.global_variables_initializer())\n",
    "    validation1_error_vectors = []\n",
    "    for a in inputs_array[1]:  #validation_1\n",
    "        error_vector = sess.run([encdecad.error_vec],{p_input:a})[0]\n",
    "        validation1_error_vectors.append(error_vector)\n",
    "\n",
    "    # Use error vectors to estimate the parameters mu and sigma of a normal distribution using Maximum Likelihood Estimation\n",
    "    error_ = []\n",
    "    for i in range(len(validation1_error_vectors)):\n",
    "        for j in range(len(validation1_error_vectors[0])):\n",
    "            error_.append(validation1_error_vectors[i][j])\n",
    "    error_ = np.reshape(np.array(error_),(int(validation_1.shape[0]/time_steps),time_steps))   # shape(9,84)\n",
    "\n",
    "    error_mean = np.mean(error_,axis=0)\n",
    "    error_variance = np.cov(error_.T)\n",
    "    print(\"error_mean: \",error_mean)\n",
    "    print(\"error_variance\",error_variance)\n",
    "\n",
    "\n",
    "    # EncDec-AD model test\n",
    "    # calculate the anomaly score\n",
    "\n",
    "    sess.run(tf.global_variables_initializer())\n",
    "    test_error_vectors = []\n",
    "    iii = []\n",
    "    ooo = []\n",
    "    for p in [2,3,4,5]:\n",
    "        print(p)\n",
    "        for a in inputs_array[p]:  #test_anomalous\n",
    "            error_vector,_,_ = sess.run([encdecad.error_vec,encdecad.input,encdecad.output],{p_input:a})[0]\n",
    "            foo = [error_vector[i] for i in range(error_vector.shape[0])]\n",
    "            for f in foo:\n",
    "                test_error_vectors.append(f)\n",
    "          \n",
    "\n",
    "        anomaly_scores = []\n",
    "        for error_vec in test_error_vectors:\n",
    "            error_vec = np.reshape(error_vec,error_mean.shape)\n",
    "            tmp = np.dot( (error_vec - error_mean) ,error_variance.T )\n",
    "            a_score =np.dot(tmp,(error_vec - error_mean).T)#**********\n",
    "            anomaly_scores.append(a_score)\n",
    "    pd.Series(np.reshape(ooo,(84*27))).plot()\n",
    "    "
   ]
  },
  {
   "cell_type": "code",
   "execution_count": null,
   "metadata": {},
   "outputs": [],
   "source": [
    "# TimeNet\n",
    "timenet = TimeNet(latent_dim, p_inputs,is_training=True)\n",
    "saver = tf.train.Saver()\n",
    "with tf.Session() as sess:\n",
    "    #saver.restore(sess, \"C:/Users/Bin/Desktop/Thesis/code/tmp/TimeNet_power_demand_500epochs_40unit.ckpt\")\n",
    "    #print(\"Model restored.\")\n",
    "    sess.run(tf.global_variables_initializer())\n",
    "    test_error_vectors = []\n",
    "    \n",
    "    foo1 = []\n",
    "    foo2 = []\n",
    "    foo3 = []\n",
    "    for a in array: \n",
    "        error_vector,input_,output_ = sess.run([timenet.error_vec,timenet.input,timenet.output],{p_input:a})\n",
    "        \n",
    "        foo1.append(error_vector)\n",
    "        foo2.append(input_)\n",
    "        foo3.append(output_)\n",
    "    save_path = saver.save(sess, \"C:/Users/Bin/Desktop/Thesis/code/tmp/TimeNet_power_demand_500epochs_40unit.ckpt\")\n",
    "    print(\"Model saved in file: %s\" % save_path) "
   ]
  },
  {
   "cell_type": "code",
   "execution_count": null,
   "metadata": {
    "collapsed": true
   },
   "outputs": [],
   "source": []
  }
 ],
 "metadata": {
  "kernelspec": {
   "display_name": "Python 3",
   "language": "python",
   "name": "python3"
  },
  "language_info": {
   "codemirror_mode": {
    "name": "ipython",
    "version": 3
   },
   "file_extension": ".py",
   "mimetype": "text/x-python",
   "name": "python",
   "nbconvert_exporter": "python",
   "pygments_lexer": "ipython3",
   "version": "3.6.3"
  }
 },
 "nbformat": 4,
 "nbformat_minor": 2
}
