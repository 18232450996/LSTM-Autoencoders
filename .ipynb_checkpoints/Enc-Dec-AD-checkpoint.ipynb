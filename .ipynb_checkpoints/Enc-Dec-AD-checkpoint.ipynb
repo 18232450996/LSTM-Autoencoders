{
 "cells": [
  {
   "cell_type": "code",
   "execution_count": null,
   "metadata": {
    "collapsed": true
   },
   "outputs": [],
   "source": [
    "# This is the implementation of the EncDec-AD model based on the paper \"LSTM-based Encoder-Decoder for Multi-sensor Anomaly Detection\". And a slight variantion \"TimeNet\" based on the paper \"TimeNet: Pre-trained deep recurrent neural network for time series classiﬁcation\", which has been shown that achives better performance in the time series anomaly detection scenario. The only difference is the second model feeds constants to its decoder as input."
   ]
  },
  {
   "cell_type": "code",
   "execution_count": 1,
   "metadata": {
    "collapsed": true
   },
   "outputs": [],
   "source": [
    "%matplotlib inline\n",
    "import numpy as np\n",
    "import pandas as pd\n",
    "import tensorflow as tf"
   ]
  },
  {
   "cell_type": "markdown",
   "metadata": {},
   "source": [
    "# Definition of the EncDec-AD model"
   ]
  },
  {
   "cell_type": "code",
   "execution_count": 2,
   "metadata": {
    "collapsed": true
   },
   "outputs": [],
   "source": [
    "# decoder input: original time series value at last time step\n",
    "\n",
    "class EncDecAD(object):\n",
    "    def __init__(self,latent_dim,inputs):\n",
    "        self.batch_num = inputs[0].get_shape().as_list()[0]\n",
    "        self.input_dim = inputs[0].get_shape().as_list()[1]\n",
    "        \n",
    "        self.enc_cell = tf.nn.rnn_cell.LSTMCell(latent_dim)\n",
    "        self.dec_cell = tf.nn.rnn_cell.LSTMCell(latent_dim)\n",
    "        \n",
    "        with tf.variable_scope('encoder'):\n",
    "            self.enc_outputs, self.enc_state = tf.nn.static_rnn(self.enc_cell, inputs, \n",
    "                                                         dtype=tf.float32)\n",
    "        with tf.variable_scope('decoder') as scope_dec:\n",
    "            w = tf.Variable(tf.truncated_normal([latent_dim,self.input_dim],\n",
    "                                               dtype=tf.float32),name=\"w\")\n",
    "            b = tf.Variable(tf.constant(0.1,shape=[self.input_dim],\n",
    "                                               dtype=tf.float32),name=\"b\")\n",
    "            \n",
    "            dec_inputs = [tf.zeros(tf.shape(inputs[0]),dtype=tf.float32)]+inputs[::-1][:-1]\n",
    "            dec_outputs, dec_state = tf.nn.static_rnn(self.dec_cell, dec_inputs,\n",
    "                                                     initial_state=self.enc_state,\n",
    "                                                     dtype=tf.float32)\n",
    "            dec_outputs = dec_outputs[::-1]\n",
    "            dec_output = tf.transpose(tf.stack(dec_outputs),[1,0,2])\n",
    "            w = tf.tile(tf.expand_dims(w,0),[self.batch_num,1,1])\n",
    "            self.output = tf.matmul(dec_output,w)+b\n",
    "            \n",
    "        #Calculate loss\n",
    "        self.input = tf.transpose(tf.stack(inputs),[1,0,2])\n",
    "        self.loss = tf.reduce_sum(tf.square(self.input - self.output))\n",
    "        \n",
    "        #Optimization\n",
    "        self.train = tf.train.AdamOptimizer(learning_rate=0.001).minimize(self.loss)"
   ]
  },
  {
   "cell_type": "markdown",
   "metadata": {},
   "source": [
    "# Definition of the TimeNet model"
   ]
  },
  {
   "cell_type": "code",
   "execution_count": 2,
   "metadata": {
    "collapsed": true
   },
   "outputs": [],
   "source": [
    "class TimeNet(object):\n",
    "    def __init__(self,latent_dim,inputs):\n",
    "        self.batch_num = inputs[0].get_shape().as_list()[0]\n",
    "        self.input_dim = inputs[0].get_shape().as_list()[1]\n",
    "        \n",
    "        self.enc_cell = tf.nn.rnn_cell.LSTMCell(latent_dim)\n",
    "        self.dec_cell = tf.nn.rnn_cell.LSTMCell(latent_dim)\n",
    "        \n",
    "        with tf.variable_scope('encoder'):\n",
    "            self.enc_outputs, self.enc_state = tf.nn.static_rnn(self.enc_cell, inputs, \n",
    "                                                         dtype=tf.float32)\n",
    "        with tf.variable_scope('decoder') as scope_dec:\n",
    "            w = tf.Variable(tf.truncated_normal([latent_dim,self.input_dim],\n",
    "                                               dtype=tf.float32),name=\"w\")\n",
    "            b = tf.Variable(tf.constant(0.1,shape=[self.input_dim],\n",
    "                                               dtype=tf.float32),name=\"b\")\n",
    "            \n",
    "            dec_inputs = [tf.zeros(tf.shape(inputs[0]),dtype=tf.float32)\n",
    "                                  for _ in range(len(inputs))]\n",
    "            dec_outputs, dec_state = tf.nn.static_rnn(self.dec_cell, dec_inputs,\n",
    "                                                     initial_state=self.enc_state,\n",
    "                                                     dtype=tf.float32)\n",
    "            dec_outputs = dec_outputs[::-1]\n",
    "            dec_output = tf.transpose(tf.stack(dec_outputs),[1,0,2])\n",
    "            w = tf.tile(tf.expand_dims(w,0),[self.batch_num,1,1])\n",
    "            self.output = tf.matmul(dec_output,w)+b\n",
    "            \n",
    "        #Calculate loss\n",
    "        self.input = tf.transpose(tf.stack(inputs),[1,0,2])\n",
    "        self.loss = tf.reduce_mean(tf.square(self.input - self.output))\n",
    "        \n",
    "        #Optimization\n",
    "        self.train = tf.train.AdamOptimizer().minimize(self.loss)"
   ]
  },
  {
   "cell_type": "markdown",
   "metadata": {},
   "source": [
    "# Experiments"
   ]
  },
  {
   "cell_type": "markdown",
   "metadata": {},
   "source": [
    "## Load dataset"
   ]
  },
  {
   "cell_type": "code",
   "execution_count": 3,
   "metadata": {},
   "outputs": [
    {
     "name": "stderr",
     "output_type": "stream",
     "text": [
      "C:\\Users\\Bin\\Desktop\\Thesis\\code\\Loaddata.py:54: FutureWarning: reshape is deprecated and will raise in a subsequent release. Please use .values.reshape(...) instead\n",
      "  sub_power = sub_power.reshape(-1, 1)\n",
      "C:\\ProgramData\\Anaconda3\\lib\\site-packages\\sklearn\\utils\\validation.py:475: DataConversionWarning: Data with input dtype int64 was converted to float64 by MinMaxScaler.\n",
      "  warnings.warn(msg, DataConversionWarning)\n"
     ]
    }
   ],
   "source": [
    "# power demand dataset\n",
    "\n",
    "%run Loaddata\n",
    "from Loaddata import Loaddata\n",
    "\n",
    "ld = Loaddata(\"power_demand\")\n",
    "dataset = ld.read()\n",
    "dataset.shape\n",
    "\n",
    "\n",
    "time_steps = 84\n",
    "latent_dim = 1\n",
    "n_epoch = 5000\n",
    "batch_size = 17\n",
    "input_dim = 1\n",
    "\n",
    "# reshape the dataset to a list, each element with the shape [batch_size, time_steps, input_dim]\n",
    "size = dataset.shape[0]//time_steps//batch_size\n",
    "data_input = np.reshape(dataset[:size*batch_size*time_steps],(size,batch_size,time_steps,input_dim))\n",
    "array = [t for t in data_input]\n",
    "del dataset, data_input\n",
    "\n",
    "# inputs placeholder\n",
    "p_input = tf.placeholder(tf.float32, [batch_size, time_steps, input_dim])\n",
    "p_inputs = [t for t in tf.split(p_input, time_steps, 1)]\n",
    "p_inputs = [tf.squeeze(t, [1]) for t in tf.split(p_input, time_steps, 1)]\n",
    "\n"
   ]
  },
  {
   "cell_type": "code",
   "execution_count": 3,
   "metadata": {},
   "outputs": [
    {
     "name": "stderr",
     "output_type": "stream",
     "text": [
      "C:\\Users\\Bin\\Desktop\\Thesis\\code\\Loaddata.py:71: FutureWarning: reshape is deprecated and will raise in a subsequent release. Please use .values.reshape(...) instead\n",
      "  sub_tek = sub_tek.reshape(-1, 1)\n"
     ]
    }
   ],
   "source": [
    "# space shuttle dataset\n",
    "\n",
    "%run Loaddata\n",
    "from Loaddata import Loaddata\n",
    "\n",
    "ld = Loaddata(\"space_shuttle\")\n",
    "dataset = ld.read()\n",
    "\n",
    "SUB_SEQUENCE_LENGTH = 500 # 1500/3\n",
    "time_steps = SUB_SEQUENCE_LENGTH\n",
    "latent_dim = 1\n",
    "n_epoch = 100\n",
    "batch_size = 14\n",
    "input_dim = 1\n",
    "\n",
    "# reshape the dataset to a list, each element with the shape [batch_size, time_steps, input_dim]\n",
    "size = dataset.shape[0]//time_steps//batch_size\n",
    "data_input = np.reshape(dataset[:size*batch_size*time_steps],(size,batch_size,time_steps,input_dim))\n",
    "array = [t for t in data_input]\n",
    "#del dataset, data_input\n",
    "\n",
    "# inputs placeholder\n",
    "p_input = tf.placeholder(tf.float32, [batch_size, time_steps, input_dim])\n",
    "p_inputs = [t for t in tf.split(p_input, time_steps, 1)]\n",
    "p_inputs = [tf.squeeze(t, [1]) for t in tf.split(p_input, time_steps, 1)]\n"
   ]
  },
  {
   "cell_type": "code",
   "execution_count": 3,
   "metadata": {},
   "outputs": [
    {
     "name": "stderr",
     "output_type": "stream",
     "text": [
      "C:\\Users\\Bin\\Desktop\\Thesis\\code\\Loaddata.py:92: FutureWarning: reshape is deprecated and will raise in a subsequent release. Please use .values.reshape(...) instead\n",
      "  ecg = ecg.reshape(-1, 1)\n"
     ]
    }
   ],
   "source": [
    "# ECG dataset\n",
    "\n",
    "%run Loaddata\n",
    "from Loaddata import Loaddata\n",
    "\n",
    "ld = Loaddata(\"ecg\")\n",
    "dataset = ld.read()\n",
    "\n",
    "SUB_SEQUENCE_LENGTH = 208\n",
    "time_steps = SUB_SEQUENCE_LENGTH\n",
    "latent_dim = 1\n",
    "n_epoch = 100\n",
    "batch_size = 15\n",
    "input_dim = 1\n",
    "\n",
    "# reshape the dataset to a list, each element with the shape [batch_size, time_steps, input_dim]\n",
    "size = dataset.shape[0]//time_steps//batch_size\n",
    "data_input = np.reshape(dataset[:size*batch_size*time_steps],(size,batch_size,time_steps,input_dim))\n",
    "array = [t for t in data_input]\n",
    "#del dataset, data_input\n",
    "\n",
    "# inputs placeholder\n",
    "p_input = tf.placeholder(tf.float32, [batch_size, time_steps, input_dim])\n",
    "p_inputs = [t for t in tf.split(p_input, time_steps, 1)]\n",
    "p_inputs = [tf.squeeze(t, [1]) for t in tf.split(p_input, time_steps, 1)]"
   ]
  },
  {
   "cell_type": "code",
   "execution_count": 4,
   "metadata": {},
   "outputs": [
    {
     "name": "stdout",
     "output_type": "stream",
     "text": [
      "Epoch 1:  295.903\n",
      "Epoch 2:  260.423\n",
      "Epoch 3:  229.257\n",
      "Epoch 4:  202.015\n",
      "Epoch 5:  178.207\n",
      "Epoch 6:  157.368\n",
      "Epoch 7:  139.1\n",
      "Epoch 8:  123.069\n",
      "Epoch 9:  109.0\n",
      "Epoch 10:  96.6615\n",
      "Epoch 11:  85.8564\n",
      "Epoch 12:  76.4164\n",
      "Epoch 13:  68.1953\n",
      "Epoch 14:  61.0643\n",
      "Epoch 15:  54.9091\n",
      "Epoch 16:  49.6268\n",
      "Epoch 17:  45.1243\n",
      "Epoch 18:  41.3162\n",
      "Epoch 19:  38.124\n",
      "Epoch 20:  35.475\n",
      "Epoch 21:  33.3019\n",
      "Epoch 22:  31.5424\n",
      "Epoch 23:  30.1388\n",
      "Epoch 24:  29.038\n",
      "Epoch 25:  28.1917\n",
      "Epoch 26:  27.5563\n",
      "Epoch 27:  27.0926\n",
      "Epoch 28:  26.7663\n",
      "Epoch 29:  26.5476\n",
      "Epoch 30:  26.4112\n",
      "Epoch 31:  26.3357\n",
      "Epoch 32:  26.3039\n",
      "Epoch 33:  26.3015\n",
      "Epoch 34:  26.3178\n",
      "Epoch 35:  26.3444\n",
      "Epoch 36:  26.3752\n",
      "Epoch 37:  26.4057\n",
      "Epoch 38:  26.4331\n",
      "Epoch 39:  26.4555\n",
      "Epoch 40:  26.4719\n",
      "Epoch 41:  26.4818\n",
      "Epoch 42:  26.4853\n",
      "Epoch 43:  26.4826\n",
      "Epoch 44:  26.4743\n",
      "Epoch 45:  26.4608\n",
      "Epoch 46:  26.4427\n",
      "Epoch 47:  26.4207\n",
      "Epoch 48:  26.3952\n",
      "Epoch 49:  26.3668\n",
      "Epoch 50:  26.3359\n",
      "Epoch 51:  26.3029\n",
      "Epoch 52:  26.2682\n",
      "Epoch 53:  26.232\n",
      "Epoch 54:  26.1945\n",
      "Epoch 55:  26.1561\n",
      "Epoch 56:  26.1168\n",
      "Epoch 57:  26.0769\n",
      "Epoch 58:  26.0363\n",
      "Epoch 59:  25.9952\n",
      "Epoch 60:  25.9536\n",
      "Epoch 61:  25.9116\n",
      "Epoch 62:  25.8692\n",
      "Epoch 63:  25.8264\n",
      "Epoch 64:  25.7833\n",
      "Epoch 65:  25.7398\n",
      "Epoch 66:  25.6959\n",
      "Epoch 67:  25.6516\n",
      "Epoch 68:  25.607\n",
      "Epoch 69:  25.5619\n",
      "Epoch 70:  25.5163\n",
      "Epoch 71:  25.4702\n",
      "Epoch 72:  25.4237\n",
      "Epoch 73:  25.3766\n",
      "Epoch 74:  25.3288\n",
      "Epoch 75:  25.2805\n",
      "Epoch 76:  25.2314\n",
      "Epoch 77:  25.1817\n",
      "Epoch 78:  25.1311\n",
      "Epoch 79:  25.0798\n",
      "Epoch 80:  25.0275\n",
      "Epoch 81:  24.9744\n",
      "Epoch 82:  24.9202\n",
      "Epoch 83:  24.8651\n",
      "Epoch 84:  24.8088\n",
      "Epoch 85:  24.7513\n",
      "Epoch 86:  24.6926\n",
      "Epoch 87:  24.6326\n",
      "Epoch 88:  24.5712\n",
      "Epoch 89:  24.5084\n",
      "Epoch 90:  24.4441\n",
      "Epoch 91:  24.3781\n",
      "Epoch 92:  24.3105\n",
      "Epoch 93:  24.2411\n",
      "Epoch 94:  24.1698\n",
      "Epoch 95:  24.0966\n",
      "Epoch 96:  24.0214\n",
      "Epoch 97:  23.944\n",
      "Epoch 98:  23.8644\n",
      "Epoch 99:  23.7824\n",
      "Epoch 100:  23.698\n",
      "Example: \n",
      "embedding:  [[-0.8244884 ]\n",
      " [-0.83030373]\n",
      " [-0.84494114]\n",
      " [-0.76812518]\n",
      " [-0.78158414]\n",
      " [-0.80516797]\n",
      " [-0.78801453]\n",
      " [-0.85311699]\n",
      " [-0.96364748]\n",
      " [-0.96115613]\n",
      " [-0.82878768]\n",
      " [-0.81675643]\n",
      " [-0.82461739]\n",
      " [-0.68977106]\n",
      " [-0.8691442 ]]\n",
      "input : [ 0.42092457  0.41119221  0.41119221  0.41119221  0.40145984  0.40145984\n",
      "  0.40389293  0.39902675  0.39902675  0.39902675  0.3941606   0.39659366\n",
      "  0.39659366  0.38929442  0.38929442  0.39172751  0.38929442  0.38929442\n",
      "  0.38442823  0.38686132  0.38442823  0.37712896  0.37469587  0.37712896\n",
      "  0.38442823  0.39172751  0.38686132  0.38686132  0.39172751  0.38199514\n",
      "  0.37712896  0.37226278  0.36982968  0.36982968  0.36739659  0.3649635\n",
      "  0.36739659  0.36982968  0.36739659  0.3649635   0.36982968  0.36739659\n",
      "  0.36009732  0.35766423  0.3649635   0.36982968  0.3649635   0.35766423\n",
      "  0.3649635   0.36253041  0.35766423  0.35036495  0.35523114  0.35766423\n",
      "  0.34793186  0.34306568  0.34306568  0.35036495  0.34793186  0.34549877\n",
      "  0.34306568  0.34063262  0.33819953  0.33819953  0.34063262  0.34306568\n",
      "  0.35279804  0.34549877  0.34063262  0.34063262  0.34306568  0.33576643\n",
      "  0.33090025  0.34063262  0.34793186  0.34793186  0.33333334  0.33090025\n",
      "  0.34063262  0.34306568  0.34306568  0.34549877  0.34306568  0.33819953\n",
      "  0.34063262  0.34549877  0.34549877  0.34549877  0.34306568  0.34549877\n",
      "  0.35036495  0.34063262  0.33333334  0.33576643  0.35036495  0.36009732\n",
      "  0.35523114  0.35279804  0.36982968  0.3941606   0.45985401  0.64720196\n",
      "  0.87104625  0.79562044  0.5863747   0.53041363  0.54257905  0.5571776\n",
      "  0.5571776   0.55474454  0.5571776   0.57177615  0.55961072  0.54257905\n",
      "  0.54014599  0.54257905  0.53771287  0.51338202  0.47201946  0.43309003\n",
      "  0.38199514  0.33819953  0.28710464  0.24330901  0.21167883  0.21654502\n",
      "  0.23600973  0.24087591  0.24087591  0.23357664  0.24087591  0.25790754\n",
      "  0.27737227  0.28710464  0.30170316  0.30656934  0.31143552  0.31143552\n",
      "  0.30413625  0.28710464  0.28467155  0.30413625  0.3163017   0.31386861\n",
      "  0.31873479  0.32603407  0.33576643  0.34063262  0.34063262  0.33819953\n",
      "  0.33819953  0.33819953  0.34793186  0.35279804  0.34306568  0.33576643\n",
      "  0.34063262  0.34306568  0.35036495  0.34549877  0.34793186  0.33819953\n",
      "  0.33576643  0.32116789  0.31873479  0.3163017   0.30900243  0.30413625\n",
      "  0.3163017   0.33333334  0.33576643  0.32360098  0.31873479  0.32603407\n",
      "  0.32846716  0.33090025  0.33090025  0.34063262  0.35279804  0.35279804\n",
      "  0.35279804  0.35766423  0.37712896  0.38929442  0.39659366  0.3941606\n",
      "  0.3941606   0.39172751  0.39172751  0.40389293  0.4136253   0.42335767\n",
      "  0.41849148  0.41119221  0.42335767  0.41849148  0.42335767  0.42092457\n",
      "  0.42092457  0.42092457  0.41119221  0.3941606   0.39172751  0.3941606\n",
      "  0.40145984  0.39172751  0.37712896  0.38442823]\n",
      "output : [ 0.38878691  0.38875452  0.38872886  0.38830805  0.38829425  0.38838026\n",
      "  0.38816211  0.38814545  0.38813213  0.3879157   0.38799569  0.38797688\n",
      "  0.38766417  0.3876552   0.38774183  0.38762015  0.38760448  0.38738516\n",
      "  0.38746512  0.38735193  0.38706103  0.38699201  0.38712257  0.38742864\n",
      "  0.38771716  0.38749468  0.38745728  0.38761088  0.38716277  0.38693273\n",
      "  0.38671464  0.38660228  0.38659319  0.38649192  0.38639587  0.3864935\n",
      "  0.38658401  0.38647804  0.3863681   0.38654813  0.38643202  0.3861393\n",
      "  0.38605395  0.38634753  0.3865214   0.38630429  0.38598999  0.38626373\n",
      "  0.38612798  0.38590908  0.3855992   0.3857725   0.38583803  0.38542309\n",
      "  0.38523111  0.38523284  0.38551694  0.3853952   0.38527805  0.38516808\n",
      "  0.38506961  0.38498384  0.38500375  0.38512242  0.38521647  0.38558841\n",
      "  0.38526633  0.38505882  0.3850466   0.38513535  0.38485274  0.38468447\n",
      "  0.3850891   0.38535771  0.38533258  0.3847509   0.38468382  0.3850987\n",
      "  0.38520208  0.38519821  0.38528895  0.38519111  0.38500932  0.38512439\n",
      "  0.38532859  0.3853282   0.38533366  0.38524532  0.38534606  0.38554978\n",
      "  0.38519809  0.38500807  0.38524902  0.38599765  0.38658971  0.38669059\n",
      "  0.38703537  0.38834825  0.39007652  0.39332205  0.40121269  0.41072953\n",
      "  0.40718979  0.39786553  0.39543554  0.39598379  0.39661679  0.39660239\n",
      "  0.39647305  0.39649814  0.39702448  0.39637405  0.39549297  0.39518556\n",
      "  0.39498994  0.39438486  0.39289206  0.3906551   0.38854471  0.38598734\n",
      "  0.38383019  0.38153523  0.37972894  0.37856185  0.3788504   0.37967151\n",
      "  0.37990463  0.37997934  0.37982768  0.38028061  0.38109952  0.38198289\n",
      "  0.38244227  0.38306019  0.38325262  0.38341707  0.38337284  0.38307214\n",
      "  0.38245833  0.38246763  0.38332844  0.38387281  0.38383386  0.38409737\n",
      "  0.38444391  0.38486356  0.385066    0.38506949  0.38498327  0.38500926\n",
      "  0.385028    0.38541201  0.38557968  0.38517237  0.38488811  0.3851006\n",
      "  0.38518795  0.38545245  0.3851963   0.38522893  0.38475832  0.38460091\n",
      "  0.3839747   0.3838602   0.38376468  0.38351578  0.3833957   0.38393733\n",
      "  0.38462234  0.38470072  0.38422191  0.3840692   0.38441506  0.38456538\n",
      "  0.3847343   0.38481852  0.38528919  0.38584825  0.38592201  0.38602841\n",
      "  0.38633534  0.38721463  0.38775051  0.38806856  0.38798347  0.38801858\n",
      "  0.38798001  0.38805234  0.38861871  0.38904688  0.38945907  0.38927782\n",
      "  0.38900045  0.38955176  0.3893891   0.38966113  0.38966087  0.38982117\n",
      "  0.39009154  0.39016217  0.39023891  0.39139265  0.3933951   0.39660302\n",
      "  0.40048391  0.40585911  0.41678196  0.40880942]\n"
     ]
    }
   ],
   "source": [
    "# EncDec-AD model\n",
    "\n",
    "encdecad = EncDecAD(latent_dim, p_inputs)\n",
    "saver = tf.train.Saver()\n",
    "with tf.Session() as sess1:\n",
    "    #saver.restore(sess, \"/tmp/EncDecAD_model.ckpt\")\n",
    "    #print(\"Model restored.\")\n",
    "    sess1.run(tf.global_variables_initializer())\n",
    "    for i in range(n_epoch):\n",
    "        for a in array:\n",
    "            loss_val, _ = sess1.run([encdecad.loss,encdecad.train],{p_input:a})\n",
    "        print(\"Epoch %d: \" % (i+1),loss_val)\n",
    "    #save_path = saver.save(sess1, \"/tmp/EncDecAD_model_tek_50epochs.ckpt\")\n",
    "    #print(\"Model saved in file: %s\" % save_path) \n",
    "    \n",
    "    #example\n",
    "    input_, output_, encoded_, enc_state = sess1.run([encdecad.input, encdecad.output, \n",
    "                                                    encdecad.enc_outputs, encdecad.enc_state], {p_input:array[-1]})\n",
    "    embedding = enc_state[0]\n",
    "    print(\"Example: \")\n",
    "    print(\"embedding: \",embedding)\n",
    "    print(\"input :\", input_[0,:,:].flatten())\n",
    "    print(\"output :\", output_[0,:,:].flatten())"
   ]
  },
  {
   "cell_type": "code",
   "execution_count": 8,
   "metadata": {},
   "outputs": [
    {
     "data": {
      "text/plain": [
       "<matplotlib.axes._subplots.AxesSubplot at 0x21b2501c208>"
      ]
     },
     "execution_count": 8,
     "metadata": {},
     "output_type": "execute_result"
    },
    {
     "data": {
      "image/png": "[encoded data removed]",
      "text/plain": [
       "<matplotlib.figure.Figure at 0x21b26bd7eb8>"
      ]
     },
     "metadata": {},
     "output_type": "display_data"
    }
   ],
   "source": [
    "pd.Series(input_[0,:,:].flatten()).plot()"
   ]
  },
  {
   "cell_type": "code",
   "execution_count": 9,
   "metadata": {},
   "outputs": [
    {
     "data": {
      "text/plain": [
       "<matplotlib.axes._subplots.AxesSubplot at 0x21b268c8f28>"
      ]
     },
     "execution_count": 9,
     "metadata": {},
     "output_type": "execute_result"
    },
    {
     "data": {
      "image/png": "[encoded data removed]",
      "text/plain": [
       "<matplotlib.figure.Figure at 0x21b269d0a90>"
      ]
     },
     "metadata": {},
     "output_type": "display_data"
    }
   ],
   "source": [
    "pd.Series(output_[0,:,:].flatten()).plot()"
   ]
  },
  {
   "cell_type": "code",
   "execution_count": 11,
   "metadata": {},
   "outputs": [
    {
     "data": {
      "text/plain": [
       "<matplotlib.axes._subplots.AxesSubplot at 0x21b26a97cc0>"
      ]
     },
     "execution_count": 11,
     "metadata": {},
     "output_type": "execute_result"
    },
    {
     "data": {
      "image/png": "[encoded data removed]",
      "text/plain": [
       "<matplotlib.figure.Figure at 0x21b26cb2b38>"
      ]
     },
     "metadata": {},
     "output_type": "display_data"
    }
   ],
   "source": [
    "# Reconstruction error\n",
    "(pd.Series(input_[0,:,:].flatten())-pd.Series(output_[0,:,:].flatten())).plot()"
   ]
  },
  {
   "cell_type": "code",
   "execution_count": 5,
   "metadata": {},
   "outputs": [
    {
     "name": "stdout",
     "output_type": "stream",
     "text": [
      "Epoch 1:  0.12222\n",
      "Epoch 2:  0.118857\n",
      "Epoch 3:  0.115543\n",
      "Epoch 4:  0.112282\n",
      "Epoch 5:  0.109077\n",
      "Epoch 6:  0.10593\n",
      "Epoch 7:  0.102845\n",
      "Epoch 8:  0.0998246\n",
      "Epoch 9:  0.0968713\n",
      "Epoch 10:  0.0939876\n",
      "Epoch 11:  0.0911752\n",
      "Epoch 12:  0.0884356\n",
      "Epoch 13:  0.0857696\n",
      "Epoch 14:  0.0831777\n",
      "Epoch 15:  0.0806601\n",
      "Epoch 16:  0.0782171\n",
      "Epoch 17:  0.0758495\n",
      "Epoch 18:  0.073558\n",
      "Epoch 19:  0.0713443\n",
      "Epoch 20:  0.06921\n",
      "Epoch 21:  0.067157\n",
      "Epoch 22:  0.065187\n",
      "Epoch 23:  0.063302\n",
      "Epoch 24:  0.0615036\n",
      "Epoch 25:  0.0597935\n",
      "Epoch 26:  0.058173\n",
      "Epoch 27:  0.0566432\n",
      "Epoch 28:  0.055205\n",
      "Epoch 29:  0.0538587\n",
      "Epoch 30:  0.0526043\n",
      "Epoch 31:  0.0514414\n",
      "Epoch 32:  0.0503689\n",
      "Epoch 33:  0.0493854\n",
      "Epoch 34:  0.0484887\n",
      "Epoch 35:  0.047676\n",
      "Epoch 36:  0.0469442\n",
      "Epoch 37:  0.0462892\n",
      "Epoch 38:  0.0457069\n",
      "Epoch 39:  0.0451924\n",
      "Epoch 40:  0.0447406\n",
      "Epoch 41:  0.0443462\n",
      "Epoch 42:  0.044004\n",
      "Epoch 43:  0.0437085\n",
      "Epoch 44:  0.0434546\n",
      "Epoch 45:  0.0432375\n",
      "Epoch 46:  0.0430525\n",
      "Epoch 47:  0.0428958\n",
      "Epoch 48:  0.0427635\n",
      "Epoch 49:  0.0426524\n",
      "Epoch 50:  0.0425597\n",
      "Epoch 51:  0.0424828\n",
      "Epoch 52:  0.0424195\n",
      "Epoch 53:  0.0423679\n",
      "Epoch 54:  0.0423261\n",
      "Epoch 55:  0.0422923\n",
      "Epoch 56:  0.0422652\n",
      "Epoch 57:  0.0422432\n",
      "Epoch 58:  0.0422251\n",
      "Epoch 59:  0.04221\n",
      "Epoch 60:  0.0421969\n",
      "Epoch 61:  0.0421853\n",
      "Epoch 62:  0.0421747\n",
      "Epoch 63:  0.0421647\n",
      "Epoch 64:  0.0421554\n",
      "Epoch 65:  0.0421464\n",
      "Epoch 66:  0.0421378\n",
      "Epoch 67:  0.0421296\n",
      "Epoch 68:  0.0421217\n",
      "Epoch 69:  0.042114\n",
      "Epoch 70:  0.0421066\n",
      "Epoch 71:  0.0420993\n",
      "Epoch 72:  0.0420921\n",
      "Epoch 73:  0.042085\n",
      "Epoch 74:  0.0420779\n",
      "Epoch 75:  0.0420707\n",
      "Epoch 76:  0.0420635\n",
      "Epoch 77:  0.0420562\n",
      "Epoch 78:  0.0420487\n",
      "Epoch 79:  0.042041\n",
      "Epoch 80:  0.0420332\n",
      "Epoch 81:  0.0420252\n",
      "Epoch 82:  0.042017\n",
      "Epoch 83:  0.0420086\n",
      "Epoch 84:  0.0420001\n",
      "Epoch 85:  0.0419913\n",
      "Epoch 86:  0.0419824\n",
      "Epoch 87:  0.0419734\n",
      "Epoch 88:  0.0419643\n",
      "Epoch 89:  0.041955\n",
      "Epoch 90:  0.0419457\n",
      "Epoch 91:  0.0419362\n",
      "Epoch 92:  0.0419266\n",
      "Epoch 93:  0.041917\n",
      "Epoch 94:  0.0419073\n",
      "Epoch 95:  0.0418975\n",
      "Epoch 96:  0.0418877\n",
      "Epoch 97:  0.0418778\n",
      "Epoch 98:  0.0418678\n",
      "Epoch 99:  0.0418577\n",
      "Epoch 100:  0.0418475\n"
     ]
    }
   ],
   "source": [
    "# TimeNet\n",
    "timenet = TimeNet(latent_dim, p_inputs)\n",
    "with tf.Session() as sess2:\n",
    "    sess2.run(tf.global_variables_initializer())\n",
    "    for i in range(n_epoch):\n",
    "        for a in array:\n",
    "            loss_val, _ = sess2.run([timenet.loss,timenet.train],{p_input:a})\n",
    "        print(\"Epoch %d: \" % (i+1),loss_val)\n",
    "    #example\n",
    "    input_, output_, encoded_, enc_state = sess2.run([timenet.input, timenet.output, \n",
    "                                                    timenet.enc_outputs, timenet.enc_state], {p_input:array[-1]})\n",
    "   "
   ]
  },
  {
   "cell_type": "code",
   "execution_count": null,
   "metadata": {
    "collapsed": true
   },
   "outputs": [],
   "source": []
  }
 ],
 "metadata": {
  "kernelspec": {
   "display_name": "Python 3",
   "language": "python",
   "name": "python3"
  },
  "language_info": {
   "codemirror_mode": {
    "name": "ipython",
    "version": 3
   },
   "file_extension": ".py",
   "mimetype": "text/x-python",
   "name": "python",
   "nbconvert_exporter": "python",
   "pygments_lexer": "ipython3",
   "version": "3.6.3"
  }
 },
 "nbformat": 4,
 "nbformat_minor": 2
}
