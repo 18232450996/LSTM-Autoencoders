{
 "cells": [
  {
   "cell_type": "code",
   "execution_count": 1,
   "metadata": {
    "collapsed": true
   },
   "outputs": [],
   "source": [
    "# This is the implementation of the EncDec-AD model based on the paper \"LSTM-based Encoder-Decoder for Multi-sensor Anomaly Detection\". And a slight variantion \"TimeNet\" based on the paper \"TimeNet: Pre-trained deep recurrent neural network for time series classiﬁcation\", which has been shown that achives better performance in the time series anomaly detection scenario. The only difference is the second model feeds constants to its decoder as input."
   ]
  },
  {
   "cell_type": "code",
   "execution_count": 2,
   "metadata": {
    "collapsed": true
   },
   "outputs": [],
   "source": [
    "%matplotlib inline\n",
    "import numpy as np\n",
    "import pandas as pd\n",
    "import tensorflow as tf\n",
    "from functools import reduce"
   ]
  },
  {
   "cell_type": "markdown",
   "metadata": {},
   "source": [
    "# Definition of the EncDec-AD model"
   ]
  },
  {
   "cell_type": "code",
   "execution_count": 3,
   "metadata": {
    "collapsed": true
   },
   "outputs": [],
   "source": [
    "# decoder input: original time series value at last time step\n",
    "\n",
    "class EncDecAD(object):\n",
    "\n",
    "    def __init__(self, hidden_num, inputs, cell=None, optimizer=None, reverse=True, decode_without_input=False,):\n",
    "\n",
    "        self.batch_num = inputs[0].get_shape().as_list()[0]\n",
    "        self.elem_num = inputs[0].get_shape().as_list()[1]\n",
    "        if cell is None:\n",
    "            self._enc_cell = LSTMCell(hidden_num)\n",
    "            self._dec_cell = LSTMCell(hidden_num)\n",
    "\n",
    "        else:\n",
    "            self._enc_cell = cell\n",
    "            self._dec_cell = cell\n",
    "\n",
    "        with tf.variable_scope('encoder'):\n",
    "            (self.z_codes, self.enc_state) = tf.contrib.rnn.static_rnn(self._enc_cell, inputs, dtype=tf.float32)\n",
    "\n",
    "        with tf.variable_scope('decoder') as vs:\n",
    "            dec_weight_ = tf.Variable(tf.truncated_normal([hidden_num,\n",
    "                    self.elem_num], dtype=tf.float32), name='dec_weight')\n",
    "\n",
    "            dec_bias_ = tf.Variable(tf.constant(0.1,shape=[self.elem_num],dtype=tf.float32), name='dec_bias')\n",
    "\n",
    "            if decode_without_input:\n",
    "                dec_inputs = [tf.zeros(tf.shape(inputs[0]),dtype=tf.float32) for _ in range(len(inputs))]\n",
    "                (dec_outputs, dec_state) = tf.contrib.rnn.static_rnn(self._dec_cell, dec_inputs, initial_state=self.enc_state, dtype=tf.float32)\n",
    "\n",
    "                if reverse:\n",
    "                    dec_outputs = dec_outputs[::-1]\n",
    "                    \n",
    "                dec_output_ = tf.transpose(tf.stack(dec_outputs), [1, 0,2])\n",
    "                dec_weight_ = tf.tile(tf.expand_dims(dec_weight_, 0),[self.batch_num, 1, 1])\n",
    "                self.output_ = tf.matmul(dec_output_, dec_weight_) + dec_bias_\n",
    "\n",
    "\n",
    "            else:\n",
    "                dec_state = self.enc_state\n",
    "                dec_input_ = tf.zeros(tf.shape(inputs[0]),dtype=tf.float32)\n",
    "                dec_outputs = []\n",
    "                \n",
    "                for step in range(len(inputs)):\n",
    "                    if step > 0:\n",
    "                        vs.reuse_variables()\n",
    "                    (dec_input_, dec_state) =self._dec_cell(dec_input_, dec_state)\n",
    "                    dec_input_ = tf.matmul(dec_input_, dec_weight_) + dec_bias_\n",
    "                    dec_outputs.append(dec_input_)\n",
    "\n",
    "                if reverse:\n",
    "                    dec_outputs = dec_outputs[::-1]\n",
    "\n",
    "                self.output_ = tf.transpose(tf.stack(dec_outputs), [1, 0, 2])\n",
    "        self.input_ = tf.transpose(tf.stack(inputs), [1, 0, 2])\n",
    "        self.loss = tf.reduce_mean(tf.square(self.input_ - self.output_))\n",
    "\n",
    "        if optimizer is None:\n",
    "            self.train = tf.train.AdamOptimizer().minimize(self.loss)\n",
    "\n",
    "        else:\n",
    "            self.train = optimizer.minimize(self.loss)\n",
    "        "
   ]
  },
  {
   "cell_type": "markdown",
   "metadata": {},
   "source": [
    "# Load Power Demand Dataset"
   ]
  },
  {
   "cell_type": "code",
   "execution_count": 4,
   "metadata": {
    "collapsed": true
   },
   "outputs": [],
   "source": [
    "# The dataset is divided into 6 parts, namely training_normal, validation_1,\n",
    "#validation_2, test_normal, validation_anomaly, test_anomaly.\n",
    "\n",
    "root = \"C:/Users/Bin/Documents/Datasets/KDD99/6_subsets_win/\"\n",
    "\n",
    "sn = pd.read_csv(root + \"training_normal.csv\",header=None)\n",
    "vn1 = pd.read_csv(root + \"validation_1.csv\",header=None)\n",
    "vn2 = pd.read_csv(root + \"validation_2.csv\",header=None)\n",
    "tn = pd.read_csv(root + \"test_normal.csv\",header=None)\n",
    "\n",
    "va = pd.read_csv(root + \"validation_anomaly.csv\",header=None)\n",
    "ta = pd.read_csv(root + \"test_anomaly.csv\",header=None)    \n"
   ]
  },
  {
   "cell_type": "markdown",
   "metadata": {},
   "source": [
    "# Initialization"
   ]
  },
  {
   "cell_type": "code",
   "execution_count": 5,
   "metadata": {
    "collapsed": true
   },
   "outputs": [],
   "source": [
    "tf.reset_default_graph()\n",
    "\n",
    "batch_num = 20\n",
    "\n",
    "hidden_num = 100\n",
    "\n",
    "step_num = 20\n",
    "\n",
    "elem_num = sn.shape[1]\n",
    "\n",
    "iteration = 1000\n",
    "\n",
    "modlepath = \"C:/Users/Bin/Desktop/Thesis/tmp/LSTMAutoencoder_kdd99_v1.ckpt\""
   ]
  },
  {
   "cell_type": "code",
   "execution_count": 6,
   "metadata": {
    "collapsed": true
   },
   "outputs": [],
   "source": [
    "t1 = sn.shape[0]//step_num\n",
    "t2 = va.shape[0]//step_num\n",
    "t3 = vn1.shape[0]//step_num\n",
    "t4 = vn2.shape[0]//step_num\n",
    "t5 = tn.shape[0]//step_num\n",
    "t6 = ta.shape[0]//step_num\n",
    "\n",
    "sn_list = [sn[step_num*i:step_num*(i+1)].as_matrix() for i in range(t1)]\n",
    "va_list = [va[step_num*i:step_num*(i+1)].as_matrix() for i in range(t2)]\n",
    "vn1_list = [vn1[step_num*i:step_num*(i+1)].as_matrix() for i in range(t3)]\n",
    "vn2_list = [vn2[step_num*i:step_num*(i+1)].as_matrix() for i in range(t4)]\n",
    "\n",
    "tn_list = [tn[step_num*i:step_num*(i+1)].as_matrix() for i in range(t5)]\n",
    "ta_list = [ta[step_num*i:step_num*(i+1)].as_matrix() for i in range(t6)]\n"
   ]
  },
  {
   "cell_type": "code",
   "execution_count": 7,
   "metadata": {
    "collapsed": true
   },
   "outputs": [],
   "source": [
    "# input placeholder\n",
    "p_input = tf.placeholder(tf.float32, shape=(batch_num, step_num, elem_num))\n",
    "p_inputs = [tf.squeeze(t, [1]) for t in tf.split(p_input, step_num, 1)]\n",
    "\n",
    "# define cell\n",
    "cell = tf.nn.rnn_cell.LSTMCell(hidden_num, use_peepholes=True)"
   ]
  },
  {
   "cell_type": "code",
   "execution_count": 8,
   "metadata": {
    "collapsed": true
   },
   "outputs": [],
   "source": [
    "ae = EncDecAD(hidden_num, p_inputs,cell=cell,\n",
    "                     decode_without_input=False)"
   ]
  },
  {
   "cell_type": "markdown",
   "metadata": {},
   "source": [
    "# Training"
   ]
  },
  {
   "cell_type": "code",
   "execution_count": 9,
   "metadata": {},
   "outputs": [
    {
     "ename": "ValueError",
     "evalue": "could not convert string to float: 'normal.'",
     "output_type": "error",
     "traceback": [
      "\u001b[1;31m---------------------------------------------------------------------------\u001b[0m",
      "\u001b[1;31mValueError\u001b[0m                                Traceback (most recent call last)",
      "\u001b[1;32m<ipython-input-9-9a0431f6fac6>\u001b[0m in \u001b[0;36m<module>\u001b[1;34m()\u001b[0m\n\u001b[0;32m     11\u001b[0m             \u001b[0mdata\u001b[0m\u001b[1;33m.\u001b[0m\u001b[0mappend\u001b[0m\u001b[1;33m(\u001b[0m\u001b[0msub\u001b[0m\u001b[1;33m)\u001b[0m\u001b[1;33m\u001b[0m\u001b[0m\n\u001b[0;32m     12\u001b[0m         \u001b[0mdata\u001b[0m \u001b[1;33m=\u001b[0m \u001b[0mnp\u001b[0m\u001b[1;33m.\u001b[0m\u001b[0marray\u001b[0m\u001b[1;33m(\u001b[0m\u001b[0mdata\u001b[0m\u001b[1;33m)\u001b[0m\u001b[1;33m\u001b[0m\u001b[0m\n\u001b[1;32m---> 13\u001b[1;33m         \u001b[1;33m(\u001b[0m\u001b[0mloss_val\u001b[0m\u001b[1;33m,\u001b[0m \u001b[0m_\u001b[0m\u001b[1;33m)\u001b[0m \u001b[1;33m=\u001b[0m \u001b[0msess\u001b[0m\u001b[1;33m.\u001b[0m\u001b[0mrun\u001b[0m\u001b[1;33m(\u001b[0m\u001b[1;33m[\u001b[0m\u001b[0mae\u001b[0m\u001b[1;33m.\u001b[0m\u001b[0mloss\u001b[0m\u001b[1;33m,\u001b[0m \u001b[0mae\u001b[0m\u001b[1;33m.\u001b[0m\u001b[0mtrain\u001b[0m\u001b[1;33m]\u001b[0m\u001b[1;33m,\u001b[0m \u001b[1;33m{\u001b[0m\u001b[0mp_input\u001b[0m\u001b[1;33m:\u001b[0m \u001b[0mdata\u001b[0m\u001b[1;33m}\u001b[0m\u001b[1;33m)\u001b[0m\u001b[1;33m\u001b[0m\u001b[0m\n\u001b[0m\u001b[0;32m     14\u001b[0m         \u001b[0mloss\u001b[0m\u001b[1;33m.\u001b[0m\u001b[0mappend\u001b[0m\u001b[1;33m(\u001b[0m\u001b[0mloss_val\u001b[0m\u001b[1;33m)\u001b[0m\u001b[1;33m\u001b[0m\u001b[0m\n\u001b[0;32m     15\u001b[0m         \u001b[0mprint\u001b[0m\u001b[1;33m(\u001b[0m\u001b[1;34m'iter %d:'\u001b[0m \u001b[1;33m%\u001b[0m \u001b[1;33m(\u001b[0m\u001b[0mi\u001b[0m \u001b[1;33m+\u001b[0m \u001b[1;36m1\u001b[0m\u001b[1;33m)\u001b[0m\u001b[1;33m,\u001b[0m \u001b[0mloss_val\u001b[0m\u001b[1;33m)\u001b[0m\u001b[1;33m\u001b[0m\u001b[0m\n",
      "\u001b[1;32mC:\\ProgramData\\Anaconda3\\lib\\site-packages\\tensorflow\\python\\client\\session.py\u001b[0m in \u001b[0;36mrun\u001b[1;34m(self, fetches, feed_dict, options, run_metadata)\u001b[0m\n\u001b[0;32m    887\u001b[0m     \u001b[1;32mtry\u001b[0m\u001b[1;33m:\u001b[0m\u001b[1;33m\u001b[0m\u001b[0m\n\u001b[0;32m    888\u001b[0m       result = self._run(None, fetches, feed_dict, options_ptr,\n\u001b[1;32m--> 889\u001b[1;33m                          run_metadata_ptr)\n\u001b[0m\u001b[0;32m    890\u001b[0m       \u001b[1;32mif\u001b[0m \u001b[0mrun_metadata\u001b[0m\u001b[1;33m:\u001b[0m\u001b[1;33m\u001b[0m\u001b[0m\n\u001b[0;32m    891\u001b[0m         \u001b[0mproto_data\u001b[0m \u001b[1;33m=\u001b[0m \u001b[0mtf_session\u001b[0m\u001b[1;33m.\u001b[0m\u001b[0mTF_GetBuffer\u001b[0m\u001b[1;33m(\u001b[0m\u001b[0mrun_metadata_ptr\u001b[0m\u001b[1;33m)\u001b[0m\u001b[1;33m\u001b[0m\u001b[0m\n",
      "\u001b[1;32mC:\\ProgramData\\Anaconda3\\lib\\site-packages\\tensorflow\\python\\client\\session.py\u001b[0m in \u001b[0;36m_run\u001b[1;34m(self, handle, fetches, feed_dict, options, run_metadata)\u001b[0m\n\u001b[0;32m   1087\u001b[0m             \u001b[0mfeed_handles\u001b[0m\u001b[1;33m[\u001b[0m\u001b[0msubfeed_t\u001b[0m\u001b[1;33m]\u001b[0m \u001b[1;33m=\u001b[0m \u001b[0msubfeed_val\u001b[0m\u001b[1;33m\u001b[0m\u001b[0m\n\u001b[0;32m   1088\u001b[0m           \u001b[1;32melse\u001b[0m\u001b[1;33m:\u001b[0m\u001b[1;33m\u001b[0m\u001b[0m\n\u001b[1;32m-> 1089\u001b[1;33m             \u001b[0mnp_val\u001b[0m \u001b[1;33m=\u001b[0m \u001b[0mnp\u001b[0m\u001b[1;33m.\u001b[0m\u001b[0masarray\u001b[0m\u001b[1;33m(\u001b[0m\u001b[0msubfeed_val\u001b[0m\u001b[1;33m,\u001b[0m \u001b[0mdtype\u001b[0m\u001b[1;33m=\u001b[0m\u001b[0msubfeed_dtype\u001b[0m\u001b[1;33m)\u001b[0m\u001b[1;33m\u001b[0m\u001b[0m\n\u001b[0m\u001b[0;32m   1090\u001b[0m \u001b[1;33m\u001b[0m\u001b[0m\n\u001b[0;32m   1091\u001b[0m           if (not is_tensor_handle_feed and\n",
      "\u001b[1;32mC:\\ProgramData\\Anaconda3\\lib\\site-packages\\numpy\\core\\numeric.py\u001b[0m in \u001b[0;36masarray\u001b[1;34m(a, dtype, order)\u001b[0m\n\u001b[0;32m    529\u001b[0m \u001b[1;33m\u001b[0m\u001b[0m\n\u001b[0;32m    530\u001b[0m     \"\"\"\n\u001b[1;32m--> 531\u001b[1;33m     \u001b[1;32mreturn\u001b[0m \u001b[0marray\u001b[0m\u001b[1;33m(\u001b[0m\u001b[0ma\u001b[0m\u001b[1;33m,\u001b[0m \u001b[0mdtype\u001b[0m\u001b[1;33m,\u001b[0m \u001b[0mcopy\u001b[0m\u001b[1;33m=\u001b[0m\u001b[1;32mFalse\u001b[0m\u001b[1;33m,\u001b[0m \u001b[0morder\u001b[0m\u001b[1;33m=\u001b[0m\u001b[0morder\u001b[0m\u001b[1;33m)\u001b[0m\u001b[1;33m\u001b[0m\u001b[0m\n\u001b[0m\u001b[0;32m    532\u001b[0m \u001b[1;33m\u001b[0m\u001b[0m\n\u001b[0;32m    533\u001b[0m \u001b[1;33m\u001b[0m\u001b[0m\n",
      "\u001b[1;31mValueError\u001b[0m: could not convert string to float: 'normal.'"
     ]
    }
   ],
   "source": [
    "saver = tf.train.Saver()\n",
    "\n",
    "with tf.Session() as sess:\n",
    "    sess.run(tf.global_variables_initializer())\n",
    "    loss = []\n",
    "    for i in range(iteration):\n",
    "        data =[]\n",
    "        for temp in range(batch_num):\n",
    "            ind = np.random.randint(0,len(sn_list)-1)\n",
    "            sub = sn_list[ind]\n",
    "            data.append(sub)\n",
    "        data = np.array(data)\n",
    "        (loss_val, _) = sess.run([ae.loss, ae.train], {p_input: data})\n",
    "        loss.append(loss_val)\n",
    "        print('iter %d:' % (i + 1), loss_val)\n",
    "    pd.Series(loss).plot(title=\"Loss decline\")\n",
    "    save_path = saver.save(sess, modlepath)\n",
    "    print(\"Model saved in file: %s\" % save_path) "
   ]
  },
  {
   "cell_type": "markdown",
   "metadata": {},
   "source": [
    "# Calculate parameters using Vn1 dataset "
   ]
  },
  {
   "cell_type": "code",
   "execution_count": null,
   "metadata": {},
   "outputs": [],
   "source": [
    "with tf.Session() as sess:\n",
    "    saver.restore(sess, modlepath) \n",
    "    print(\"Model restored.\") \n",
    "    print('Initialized')\n",
    "    \n",
    "    err_vec_list = []\n",
    "    for _ in range(len(vn1_list)//batch_num):\n",
    "        data =[]\n",
    "        for temp in range(batch_num):\n",
    "            ind = np.random.randint(0,len(vn1_list)-1)\n",
    "            sub = vn1_list[ind]\n",
    "            data.append(sub)\n",
    "        data = np.array(data)\n",
    "        (input_, output_) = sess.run([ae.input_, ae.output_], {p_input: data})\n",
    "        err_vec_list.append(abs(input_ - output_))\n",
    "    err_vec = np.mean(np.array(err_vec_list),axis=0).reshape(batch_num,-1)\n",
    "    mu = np.mean(err_vec,axis=0)\n",
    "    sigma = np.cov(err_vec.T)\n",
    "    print(\"Got parameters mu and sigma.\")"
   ]
  },
  {
   "cell_type": "markdown",
   "metadata": {},
   "source": [
    "# Calculate anomaly score, get threshold t using Vn2 and Va dataset."
   ]
  },
  {
   "cell_type": "code",
   "execution_count": null,
   "metadata": {},
   "outputs": [],
   "source": [
    "with tf.Session() as sess:\n",
    "    saver.restore(sess, modlepath) \n",
    "    print(\"Model restored.\") \n",
    "    print('Initialized')\n",
    "    \n",
    "    normal_score = []\n",
    "    for count in range(len(vn2_list)//batch_num):\n",
    "        normal_sub = np.array(vn2_list[count*batch_num:(count+1)*batch_num]) \n",
    "        (input_n, output_n) = sess.run([ae.input_, ae.output_], {p_input: normal_sub})\n",
    "        err_n = abs(input_n-output_n).reshape(-1,step_num)\n",
    "        err_n = err_n.reshape(batch_num,-1)\n",
    "        for batch in range(batch_num):\n",
    "           temp = np.dot( (err_n[batch] - mu ).reshape(1,-1)  , sigma.T)\n",
    "           s = np.dot(temp,(err_n[batch] - mu ))\n",
    "           normal_score.append(s[0])\n",
    "           \n",
    "    abnormal_score = []\n",
    "    for count in range(len(va_list)//batch_num):\n",
    "        abnormal_sub = np.array(va_list[count*batch_num:(count+1)*batch_num]) \n",
    "        (input_a, output_a) = sess.run([ae.input_, ae.output_], {p_input: abnormal_sub})\n",
    "        err_a = abs(input_a-output_a).reshape(-1,step_num)\n",
    "        err_a = err_a.reshape(batch_num,-1)\n",
    "        for batch in range(batch_num):\n",
    "           temp = np.dot( (err_a[batch] - mu ).reshape(1,-1)  , sigma.T)\n",
    "           s = np.dot(temp,(err_a[batch] - mu ))\n",
    "           abnormal_score.append(s[0])\n",
    "             \n",
    "\n",
    "    print('Finished')\n",
    "\n",
    "#    print(\"normal score \",normal_score)\n",
    "#    print(\"abnormal score \",abnormal_score)"
   ]
  },
  {
   "cell_type": "code",
   "execution_count": null,
   "metadata": {},
   "outputs": [],
   "source": [
    "# choose threshold\n",
    "min_a = min(abnormal_score)\n",
    "normal_score = np.array(normal_score)\n",
    "foo = normal_score[normal_score<min_a]\n",
    "\n",
    "threshold =( np.median(np.array(abnormal_score)) + np.median(np.array(normal_score)) )/2"
   ]
  },
  {
   "cell_type": "code",
   "execution_count": null,
   "metadata": {},
   "outputs": [],
   "source": [
    "# anomaly score of vn2 and va dataset\n",
    "pd.Series(normal_score).plot(figsize=(18,5))\n",
    "pd.Series(abnormal_score).plot()"
   ]
  },
  {
   "cell_type": "code",
   "execution_count": null,
   "metadata": {},
   "outputs": [],
   "source": [
    "beta = 0.1\n",
    "tp = np.array(abnormal_score)[abnormal_score>threshold].size\n",
    "fp = len(abnormal_score)-tp\n",
    "fn = np.array(normal_score)[normal_score>threshold].size\n",
    "P = tp/(tp+fp)\n",
    "R = tp/(tp+fn)\n",
    "fbeta= (1+beta*beta)*P*R/(beta*beta*P+R)\n",
    "fbeta"
   ]
  },
  {
   "cell_type": "markdown",
   "metadata": {},
   "source": [
    "# test"
   ]
  },
  {
   "cell_type": "code",
   "execution_count": null,
   "metadata": {},
   "outputs": [],
   "source": [
    "with tf.Session() as sess:\n",
    "    saver.restore(sess, modlepath)  # decode_without_input=True, iter=5000\n",
    "    print(\"Model restored.\") \n",
    "    print('Initialized')\n",
    "    \n",
    "    normal_score = []\n",
    "    n_in = []\n",
    "    n_out = []\n",
    "    a_in = []\n",
    "    a_out = []\n",
    "    \n",
    "    for count in range(len(tn_list)//batch_num):\n",
    "        normal_sub = np.array(tn_list[count*batch_num:(count+1)*batch_num]) \n",
    "        (input_n, output_n) = sess.run([ae.input_, ae.output_], {p_input: normal_sub})\n",
    "        n_in.append(input_n)\n",
    "        n_out.append(output_n)\n",
    "        err_n = abs(input_n-output_n).reshape(-1,step_num)\n",
    "        err_n = err_n.reshape(batch_num,-1)\n",
    "        for batch in range(batch_num):\n",
    "           temp = np.dot( (err_n[batch] - mu ).reshape(1,-1)  , sigma.T)\n",
    "           s = np.dot(temp,(err_n[batch] - mu ))\n",
    "           normal_score.append(s[0])\n",
    "           \n",
    "    abnormal_score = []\n",
    "    for count in range(len(ta_list)//batch_num):\n",
    "        abnormal_sub = np.array(ta_list[count*batch_num:(count+1)*batch_num]) \n",
    "        (input_a, output_a) = sess.run([ae.input_, ae.output_], {p_input: abnormal_sub})\n",
    "        a_in.append(input_a)\n",
    "        a_out.append(output_a)\n",
    "        err_a = abs(input_a-output_a).reshape(-1,step_num)\n",
    "        err_a = err_a.reshape(batch_num,-1)\n",
    "        for batch in range(batch_num):\n",
    "           temp = np.dot( (err_a[batch] - mu ).reshape(1,-1)  , sigma.T)\n",
    "           s = np.dot(temp,(err_a[batch] - mu ))\n",
    "           abnormal_score.append(s[0])\n",
    "             \n",
    "\n",
    "    print('Predict result :')\n",
    "\n",
    "#    print(\"normal score \",normal_score)\n",
    "#    print(\"abnormal score \",abnormal_score)\n",
    "    pd.Series(normal_score).plot(figsize=(18,5))\n",
    "    pd.Series(abnormal_score).plot()\n",
    "    bar = threshold*np.ones(len(normal_score)+len(abnormal_score))\n",
    "    pd.Series(bar).plot()"
   ]
  },
  {
   "cell_type": "markdown",
   "metadata": {},
   "source": [
    "# Evaluation"
   ]
  },
  {
   "cell_type": "code",
   "execution_count": null,
   "metadata": {},
   "outputs": [],
   "source": [
    "beta = 0.1\n",
    "tp = np.array(abnormal_score)[np.array(abnormal_score)>threshold].size\n",
    "fp = len(abnormal_score)-tp\n",
    "fn = np.array(normal_score)[np.array(normal_score)>threshold].size\n",
    "tn = len(normal_score)- fn\n",
    "P = tp/(tp+fp)\n",
    "R = tp/(tp+fn)\n",
    "fbeta= (1+beta*beta)*P*R/(beta*beta*P+R)\n",
    "fbeta"
   ]
  },
  {
   "cell_type": "code",
   "execution_count": null,
   "metadata": {},
   "outputs": [],
   "source": [
    "print(tp,fp,tn,fn,P,R)"
   ]
  },
  {
   "cell_type": "code",
   "execution_count": null,
   "metadata": {
    "collapsed": true
   },
   "outputs": [],
   "source": []
  }
 ],
 "metadata": {
  "kernelspec": {
   "display_name": "Python 3",
   "language": "python",
   "name": "python3"
  },
  "language_info": {
   "codemirror_mode": {
    "name": "ipython",
    "version": 3
   },
   "file_extension": ".py",
   "mimetype": "text/x-python",
   "name": "python",
   "nbconvert_exporter": "python",
   "pygments_lexer": "ipython3",
   "version": "3.6.3"
  }
 },
 "nbformat": 4,
 "nbformat_minor": 2
}
