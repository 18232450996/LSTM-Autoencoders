{
 "cells": [
  {
   "cell_type": "code",
   "execution_count": 59,
   "metadata": {},
   "outputs": [],
   "source": [
    "import pandas as pd\n",
    "import numpy as np\n",
    "from keras.layers import Input, LSTM, RepeatVector\n",
    "from keras.models import Model,Sequential\n",
    "import math\n",
    "import matplotlib.pyplot as plt\n",
    "from datetime import datetime"
   ]
  },
  {
   "cell_type": "markdown",
   "metadata": {},
   "source": [
    "# Definition of LSTM_Autoencoder(RepeatVector)"
   ]
  },
  {
   "cell_type": "code",
   "execution_count": 60,
   "metadata": {},
   "outputs": [],
   "source": [
    "class LSTM_Autoencoder_RepeatVector:\n",
    "\n",
    "    def __init__(self, dataset, timesteps, latent_dim, n_epoch,n_batch):\n",
    "        self.dataset = dataset\n",
    "        self.timesteps = timesteps\n",
    "        self.latent_dim = latent_dim \n",
    "        self.n_batch = n_batch\n",
    "        self.n_epoch = n_epoch\n",
    "\n",
    "    def reshape(self,data):\n",
    "        sample_num = math.floor(data.shape[0]/self.timesteps)\n",
    "        new_dataset = np.reshape(data[:sample_num*self.timesteps],(sample_num,self.timesteps,data.shape[1]))\n",
    "        return new_dataset\n",
    "\n",
    "    def lstm_autoencoder_repeatvector(self,optimizer='adadelta',loss='mse'):\n",
    "        input_dim = self.dataset.shape[1]\n",
    "        inputs = Input(shape=(self.timesteps,input_dim))\n",
    "        encoded = LSTM(self.latent_dim)(inputs)\n",
    "        decoded = RepeatVector(self.timesteps)(encoded)\n",
    "        decoded = LSTM(input_dim,return_sequences=True)(decoded)\n",
    "        autoencoder = Model(inputs,decoded)\n",
    "        encoder = Model(inputs,encoded)\n",
    "        autoencoder.compile(optimizer=optimizer,loss=loss)\n",
    "\n",
    "        reversed_dataset = np.empty([0,self.dataset.shape[-1]])\n",
    "        for i in range(int(self.dataset.shape[0]/self.timesteps)):\n",
    "            temp = self.dataset[i*self.timesteps:i*self.timesteps+self.timesteps,:]\n",
    "            temp = temp[::-1,:]\n",
    "            reversed_dataset = np.concatenate((reversed_dataset,temp))\n",
    "        new_dataset = self.reshape(self.dataset)\n",
    "        reversed_dataset = self.reshape(reversed_dataset)\n",
    "        print(\"Trianing LSTM-Autoencoder...\")\n",
    "        dt1 = datetime.now()\n",
    "        history = autoencoder.fit(new_dataset,reversed_dataset,\n",
    "                    epochs=self.n_epoch,\n",
    "                    batch_size=self.n_batch,\n",
    "                    validation_split=0.33\n",
    "                    )\n",
    "        dt2 = datetime.now()\n",
    "        print(\"time used of trianing LSTM-Autoencoder: \",(dt2-dt1),\"s\")\n",
    "        Print(\"Encoding dataset\")\n",
    "        dt3 = datetime.now()\n",
    "        encoded_dataset = encoder.predict(new_dataset)\n",
    "        dt4 = datetime.now()\n",
    "        print(\"time used of encoding dataset \",(dt2-dt1),\"s\")\n",
    "        # plot the performance of training\n",
    "        plt.plot(history.history[\"loss\"])\n",
    "        plt.plot(history.history[\"val_loss\"])\n",
    "        plt.title('model loss')\n",
    "        plt.ylabel('loss')\n",
    "        plt.xlabel('epoch')\n",
    "        plt.legend(['train', 'test'], loc='upper right')\n",
    "        plt.show()\n",
    "        \n",
    "        return encoded_dataset"
   ]
  },
  {
   "cell_type": "markdown",
   "metadata": {},
   "source": [
    "# Load (10%)KDD99 dataset (only numeric features)"
   ]
  },
  {
   "cell_type": "code",
   "execution_count": 105,
   "metadata": {
    "collapsed": true
   },
   "outputs": [],
   "source": [
    "with open(\"C:/Users/Bin/Documents/Datasets/KDD99/columns.txt\") as col_file:\n",
    "    line = col_file.readline()\n",
    "\n",
    "columns = line.split('.')\n",
    "col_names = []\n",
    "col_types = []\n",
    "for col in columns:\n",
    "    col_names.append(col.split(': ')[0].strip())\n",
    "    col_types.append(col.split(': ')[1])\n",
    "col_names.append(\"label\")\n",
    "\n",
    "df = pd.read_csv(\"C:/Users/Bin/Documents/Datasets/KDD99/kddcup.data_10_percent_corrected\",names=col_names)\n",
    "\n",
    "data = df.iloc[:,np.array(pd.Series(col_types)==\"continuous\")].as_matrix()\n",
    "label = df.iloc[:,-1]"
   ]
  },
  {
   "cell_type": "markdown",
   "metadata": {},
   "source": [
    "# Scaling dataset to [0,1]"
   ]
  },
  {
   "cell_type": "code",
   "execution_count": 106,
   "metadata": {
    "collapsed": true
   },
   "outputs": [],
   "source": [
    "from sklearn.preprocessing import MinMaxScaler\n",
    "scaler = MinMaxScaler()\n",
    "scaler.fit(data)\n",
    "dataset = scaler.transform(data)\n",
    "del data"
   ]
  },
  {
   "cell_type": "markdown",
   "metadata": {},
   "source": [
    "# Train the Autoencoder "
   ]
  },
  {
   "cell_type": "code",
   "execution_count": 114,
   "metadata": {},
   "outputs": [
    {
     "name": "stdout",
     "output_type": "stream",
     "text": [
      "Train on 11032 samples, validate on 5435 samples\n",
      "Epoch 1/100\n",
      "11032/11032 [==============================] - 7s 675us/step - loss: 0.1055 - val_loss: 0.0750\n",
      "Epoch 2/100\n",
      "11032/11032 [==============================] - 4s 406us/step - loss: 0.0342 - val_loss: 0.0505\n",
      "Epoch 3/100\n",
      "11032/11032 [==============================] - 4s 407us/step - loss: 0.0194 - val_loss: 0.0391\n",
      "Epoch 4/100\n",
      "11032/11032 [==============================] - 5s 415us/step - loss: 0.0140 - val_loss: 0.0338\n",
      "Epoch 5/100\n",
      "11032/11032 [==============================] - 5s 414us/step - loss: 0.0112 - val_loss: 0.0305\n",
      "Epoch 6/100\n",
      "11032/11032 [==============================] - 5s 421us/step - loss: 0.0094 - val_loss: 0.0280\n",
      "Epoch 7/100\n",
      "11032/11032 [==============================] - 5s 425us/step - loss: 0.0082 - val_loss: 0.0261\n",
      "Epoch 8/100\n",
      "11032/11032 [==============================] - 5s 433us/step - loss: 0.0074 - val_loss: 0.0246\n",
      "Epoch 9/100\n",
      "11032/11032 [==============================] - 5s 456us/step - loss: 0.0069 - val_loss: 0.0234\n",
      "Epoch 10/100\n",
      "11032/11032 [==============================] - 5s 483us/step - loss: 0.0065 - val_loss: 0.0223\n",
      "Epoch 11/100\n",
      "11032/11032 [==============================] - 5s 459us/step - loss: 0.0062 - val_loss: 0.0213\n",
      "Epoch 12/100\n",
      "11032/11032 [==============================] - 5s 451us/step - loss: 0.0059 - val_loss: 0.0206\n",
      "Epoch 13/100\n",
      "11032/11032 [==============================] - 5s 449us/step - loss: 0.0057 - val_loss: 0.0196\n",
      "Epoch 14/100\n",
      "11032/11032 [==============================] - 5s 447us/step - loss: 0.0055 - val_loss: 0.0186\n",
      "Epoch 15/100\n",
      "11032/11032 [==============================] - 5s 448us/step - loss: 0.0054 - val_loss: 0.0176\n",
      "Epoch 16/100\n",
      "11032/11032 [==============================] - 5s 444us/step - loss: 0.0052 - val_loss: 0.0166\n",
      "Epoch 17/100\n",
      "11032/11032 [==============================] - 5s 439us/step - loss: 0.0051 - val_loss: 0.0155\n",
      "Epoch 18/100\n",
      "11032/11032 [==============================] - 5s 444us/step - loss: 0.0049 - val_loss: 0.0147\n",
      "Epoch 19/100\n",
      "11032/11032 [==============================] - 5s 453us/step - loss: 0.0048 - val_loss: 0.0141\n",
      "Epoch 20/100\n",
      "11032/11032 [==============================] - 5s 444us/step - loss: 0.0047 - val_loss: 0.0137\n",
      "Epoch 21/100\n",
      "11032/11032 [==============================] - 5s 435us/step - loss: 0.0046 - val_loss: 0.0133\n",
      "Epoch 22/100\n",
      "11032/11032 [==============================] - 5s 445us/step - loss: 0.0045 - val_loss: 0.0130\n",
      "Epoch 23/100\n",
      "11032/11032 [==============================] - 5s 446us/step - loss: 0.0044 - val_loss: 0.0127\n",
      "Epoch 24/100\n",
      "11032/11032 [==============================] - 5s 449us/step - loss: 0.0044 - val_loss: 0.0124\n",
      "Epoch 25/100\n",
      "11032/11032 [==============================] - 5s 448us/step - loss: 0.0043 - val_loss: 0.0121\n",
      "Epoch 26/100\n",
      "11032/11032 [==============================] - 5s 445us/step - loss: 0.0042 - val_loss: 0.0118\n",
      "Epoch 27/100\n",
      "11032/11032 [==============================] - 5s 447us/step - loss: 0.0041 - val_loss: 0.0116\n",
      "Epoch 28/100\n",
      "11032/11032 [==============================] - 5s 441us/step - loss: 0.0041 - val_loss: 0.0113\n",
      "Epoch 29/100\n",
      "11032/11032 [==============================] - 5s 444us/step - loss: 0.0040 - val_loss: 0.0111\n",
      "Epoch 30/100\n",
      "11032/11032 [==============================] - 5s 444us/step - loss: 0.0040 - val_loss: 0.0108\n",
      "Epoch 31/100\n",
      "11032/11032 [==============================] - 5s 436us/step - loss: 0.0039 - val_loss: 0.0106\n",
      "Epoch 32/100\n",
      "11032/11032 [==============================] - 5s 441us/step - loss: 0.0039 - val_loss: 0.0103\n",
      "Epoch 33/100\n",
      "11032/11032 [==============================] - 5s 440us/step - loss: 0.0038 - val_loss: 0.0101\n",
      "Epoch 34/100\n",
      "11032/11032 [==============================] - 5s 443us/step - loss: 0.0038 - val_loss: 0.0099\n",
      "Epoch 35/100\n",
      "11032/11032 [==============================] - 5s 449us/step - loss: 0.0037 - val_loss: 0.0097\n",
      "Epoch 36/100\n",
      "11032/11032 [==============================] - 5s 452us/step - loss: 0.0037 - val_loss: 0.0095\n",
      "Epoch 37/100\n",
      "11032/11032 [==============================] - 5s 442us/step - loss: 0.0036 - val_loss: 0.0093\n",
      "Epoch 38/100\n",
      "11032/11032 [==============================] - 5s 442us/step - loss: 0.0036 - val_loss: 0.0092\n",
      "Epoch 39/100\n",
      "11032/11032 [==============================] - 5s 442us/step - loss: 0.0036 - val_loss: 0.0091\n",
      "Epoch 40/100\n",
      "11032/11032 [==============================] - 5s 455us/step - loss: 0.0036 - val_loss: 0.0090\n",
      "Epoch 41/100\n",
      "11032/11032 [==============================] - 5s 454us/step - loss: 0.0035 - val_loss: 0.0089\n",
      "Epoch 42/100\n",
      "11032/11032 [==============================] - 5s 457us/step - loss: 0.0035 - val_loss: 0.0088\n",
      "Epoch 43/100\n",
      "11032/11032 [==============================] - 5s 445us/step - loss: 0.0035 - val_loss: 0.0086\n",
      "Epoch 44/100\n",
      "11032/11032 [==============================] - 5s 464us/step - loss: 0.0035 - val_loss: 0.0086\n",
      "Epoch 45/100\n",
      "11032/11032 [==============================] - 5s 449us/step - loss: 0.0034 - val_loss: 0.0085\n",
      "Epoch 46/100\n",
      "11032/11032 [==============================] - 5s 466us/step - loss: 0.0034 - val_loss: 0.0085\n",
      "Epoch 47/100\n",
      "11032/11032 [==============================] - 5s 466us/step - loss: 0.0034 - val_loss: 0.0083\n",
      "Epoch 48/100\n",
      "11032/11032 [==============================] - 5s 462us/step - loss: 0.0034 - val_loss: 0.0083\n",
      "Epoch 49/100\n",
      "11032/11032 [==============================] - 5s 457us/step - loss: 0.0033 - val_loss: 0.0082\n",
      "Epoch 50/100\n",
      "11032/11032 [==============================] - 5s 455us/step - loss: 0.0033 - val_loss: 0.0082\n",
      "Epoch 51/100\n",
      "11032/11032 [==============================] - 5s 449us/step - loss: 0.0033 - val_loss: 0.0081\n",
      "Epoch 52/100\n",
      "11032/11032 [==============================] - 5s 462us/step - loss: 0.0033 - val_loss: 0.0080\n",
      "Epoch 53/100\n",
      "11032/11032 [==============================] - 5s 486us/step - loss: 0.0033 - val_loss: 0.0080\n",
      "Epoch 54/100\n",
      "11032/11032 [==============================] - 6s 540us/step - loss: 0.0033 - val_loss: 0.0079\n",
      "Epoch 55/100\n",
      "11032/11032 [==============================] - 5s 467us/step - loss: 0.0032 - val_loss: 0.0079\n",
      "Epoch 56/100\n",
      "11032/11032 [==============================] - 5s 453us/step - loss: 0.0032 - val_loss: 0.0079\n",
      "Epoch 57/100\n",
      "11032/11032 [==============================] - 5s 447us/step - loss: 0.0032 - val_loss: 0.0078\n",
      "Epoch 58/100\n",
      "11032/11032 [==============================] - 5s 447us/step - loss: 0.0032 - val_loss: 0.0078\n",
      "Epoch 59/100\n",
      "11032/11032 [==============================] - 5s 451us/step - loss: 0.0032 - val_loss: 0.0077\n",
      "Epoch 60/100\n",
      "11032/11032 [==============================] - 5s 457us/step - loss: 0.0032 - val_loss: 0.0077\n",
      "Epoch 61/100\n",
      "11032/11032 [==============================] - 5s 445us/step - loss: 0.0032 - val_loss: 0.0077\n",
      "Epoch 62/100\n",
      "11032/11032 [==============================] - 5s 453us/step - loss: 0.0031 - val_loss: 0.0077\n",
      "Epoch 63/100\n",
      "11032/11032 [==============================] - 5s 451us/step - loss: 0.0031 - val_loss: 0.0076\n",
      "Epoch 64/100\n",
      "11032/11032 [==============================] - 5s 453us/step - loss: 0.0031 - val_loss: 0.0076\n",
      "Epoch 65/100\n",
      "11032/11032 [==============================] - 5s 454us/step - loss: 0.0031 - val_loss: 0.0076\n",
      "Epoch 66/100\n",
      "11032/11032 [==============================] - 5s 456us/step - loss: 0.0031 - val_loss: 0.0076\n",
      "Epoch 67/100\n",
      "11032/11032 [==============================] - 5s 448us/step - loss: 0.0031 - val_loss: 0.0075\n",
      "Epoch 68/100\n",
      "11032/11032 [==============================] - 5s 457us/step - loss: 0.0031 - val_loss: 0.0075\n",
      "Epoch 69/100\n",
      "11032/11032 [==============================] - 5s 463us/step - loss: 0.0031 - val_loss: 0.0075\n",
      "Epoch 70/100\n",
      "11032/11032 [==============================] - 5s 449us/step - loss: 0.0031 - val_loss: 0.0075\n",
      "Epoch 71/100\n",
      "11032/11032 [==============================] - 5s 462us/step - loss: 0.0030 - val_loss: 0.0075\n",
      "Epoch 72/100\n",
      "11032/11032 [==============================] - 5s 457us/step - loss: 0.0030 - val_loss: 0.0074\n",
      "Epoch 73/100\n",
      "11032/11032 [==============================] - 5s 451us/step - loss: 0.0030 - val_loss: 0.0074\n",
      "Epoch 74/100\n",
      "11032/11032 [==============================] - 5s 451us/step - loss: 0.0030 - val_loss: 0.0074\n",
      "Epoch 75/100\n",
      "11032/11032 [==============================] - 5s 456us/step - loss: 0.0030 - val_loss: 0.0073\n",
      "Epoch 76/100\n"
     ]
    },
    {
     "name": "stdout",
     "output_type": "stream",
     "text": [
      "11032/11032 [==============================] - 5s 419us/step - loss: 0.0030 - val_loss: 0.0074\n",
      "Epoch 77/100\n",
      "11032/11032 [==============================] - 5s 430us/step - loss: 0.0030 - val_loss: 0.0074\n",
      "Epoch 78/100\n",
      "11032/11032 [==============================] - 5s 421us/step - loss: 0.0030 - val_loss: 0.0074\n",
      "Epoch 79/100\n",
      "11032/11032 [==============================] - 5s 418us/step - loss: 0.0030 - val_loss: 0.0073\n",
      "Epoch 80/100\n",
      "11032/11032 [==============================] - 5s 423us/step - loss: 0.0030 - val_loss: 0.0073\n",
      "Epoch 81/100\n",
      "11032/11032 [==============================] - 5s 425us/step - loss: 0.0030 - val_loss: 0.0073\n",
      "Epoch 82/100\n",
      "11032/11032 [==============================] - 5s 427us/step - loss: 0.0030 - val_loss: 0.0073\n",
      "Epoch 83/100\n",
      "11032/11032 [==============================] - 5s 424us/step - loss: 0.0030 - val_loss: 0.0073\n",
      "Epoch 84/100\n",
      "11032/11032 [==============================] - 5s 422us/step - loss: 0.0029 - val_loss: 0.0073\n",
      "Epoch 85/100\n",
      "11032/11032 [==============================] - 5s 424us/step - loss: 0.0029 - val_loss: 0.0073\n",
      "Epoch 86/100\n",
      "11032/11032 [==============================] - 5s 434us/step - loss: 0.0029 - val_loss: 0.0072\n",
      "Epoch 87/100\n",
      "11032/11032 [==============================] - 5s 427us/step - loss: 0.0029 - val_loss: 0.0073\n",
      "Epoch 88/100\n",
      "11032/11032 [==============================] - 5s 422us/step - loss: 0.0029 - val_loss: 0.0073\n",
      "Epoch 89/100\n",
      "11032/11032 [==============================] - 5s 424us/step - loss: 0.0029 - val_loss: 0.0073\n",
      "Epoch 90/100\n",
      "11032/11032 [==============================] - 5s 428us/step - loss: 0.0029 - val_loss: 0.0073\n",
      "Epoch 91/100\n",
      "11032/11032 [==============================] - 5s 424us/step - loss: 0.0029 - val_loss: 0.0072\n",
      "Epoch 92/100\n",
      "11032/11032 [==============================] - 5s 427us/step - loss: 0.0029 - val_loss: 0.0072\n",
      "Epoch 93/100\n",
      "11032/11032 [==============================] - 5s 437us/step - loss: 0.0029 - val_loss: 0.0073\n",
      "Epoch 94/100\n",
      "11032/11032 [==============================] - 5s 426us/step - loss: 0.0029 - val_loss: 0.0072\n",
      "Epoch 95/100\n",
      "11032/11032 [==============================] - 5s 445us/step - loss: 0.0029 - val_loss: 0.0072\n",
      "Epoch 96/100\n",
      "11032/11032 [==============================] - 5s 436us/step - loss: 0.0029 - val_loss: 0.0072\n",
      "Epoch 97/100\n",
      "11032/11032 [==============================] - 5s 438us/step - loss: 0.0029 - val_loss: 0.0072\n",
      "Epoch 98/100\n",
      "11032/11032 [==============================] - 5s 441us/step - loss: 0.0029 - val_loss: 0.0072\n",
      "Epoch 99/100\n",
      "11032/11032 [==============================] - 5s 436us/step - loss: 0.0029 - val_loss: 0.0072\n",
      "Epoch 100/100\n",
      "11032/11032 [==============================] - 5s 439us/step - loss: 0.0029 - val_loss: 0.0072\n"
     ]
    },
    {
     "data": {
      "image/png": "[encoded data removed]",
      "text/plain": [
       "<matplotlib.figure.Figure at 0x20dc96b3940>"
      ]
     },
     "metadata": {},
     "output_type": "display_data"
    }
   ],
   "source": [
    "timesteps = 30\n",
    "latent_dim = 10\n",
    "n_epoch = 100\n",
    "n_batch = 100\n",
    "\n",
    "model = LSTM_Autoencoder_RepeatVector(dataset,timesteps,latent_dim,n_epoch,n_batch)\n",
    "encoded_dataset = model.lstm_autoencoder_repeatvector()\n",
    "# generate labels for encoded_dataset\n",
    "e_label = [None]*encoded_dataset.shape[0]\n",
    "for i in range(encoded_dataset.shape[0]):\n",
    "    e_label[i] = label[(i+1)*timesteps-1] # for each batch, use the last sample label as the encoded batch label\n",
    "e_label = np.array(e_label)"
   ]
  },
  {
   "cell_type": "code",
   "execution_count": null,
   "metadata": {
    "collapsed": true
   },
   "outputs": [],
   "source": [
    "#Todo\n",
    "#inverse scaling"
   ]
  },
  {
   "cell_type": "markdown",
   "metadata": {
    "collapsed": true
   },
   "source": [
    "# Two SVM classifier for original dataset and encoded dataset"
   ]
  },
  {
   "cell_type": "code",
   "execution_count": 115,
   "metadata": {
    "collapsed": true
   },
   "outputs": [],
   "source": [
    "# prepare both original and encoded data\n",
    "\n",
    "def train_test_split(dataset,label):\n",
    "    train_size = int(len(dataset) * 0.67)\n",
    "    test_size = len(dataset) - train_size\n",
    "    train, test = dataset[0:train_size,:], dataset[train_size:len(dataset),:]\n",
    "    y_train, y_test = label[0:train_size],label[train_size:len(dataset)]\n",
    "    # label str2int\n",
    "    with open(\"C:/Users/Bin/Documents/Datasets/KDD99/classes.txt\") as f:\n",
    "        line = f.readline()\n",
    "    classes = line.split(\",\")\n",
    "    class_dic = {classes[i]:i for i in range(len(classes))}\n",
    "    y_train_num = [class_dic[x.strip('.')] for x in y_train]\n",
    "    y_test_num = [class_dic[x.strip('.')] for x in y_test]\n",
    "    return train,test,y_train_num,y_test_num\n",
    "xn_train, xn_test, yn_train,yn_test =  train_test_split(dataset,label)\n",
    "xe_train, xe_test, ye_train,ye_test =  train_test_split(encoded_dataset,e_label)\n"
   ]
  },
  {
   "cell_type": "code",
   "execution_count": 116,
   "metadata": {},
   "outputs": [
    {
     "name": "stdout",
     "output_type": "stream",
     "text": [
      "Trianing SVM classifier with original dataset...\n",
      "time used of trianing on original dataset:  0:01:05.823061 s\n",
      "Trianing SVM classifier with encoded dataset...\n",
      "time used of training on encoded dataset:  0:00:00.118958 s\n"
     ]
    }
   ],
   "source": [
    "# train two svm classifiers\n",
    "from sklearn import svm\n",
    "\n",
    "print(\"Trianing SVM classifier with original dataset...\")\n",
    "dt1 = datetime.now()\n",
    "clf_n = svm.SVC()\n",
    "clf_n.fit(xn_train,yn_train)\n",
    "dt2 = datetime.now()\n",
    "print(\"time used of trianing on original dataset: \",(dt2-dt1),\"s\")\n",
    "print(\"Trianing SVM classifier with encoded dataset...\")\n",
    "dt3 = datetime.now()\n",
    "clf_e = svm.SVC()\n",
    "clf_e.fit(xe_train,ye_train)\n",
    "dt4 = datetime.now()\n",
    "print(\"time used of training on encoded dataset: \",(dt4-dt3),\"s\")"
   ]
  },
  {
   "cell_type": "code",
   "execution_count": 117,
   "metadata": {},
   "outputs": [
    {
     "name": "stdout",
     "output_type": "stream",
     "text": [
      "Making prediction using original dataset...\n",
      "time used of prediction using original dataset:  0:01:34.830185 s\n",
      "Making prediction using encoded dataset...\n",
      "time used of prediction using encoded dataset:  0:00:00.084652 s\n"
     ]
    }
   ],
   "source": [
    "# making prediction using both classifier and both dataset\n",
    "\n",
    "#original\n",
    "print(\"Making prediction using original dataset...\")\n",
    "dt1 = datetime.now()\n",
    "prediction_n = clf_n.predict(xn_test)\n",
    "dt2 = datetime.now()\n",
    "print(\"time used of prediction using original dataset: \",(dt2-dt1),\"s\")\n",
    "#encoded\n",
    "print(\"Making prediction using encoded dataset...\")\n",
    "dt3 = datetime.now()\n",
    "prediction_e = clf_e.predict(xe_test)\n",
    "dt4 = datetime.now()\n",
    "print(\"time used of prediction using encoded dataset: \",(dt4-dt3),\"s\")"
   ]
  },
  {
   "cell_type": "markdown",
   "metadata": {},
   "source": [
    "# Performance comparation"
   ]
  },
  {
   "cell_type": "code",
   "execution_count": 120,
   "metadata": {},
   "outputs": [
    {
     "name": "stdout",
     "output_type": "stream",
     "text": [
      "Performance on original dataset\n",
      "\n",
      "             precision    recall  f1-score   support\n",
      "\n",
      "          0       0.00      0.00      0.00       100\n",
      "          1       0.00      0.00      0.00        18\n",
      "          3       0.00      0.00      0.00         0\n",
      "          5       0.55      0.14      0.23       385\n",
      "          6       0.50      0.25      0.33         4\n",
      "          7       0.00      0.00      0.00         1\n",
      "          9       1.00      0.69      0.82     66079\n",
      "         10       0.00      0.00      0.00         0\n",
      "         11       0.98      0.97      0.98     26053\n",
      "         12       0.00      0.00      0.00         1\n",
      "         13       0.00      0.00      0.00         1\n",
      "         14       0.00      0.00      0.00       162\n",
      "         15       0.02      0.87      0.03       401\n",
      "         16       0.00      0.00      0.00         3\n",
      "         17       0.00      0.00      0.00         2\n",
      "         18       1.00      1.00      1.00     69235\n",
      "         20       1.00      0.99      1.00       582\n",
      "         21       0.00      0.00      0.00         0\n",
      "\n",
      "avg / total       0.99      0.87      0.92    163027\n",
      "\n"
     ]
    },
    {
     "name": "stderr",
     "output_type": "stream",
     "text": [
      "C:\\ProgramData\\Anaconda3\\lib\\site-packages\\sklearn\\metrics\\classification.py:1135: UndefinedMetricWarning: Precision and F-score are ill-defined and being set to 0.0 in labels with no predicted samples.\n",
      "  'precision', 'predicted', average, warn_for)\n",
      "C:\\ProgramData\\Anaconda3\\lib\\site-packages\\sklearn\\metrics\\classification.py:1137: UndefinedMetricWarning: Recall and F-score are ill-defined and being set to 0.0 in labels with no true samples.\n",
      "  'recall', 'true', average, warn_for)\n"
     ]
    }
   ],
   "source": [
    "#Evaluation\n",
    "from sklearn.metrics import classification_report\n",
    "# performance using original dataset\n",
    "print(\"Performance on original dataset\\n\")\n",
    "print(classification_report(yn_test, prediction_n))\n"
   ]
  },
  {
   "cell_type": "code",
   "execution_count": 121,
   "metadata": {
    "scrolled": true
   },
   "outputs": [
    {
     "name": "stdout",
     "output_type": "stream",
     "text": [
      "Performance on encoded dataset\n",
      "\n",
      "             precision    recall  f1-score   support\n",
      "\n",
      "          0       0.00      0.00      0.00         3\n",
      "          5       0.00      0.00      0.00        17\n",
      "          9       1.00      0.69      0.82      2204\n",
      "         11       0.94      1.00      0.97       866\n",
      "         14       0.00      0.00      0.00         4\n",
      "         15       1.00      0.54      0.70        13\n",
      "         17       0.00      0.00      0.00         0\n",
      "         18       1.00      1.00      1.00      2308\n",
      "         20       0.00      0.00      0.00        20\n",
      "\n",
      "avg / total       0.98      0.86      0.91      5435\n",
      "\n"
     ]
    },
    {
     "name": "stderr",
     "output_type": "stream",
     "text": [
      "C:\\ProgramData\\Anaconda3\\lib\\site-packages\\sklearn\\metrics\\classification.py:1135: UndefinedMetricWarning: Precision and F-score are ill-defined and being set to 0.0 in labels with no predicted samples.\n",
      "  'precision', 'predicted', average, warn_for)\n",
      "C:\\ProgramData\\Anaconda3\\lib\\site-packages\\sklearn\\metrics\\classification.py:1137: UndefinedMetricWarning: Recall and F-score are ill-defined and being set to 0.0 in labels with no true samples.\n",
      "  'recall', 'true', average, warn_for)\n"
     ]
    }
   ],
   "source": [
    "# Performance using encoded dataset\n",
    "print(\"Performance on encoded dataset\\n\")\n",
    "print(classification_report(ye_test, prediction_e))"
   ]
  },
  {
   "cell_type": "code",
   "execution_count": null,
   "metadata": {
    "collapsed": true
   },
   "outputs": [],
   "source": []
  }
 ],
 "metadata": {
  "kernelspec": {
   "display_name": "Python 3",
   "language": "python",
   "name": "python3"
  },
  "language_info": {
   "codemirror_mode": {
    "name": "ipython",
    "version": 3
   },
   "file_extension": ".py",
   "mimetype": "text/x-python",
   "name": "python",
   "nbconvert_exporter": "python",
   "pygments_lexer": "ipython3",
   "version": "3.6.3"
  }
 },
 "nbformat": 4,
 "nbformat_minor": 2
}
