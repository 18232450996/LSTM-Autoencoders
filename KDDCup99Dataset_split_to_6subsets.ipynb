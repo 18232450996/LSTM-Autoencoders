{
 "cells": [
  {
   "cell_type": "code",
   "execution_count": 73,
   "metadata": {
    "collapsed": true
   },
   "outputs": [],
   "source": [
    "%matplotlib inline\n",
    "import pandas as pd\n",
    "import numpy as np"
   ]
  },
  {
   "cell_type": "code",
   "execution_count": 74,
   "metadata": {
    "collapsed": true
   },
   "outputs": [],
   "source": [
    "# column names, is_guest_login & dis_host_login & logged_in & land & flag & service & protocol_type\n",
    "with open(\"C:/Users/Bin/Documents/Datasets/KDD99/columns.txt\") as col_file:\n",
    "    line = col_file.readline()\n",
    "#line = line.replace('.',',')\n",
    "columns = line.split('.')\n",
    "col_names = []\n",
    "col_types = []\n",
    "for col in columns:\n",
    "    col_names.append(col.split(': ')[0].strip())\n",
    "    col_types.append(col.split(': ')[1])\n",
    "col_names.append(\"label\")"
   ]
  },
  {
   "cell_type": "code",
   "execution_count": 75,
   "metadata": {
    "collapsed": true
   },
   "outputs": [],
   "source": [
    "#import 10% collection samples\n",
    "df = pd.read_csv(\"C:/Users/Bin/Documents/Datasets/KDD99/kddcup.data_10_percent_corrected\",names=col_names)"
   ]
  },
  {
   "cell_type": "code",
   "execution_count": 76,
   "metadata": {
    "collapsed": true
   },
   "outputs": [],
   "source": [
    "continuous = df.iloc[:,np.array(pd.Series(col_types)==\"continuous\")]\n",
    "label = df.iloc[:,-1]\n"
   ]
  },
  {
   "cell_type": "code",
   "execution_count": 77,
   "metadata": {
    "collapsed": true
   },
   "outputs": [],
   "source": [
    "from sklearn.preprocessing import MinMaxScaler\n",
    "scaler = MinMaxScaler()\n",
    "scaler.fit(continuous)\n",
    "cont = scaler.transform(continuous)"
   ]
  },
  {
   "cell_type": "code",
   "execution_count": 78,
   "metadata": {
    "collapsed": true
   },
   "outputs": [],
   "source": [
    "cont = pd.DataFrame(cont)\n",
    "cont.columns = continuous.columns.values\n"
   ]
  },
  {
   "cell_type": "code",
   "execution_count": 108,
   "metadata": {
    "collapsed": true
   },
   "outputs": [],
   "source": [
    "data = pd.concat((cont,label),axis=1)"
   ]
  },
  {
   "cell_type": "code",
   "execution_count": 109,
   "metadata": {},
   "outputs": [],
   "source": [
    "# split data according to window length\n",
    "L = 20\n",
    "n_list = []\n",
    "a_list = []\n",
    "temp = []\n",
    "\n",
    "for index, row in data.iterrows():\n",
    "    if len(temp) ==L:\n",
    "        for x in temp:\n",
    "            if data.iloc[x,-1] == \"normal.\":\n",
    "                n_list.append(x)\n",
    "            else:\n",
    "                a_list.append(x)\n",
    "        temp.clear()\n",
    "        temp.append(index)\n",
    "        continue\n",
    "    if len(temp) == 0:\n",
    "        temp.append(index)\n",
    "    elif row.label == data.iloc[temp[0],-1]:\n",
    "        temp.append(index)\n",
    "    else:\n",
    "        temp.clear()\n",
    "        temp.append(index)"
   ]
  },
  {
   "cell_type": "code",
   "execution_count": 121,
   "metadata": {},
   "outputs": [],
   "source": [
    "#normal = data[(data.label==\"smurf.\") | (label==\"normal.\")].iloc[:,:-1]\n",
    "#anomaly = data[(data.label!=\"smurf.\") & (label!=\"normal.\")].iloc[:,:-1]\n",
    "normal = data.iloc[np.array(n_list),:]\n",
    "anomaly = data.iloc[np.array(a_list),:]"
   ]
  },
  {
   "cell_type": "code",
   "execution_count": 126,
   "metadata": {},
   "outputs": [],
   "source": [
    "x = int(normal.shape[0]/20)\n",
    "sn = normal[:(x//2)*20]\n",
    "vn1 = normal[(x//2)*20:(x//2)*20+(x//6)*20]\n",
    "vn2 = normal[(x//2)*20+(x//6)*20:(x//2)*20+(x//3)*20]\n",
    "tn = normal[(x//2)*20+(x//3)*20:]"
   ]
  },
  {
   "cell_type": "code",
   "execution_count": 127,
   "metadata": {
    "collapsed": true
   },
   "outputs": [],
   "source": [
    "y = int(anomaly.shape[0]/20)\n",
    "va = anomaly[:(y//4)*20]\n",
    "ta = anomaly[(y//4)*20:]"
   ]
  },
  {
   "cell_type": "code",
   "execution_count": null,
   "metadata": {
    "collapsed": true
   },
   "outputs": [],
   "source": [
    "root = \"C:/Users/Bin/Documents/Datasets/KDD99/6_subsets_win/\"\n",
    "sn.to_csv(root+\"training_normal.csv\",index=None,header=None)\n",
    "vn1.to_csv(root+\"validation_1.csv.csv\",index=None,header=None)\n",
    "vn2.to_csv(root+\"validation_2.csv.csv\",index=None,header=None)\n",
    "tn.to_csv(root+\"test_normal.csv\",index=None,header=None)\n",
    "va.to_csv(root+\"validation_anomaly.csv\",index=None,header=None)\n",
    "ta.to_csv(root+\"test_anomaly.csv\",index=None,header=None)"
   ]
  }
 ],
 "metadata": {
  "kernelspec": {
   "display_name": "Python 3",
   "language": "python",
   "name": "python3"
  },
  "language_info": {
   "codemirror_mode": {
    "name": "ipython",
    "version": 3
   },
   "file_extension": ".py",
   "mimetype": "text/x-python",
   "name": "python",
   "nbconvert_exporter": "python",
   "pygments_lexer": "ipython3",
   "version": "3.6.3"
  }
 },
 "nbformat": 4,
 "nbformat_minor": 2
}
