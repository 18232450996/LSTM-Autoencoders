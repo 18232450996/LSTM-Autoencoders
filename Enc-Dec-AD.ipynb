{
 "cells": [
  {
   "cell_type": "code",
   "execution_count": null,
   "metadata": {
    "collapsed": true
   },
   "outputs": [],
   "source": [
    "# This is the implementation of the EncDec-AD model based on the paper \"LSTM-based Encoder-Decoder for Multi-sensor Anomaly Detection\". And a slight variantion \"TimeNet\" based on the paper \"TimeNet: Pre-trained deep recurrent neural network for time series classiﬁcation\", which has been shown that achives better performance in the time series anomaly detection scenario. The only difference is the second model feeds constants to its decoder as input."
   ]
  },
  {
   "cell_type": "code",
   "execution_count": 1,
   "metadata": {
    "collapsed": true
   },
   "outputs": [],
   "source": [
    "%matplotlib inline\n",
    "import numpy as np\n",
    "import pandas as pd\n",
    "import tensorflow as tf\n",
    "from functools import reduce"
   ]
  },
  {
   "cell_type": "markdown",
   "metadata": {},
   "source": [
    "# Definition of the EncDec-AD model"
   ]
  },
  {
   "cell_type": "code",
   "execution_count": 2,
   "metadata": {
    "collapsed": true
   },
   "outputs": [],
   "source": [
    "# decoder input: original time series value at last time step\n",
    "\n",
    "class EncDecAD(object):\n",
    "    def __init__(self,latent_dim,inputs,is_training=False):\n",
    "        self.batch_num = inputs[0].get_shape().as_list()[0]\n",
    "        self.input_dim = inputs[0].get_shape().as_list()[1]\n",
    "        self.is_training = is_training\n",
    "        \n",
    "        self.enc_cell = tf.nn.rnn_cell.LSTMCell(latent_dim)\n",
    "        self.dec_cell = tf.nn.rnn_cell.LSTMCell(latent_dim)\n",
    "        \n",
    "        with tf.variable_scope('encoder'):\n",
    "            self.enc_outputs, self.enc_state = tf.nn.static_rnn(self.enc_cell, inputs, \n",
    "                                                         dtype=tf.float32)\n",
    "        with tf.variable_scope('decoder') as scope_dec:\n",
    "            w = tf.Variable(tf.truncated_normal([latent_dim,self.input_dim],\n",
    "                                               dtype=tf.float32),name=\"w\")\n",
    "            b = tf.Variable(tf.constant(0.1,shape=[self.input_dim],\n",
    "                                               dtype=tf.float32),name=\"b\")\n",
    "            \n",
    "            dec_inputs = [tf.zeros(tf.shape(inputs[0]),dtype=tf.float32)]+inputs[::-1][:-1]\n",
    "            dec_outputs, dec_state = tf.nn.static_rnn(self.dec_cell, dec_inputs,\n",
    "                                                     initial_state=self.enc_state,\n",
    "                                                     dtype=tf.float32)\n",
    "            dec_outputs = dec_outputs[::-1]\n",
    "            dec_output = tf.transpose(tf.stack(dec_outputs),[1,0,2])\n",
    "            w = tf.tile(tf.expand_dims(w,0),[self.batch_num,1,1])\n",
    "            self.output = tf.matmul(dec_output,w)+b\n",
    "            \n",
    "        #Calculate loss\n",
    "        self.input = tf.transpose(tf.stack(inputs),[1,0,2])\n",
    "        self.loss = tf.reduce_sum(tf.square(self.input - self.output))\n",
    "        self.error_vec = tf.abs(tf.reshape((self.input - self.output),[-1]))\n",
    "\n",
    "        #Optimization if is training\n",
    "        if self.is_training == True:\n",
    "            self.train = tf.train.AdamOptimizer().minimize(self.loss)"
   ]
  },
  {
   "cell_type": "markdown",
   "metadata": {},
   "source": [
    "# Definition of the TimeNet model"
   ]
  },
  {
   "cell_type": "code",
   "execution_count": null,
   "metadata": {
    "collapsed": true
   },
   "outputs": [],
   "source": [
    "class TimeNet(object):\n",
    "    def __init__(self,latent_dim,inputs,is_training=False):\n",
    "        self.batch_num = inputs[0].get_shape().as_list()[0]\n",
    "        self.input_dim = inputs[0].get_shape().as_list()[1]\n",
    "        \n",
    "        self.enc_cell = tf.nn.rnn_cell.LSTMCell(latent_dim)\n",
    "        self.dec_cell = tf.nn.rnn_cell.LSTMCell(latent_dim)\n",
    "        \n",
    "        with tf.variable_scope('encoder'):\n",
    "            self.enc_outputs, self.enc_state = tf.nn.static_rnn(self.enc_cell, inputs, \n",
    "                                                         dtype=tf.float32)\n",
    "        with tf.variable_scope('decoder') as scope_dec:\n",
    "            w = tf.Variable(tf.truncated_normal([latent_dim,self.input_dim],\n",
    "                                               dtype=tf.float32),name=\"w\")\n",
    "            b = tf.Variable(tf.constant(0.1,shape=[self.input_dim],\n",
    "                                               dtype=tf.float32),name=\"b\")\n",
    "            \n",
    "            dec_inputs = [tf.zeros(tf.shape(inputs[0]),dtype=tf.float32)\n",
    "                                  for _ in range(len(inputs))]\n",
    "            dec_outputs, dec_state = tf.nn.static_rnn(self.dec_cell, dec_inputs,\n",
    "                                                     initial_state=self.enc_state,\n",
    "                                                     dtype=tf.float32)\n",
    "            dec_outputs = dec_outputs[::-1]\n",
    "            dec_output = tf.transpose(tf.stack(dec_outputs),[1,0,2])\n",
    "            w = tf.tile(tf.expand_dims(w,0),[self.batch_num,1,1])\n",
    "            self.output = tf.matmul(dec_output,w)+b\n",
    "            \n",
    "        #Calculate loss\n",
    "        self.input = tf.transpose(tf.stack(inputs),[1,0,2])\n",
    "        self.loss = tf.reduce_mean(tf.square(self.input - self.output))\n",
    "        self.error_vec = tf.abs(tf.reshape((self.input - self.output),[-1]))\n",
    "        #Optimization\n",
    "        if self.is_training == True:\n",
    "            self.train = tf.train.AdamOptimizer().minimize(self.loss)"
   ]
  },
  {
   "cell_type": "markdown",
   "metadata": {},
   "source": [
    "# Experiments"
   ]
  },
  {
   "cell_type": "markdown",
   "metadata": {},
   "source": [
    "## Load dataset"
   ]
  },
  {
   "cell_type": "markdown",
   "metadata": {},
   "source": [
    "### 1. power demand dataset"
   ]
  },
  {
   "cell_type": "code",
   "execution_count": 3,
   "metadata": {},
   "outputs": [
    {
     "name": "stderr",
     "output_type": "stream",
     "text": [
      "C:\\Users\\Bin\\Desktop\\Thesis\\code\\Loaddata.py:56: FutureWarning: reshape is deprecated and will raise in a subsequent release. Please use .values.reshape(...) instead\n",
      "  sub_power = sub_power.reshape(-1, 1)\n",
      "C:\\ProgramData\\Anaconda3\\lib\\site-packages\\sklearn\\utils\\validation.py:475: DataConversionWarning: Data with input dtype int64 was converted to float64 by MinMaxScaler.\n",
      "  warnings.warn(msg, DataConversionWarning)\n"
     ]
    }
   ],
   "source": [
    "# power demand dataset\n",
    "\n",
    "%run Loaddata\n",
    "from Loaddata import Loaddata\n",
    "\n",
    "ld = Loaddata(\"power_demand\")\n",
    "datasets = ld.read()\n",
    "[training_normal, validation_1, validation_2, test_normal, validation_anomaly, test_anomaly,whole_normal,whole_anormaly] = datasets\n",
    "\n",
    "L = 84\n",
    "NUM_LSTM_UNITS = 9\n",
    "\n",
    "time_steps = L\n",
    "latent_dim = NUM_LSTM_UNITS\n",
    "n_epoch = 200\n",
    "batch_size = 3\n",
    "input_dim = 1\n",
    "\n",
    "inputs_array = []\n",
    "for dataset in datasets:\n",
    "\n",
    "    # reshape the dataset to a list, each element with the shape [batch_size, time_steps, input_dim]\n",
    "    size = dataset.shape[0]//time_steps//batch_size\n",
    "    data_input = np.reshape(dataset[:size*batch_size*time_steps],(size,batch_size,time_steps,input_dim))\n",
    "    array = [t for t in data_input]\n",
    "    inputs_array.append(array)\n",
    "\n",
    "# inputs placeholder\n",
    "p_input = tf.placeholder(tf.float32, [batch_size, time_steps, input_dim])\n",
    "p_inputs = [t for t in tf.split(p_input, time_steps, 1)]\n",
    "p_inputs = [tf.squeeze(t, [1]) for t in tf.split(p_input, time_steps, 1)]\n",
    "\n"
   ]
  },
  {
   "cell_type": "markdown",
   "metadata": {},
   "source": [
    "### 2. space shuttle dataset"
   ]
  },
  {
   "cell_type": "code",
   "execution_count": null,
   "metadata": {
    "collapsed": true
   },
   "outputs": [],
   "source": [
    "# space shuttle dataset\n",
    "\n",
    "%run Loaddata\n",
    "from Loaddata import Loaddata\n",
    "\n",
    "ld = Loaddata(\"space_shuttle\")\n",
    "dataset = ld.read()\n",
    "\n",
    "SUB_SEQUENCE_LENGTH = 500 # 1500/3\n",
    "time_steps = SUB_SEQUENCE_LENGTH\n",
    "latent_dim = 50\n",
    "n_epoch = 500\n",
    "batch_size = 2\n",
    "input_dim = 1\n",
    "\n",
    "# reshape the dataset to a list, each element with the shape [batch_size, time_steps, input_dim]\n",
    "size = dataset.shape[0]//time_steps//batch_size\n",
    "data_input = np.reshape(dataset[:size*batch_size*time_steps],(size,batch_size,time_steps,input_dim))\n",
    "array = [t for t in data_input]\n",
    "#del dataset, data_input\n",
    "\n",
    "# inputs placeholder\n",
    "p_input = tf.placeholder(tf.float32, [batch_size, time_steps, input_dim])\n",
    "p_inputs = [t for t in tf.split(p_input, time_steps, 1)]\n",
    "p_inputs = [tf.squeeze(t, [1]) for t in tf.split(p_input, time_steps, 1)]\n"
   ]
  },
  {
   "cell_type": "markdown",
   "metadata": {},
   "source": [
    "### 3. ECG dataset"
   ]
  },
  {
   "cell_type": "code",
   "execution_count": null,
   "metadata": {
    "collapsed": true
   },
   "outputs": [],
   "source": [
    "# ECG dataset\n",
    "\n",
    "%run Loaddata\n",
    "from Loaddata import Loaddata\n",
    "\n",
    "ld = Loaddata(\"ecg\")\n",
    "dataset = ld.read()\n",
    "\n",
    "SUB_SEQUENCE_LENGTH = 208\n",
    "time_steps = SUB_SEQUENCE_LENGTH\n",
    "latent_dim = 1\n",
    "n_epoch = 500\n",
    "batch_size = 15\n",
    "input_dim = 1\n",
    "\n",
    "# reshape the dataset to a list, each element with the shape [batch_size, time_steps, input_dim]\n",
    "size = dataset.shape[0]//time_steps//batch_size\n",
    "data_input = np.reshape(dataset[:size*batch_size*time_steps],(size,batch_size,time_steps,input_dim))\n",
    "array = [t for t in data_input]\n",
    "#del dataset, data_input\n",
    "\n",
    "# inputs placeholder\n",
    "p_input = tf.placeholder(tf.float32, [batch_size, time_steps, input_dim])\n",
    "p_inputs = [t for t in tf.split(p_input, time_steps, 1)]\n",
    "p_inputs = [tf.squeeze(t, [1]) for t in tf.split(p_input, time_steps, 1)]"
   ]
  },
  {
   "cell_type": "markdown",
   "metadata": {},
   "source": [
    "## Training"
   ]
  },
  {
   "cell_type": "code",
   "execution_count": 6,
   "metadata": {},
   "outputs": [
    {
     "name": "stdout",
     "output_type": "stream",
     "text": [
      "Epoch 1:  34.6176\n",
      "Epoch 2:  12.931\n",
      "Epoch 3:  10.9281\n",
      "Epoch 4:  10.7431\n",
      "Epoch 5:  10.5483\n",
      "Epoch 6:  10.1416\n",
      "Epoch 7:  9.72997\n",
      "Epoch 8:  9.48949\n",
      "Epoch 9:  9.24032\n",
      "Epoch 10:  8.99078\n",
      "Epoch 11:  8.77225\n",
      "Epoch 12:  8.58378\n",
      "Epoch 13:  8.40277\n",
      "Epoch 14:  8.22083\n",
      "Epoch 15:  8.01995\n",
      "Epoch 16:  7.79562\n",
      "Epoch 17:  7.5492\n",
      "Epoch 18:  7.27895\n",
      "Epoch 19:  6.98732\n",
      "Epoch 20:  6.68154\n",
      "Epoch 21:  6.37191\n",
      "Epoch 22:  6.06617\n",
      "Epoch 23:  5.7674\n",
      "Epoch 24:  5.48013\n",
      "Epoch 25:  5.20962\n",
      "Epoch 26:  4.95972\n",
      "Epoch 27:  4.73223\n",
      "Epoch 28:  4.52729\n",
      "Epoch 29:  4.34413\n",
      "Epoch 30:  4.18141\n",
      "Epoch 31:  4.03738\n",
      "Epoch 32:  3.91004\n",
      "Epoch 33:  3.79736\n",
      "Epoch 34:  3.69739\n",
      "Epoch 35:  3.60837\n",
      "Epoch 36:  3.52878\n",
      "Epoch 37:  3.45733\n",
      "Epoch 38:  3.39296\n",
      "Epoch 39:  3.33481\n",
      "Epoch 40:  3.28215\n",
      "Epoch 41:  3.23441\n",
      "Epoch 42:  3.19109\n",
      "Epoch 43:  3.15176\n",
      "Epoch 44:  3.11606\n",
      "Epoch 45:  3.08367\n",
      "Epoch 46:  3.05427\n",
      "Epoch 47:  3.0276\n",
      "Epoch 48:  3.0034\n",
      "Epoch 49:  2.98142\n",
      "Epoch 50:  2.96145\n",
      "Epoch 51:  2.94328\n",
      "Epoch 52:  2.92672\n",
      "Epoch 53:  2.91159\n",
      "Epoch 54:  2.89773\n",
      "Epoch 55:  2.885\n",
      "Epoch 56:  2.87327\n",
      "Epoch 57:  2.86243\n",
      "Epoch 58:  2.85238\n",
      "Epoch 59:  2.84302\n",
      "Epoch 60:  2.83428\n",
      "Epoch 61:  2.8261\n",
      "Epoch 62:  2.81841\n",
      "Epoch 63:  2.81115\n",
      "Epoch 64:  2.80428\n",
      "Epoch 65:  2.79776\n",
      "Epoch 66:  2.79156\n",
      "Epoch 67:  2.78563\n",
      "Epoch 68:  2.77996\n",
      "Epoch 69:  2.7745\n",
      "Epoch 70:  2.76925\n",
      "Epoch 71:  2.76417\n",
      "Epoch 72:  2.75925\n",
      "Epoch 73:  2.75448\n",
      "Epoch 74:  2.74983\n",
      "Epoch 75:  2.7453\n",
      "Epoch 76:  2.74086\n",
      "Epoch 77:  2.73651\n",
      "Epoch 78:  2.73223\n",
      "Epoch 79:  2.72802\n",
      "Epoch 80:  2.72386\n",
      "Epoch 81:  2.71975\n",
      "Epoch 82:  2.71567\n",
      "Epoch 83:  2.71163\n",
      "Epoch 84:  2.7076\n",
      "Epoch 85:  2.70359\n",
      "Epoch 86:  2.6996\n",
      "Epoch 87:  2.6956\n",
      "Epoch 88:  2.6916\n",
      "Epoch 89:  2.68758\n",
      "Epoch 90:  2.68355\n",
      "Epoch 91:  2.67951\n",
      "Epoch 92:  2.67543\n",
      "Epoch 93:  2.67132\n",
      "Epoch 94:  2.66718\n",
      "Epoch 95:  2.663\n",
      "Epoch 96:  2.65878\n",
      "Epoch 97:  2.6545\n",
      "Epoch 98:  2.65017\n",
      "Epoch 99:  2.64578\n",
      "Epoch 100:  2.64132\n",
      "Epoch 101:  2.6368\n",
      "Epoch 102:  2.63222\n",
      "Epoch 103:  2.62755\n",
      "Epoch 104:  2.62281\n",
      "Epoch 105:  2.61799\n",
      "Epoch 106:  2.61308\n",
      "Epoch 107:  2.60807\n",
      "Epoch 108:  2.60298\n",
      "Epoch 109:  2.59779\n",
      "Epoch 110:  2.5925\n",
      "Epoch 111:  2.58711\n",
      "Epoch 112:  2.58161\n",
      "Epoch 113:  2.57601\n",
      "Epoch 114:  2.57029\n",
      "Epoch 115:  2.56445\n",
      "Epoch 116:  2.5585\n",
      "Epoch 117:  2.55243\n",
      "Epoch 118:  2.54623\n",
      "Epoch 119:  2.53991\n",
      "Epoch 120:  2.53347\n",
      "Epoch 121:  2.52689\n",
      "Epoch 122:  2.52018\n",
      "Epoch 123:  2.51334\n",
      "Epoch 124:  2.50637\n",
      "Epoch 125:  2.49927\n",
      "Epoch 126:  2.49202\n",
      "Epoch 127:  2.48465\n",
      "Epoch 128:  2.47713\n",
      "Epoch 129:  2.46949\n",
      "Epoch 130:  2.4617\n",
      "Epoch 131:  2.45378\n",
      "Epoch 132:  2.44572\n",
      "Epoch 133:  2.43753\n",
      "Epoch 134:  2.4292\n",
      "Epoch 135:  2.42074\n",
      "Epoch 136:  2.41214\n",
      "Epoch 137:  2.4034\n",
      "Epoch 138:  2.39454\n",
      "Epoch 139:  2.38554\n",
      "Epoch 140:  2.3764\n",
      "Epoch 141:  2.36713\n",
      "Epoch 142:  2.35772\n",
      "Epoch 143:  2.34818\n",
      "Epoch 144:  2.33849\n",
      "Epoch 145:  2.32867\n",
      "Epoch 146:  2.3187\n",
      "Epoch 147:  2.30858\n",
      "Epoch 148:  2.29831\n",
      "Epoch 149:  2.28789\n",
      "Epoch 150:  2.27732\n",
      "Epoch 151:  2.26658\n",
      "Epoch 152:  2.25567\n",
      "Epoch 153:  2.24459\n",
      "Epoch 154:  2.23332\n",
      "Epoch 155:  2.22187\n",
      "Epoch 156:  2.21022\n",
      "Epoch 157:  2.19836\n",
      "Epoch 158:  2.18629\n",
      "Epoch 159:  2.17398\n",
      "Epoch 160:  2.16143\n",
      "Epoch 161:  2.14862\n",
      "Epoch 162:  2.13554\n",
      "Epoch 163:  2.12216\n",
      "Epoch 164:  2.10846\n",
      "Epoch 165:  2.09444\n",
      "Epoch 166:  2.08006\n",
      "Epoch 167:  2.06533\n",
      "Epoch 168:  2.05025\n",
      "Epoch 169:  2.03482\n",
      "Epoch 170:  2.01909\n",
      "Epoch 171:  2.00311\n",
      "Epoch 172:  1.98696\n",
      "Epoch 173:  1.97071\n",
      "Epoch 174:  1.95447\n",
      "Epoch 175:  1.93837\n",
      "Epoch 176:  1.9225\n",
      "Epoch 177:  1.90697\n",
      "Epoch 178:  1.89188\n",
      "Epoch 179:  1.87728\n",
      "Epoch 180:  1.86323\n",
      "Epoch 181:  1.84971\n",
      "Epoch 182:  1.83673\n",
      "Epoch 183:  1.82422\n",
      "Epoch 184:  1.81214\n",
      "Epoch 185:  1.80043\n",
      "Epoch 186:  1.78903\n",
      "Epoch 187:  1.77787\n",
      "Epoch 188:  1.76691\n",
      "Epoch 189:  1.75609\n",
      "Epoch 190:  1.7454\n",
      "Epoch 191:  1.7348\n",
      "Epoch 192:  1.72428\n",
      "Epoch 193:  1.71383\n",
      "Epoch 194:  1.70344\n",
      "Epoch 195:  1.6931\n",
      "Epoch 196:  1.68284\n",
      "Epoch 197:  1.67264\n",
      "Epoch 198:  1.66251\n",
      "Epoch 199:  1.65245\n",
      "Epoch 200:  1.64246\n",
      "Model saved in file: C:/Users/Bin/Desktop/Thesis/code/tmp/EncDecAD_power_demand_200epochs_9unit_batchsize3.ckpt\n"
     ]
    },
    {
     "data": {
      "text/plain": [
       "'\\n    #example\\n    input_, output_, encoded_, enc_state = sess1.run([encdecad.input, encdecad.output, \\n                                                    encdecad.enc_outputs, encdecad.enc_state], {p_input:array[-1]})\\n    embedding = enc_state[0]\\n    print(\"Example: \")\\n    print(\"embedding: \",embedding)\\n    print(\"input :\", input_[0,:,:].flatten())\\n    print(\"output :\", output_[0,:,:].flatten())\\n'"
      ]
     },
     "execution_count": 6,
     "metadata": {},
     "output_type": "execute_result"
    }
   ],
   "source": [
    "# EncDec-AD model training\n",
    "# inputs_array: [training_normal, validation_1, validation_2, test_normal, validation_anomaly, test_anomaly]\n",
    "\n",
    "encdecad = EncDecAD(latent_dim, p_inputs,is_training=True)\n",
    "saver = tf.train.Saver()\n",
    "with tf.Session() as sess1:\n",
    "    #saver.restore(sess, \"/tmp/EncDecAD_model.ckpt\")\n",
    "    #print(\"Model restored.\")\n",
    "    sess1.run(tf.global_variables_initializer())\n",
    "    for i in range(n_epoch):\n",
    "        for a in inputs_array[6]:  #training all normal\n",
    "            loss_val, _ = sess1.run([encdecad.loss,encdecad.train],{p_input:a})\n",
    "        print(\"Epoch %d: \" % (i+1),loss_val)\n",
    "    save_path = saver.save(sess1, \"C:/Users/Bin/Desktop/Thesis/code/tmp/EncDecAD_power_demand_200epochs_9unit_batchsize3.ckpt\")\n",
    "    print(\"Model saved in file: %s\" % save_path) \n",
    "'''\n",
    "    #example\n",
    "    input_, output_, encoded_, enc_state = sess1.run([encdecad.input, encdecad.output, \n",
    "                                                    encdecad.enc_outputs, encdecad.enc_state], {p_input:array[-1]})\n",
    "    embedding = enc_state[0]\n",
    "    print(\"Example: \")\n",
    "    print(\"embedding: \",embedding)\n",
    "    print(\"input :\", input_[0,:,:].flatten())\n",
    "    print(\"output :\", output_[0,:,:].flatten())\n",
    "'''"
   ]
  },
  {
   "cell_type": "code",
   "execution_count": 4,
   "metadata": {},
   "outputs": [
    {
     "name": "stdout",
     "output_type": "stream",
     "text": [
      "INFO:tensorflow:Restoring parameters from C:/Users/Bin/Desktop/Thesis/code/tmp/EncDecAD_power_demand_200epochs_9unit_batchsize3.ckpt\n",
      "Model restored.\n"
     ]
    }
   ],
   "source": [
    "# try\n",
    "\n",
    "is_training = False\n",
    "encdecad = EncDecAD(latent_dim, p_inputs,is_training)\n",
    "saver = tf.train.Saver()\n",
    "with tf.Session() as sess:\n",
    "    saver.restore(sess, \"C:/Users/Bin/Desktop/Thesis/code/tmp/EncDecAD_power_demand_200epochs_9unit_batchsize3.ckpt\")\n",
    "    print(\"Model restored.\")\n",
    "    \n",
    "    \n",
    "    sess.run(tf.global_variables_initializer())\n",
    "    test_error_vectors = []\n",
    "    \n",
    "    foo1 = []\n",
    "    foo2 = []\n",
    "    foo3 = []\n",
    "    for a in inputs_array[7]: \n",
    "        error_vector,input_,output_ = sess.run([encdecad.error_vec,encdecad.input,encdecad.output],{p_input:a})\n",
    "        foo1.append(error_vector)\n",
    "        foo2.append(input_)\n",
    "        foo3.append(output_)\n",
    "\n",
    "    \n",
    "    '''\n",
    "    anomaly_scores = []\n",
    "    for error_vec in test_error_vectors:\n",
    "        error_vec = np.reshape(error_vec,error_mean.shape)\n",
    "        tmp = np.dot( (error_vec - error_mean) ,error_variance.T )\n",
    "        a_score =np.dot(tmp,(error_vec - error_mean).T)#**********\n",
    "        anomaly_scores.append(a_score)\n",
    "    '''"
   ]
  },
  {
   "cell_type": "code",
   "execution_count": 5,
   "metadata": {},
   "outputs": [
    {
     "data": {
      "text/plain": [
       "<matplotlib.axes._subplots.AxesSubplot at 0x28e2ece4cf8>"
      ]
     },
     "execution_count": 5,
     "metadata": {},
     "output_type": "execute_result"
    },
    {
     "data": {
      "image/png": "[encoded data removed]",
      "text/plain": [
       "<matplotlib.figure.Figure at 0x28e2ece4198>"
      ]
     },
     "metadata": {},
     "output_type": "display_data"
    }
   ],
   "source": [
    "pd.Series(np.reshape(foo1,(-1)))[-100:].reset_index(drop=True).plot(ylim=[0,1]) #error"
   ]
  },
  {
   "cell_type": "code",
   "execution_count": 6,
   "metadata": {},
   "outputs": [
    {
     "data": {
      "text/plain": [
       "<matplotlib.axes._subplots.AxesSubplot at 0x28e328a19e8>"
      ]
     },
     "execution_count": 6,
     "metadata": {},
     "output_type": "execute_result"
    },
    {
     "data": {
      "image/png": "[encoded data removed]",
      "text/plain": [
       "<matplotlib.figure.Figure at 0x28e32e01fd0>"
      ]
     },
     "metadata": {},
     "output_type": "display_data"
    }
   ],
   "source": [
    "pd.Series(np.reshape(foo2,(-1)))[:].reset_index(drop=True).plot(ylim=[0,1.]) #input"
   ]
  },
  {
   "cell_type": "code",
   "execution_count": 7,
   "metadata": {},
   "outputs": [
    {
     "data": {
      "text/plain": [
       "<matplotlib.axes._subplots.AxesSubplot at 0x28e32e03c88>"
      ]
     },
     "execution_count": 7,
     "metadata": {},
     "output_type": "execute_result"
    },
    {
     "data": {
      "image/png": "[encoded data removed]",
      "text/plain": [
       "<matplotlib.figure.Figure at 0x28e32d78240>"
      ]
     },
     "metadata": {},
     "output_type": "display_data"
    }
   ],
   "source": [
    "pd.Series(np.reshape(foo3,(-1)))[:].reset_index(drop=True).plot() #output"
   ]
  },
  {
   "cell_type": "code",
   "execution_count": null,
   "metadata": {
    "collapsed": true
   },
   "outputs": [],
   "source": [
    "# create an EncDecAD object\n",
    "\n",
    "is_training = False\n",
    "encdecad = EncDecAD(latent_dim, p_inputs,is_training)\n",
    "saver = tf.train.Saver()\n",
    "\n",
    "with tf.Session() as sess:\n",
    "    saver.restore(sess, \"C:/Users/Bin/Desktop/Thesis/code/tmp/EncDecAD_power_training_500epochs.ckpt\")\n",
    "    print(\"Model restored.\")\n",
    "    sess.run(tf.global_variables_initializer())\n",
    "    validation1_error_vectors = []\n",
    "    for a in inputs_array[1]:  #validation_1\n",
    "        error_vector = sess.run([encdecad.error_vec],{p_input:a})[0]\n",
    "        validation1_error_vectors.append(error_vector)\n",
    "\n",
    "    # Use error vectors to estimate the parameters mu and sigma of a normal distribution using Maximum Likelihood Estimation\n",
    "    error_ = []\n",
    "    for i in range(len(validation1_error_vectors)):\n",
    "        for j in range(len(validation1_error_vectors[0])):\n",
    "            error_.append(validation1_error_vectors[i][j])\n",
    "    error_ = np.reshape(np.array(error_),(int(validation_1.shape[0]/time_steps),time_steps))   # shape(9,84)\n",
    "\n",
    "    error_mean = np.mean(error_,axis=0)\n",
    "    error_variance = np.cov(error_.T)\n",
    "    print(\"error_mean: \",error_mean)\n",
    "    print(\"error_variance\",error_variance)\n",
    "\n",
    "\n",
    "    # EncDec-AD model test\n",
    "    # calculate the anomaly score\n",
    "\n",
    "    sess.run(tf.global_variables_initializer())\n",
    "    test_error_vectors = []\n",
    "    iii = []\n",
    "    ooo = []\n",
    "    for p in [2,3,4,5]:\n",
    "        print(p)\n",
    "        for a in inputs_array[p]:  #test_anomalous\n",
    "            error_vector,_,_ = sess.run([encdecad.error_vec,encdecad.input,encdecad.output],{p_input:a})[0]\n",
    "            foo = [error_vector[i] for i in range(error_vector.shape[0])]\n",
    "            for f in foo:\n",
    "                test_error_vectors.append(f)\n",
    "          \n",
    "\n",
    "        anomaly_scores = []\n",
    "        for error_vec in test_error_vectors:\n",
    "            error_vec = np.reshape(error_vec,error_mean.shape)\n",
    "            tmp = np.dot( (error_vec - error_mean) ,error_variance.T )\n",
    "            a_score =np.dot(tmp,(error_vec - error_mean).T)#**********\n",
    "            anomaly_scores.append(a_score)\n",
    "    pd.Series(np.reshape(ooo,(84*27))).plot()\n",
    "    "
   ]
  },
  {
   "cell_type": "code",
   "execution_count": null,
   "metadata": {
    "collapsed": true
   },
   "outputs": [],
   "source": [
    "# TimeNet\n",
    "timenet = TimeNet(latent_dim, p_inputs,is_training=True)\n",
    "saver = tf.train.Saver()\n",
    "with tf.Session() as sess:\n",
    "    #saver.restore(sess, \"C:/Users/Bin/Desktop/Thesis/code/tmp/TimeNet_power_demand_500epochs_40unit.ckpt\")\n",
    "    #print(\"Model restored.\")\n",
    "    sess.run(tf.global_variables_initializer())\n",
    "    test_error_vectors = []\n",
    "    \n",
    "    foo1 = []\n",
    "    foo2 = []\n",
    "    foo3 = []\n",
    "    for a in array: \n",
    "        error_vector,input_,output_ = sess.run([timenet.error_vec,timenet.input,timenet.output],{p_input:a})\n",
    "        \n",
    "        foo1.append(error_vector)\n",
    "        foo2.append(input_)\n",
    "        foo3.append(output_)\n",
    "    save_path = saver.save(sess, \"C:/Users/Bin/Desktop/Thesis/code/tmp/TimeNet_power_demand_500epochs_40unit.ckpt\")\n",
    "    print(\"Model saved in file: %s\" % save_path) "
   ]
  },
  {
   "cell_type": "code",
   "execution_count": null,
   "metadata": {
    "collapsed": true
   },
   "outputs": [],
   "source": []
  }
 ],
 "metadata": {
  "kernelspec": {
   "display_name": "Python 3",
   "language": "python",
   "name": "python3"
  },
  "language_info": {
   "codemirror_mode": {
    "name": "ipython",
    "version": 3
   },
   "file_extension": ".py",
   "mimetype": "text/x-python",
   "name": "python",
   "nbconvert_exporter": "python",
   "pygments_lexer": "ipython3",
   "version": "3.6.3"
  }
 },
 "nbformat": 4,
 "nbformat_minor": 2
}
