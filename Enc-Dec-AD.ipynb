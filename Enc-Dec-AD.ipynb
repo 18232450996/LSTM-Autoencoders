{
 "cells": [
  {
   "cell_type": "code",
   "execution_count": null,
   "metadata": {
    "collapsed": true
   },
   "outputs": [],
   "source": [
    "# This is the implementation of the EncDec-AD model based on the paper \"LSTM-based Encoder-Decoder for Multi-sensor Anomaly Detection\". And a slight variantion \"TimeNet\" based on the paper \"TimeNet: Pre-trained deep recurrent neural network for time series classiﬁcation\", which has been shown that achives better performance in the time series anomaly detection scenario. The only difference is the second model feeds constants to its decoder as input."
   ]
  },
  {
   "cell_type": "code",
   "execution_count": 1,
   "metadata": {
    "collapsed": true
   },
   "outputs": [],
   "source": [
    "%matplotlib inline\n",
    "import numpy as np\n",
    "import pandas as pd\n",
    "import tensorflow as tf"
   ]
  },
  {
   "cell_type": "markdown",
   "metadata": {},
   "source": [
    "# Definition of the EncDec-AD model"
   ]
  },
  {
   "cell_type": "code",
   "execution_count": 7,
   "metadata": {
    "collapsed": true
   },
   "outputs": [],
   "source": [
    "# decoder input: original time series value at last time step\n",
    "\n",
    "class EncDecAD(object):\n",
    "    def __init__(self,latent_dim,inputs):\n",
    "        self.batch_num = inputs[0].get_shape().as_list()[0]\n",
    "        self.input_dim = inputs[0].get_shape().as_list()[1]\n",
    "        \n",
    "        self.enc_cell = tf.nn.rnn_cell.LSTMCell(latent_dim)\n",
    "        self.dec_cell = tf.nn.rnn_cell.LSTMCell(latent_dim)\n",
    "        \n",
    "        with tf.variable_scope('encoder'):\n",
    "            self.enc_outputs, self.enc_state = tf.nn.static_rnn(self.enc_cell, inputs, \n",
    "                                                         dtype=tf.float32)\n",
    "        with tf.variable_scope('decoder') as scope_dec:\n",
    "            w = tf.Variable(tf.truncated_normal([latent_dim,self.input_dim],\n",
    "                                               dtype=tf.float32),name=\"w\")\n",
    "            b = tf.Variable(tf.constant(0.1,shape=[self.input_dim],\n",
    "                                               dtype=tf.float32),name=\"b\")\n",
    "            \n",
    "            dec_inputs = [tf.zeros(tf.shape(inputs[0]),dtype=tf.float32)]+inputs[::-1][:-1]\n",
    "            dec_outputs, dec_state = tf.nn.static_rnn(self.dec_cell, dec_inputs,\n",
    "                                                     initial_state=self.enc_state,\n",
    "                                                     dtype=tf.float32)\n",
    "            dec_outputs = dec_outputs[::-1]\n",
    "            dec_output = tf.transpose(tf.stack(dec_outputs),[1,0,2])\n",
    "            w = tf.tile(tf.expand_dims(w,0),[self.batch_num,1,1])\n",
    "            self.output = tf.matmul(dec_output,w)+b\n",
    "            \n",
    "        #Calculate loss\n",
    "        self.input = tf.transpose(tf.stack(inputs),[1,0,2])\n",
    "        self.loss = tf.reduce_sum(tf.square(self.input - self.output))\n",
    "        \n",
    "        #Optimization\n",
    "        self.train = tf.train.AdamOptimizer(learning_rate=0.001).minimize(self.loss)"
   ]
  },
  {
   "cell_type": "markdown",
   "metadata": {},
   "source": [
    "# Definition of the TimeNet model"
   ]
  },
  {
   "cell_type": "code",
   "execution_count": 2,
   "metadata": {
    "collapsed": true
   },
   "outputs": [],
   "source": [
    "class TimeNet(object):\n",
    "    def __init__(self,latent_dim,inputs):\n",
    "        self.batch_num = inputs[0].get_shape().as_list()[0]\n",
    "        self.input_dim = inputs[0].get_shape().as_list()[1]\n",
    "        \n",
    "        self.enc_cell = tf.nn.rnn_cell.LSTMCell(latent_dim)\n",
    "        self.dec_cell = tf.nn.rnn_cell.LSTMCell(latent_dim)\n",
    "        \n",
    "        with tf.variable_scope('encoder'):\n",
    "            self.enc_outputs, self.enc_state = tf.nn.static_rnn(self.enc_cell, inputs, \n",
    "                                                         dtype=tf.float32)\n",
    "        with tf.variable_scope('decoder') as scope_dec:\n",
    "            w = tf.Variable(tf.truncated_normal([latent_dim,self.input_dim],\n",
    "                                               dtype=tf.float32),name=\"w\")\n",
    "            b = tf.Variable(tf.constant(0.1,shape=[self.input_dim],\n",
    "                                               dtype=tf.float32),name=\"b\")\n",
    "            \n",
    "            dec_inputs = [tf.zeros(tf.shape(inputs[0]),dtype=tf.float32)\n",
    "                                  for _ in range(len(inputs))]\n",
    "            dec_outputs, dec_state = tf.nn.static_rnn(self.dec_cell, dec_inputs,\n",
    "                                                     initial_state=self.enc_state,\n",
    "                                                     dtype=tf.float32)\n",
    "            dec_outputs = dec_outputs[::-1]\n",
    "            dec_output = tf.transpose(tf.stack(dec_outputs),[1,0,2])\n",
    "            w = tf.tile(tf.expand_dims(w,0),[self.batch_num,1,1])\n",
    "            self.output = tf.matmul(dec_output,w)+b\n",
    "            \n",
    "        #Calculate loss\n",
    "        self.input = tf.transpose(tf.stack(inputs),[1,0,2])\n",
    "        self.loss = tf.reduce_mean(tf.square(self.input - self.output))\n",
    "        \n",
    "        #Optimization\n",
    "        self.train = tf.train.AdamOptimizer().minimize(self.loss)"
   ]
  },
  {
   "cell_type": "markdown",
   "metadata": {},
   "source": [
    "# Experiments"
   ]
  },
  {
   "cell_type": "markdown",
   "metadata": {},
   "source": [
    "## Load dataset"
   ]
  },
  {
   "cell_type": "code",
   "execution_count": 3,
   "metadata": {},
   "outputs": [
    {
     "name": "stderr",
     "output_type": "stream",
     "text": [
      "C:\\Users\\Bin\\Desktop\\Thesis\\code\\Loaddata.py:54: FutureWarning: reshape is deprecated and will raise in a subsequent release. Please use .values.reshape(...) instead\n",
      "  sub_power = sub_power.reshape(-1, 1)\n",
      "C:\\ProgramData\\Anaconda3\\lib\\site-packages\\sklearn\\utils\\validation.py:475: DataConversionWarning: Data with input dtype int64 was converted to float64 by MinMaxScaler.\n",
      "  warnings.warn(msg, DataConversionWarning)\n"
     ]
    }
   ],
   "source": [
    "# power demand dataset\n",
    "\n",
    "%run Loaddata\n",
    "from Loaddata import Loaddata\n",
    "\n",
    "ld = Loaddata(\"power_demand\")\n",
    "dataset = ld.read()\n",
    "dataset.shape\n",
    "\n",
    "\n",
    "time_steps = 84\n",
    "latent_dim = 1\n",
    "n_epoch = 5000\n",
    "batch_size = 17\n",
    "input_dim = 1\n",
    "\n",
    "# reshape the dataset to a list, each element with the shape [batch_size, time_steps, input_dim]\n",
    "size = dataset.shape[0]//time_steps//batch_size\n",
    "data_input = np.reshape(dataset[:size*batch_size*time_steps],(size,batch_size,time_steps,input_dim))\n",
    "array = [t for t in data_input]\n",
    "del dataset, data_input\n",
    "\n",
    "# inputs placeholder\n",
    "p_input = tf.placeholder(tf.float32, [batch_size, time_steps, input_dim])\n",
    "p_inputs = [t for t in tf.split(p_input, time_steps, 1)]\n",
    "p_inputs = [tf.squeeze(t, [1]) for t in tf.split(p_input, time_steps, 1)]\n",
    "\n"
   ]
  },
  {
   "cell_type": "code",
   "execution_count": 5,
   "metadata": {},
   "outputs": [
    {
     "name": "stderr",
     "output_type": "stream",
     "text": [
      "C:\\Users\\Bin\\Desktop\\Thesis\\code\\Loaddata.py:71: FutureWarning: reshape is deprecated and will raise in a subsequent release. Please use .values.reshape(...) instead\n",
      "  sub_tek = sub_tek.reshape(-1, 1)\n"
     ]
    }
   ],
   "source": [
    "# space shuttle\n",
    "\n",
    "%run Loaddata\n",
    "from Loaddata import Loaddata\n",
    "\n",
    "ld = Loaddata(\"space_shuttle\")\n",
    "dataset = ld.read()\n",
    "\n",
    "SUB_SEQUENCE_LENGTH = 500 # 1500/3\n",
    "time_steps = SUB_SEQUENCE_LENGTH\n",
    "latent_dim = 1\n",
    "n_epoch = 50\n",
    "batch_size = 4\n",
    "input_dim = 1\n",
    "\n",
    "# reshape the dataset to a list, each element with the shape [batch_size, time_steps, input_dim]\n",
    "size = dataset.shape[0]//time_steps//batch_size\n",
    "data_input = np.reshape(dataset[:size*batch_size*time_steps],(size,batch_size,time_steps,input_dim))\n",
    "array = [t for t in data_input]\n",
    "#del dataset, data_input\n",
    "\n",
    "# inputs placeholder\n",
    "p_input = tf.placeholder(tf.float32, [batch_size, time_steps, input_dim])\n",
    "p_inputs = [t for t in tf.split(p_input, time_steps, 1)]\n",
    "p_inputs = [tf.squeeze(t, [1]) for t in tf.split(p_input, time_steps, 1)]\n"
   ]
  },
  {
   "cell_type": "code",
   "execution_count": 8,
   "metadata": {},
   "outputs": [
    {
     "name": "stdout",
     "output_type": "stream",
     "text": [
      "Epoch 1:  326.682\n",
      "Epoch 2:  303.359\n",
      "Epoch 3:  282.346\n",
      "Epoch 4:  263.469\n",
      "Epoch 5:  246.506\n",
      "Epoch 6:  231.224\n",
      "Epoch 7:  217.403\n",
      "Epoch 8:  204.845\n",
      "Epoch 9:  193.382\n",
      "Epoch 10:  182.874\n",
      "Epoch 11:  173.203\n",
      "Epoch 12:  164.276\n",
      "Epoch 13:  156.013\n",
      "Epoch 14:  148.349\n",
      "Epoch 15:  141.23\n",
      "Epoch 16:  134.612\n",
      "Epoch 17:  128.456\n",
      "Epoch 18:  122.731\n",
      "Epoch 19:  117.408\n",
      "Epoch 20:  112.465\n",
      "Epoch 21:  107.881\n",
      "Epoch 22:  103.636\n",
      "Epoch 23:  99.7146\n",
      "Epoch 24:  96.1008\n",
      "Epoch 25:  92.7803\n",
      "Epoch 26:  89.7387\n",
      "Epoch 27:  86.9624\n",
      "Epoch 28:  84.4378\n",
      "Epoch 29:  82.151\n",
      "Epoch 30:  80.0879\n",
      "Epoch 31:  78.2341\n",
      "Epoch 32:  76.575\n",
      "Epoch 33:  75.0958\n",
      "Epoch 34:  73.7813\n",
      "Epoch 35:  72.6165\n",
      "Epoch 36:  71.5864\n",
      "Epoch 37:  70.6765\n",
      "Epoch 38:  69.8726\n",
      "Epoch 39:  69.1615\n",
      "Epoch 40:  68.5305\n",
      "Epoch 41:  67.9683\n",
      "Epoch 42:  67.4645\n",
      "Epoch 43:  67.0097\n",
      "Epoch 44:  66.5959\n",
      "Epoch 45:  66.216\n",
      "Epoch 46:  65.8641\n",
      "Epoch 47:  65.5351\n",
      "Epoch 48:  65.225\n",
      "Epoch 49:  64.9303\n",
      "Epoch 50:  64.6483\n",
      "Model saved in file: /tmp/EncDecAD_model_tek_50epochs.ckpt\n",
      "Example: \n",
      "embedding:  [[ 0.01522343]\n",
      " [ 0.02568875]\n",
      " [ 0.00476701]\n",
      " [ 0.0257907 ]]\n",
      "input : [ 0.28346458  0.30314961  0.28346458  0.30314961  0.28346458  0.30314961\n",
      "  0.28346458  0.30708662  0.28346458  0.30314961  0.28346458  0.30708662\n",
      "  0.28346458  0.30314961  0.28346458  0.30708662  0.2952756   0.29133859\n",
      "  0.28740159  0.2952756   0.29133859  0.29133859  0.29133859  0.2952756\n",
      "  0.2952756   0.2952756   0.28740159  0.28740159  0.2952756   0.2952756\n",
      "  0.2952756   0.2952756   0.29133859  0.29133859  0.2952756   0.29133859\n",
      "  0.2952756   0.29133859  0.2992126   0.29133859  0.29133859  0.2952756\n",
      "  0.29133859  0.29133859  0.29133859  0.29133859  0.2952756   0.2952756\n",
      "  0.29133859  0.29133859  0.35433072  0.40157479  0.44488189  0.48425198\n",
      "  0.49606299  0.46850392  0.4527559   0.46456692  0.48031497  0.5\n",
      "  0.51181102  0.53149605  0.54330707  0.54330707  0.50393701  0.41338584\n",
      "  0.41732284  0.43307087  0.44881889  0.46850392  0.49212599  0.52362204\n",
      "  0.54724407  0.58267719  0.61023623  0.63779527  0.65354329  0.67322832\n",
      "  0.68897641  0.69685042  0.70472443  0.70866144  0.71653545  0.71653545\n",
      "  0.71653545  0.72047246  0.71653545  0.72047246  0.71653545  0.72440946\n",
      "  0.72440946  0.71653545  0.72047246  0.72047246  0.71653545  0.71653545\n",
      "  0.72047246  0.72440946  0.72047246  0.72047246  0.72047246  0.71653545\n",
      "  0.72047246  0.72047246  0.72047246  0.71653545  0.71653545  0.71653545\n",
      "  0.71653545  0.71653545  0.71653545  0.71653545  0.71653545  0.71653545\n",
      "  0.71653545  0.71653545  0.72047246  0.72047246  0.71653545  0.72047246\n",
      "  0.72440946  0.72047246  0.72440946  0.71259844  0.71653545  0.64960629\n",
      "  0.5         0.4566929   0.42125985  0.4055118   0.38582677  0.37795275\n",
      "  0.37007874  0.36614174  0.36220473  0.35826772  0.35826772  0.35433072\n",
      "  0.35433072  0.35039371  0.35039371  0.34645671  0.34645671  0.34645671\n",
      "  0.34645671  0.34251967  0.34251967  0.33858266  0.33464566  0.33858266\n",
      "  0.33464566  0.33070865  0.33464566  0.33070865  0.33464566  0.33070865\n",
      "  0.32677165  0.33070865  0.33070865  0.32283464  0.33070865  0.33070865\n",
      "  0.33070865  0.32677165  0.32677165  0.32677165  0.32677165  0.32677165\n",
      "  0.32677165  0.31889763  0.32283464  0.32677165  0.39763778  0.39763778\n",
      "  0.38582677  0.37795275  0.37401575  0.36614174  0.36614174  0.35826772\n",
      "  0.35039371  0.35039371  0.34645671  0.34251967  0.33464566  0.33464566\n",
      "  0.33464566  0.32677165  0.32283464  0.32677165  0.32283464  0.31496063\n",
      "  0.31889763  0.31102362  0.31102362  0.31102362  0.31496063  0.30708662\n",
      "  0.30708662  0.30708662  0.2992126   0.30314961  0.30314961  0.30314961\n",
      "  0.2992126   0.30314961  0.2952756   0.2952756   0.2992126   0.2952756\n",
      "  0.30314961  0.2952756   0.2952756   0.2952756   0.2952756   0.2952756\n",
      "  0.28740159  0.2952756   0.29133859  0.2952756   0.29133859  0.2952756\n",
      "  0.2952756   0.2952756   0.28740159  0.2952756   0.2952756   0.29133859\n",
      "  0.2952756   0.28740159  0.29133859  0.2952756   0.2952756   0.29133859\n",
      "  0.29133859  0.2952756   0.29133859  0.2952756   0.29133859  0.2952756\n",
      "  0.2952756   0.2952756   0.2952756   0.28740159  0.2952756   0.28740159\n",
      "  0.2952756   0.29133859  0.2952756   0.29133859  0.2952756   0.2952756\n",
      "  0.2952756   0.2992126   0.2952756   0.29133859  0.2952756   0.29133859\n",
      "  0.2952756   0.2952756   0.2952756   0.29133859  0.2952756   0.29133859\n",
      "  0.29133859  0.29133859  0.2952756   0.29133859  0.2952756   0.29133859\n",
      "  0.2952756   0.29133859  0.29133859  0.29133859  0.2952756   0.29133859\n",
      "  0.2952756   0.29133859  0.2952756   0.29133859  0.29133859  0.2952756\n",
      "  0.2952756   0.2952756   0.2952756   0.2952756   0.2952756   0.2952756\n",
      "  0.28740159  0.2952756   0.2952756   0.2952756   0.29133859  0.29133859\n",
      "  0.29133859  0.2952756   0.29133859  0.29133859  0.29133859  0.2952756\n",
      "  0.2952756   0.2952756   0.29133859  0.2952756   0.2952756   0.29133859\n",
      "  0.29133859  0.2952756   0.2992126   0.2952756   0.2952756   0.29133859\n",
      "  0.2952756   0.29133859  0.2952756   0.29133859  0.29133859  0.29133859\n",
      "  0.29133859  0.2992126   0.2952756   0.2952756   0.29133859  0.2992126\n",
      "  0.2992126   0.28740159  0.29133859  0.2952756   0.29133859  0.29133859\n",
      "  0.29133859  0.2952756   0.2952756   0.2952756   0.2952756   0.29133859\n",
      "  0.29133859  0.2952756   0.29133859  0.28740159  0.2952756   0.2952756\n",
      "  0.2952756   0.2952756   0.2952756   0.29133859  0.2992126   0.2952756\n",
      "  0.2952756   0.2952756   0.29133859  0.29133859  0.29133859  0.2952756\n",
      "  0.2952756   0.2952756   0.2992126   0.2952756   0.28740159  0.29133859\n",
      "  0.2992126   0.2952756   0.28740159  0.29133859  0.29133859  0.2952756\n",
      "  0.29133859  0.2992126   0.29133859  0.2952756   0.2952756   0.2952756\n",
      "  0.2952756   0.2952756   0.2952756   0.29133859  0.2952756   0.29133859\n",
      "  0.2992126   0.2952756   0.32283464  0.35039371  0.37401575  0.38976377\n",
      "  0.42519686  0.44094488  0.4566929   0.47637796  0.48818898  0.50787401\n",
      "  0.51574802  0.53543305  0.52362204  0.38976377  0.4055118   0.41338584\n",
      "  0.43307087  0.44488189  0.46456692  0.49212599  0.52362204  0.55905509\n",
      "  0.57874018  0.60629922  0.62992126  0.64566928  0.6574803   0.66929132\n",
      "  0.68110234  0.68110234  0.68503934  0.68897641  0.68897641  0.69685042\n",
      "  0.69685042  0.69685042  0.69685042  0.69685042  0.69685042  0.70078743\n",
      "  0.69291341  0.69685042  0.69291341  0.69291341  0.69685042  0.69685042\n",
      "  0.69685042  0.69291341  0.69685042  0.69685042  0.69291341  0.69685042\n",
      "  0.69685042  0.69685042  0.68897641  0.69291341  0.69685042  0.69685042\n",
      "  0.69685042  0.69685042  0.69685042  0.69291341  0.69685042  0.69685042\n",
      "  0.69685042  0.69685042  0.68897641  0.69685042  0.69685042  0.69685042\n",
      "  0.69291341  0.69291341  0.69291341  0.69685042  0.69685042  0.69291341\n",
      "  0.69685042  0.69685042  0.69291341  0.69685042  0.68897641  0.69685042\n",
      "  0.69685042  0.69685042  0.69685042  0.69685042  0.69291341  0.69291341\n",
      "  0.68897641  0.68897641  0.69685042  0.69685042  0.69291341  0.69685042\n",
      "  0.69291341  0.69685042  0.69685042  0.69685042  0.69685042  0.69685042\n",
      "  0.69291341  0.69291341  0.69685042  0.57874018  0.5         0.44881889\n",
      "  0.42519686  0.39763778  0.38582677  0.37401575  0.36614174  0.36614174\n",
      "  0.36220473  0.35433072  0.35433072  0.35433072  0.34645671  0.35039371\n",
      "  0.34645671  0.34645671]\n",
      "output : [ 0.4017089   0.4028796   0.40169746  0.40286285  0.40167341  0.40283236\n",
      "  0.40143678  0.4028616   0.40167165  0.40282977  0.40143305  0.40285614\n",
      "  0.40166384  0.40281799  0.4014309   0.40225697  0.40251237  0.40270871\n",
      "  0.40222326  0.40246838  0.40244612  0.4024187   0.40218535  0.40222463\n",
      "  0.40227187  0.40272802  0.40264344  0.40213391  0.40214986  0.4021731\n",
      "  0.40220195  0.40243736  0.4024061   0.40216237  0.40238488  0.40213156\n",
      "  0.40234494  0.40188077  0.40234864  0.40227771  0.40197706  0.40211114\n",
      "  0.40192926  0.40166593  0.40128961  0.4005546   0.39985797  0.39903474\n",
      "  0.39754355  0.39255586  0.38892972  0.38595504  0.38368085  0.38321495\n",
      "  0.38474056  0.38528907  0.38421667  0.38298944  0.38169575  0.38097897\n",
      "  0.38010341  0.37999421  0.38083598  0.38375801  0.38871568  0.38785061\n",
      "  0.3862386   0.38456824  0.38263467  0.38048035  0.37798655  0.37595403\n",
      "  0.37345183  0.37149924  0.3696979   0.36855677  0.36731583  0.36636978\n",
      "  0.36585286  0.3653751   0.36510524  0.36470103  0.364685    0.36466163\n",
      "  0.3644776   0.3646442   0.36444923  0.36460039  0.36424044  0.36428857\n",
      "  0.3646563   0.36447164  0.36448854  0.36465937  0.36461973  0.36441481\n",
      "  0.36425549  0.36445886  0.3644703   0.36448634  0.36465842  0.36447501\n",
      "  0.36449671  0.36452943  0.36472625  0.36472613  0.36472598  0.36472571\n",
      "  0.36472529  0.36472461  0.3647235   0.36472166  0.36471868  0.36471379\n",
      "  0.36470848  0.36455649  0.36462688  0.36488807  0.36485109  0.3649655\n",
      "  0.36562356  0.3662172   0.36796689  0.36961716  0.37524548  0.38483605\n",
      "  0.38811168  0.39071041  0.39204618  0.39348483  0.39414915  0.39476317\n",
      "  0.39511579  0.39544892  0.39575723  0.39583814  0.39614341  0.39621884\n",
      "  0.39651638  0.39657953  0.39685926  0.39689994  0.39695972  0.39704287\n",
      "  0.39735264  0.39743167  0.39773095  0.39799124  0.39780802  0.3980951\n",
      "  0.39833698  0.39812565  0.39838177  0.39819121  0.3984687   0.39869601\n",
      "  0.39846724  0.39849558  0.39892465  0.39842886  0.39844882  0.39847341\n",
      "  0.39869845  0.39865512  0.39859188  0.39849952  0.39836496  0.39815938\n",
      "  0.39823911  0.39743289  0.39651823  0.39226583  0.39253891  0.39348525\n",
      "  0.39415407  0.39458585  0.39522669  0.39542723  0.39608642  0.39669189\n",
      "  0.39683732  0.39723426  0.39762491  0.39820349  0.39830691  0.39844909\n",
      "  0.39903182  0.3993319   0.3992019   0.39956677  0.40011203  0.39995739\n",
      "  0.40048945  0.40051436  0.40055552  0.40041426  0.4009679   0.40102229\n",
      "  0.40109169  0.4015826   0.40135074  0.40139019  0.40144262  0.40171662\n",
      "  0.40153536  0.40203512  0.40201151  0.40177915  0.40202183  0.4016012\n",
      "  0.40213108  0.40214574  0.40216702  0.40219808  0.40223312  0.40268147\n",
      "  0.40218389  0.40241605  0.4021768   0.40240568  0.40216655  0.40219739\n",
      "  0.40223217  0.40267998  0.40218669  0.4022215   0.4024708   0.40225112\n",
      "  0.40270269  0.40241301  0.4021773   0.402208    0.40244615  0.40241885\n",
      "  0.40218079  0.40241161  0.40217033  0.40239626  0.40215302  0.40217751\n",
      "  0.40221322  0.40225509  0.40271351  0.40222526  0.40266997  0.40216738\n",
      "  0.40239212  0.40214217  0.40235543  0.40209401  0.40209192  0.40209383\n",
      "  0.40189847  0.40218076  0.40241155  0.40217021  0.40239611  0.40215278\n",
      "  0.40217733  0.40220791  0.40245092  0.40222722  0.40247416  0.4024545\n",
      "  0.40243095  0.40219826  0.40243691  0.4022069   0.40244946  0.40222508\n",
      "  0.40247107  0.40245     0.40242445  0.40218887  0.40242332  0.40218729\n",
      "  0.402421    0.40218401  0.40241131  0.40236837  0.40211266  0.40211907\n",
      "  0.40212837  0.40214181  0.4021613   0.40218979  0.40222114  0.40266389\n",
      "  0.40216339  0.40219265  0.40223029  0.40247861  0.4024609   0.40244022\n",
      "  0.40221179  0.40245172  0.40242201  0.4023838   0.40213495  0.40215153\n",
      "  0.40217054  0.40239656  0.40215355  0.40217364  0.40239626  0.40234643\n",
      "  0.40208578  0.40188673  0.40216863  0.40219533  0.40243268  0.40220073\n",
      "  0.40244055  0.40221223  0.40245241  0.40242311  0.4023805   0.40232849\n",
      "  0.40186176  0.40213233  0.40214267  0.4023608   0.40191334  0.40200403\n",
      "  0.402722    0.40244097  0.40221286  0.4024533   0.40242434  0.40238717\n",
      "  0.40213978  0.40215838  0.40218541  0.40221977  0.40246323  0.40244359\n",
      "  0.40221676  0.40245402  0.40262395  0.4021059   0.40210927  0.40211415\n",
      "  0.40212137  0.40212673  0.40233779  0.40187514  0.40215164  0.40217566\n",
      "  0.40220565  0.40244287  0.4024092   0.40236524  0.40210813  0.40211242\n",
      "  0.40212354  0.4019416   0.40223867  0.40268445  0.40239149  0.40195277\n",
      "  0.40225491  0.40270829  0.40241629  0.40237567  0.4021183   0.40232569\n",
      "  0.40185291  0.40231284  0.40203249  0.40200293  0.40196013  0.40189809\n",
      "  0.40180844  0.40167361  0.40167555  0.40110716  0.40085799  0.39974114\n",
      "  0.39908192  0.39649424  0.39403304  0.3919003   0.39023983  0.38765085\n",
      "  0.38630405  0.38502747  0.38367021  0.38287657  0.38188386  0.38179547\n",
      "  0.38150695  0.38320625  0.39076239  0.38926595  0.38813651  0.38630962\n",
      "  0.38484019  0.38286489  0.38048622  0.37800527  0.3755053   0.3739039\n",
      "  0.37201732  0.37047565  0.36942086  0.36861569  0.36787391  0.36722013\n",
      "  0.36714631  0.36688355  0.3666378   0.36657065  0.36617067  0.36617073\n",
      "  0.36617082  0.36617094  0.36617112  0.36617422  0.36602813  0.36640936\n",
      "  0.36623067  0.36641097  0.36638179  0.36618885  0.36620021  0.36621583\n",
      "  0.36638963  0.36620155  0.36621797  0.36639315  0.36620718  0.36622995\n",
      "  0.36626124  0.36660665  0.3663744   0.36617696  0.36618087  0.36618721\n",
      "  0.36619756  0.3662115   0.36638263  0.36619022  0.36620238  0.36622214\n",
      "  0.36624858  0.36658883  0.36619991  0.36621809  0.36624479  0.36643395\n",
      "  0.36641619  0.36639023  0.36620253  0.36621955  0.36639568  0.36621135\n",
      "  0.36623383  0.36641896  0.36624336  0.36658031  0.3661862   0.36619589\n",
      "  0.36621153  0.36623693  0.36627531  0.36648351  0.36649367  0.36665621\n",
      "  0.36660036  0.36621851  0.36624545  0.36643773  0.36627641  0.36648795\n",
      "  0.36636016  0.36647749  0.36666742  0.36697498  0.36747003  0.36842135\n",
      "  0.3696346   0.37134162  0.37931183  0.38482156  0.38844782  0.39029974\n",
      "  0.39215696  0.39291045  0.39347315  0.39357692  0.39299986  0.39232039\n",
      "  0.39131469  0.38912776  0.38590887  0.38150218  0.3742556   0.36409172\n",
      "  0.34895855  0.33247185]\n"
     ]
    }
   ],
   "source": [
    "# EncDec-AD model\n",
    "\n",
    "encdecad = EncDecAD(latent_dim, p_inputs)\n",
    "saver = tf.train.Saver()\n",
    "with tf.Session() as sess1:\n",
    "    #saver.restore(sess, \"/tmp/EncDecAD_model.ckpt\")\n",
    "    #print(\"Model restored.\")\n",
    "    sess1.run(tf.global_variables_initializer())\n",
    "    for i in range(n_epoch):\n",
    "        for a in array:\n",
    "            loss_val, _ = sess1.run([encdecad.loss,encdecad.train],{p_input:a})\n",
    "        print(\"Epoch %d: \" % (i+1),loss_val)\n",
    "    save_path = saver.save(sess1, \"/tmp/EncDecAD_model_tek_50epochs.ckpt\")\n",
    "    print(\"Model saved in file: %s\" % save_path) \n",
    "    \n",
    "    #example\n",
    "    input_, output_, encoded_, enc_state = sess1.run([encdecad.input, encdecad.output, \n",
    "                                                    encdecad.enc_outputs, encdecad.enc_state], {p_input:array[-1]})\n",
    "    embedding = enc_state[0]\n",
    "    print(\"Example: \")\n",
    "    print(\"embedding: \",embedding)\n",
    "    print(\"input :\", input_[0,:,:].flatten())\n",
    "    print(\"output :\", output_[0,:,:].flatten())"
   ]
  },
  {
   "cell_type": "code",
   "execution_count": 9,
   "metadata": {},
   "outputs": [
    {
     "data": {
      "text/plain": [
       "<matplotlib.axes._subplots.AxesSubplot at 0x131eea51860>"
      ]
     },
     "execution_count": 9,
     "metadata": {},
     "output_type": "execute_result"
    },
    {
     "data": {
      "image/png": "[encoded data removed]",
      "text/plain": [
       "<matplotlib.figure.Figure at 0x131eea514a8>"
      ]
     },
     "metadata": {},
     "output_type": "display_data"
    }
   ],
   "source": [
    "pd.Series(input_[0,:,:].flatten()).plot()"
   ]
  },
  {
   "cell_type": "code",
   "execution_count": 10,
   "metadata": {},
   "outputs": [
    {
     "data": {
      "text/plain": [
       "<matplotlib.axes._subplots.AxesSubplot at 0x131eea51438>"
      ]
     },
     "execution_count": 10,
     "metadata": {},
     "output_type": "execute_result"
    },
    {
     "data": {
      "image/png": "[encoded data removed]",
      "text/plain": [
       "<matplotlib.figure.Figure at 0x131607c8588>"
      ]
     },
     "metadata": {},
     "output_type": "display_data"
    }
   ],
   "source": [
    "pd.Series(output_[0,:,:].flatten()).plot()"
   ]
  },
  {
   "cell_type": "code",
   "execution_count": 11,
   "metadata": {},
   "outputs": [
    {
     "data": {
      "text/plain": [
       "<matplotlib.axes._subplots.AxesSubplot at 0x131eea515c0>"
      ]
     },
     "execution_count": 11,
     "metadata": {},
     "output_type": "execute_result"
    },
    {
     "data": {
      "image/png": "[encoded data removed]",
      "text/plain": [
       "<matplotlib.figure.Figure at 0x13122a792e8>"
      ]
     },
     "metadata": {},
     "output_type": "display_data"
    }
   ],
   "source": [
    "# Reconstruction error\n",
    "(pd.Series(output_[0,:,:].flatten())-pd.Series(input_[-1,:,:].flatten())).plot()"
   ]
  },
  {
   "cell_type": "code",
   "execution_count": 5,
   "metadata": {},
   "outputs": [
    {
     "name": "stdout",
     "output_type": "stream",
     "text": [
      "Epoch 1:  0.12222\n",
      "Epoch 2:  0.118857\n",
      "Epoch 3:  0.115543\n",
      "Epoch 4:  0.112282\n",
      "Epoch 5:  0.109077\n",
      "Epoch 6:  0.10593\n",
      "Epoch 7:  0.102845\n",
      "Epoch 8:  0.0998246\n",
      "Epoch 9:  0.0968713\n",
      "Epoch 10:  0.0939876\n",
      "Epoch 11:  0.0911752\n",
      "Epoch 12:  0.0884356\n",
      "Epoch 13:  0.0857696\n",
      "Epoch 14:  0.0831777\n",
      "Epoch 15:  0.0806601\n",
      "Epoch 16:  0.0782171\n",
      "Epoch 17:  0.0758495\n",
      "Epoch 18:  0.073558\n",
      "Epoch 19:  0.0713443\n",
      "Epoch 20:  0.06921\n",
      "Epoch 21:  0.067157\n",
      "Epoch 22:  0.065187\n",
      "Epoch 23:  0.063302\n",
      "Epoch 24:  0.0615036\n",
      "Epoch 25:  0.0597935\n",
      "Epoch 26:  0.058173\n",
      "Epoch 27:  0.0566432\n",
      "Epoch 28:  0.055205\n",
      "Epoch 29:  0.0538587\n",
      "Epoch 30:  0.0526043\n",
      "Epoch 31:  0.0514414\n",
      "Epoch 32:  0.0503689\n",
      "Epoch 33:  0.0493854\n",
      "Epoch 34:  0.0484887\n",
      "Epoch 35:  0.047676\n",
      "Epoch 36:  0.0469442\n",
      "Epoch 37:  0.0462892\n",
      "Epoch 38:  0.0457069\n",
      "Epoch 39:  0.0451924\n",
      "Epoch 40:  0.0447406\n",
      "Epoch 41:  0.0443462\n",
      "Epoch 42:  0.044004\n",
      "Epoch 43:  0.0437085\n",
      "Epoch 44:  0.0434546\n",
      "Epoch 45:  0.0432375\n",
      "Epoch 46:  0.0430525\n",
      "Epoch 47:  0.0428958\n",
      "Epoch 48:  0.0427635\n",
      "Epoch 49:  0.0426524\n",
      "Epoch 50:  0.0425597\n",
      "Epoch 51:  0.0424828\n",
      "Epoch 52:  0.0424195\n",
      "Epoch 53:  0.0423679\n",
      "Epoch 54:  0.0423261\n",
      "Epoch 55:  0.0422923\n",
      "Epoch 56:  0.0422652\n",
      "Epoch 57:  0.0422432\n",
      "Epoch 58:  0.0422251\n",
      "Epoch 59:  0.04221\n",
      "Epoch 60:  0.0421969\n",
      "Epoch 61:  0.0421853\n",
      "Epoch 62:  0.0421747\n",
      "Epoch 63:  0.0421647\n",
      "Epoch 64:  0.0421554\n",
      "Epoch 65:  0.0421464\n",
      "Epoch 66:  0.0421378\n",
      "Epoch 67:  0.0421296\n",
      "Epoch 68:  0.0421217\n",
      "Epoch 69:  0.042114\n",
      "Epoch 70:  0.0421066\n",
      "Epoch 71:  0.0420993\n",
      "Epoch 72:  0.0420921\n",
      "Epoch 73:  0.042085\n",
      "Epoch 74:  0.0420779\n",
      "Epoch 75:  0.0420707\n",
      "Epoch 76:  0.0420635\n",
      "Epoch 77:  0.0420562\n",
      "Epoch 78:  0.0420487\n",
      "Epoch 79:  0.042041\n",
      "Epoch 80:  0.0420332\n",
      "Epoch 81:  0.0420252\n",
      "Epoch 82:  0.042017\n",
      "Epoch 83:  0.0420086\n",
      "Epoch 84:  0.0420001\n",
      "Epoch 85:  0.0419913\n",
      "Epoch 86:  0.0419824\n",
      "Epoch 87:  0.0419734\n",
      "Epoch 88:  0.0419643\n",
      "Epoch 89:  0.041955\n",
      "Epoch 90:  0.0419457\n",
      "Epoch 91:  0.0419362\n",
      "Epoch 92:  0.0419266\n",
      "Epoch 93:  0.041917\n",
      "Epoch 94:  0.0419073\n",
      "Epoch 95:  0.0418975\n",
      "Epoch 96:  0.0418877\n",
      "Epoch 97:  0.0418778\n",
      "Epoch 98:  0.0418678\n",
      "Epoch 99:  0.0418577\n",
      "Epoch 100:  0.0418475\n"
     ]
    }
   ],
   "source": [
    "# TimeNet\n",
    "timenet = TimeNet(latent_dim, p_inputs)\n",
    "with tf.Session() as sess2:\n",
    "    sess2.run(tf.global_variables_initializer())\n",
    "    for i in range(n_epoch):\n",
    "        for a in array:\n",
    "            loss_val, _ = sess2.run([timenet.loss,timenet.train],{p_input:a})\n",
    "        print(\"Epoch %d: \" % (i+1),loss_val)\n",
    "    #example\n",
    "    input_, output_, encoded_, enc_state = sess2.run([timenet.input, timenet.output, \n",
    "                                                    timenet.enc_outputs, timenet.enc_state], {p_input:array[-1]})\n",
    "   "
   ]
  },
  {
   "cell_type": "code",
   "execution_count": null,
   "metadata": {
    "collapsed": true
   },
   "outputs": [],
   "source": []
  }
 ],
 "metadata": {
  "kernelspec": {
   "display_name": "Python 3",
   "language": "python",
   "name": "python3"
  },
  "language_info": {
   "codemirror_mode": {
    "name": "ipython",
    "version": 3
   },
   "file_extension": ".py",
   "mimetype": "text/x-python",
   "name": "python",
   "nbconvert_exporter": "python",
   "pygments_lexer": "ipython3",
   "version": "3.6.3"
  }
 },
 "nbformat": 4,
 "nbformat_minor": 2
}
