{
 "cells": [
  {
   "cell_type": "code",
   "execution_count": 5,
   "metadata": {},
   "outputs": [],
   "source": [
    "%matplotlib inline\n",
    "from keras.layers import Input, LSTM, RepeatVector\n",
    "from keras.models import Model,Sequential\n",
    "import pandas as pd\n",
    "import numpy as np"
   ]
  },
  {
   "cell_type": "code",
   "execution_count": 2,
   "metadata": {
    "collapsed": true
   },
   "outputs": [],
   "source": [
    "filepath = \"C:/Users/Bin/Documents/dataset1010/dataset/dataset1010\"\n",
    "data = pd.read_csv(filepath,header=None)\n",
    "data=data.drop(0,axis=1)\n",
    "data=data.drop(10,axis=1)"
   ]
  },
  {
   "cell_type": "code",
   "execution_count": 6,
   "metadata": {},
   "outputs": [
    {
     "data": {
      "text/plain": [
       "<matplotlib.axes._subplots.AxesSubplot at 0x203178e2208>"
      ]
     },
     "execution_count": 6,
     "metadata": {},
     "output_type": "execute_result"
    },
    {
     "data": {
      "image/png": "[encoded data removed]",
      "text/plain": [
       "<matplotlib.figure.Figure at 0x20317596da0>"
      ]
     },
     "metadata": {},
     "output_type": "display_data"
    }
   ],
   "source": [
    "data.iloc[:,6:].plot()"
   ]
  },
  {
   "cell_type": "code",
   "execution_count": 7,
   "metadata": {
    "collapsed": true
   },
   "outputs": [],
   "source": [
    "timesteps = 30\n",
    "input_dim = data.shape[1]\n",
    "latent_dim = 3\n",
    "n_epoch = 30\n",
    "n_batch = 10"
   ]
  },
  {
   "cell_type": "code",
   "execution_count": 8,
   "metadata": {},
   "outputs": [
    {
     "name": "stdout",
     "output_type": "stream",
     "text": [
      "Epoch 1/100\n",
      "500/500 [==============================] - 1s 3ms/step - loss: 66.9985\n",
      "Epoch 2/100\n",
      "500/500 [==============================] - 0s 438us/step - loss: 66.7954\n",
      "Epoch 3/100\n",
      "500/500 [==============================] - 0s 469us/step - loss: 66.4386\n",
      "Epoch 4/100\n",
      "500/500 [==============================] - 0s 563us/step - loss: 65.8974\n",
      "Epoch 5/100\n",
      "500/500 [==============================] - 0s 563us/step - loss: 65.3522\n",
      "Epoch 6/100\n",
      "500/500 [==============================] - 0s 406us/step - loss: 64.7678\n",
      "Epoch 7/100\n",
      "500/500 [==============================] - 0s 438us/step - loss: 64.1156\n",
      "Epoch 8/100\n",
      "500/500 [==============================] - 0s 438us/step - loss: 63.3912\n",
      "Epoch 9/100\n",
      "500/500 [==============================] - 0s 406us/step - loss: 62.7418\n",
      "Epoch 10/100\n",
      "500/500 [==============================] - 0s 412us/step - loss: 62.1543\n",
      "Epoch 11/100\n",
      "500/500 [==============================] - 0s 406us/step - loss: 61.8160\n",
      "Epoch 12/100\n",
      "500/500 [==============================] - 0s 625us/step - loss: 61.6128\n",
      "Epoch 13/100\n",
      "500/500 [==============================] - 0s 500us/step - loss: 61.4395\n",
      "Epoch 14/100\n",
      "500/500 [==============================] - 0s 406us/step - loss: 61.3218\n",
      "Epoch 15/100\n",
      "500/500 [==============================] - 0s 438us/step - loss: 61.2207\n",
      "Epoch 16/100\n",
      "500/500 [==============================] - 0s 406us/step - loss: 61.1258\n",
      "Epoch 17/100\n",
      "500/500 [==============================] - 0s 500us/step - loss: 61.0335\n",
      "Epoch 18/100\n",
      "500/500 [==============================] - 0s 438us/step - loss: 60.9421\n",
      "Epoch 19/100\n",
      "500/500 [==============================] - 0s 438us/step - loss: 60.8661\n",
      "Epoch 20/100\n",
      "500/500 [==============================] - 0s 500us/step - loss: 60.8264\n",
      "Epoch 21/100\n",
      "500/500 [==============================] - 0s 531us/step - loss: 60.7969\n",
      "Epoch 22/100\n",
      "500/500 [==============================] - 0s 656us/step - loss: 60.7701\n",
      "Epoch 23/100\n",
      "500/500 [==============================] - 0s 531us/step - loss: 60.7453\n",
      "Epoch 24/100\n",
      "500/500 [==============================] - 0s 594us/step - loss: 60.7221\n",
      "Epoch 25/100\n",
      "500/500 [==============================] - 0s 531us/step - loss: 60.7009\n",
      "Epoch 26/100\n",
      "500/500 [==============================] - 0s 563us/step - loss: 60.6828\n",
      "Epoch 27/100\n",
      "500/500 [==============================] - 0s 531us/step - loss: 60.6657\n",
      "Epoch 28/100\n",
      "500/500 [==============================] - 0s 469us/step - loss: 60.6491\n",
      "Epoch 29/100\n",
      "500/500 [==============================] - 0s 406us/step - loss: 60.6339\n",
      "Epoch 30/100\n",
      "500/500 [==============================] - 0s 500us/step - loss: 60.6192\n",
      "Epoch 31/100\n",
      "500/500 [==============================] - 0s 500us/step - loss: 60.6049\n",
      "Epoch 32/100\n",
      "500/500 [==============================] - 0s 531us/step - loss: 60.5915\n",
      "Epoch 33/100\n",
      "500/500 [==============================] - 0s 500us/step - loss: 60.5789\n",
      "Epoch 34/100\n",
      "500/500 [==============================] - 0s 531us/step - loss: 60.5669\n",
      "Epoch 35/100\n",
      "500/500 [==============================] - 0s 469us/step - loss: 60.5551\n",
      "Epoch 36/100\n",
      "500/500 [==============================] - 0s 563us/step - loss: 60.5439\n",
      "Epoch 37/100\n",
      "500/500 [==============================] - 0s 563us/step - loss: 60.5332\n",
      "Epoch 38/100\n",
      "500/500 [==============================] - 0s 531us/step - loss: 60.5229\n",
      "Epoch 39/100\n",
      "500/500 [==============================] - 0s 406us/step - loss: 60.5138\n",
      "Epoch 40/100\n",
      "500/500 [==============================] - 0s 438us/step - loss: 60.5061\n",
      "Epoch 41/100\n",
      "500/500 [==============================] - 0s 438us/step - loss: 60.4991\n",
      "Epoch 42/100\n",
      "500/500 [==============================] - 0s 438us/step - loss: 60.4926\n",
      "Epoch 43/100\n",
      "500/500 [==============================] - 0s 438us/step - loss: 60.4861\n",
      "Epoch 44/100\n",
      "500/500 [==============================] - 0s 406us/step - loss: 60.4794\n",
      "Epoch 45/100\n",
      "500/500 [==============================] - 0s 438us/step - loss: 60.4735\n",
      "Epoch 46/100\n",
      "500/500 [==============================] - 0s 438us/step - loss: 60.4668\n",
      "Epoch 47/100\n",
      "500/500 [==============================] - 0s 438us/step - loss: 60.4609\n",
      "Epoch 48/100\n",
      "500/500 [==============================] - 0s 406us/step - loss: 60.4551\n",
      "Epoch 49/100\n",
      "500/500 [==============================] - 0s 438us/step - loss: 60.4494\n",
      "Epoch 50/100\n",
      "500/500 [==============================] - 0s 406us/step - loss: 60.4435\n",
      "Epoch 51/100\n",
      "500/500 [==============================] - 0s 406us/step - loss: 60.4381\n",
      "Epoch 52/100\n",
      "500/500 [==============================] - 0s 438us/step - loss: 60.4327\n",
      "Epoch 53/100\n",
      "500/500 [==============================] - 0s 469us/step - loss: 60.4269\n",
      "Epoch 54/100\n",
      "500/500 [==============================] - 0s 406us/step - loss: 60.4214\n",
      "Epoch 55/100\n",
      "500/500 [==============================] - 0s 406us/step - loss: 60.4161\n",
      "Epoch 56/100\n",
      "500/500 [==============================] - 0s 438us/step - loss: 60.4109\n",
      "Epoch 57/100\n",
      "500/500 [==============================] - 0s 406us/step - loss: 60.4058\n",
      "Epoch 58/100\n",
      "500/500 [==============================] - 0s 406us/step - loss: 60.4007\n",
      "Epoch 59/100\n",
      "500/500 [==============================] - 0s 406us/step - loss: 60.3956\n",
      "Epoch 60/100\n",
      "500/500 [==============================] - 0s 438us/step - loss: 60.3907\n",
      "Epoch 61/100\n",
      "500/500 [==============================] - 0s 438us/step - loss: 60.3855\n",
      "Epoch 62/100\n",
      "500/500 [==============================] - 0s 438us/step - loss: 60.3802\n",
      "Epoch 63/100\n",
      "500/500 [==============================] - 0s 406us/step - loss: 60.3753\n",
      "Epoch 64/100\n",
      "500/500 [==============================] - 0s 406us/step - loss: 60.3703\n",
      "Epoch 65/100\n",
      "500/500 [==============================] - 0s 406us/step - loss: 60.3654\n",
      "Epoch 66/100\n",
      "500/500 [==============================] - 0s 438us/step - loss: 60.3603\n",
      "Epoch 67/100\n",
      "500/500 [==============================] - 0s 438us/step - loss: 60.3553\n",
      "Epoch 68/100\n",
      "500/500 [==============================] - 0s 625us/step - loss: 60.3505\n",
      "Epoch 69/100\n",
      "500/500 [==============================] - 0s 594us/step - loss: 60.3457\n",
      "Epoch 70/100\n",
      "500/500 [==============================] - 0s 531us/step - loss: 60.3408\n",
      "Epoch 71/100\n",
      "500/500 [==============================] - 0s 469us/step - loss: 60.3361\n",
      "Epoch 72/100\n",
      "500/500 [==============================] - 0s 594us/step - loss: 60.3315\n",
      "Epoch 73/100\n",
      "500/500 [==============================] - 0s 500us/step - loss: 60.3273\n",
      "Epoch 74/100\n",
      "500/500 [==============================] - 0s 469us/step - loss: 60.3232\n",
      "Epoch 75/100\n",
      "500/500 [==============================] - 0s 594us/step - loss: 60.3197\n",
      "Epoch 76/100\n",
      "500/500 [==============================] - 0s 625us/step - loss: 60.3165\n",
      "Epoch 77/100\n",
      "500/500 [==============================] - 0s 469us/step - loss: 60.3132\n",
      "Epoch 78/100\n",
      "500/500 [==============================] - 0s 438us/step - loss: 60.3101\n",
      "Epoch 79/100\n",
      "500/500 [==============================] - 0s 469us/step - loss: 60.3067\n",
      "Epoch 80/100\n",
      "500/500 [==============================] - 0s 594us/step - loss: 60.3036\n",
      "Epoch 81/100\n",
      "500/500 [==============================] - 0s 469us/step - loss: 60.3008\n",
      "Epoch 82/100\n",
      "500/500 [==============================] - 0s 438us/step - loss: 60.2978\n",
      "Epoch 83/100\n",
      "500/500 [==============================] - 0s 500us/step - loss: 60.2960\n",
      "Epoch 84/100\n",
      "500/500 [==============================] - 0s 469us/step - loss: 60.2940\n",
      "Epoch 85/100\n",
      "500/500 [==============================] - 0s 469us/step - loss: 60.2924\n",
      "Epoch 86/100\n",
      "500/500 [==============================] - 0s 500us/step - loss: 60.2907\n",
      "Epoch 87/100\n",
      "500/500 [==============================] - 0s 438us/step - loss: 60.2891\n",
      "Epoch 88/100\n",
      "500/500 [==============================] - 0s 438us/step - loss: 60.2875\n",
      "Epoch 89/100\n",
      "500/500 [==============================] - 0s 406us/step - loss: 60.2859\n",
      "Epoch 90/100\n",
      "500/500 [==============================] - 0s 438us/step - loss: 60.2842\n",
      "Epoch 91/100\n",
      "500/500 [==============================] - 0s 438us/step - loss: 60.2827\n",
      "Epoch 92/100\n",
      "500/500 [==============================] - 0s 406us/step - loss: 60.2812\n",
      "Epoch 93/100\n",
      "500/500 [==============================] - 0s 406us/step - loss: 60.2798\n",
      "Epoch 94/100\n",
      "500/500 [==============================] - 0s 406us/step - loss: 60.2783\n",
      "Epoch 95/100\n",
      "500/500 [==============================] - 0s 406us/step - loss: 60.2765\n",
      "Epoch 96/100\n"
     ]
    },
    {
     "name": "stdout",
     "output_type": "stream",
     "text": [
      "500/500 [==============================] - 0s 406us/step - loss: 60.2748\n",
      "Epoch 97/100\n",
      "500/500 [==============================] - 0s 406us/step - loss: 60.2732\n",
      "Epoch 98/100\n",
      "500/500 [==============================] - 0s 406us/step - loss: 60.2713\n",
      "Epoch 99/100\n",
      "500/500 [==============================] - 0s 375us/step - loss: 60.2697\n",
      "Epoch 100/100\n",
      "500/500 [==============================] - 0s 406us/step - loss: 60.2676\n"
     ]
    },
    {
     "data": {
      "text/plain": [
       "<keras.callbacks.History at 0x20317691b00>"
      ]
     },
     "execution_count": 8,
     "metadata": {},
     "output_type": "execute_result"
    }
   ],
   "source": [
    "inputs = Input(shape=(timesteps, input_dim))\n",
    "encoded = LSTM(latent_dim)(inputs)\n",
    "\n",
    "decoded = RepeatVector(timesteps)(encoded)\n",
    "decoded = LSTM(input_dim, return_sequences=True)(decoded)\n",
    "\n",
    "sequence_autoencoder = Model(inputs, decoded)\n",
    "encoder = Model(inputs, encoded)\n",
    "sequence_autoencoder.compile(optimizer='adadelta', loss='mean_squared_error')\n",
    "\n",
    "x_train = data.iloc[:15000,:]\n",
    "X = pd.DataFrame.as_matrix(x_train)\n",
    "X = np.reshape(X,(500,30,input_dim)) #reshape(samples,timesteps,dim)\n",
    "sequence_autoencoder.fit(X,X,\n",
    "                epochs=100,\n",
    "                batch_size=50,\n",
    "                shuffle=True)"
   ]
  },
  {
   "cell_type": "code",
   "execution_count": 10,
   "metadata": {},
   "outputs": [
    {
     "data": {
      "text/plain": [
       "<matplotlib.axes._subplots.AxesSubplot at 0x2031ad76f28>"
      ]
     },
     "execution_count": 10,
     "metadata": {},
     "output_type": "execute_result"
    },
    {
     "data": {
      "image/png": "[encoded data removed]",
      "text/plain": [
       "<matplotlib.figure.Figure at 0x2031ad1e390>"
      ]
     },
     "metadata": {},
     "output_type": "display_data"
    }
   ],
   "source": [
    "test = pd.DataFrame.as_matrix(data.iloc[14000:20000,:])\n",
    "test = np.reshape(test,(200,30,input_dim))\n",
    "foo = encoder.predict(test)\n",
    "bar = sequence_autoencoder.predict(test)\n",
    "bar_r = np.reshape(bar,(6000,input_dim))\n",
    "y = pd.DataFrame(bar_r)\n",
    "y.iloc[:,6:].plot()"
   ]
  },
  {
   "cell_type": "code",
   "execution_count": 11,
   "metadata": {},
   "outputs": [
    {
     "data": {
      "text/plain": [
       "<matplotlib.axes._subplots.AxesSubplot at 0x2031b2b1128>"
      ]
     },
     "execution_count": 11,
     "metadata": {},
     "output_type": "execute_result"
    },
    {
     "data": {
      "image/png": "[encoded data removed]",
      "text/plain": [
       "<matplotlib.figure.Figure at 0x2031b4c2630>"
      ]
     },
     "metadata": {},
     "output_type": "display_data"
    }
   ],
   "source": [
    "data.iloc[14000:20000,6:].plot()\n"
   ]
  },
  {
   "cell_type": "code",
   "execution_count": null,
   "metadata": {
    "collapsed": true
   },
   "outputs": [],
   "source": []
  }
 ],
 "metadata": {
  "kernelspec": {
   "display_name": "Python 3",
   "language": "python",
   "name": "python3"
  },
  "language_info": {
   "codemirror_mode": {
    "name": "ipython",
    "version": 3
   },
   "file_extension": ".py",
   "mimetype": "text/x-python",
   "name": "python",
   "nbconvert_exporter": "python",
   "pygments_lexer": "ipython3",
   "version": "3.6.3"
  }
 },
 "nbformat": 4,
 "nbformat_minor": 2
}
