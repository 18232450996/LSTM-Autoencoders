{
 "cells": [
  {
   "cell_type": "code",
   "execution_count": 1,
   "metadata": {},
   "outputs": [
    {
     "name": "stderr",
     "output_type": "stream",
     "text": [
      "Using TensorFlow backend.\n"
     ]
    }
   ],
   "source": [
    "%matplotlib inline\n",
    "from keras.layers import Input, LSTM, RepeatVector\n",
    "from keras.models import Model,Sequential\n",
    "import pandas as pd\n",
    "import numpy as np\n",
    "from sklearn.preprocessing import MinMaxScaler"
   ]
  },
  {
   "cell_type": "code",
   "execution_count": 2,
   "metadata": {
    "collapsed": true
   },
   "outputs": [],
   "source": [
    "filepath = \"C:/Users/Bin/Documents/dataset1010/dataset/dataset1010\"\n",
    "data = pd.read_csv(filepath,header=None,usecols=range(1,10,1))\n",
    "dataset = data.values  # convert dataframe to np.ndarray\n",
    "\n",
    "#Scaling\n",
    "scaler = MinMaxScaler()\n",
    "scaler.fit(dataset)\n",
    "s_dataset = scaler.transform(dataset)"
   ]
  },
  {
   "cell_type": "code",
   "execution_count": 6,
   "metadata": {},
   "outputs": [
    {
     "name": "stdout",
     "output_type": "stream",
     "text": [
      "13424 6612\n"
     ]
    }
   ],
   "source": [
    "# split into train and test sets\n",
    "train_size = int(len(s_dataset) * 0.67)\n",
    "test_size = len(s_dataset) - train_size\n",
    "train, test = s_dataset[0:train_size,:], s_dataset[train_size:len(s_dataset),:]\n",
    "print(len(train), len(test))"
   ]
  },
  {
   "cell_type": "code",
   "execution_count": 7,
   "metadata": {
    "collapsed": true
   },
   "outputs": [],
   "source": [
    "# convert an array of values into a dataset matrix\n",
    "def create_dataset(dataset, timestep=1):\n",
    "    dataX = []\n",
    "    for i in range(len(dataset)-timestep+1):\n",
    "        a = dataset[i:(i+timestep), :]\n",
    "        dataX.append(a)\n",
    "    return np.array(dataX)# convert an array of values into a dataset matrix\n",
    "trainX, testX = create_dataset(train,10),create_dataset(test,10)"
   ]
  },
  {
   "cell_type": "code",
   "execution_count": 8,
   "metadata": {},
   "outputs": [
    {
     "data": {
      "text/plain": [
       "(13415, 10, 9)"
      ]
     },
     "execution_count": 8,
     "metadata": {},
     "output_type": "execute_result"
    }
   ],
   "source": [
    "trainX.shape"
   ]
  },
  {
   "cell_type": "code",
   "execution_count": 9,
   "metadata": {
    "collapsed": true
   },
   "outputs": [],
   "source": [
    "timesteps = 30\n",
    "input_dim = data.shape[1]\n",
    "latent_dim = 3\n",
    "n_epoch = 30\n",
    "n_batch = 10"
   ]
  },
  {
   "cell_type": "code",
   "execution_count": 13,
   "metadata": {},
   "outputs": [
    {
     "name": "stdout",
     "output_type": "stream",
     "text": [
      "Train on 500 samples, validate on 100 samples\n",
      "Epoch 1/100\n",
      "500/500 [==============================] - 2s 4ms/step - loss: 0.1855 - val_loss: 0.1798\n",
      "Epoch 2/100\n",
      "500/500 [==============================] - 0s 313us/step - loss: 0.1786 - val_loss: 0.1731\n",
      "Epoch 3/100\n",
      "500/500 [==============================] - 0s 344us/step - loss: 0.1720 - val_loss: 0.1666\n",
      "Epoch 4/100\n",
      "500/500 [==============================] - 0s 313us/step - loss: 0.1655 - val_loss: 0.1602\n",
      "Epoch 5/100\n",
      "500/500 [==============================] - 0s 281us/step - loss: 0.1592 - val_loss: 0.1539\n",
      "Epoch 6/100\n",
      "500/500 [==============================] - 0s 313us/step - loss: 0.1528 - val_loss: 0.1474\n",
      "Epoch 7/100\n",
      "500/500 [==============================] - 0s 313us/step - loss: 0.1462 - val_loss: 0.1407\n",
      "Epoch 8/100\n",
      "500/500 [==============================] - 0s 281us/step - loss: 0.1394 - val_loss: 0.1336\n",
      "Epoch 9/100\n",
      "500/500 [==============================] - 0s 313us/step - loss: 0.1321 - val_loss: 0.1260\n",
      "Epoch 10/100\n",
      "500/500 [==============================] - 0s 313us/step - loss: 0.1242 - val_loss: 0.1176\n",
      "Epoch 11/100\n",
      "500/500 [==============================] - 0s 344us/step - loss: 0.1154 - val_loss: 0.1082\n",
      "Epoch 12/100\n",
      "500/500 [==============================] - 0s 406us/step - loss: 0.1056 - val_loss: 0.0977\n",
      "Epoch 13/100\n",
      "500/500 [==============================] - 0s 344us/step - loss: 0.0945 - val_loss: 0.0857\n",
      "Epoch 14/100\n",
      "500/500 [==============================] - 0s 313us/step - loss: 0.0820 - val_loss: 0.0725\n",
      "Epoch 15/100\n",
      "500/500 [==============================] - 0s 281us/step - loss: 0.0686 - val_loss: 0.0592\n",
      "Epoch 16/100\n",
      "500/500 [==============================] - 0s 375us/step - loss: 0.0558 - val_loss: 0.0477\n",
      "Epoch 17/100\n",
      "500/500 [==============================] - 0s 438us/step - loss: 0.0454 - val_loss: 0.0392\n",
      "Epoch 18/100\n",
      "500/500 [==============================] - 0s 406us/step - loss: 0.0380 - val_loss: 0.0334\n",
      "Epoch 19/100\n",
      "500/500 [==============================] - 0s 375us/step - loss: 0.0330 - val_loss: 0.0294\n",
      "Epoch 20/100\n",
      "500/500 [==============================] - 0s 344us/step - loss: 0.0294 - val_loss: 0.0264\n",
      "Epoch 21/100\n",
      "500/500 [==============================] - 0s 281us/step - loss: 0.0267 - val_loss: 0.0242\n",
      "Epoch 22/100\n",
      "500/500 [==============================] - 0s 281us/step - loss: 0.0246 - val_loss: 0.0224\n",
      "Epoch 23/100\n",
      "500/500 [==============================] - 0s 469us/step - loss: 0.0230 - val_loss: 0.0211\n",
      "Epoch 24/100\n",
      "500/500 [==============================] - 0s 469us/step - loss: 0.0218 - val_loss: 0.0200\n",
      "Epoch 25/100\n",
      "500/500 [==============================] - 0s 406us/step - loss: 0.0208 - val_loss: 0.0191\n",
      "Epoch 26/100\n",
      "500/500 [==============================] - 0s 281us/step - loss: 0.0199 - val_loss: 0.0183\n",
      "Epoch 27/100\n",
      "500/500 [==============================] - 0s 281us/step - loss: 0.0192 - val_loss: 0.0177\n",
      "Epoch 28/100\n",
      "500/500 [==============================] - 0s 281us/step - loss: 0.0186 - val_loss: 0.0171\n",
      "Epoch 29/100\n",
      "500/500 [==============================] - 0s 344us/step - loss: 0.0181 - val_loss: 0.0167\n",
      "Epoch 30/100\n",
      "500/500 [==============================] - 0s 313us/step - loss: 0.0176 - val_loss: 0.0162\n",
      "Epoch 31/100\n",
      "500/500 [==============================] - 0s 281us/step - loss: 0.0172 - val_loss: 0.0158\n",
      "Epoch 32/100\n",
      "500/500 [==============================] - 0s 313us/step - loss: 0.0169 - val_loss: 0.0155\n",
      "Epoch 33/100\n",
      "500/500 [==============================] - 0s 313us/step - loss: 0.0165 - val_loss: 0.0152\n",
      "Epoch 34/100\n",
      "500/500 [==============================] - 0s 313us/step - loss: 0.0162 - val_loss: 0.0149\n",
      "Epoch 35/100\n",
      "500/500 [==============================] - 0s 281us/step - loss: 0.0159 - val_loss: 0.0146\n",
      "Epoch 36/100\n",
      "500/500 [==============================] - 0s 281us/step - loss: 0.0156 - val_loss: 0.0143\n",
      "Epoch 37/100\n",
      "500/500 [==============================] - 0s 281us/step - loss: 0.0154 - val_loss: 0.0141\n",
      "Epoch 38/100\n",
      "500/500 [==============================] - 0s 313us/step - loss: 0.0151 - val_loss: 0.0138\n",
      "Epoch 39/100\n",
      "500/500 [==============================] - 0s 281us/step - loss: 0.0149 - val_loss: 0.0136\n",
      "Epoch 40/100\n",
      "500/500 [==============================] - 0s 281us/step - loss: 0.0146 - val_loss: 0.0134\n",
      "Epoch 41/100\n",
      "500/500 [==============================] - 0s 313us/step - loss: 0.0144 - val_loss: 0.0132\n",
      "Epoch 42/100\n",
      "500/500 [==============================] - 0s 281us/step - loss: 0.0142 - val_loss: 0.0129\n",
      "Epoch 43/100\n",
      "500/500 [==============================] - 0s 281us/step - loss: 0.0140 - val_loss: 0.0127\n",
      "Epoch 44/100\n",
      "500/500 [==============================] - 0s 313us/step - loss: 0.0138 - val_loss: 0.0125\n",
      "Epoch 45/100\n",
      "500/500 [==============================] - 0s 313us/step - loss: 0.0136 - val_loss: 0.0123\n",
      "Epoch 46/100\n",
      "500/500 [==============================] - 0s 281us/step - loss: 0.0134 - val_loss: 0.0122\n",
      "Epoch 47/100\n",
      "500/500 [==============================] - 0s 281us/step - loss: 0.0132 - val_loss: 0.0120\n",
      "Epoch 48/100\n",
      "500/500 [==============================] - 0s 281us/step - loss: 0.0130 - val_loss: 0.0118\n",
      "Epoch 49/100\n",
      "500/500 [==============================] - 0s 281us/step - loss: 0.0128 - val_loss: 0.0116\n",
      "Epoch 50/100\n",
      "500/500 [==============================] - 0s 281us/step - loss: 0.0126 - val_loss: 0.0114\n",
      "Epoch 51/100\n",
      "500/500 [==============================] - 0s 281us/step - loss: 0.0124 - val_loss: 0.0112\n",
      "Epoch 52/100\n",
      "500/500 [==============================] - 0s 313us/step - loss: 0.0123 - val_loss: 0.0111\n",
      "Epoch 53/100\n",
      "500/500 [==============================] - 0s 313us/step - loss: 0.0121 - val_loss: 0.0109\n",
      "Epoch 54/100\n",
      "500/500 [==============================] - 0s 281us/step - loss: 0.0119 - val_loss: 0.0107\n",
      "Epoch 55/100\n",
      "500/500 [==============================] - 0s 281us/step - loss: 0.0118 - val_loss: 0.0106\n",
      "Epoch 56/100\n",
      "500/500 [==============================] - 0s 281us/step - loss: 0.0116 - val_loss: 0.0104\n",
      "Epoch 57/100\n",
      "500/500 [==============================] - 0s 281us/step - loss: 0.0114 - val_loss: 0.0103\n",
      "Epoch 58/100\n",
      "500/500 [==============================] - 0s 281us/step - loss: 0.0113 - val_loss: 0.0101\n",
      "Epoch 59/100\n",
      "500/500 [==============================] - 0s 281us/step - loss: 0.0111 - val_loss: 0.0100\n",
      "Epoch 60/100\n",
      "500/500 [==============================] - 0s 281us/step - loss: 0.0110 - val_loss: 0.0098\n",
      "Epoch 61/100\n",
      "500/500 [==============================] - 0s 281us/step - loss: 0.0108 - val_loss: 0.0097\n",
      "Epoch 62/100\n",
      "500/500 [==============================] - 0s 281us/step - loss: 0.0107 - val_loss: 0.0095\n",
      "Epoch 63/100\n",
      "500/500 [==============================] - 0s 281us/step - loss: 0.0105 - val_loss: 0.0094\n",
      "Epoch 64/100\n",
      "500/500 [==============================] - 0s 344us/step - loss: 0.0104 - val_loss: 0.0092\n",
      "Epoch 65/100\n",
      "500/500 [==============================] - 0s 344us/step - loss: 0.0102 - val_loss: 0.0091\n",
      "Epoch 66/100\n",
      "500/500 [==============================] - 0s 313us/step - loss: 0.0101 - val_loss: 0.0090\n",
      "Epoch 67/100\n",
      "500/500 [==============================] - 0s 281us/step - loss: 0.0100 - val_loss: 0.0088\n",
      "Epoch 68/100\n",
      "500/500 [==============================] - 0s 281us/step - loss: 0.0098 - val_loss: 0.0087\n",
      "Epoch 69/100\n",
      "500/500 [==============================] - 0s 281us/step - loss: 0.0097 - val_loss: 0.0086\n",
      "Epoch 70/100\n",
      "500/500 [==============================] - 0s 344us/step - loss: 0.0096 - val_loss: 0.0085\n",
      "Epoch 71/100\n",
      "500/500 [==============================] - 0s 375us/step - loss: 0.0095 - val_loss: 0.0083\n",
      "Epoch 72/100\n",
      "500/500 [==============================] - 0s 406us/step - loss: 0.0093 - val_loss: 0.0082\n",
      "Epoch 73/100\n",
      "500/500 [==============================] - 0s 375us/step - loss: 0.0092 - val_loss: 0.0081\n",
      "Epoch 74/100\n",
      "500/500 [==============================] - 0s 344us/step - loss: 0.0091 - val_loss: 0.0080\n",
      "Epoch 75/100\n",
      "500/500 [==============================] - 0s 281us/step - loss: 0.0090 - val_loss: 0.0079\n",
      "Epoch 76/100\n",
      "500/500 [==============================] - 0s 281us/step - loss: 0.0089 - val_loss: 0.0078\n",
      "Epoch 77/100\n",
      "500/500 [==============================] - 0s 281us/step - loss: 0.0088 - val_loss: 0.0077\n",
      "Epoch 78/100\n",
      "500/500 [==============================] - 0s 344us/step - loss: 0.0087 - val_loss: 0.0075\n",
      "Epoch 79/100\n"
     ]
    },
    {
     "name": "stdout",
     "output_type": "stream",
     "text": [
      "500/500 [==============================] - ETA: 0s - loss: 0.008 - 0s 375us/step - loss: 0.0085 - val_loss: 0.0074\n",
      "Epoch 80/100\n",
      "500/500 [==============================] - 0s 313us/step - loss: 0.0084 - val_loss: 0.0073\n",
      "Epoch 81/100\n",
      "500/500 [==============================] - 0s 313us/step - loss: 0.0083 - val_loss: 0.0072\n",
      "Epoch 82/100\n",
      "500/500 [==============================] - 0s 313us/step - loss: 0.0082 - val_loss: 0.0071\n",
      "Epoch 83/100\n",
      "500/500 [==============================] - 0s 250us/step - loss: 0.0081 - val_loss: 0.0070\n",
      "Epoch 84/100\n",
      "500/500 [==============================] - 0s 250us/step - loss: 0.0080 - val_loss: 0.0069\n",
      "Epoch 85/100\n",
      "500/500 [==============================] - 0s 250us/step - loss: 0.0079 - val_loss: 0.0069\n",
      "Epoch 86/100\n",
      "500/500 [==============================] - 0s 250us/step - loss: 0.0078 - val_loss: 0.0068\n",
      "Epoch 87/100\n",
      "500/500 [==============================] - 0s 250us/step - loss: 0.0078 - val_loss: 0.0067\n",
      "Epoch 88/100\n",
      "500/500 [==============================] - 0s 250us/step - loss: 0.0077 - val_loss: 0.0066\n",
      "Epoch 89/100\n",
      "500/500 [==============================] - 0s 250us/step - loss: 0.0076 - val_loss: 0.0065\n",
      "Epoch 90/100\n",
      "500/500 [==============================] - 0s 344us/step - loss: 0.0075 - val_loss: 0.0064\n",
      "Epoch 91/100\n",
      "500/500 [==============================] - 0s 375us/step - loss: 0.0074 - val_loss: 0.0063\n",
      "Epoch 92/100\n",
      "500/500 [==============================] - 0s 344us/step - loss: 0.0073 - val_loss: 0.0062\n",
      "Epoch 93/100\n",
      "500/500 [==============================] - 0s 375us/step - loss: 0.0072 - val_loss: 0.0062\n",
      "Epoch 94/100\n",
      "500/500 [==============================] - 0s 344us/step - loss: 0.0071 - val_loss: 0.0061\n",
      "Epoch 95/100\n",
      "500/500 [==============================] - 0s 313us/step - loss: 0.0071 - val_loss: 0.0060\n",
      "Epoch 96/100\n",
      "500/500 [==============================] - 0s 281us/step - loss: 0.0070 - val_loss: 0.0059\n",
      "Epoch 97/100\n",
      "500/500 [==============================] - 0s 250us/step - loss: 0.0069 - val_loss: 0.0058\n",
      "Epoch 98/100\n",
      "500/500 [==============================] - 0s 281us/step - loss: 0.0068 - val_loss: 0.0058\n",
      "Epoch 99/100\n",
      "500/500 [==============================] - 0s 281us/step - loss: 0.0068 - val_loss: 0.0057\n",
      "Epoch 100/100\n",
      "500/500 [==============================] - 0s 281us/step - loss: 0.0067 - val_loss: 0.0056\n"
     ]
    }
   ],
   "source": [
    "inputs = Input(shape=(timesteps, input_dim))\n",
    "encoded = LSTM(latent_dim)(inputs)\n",
    "\n",
    "decoded = RepeatVector(timesteps)(encoded)\n",
    "decoded = LSTM(input_dim, return_sequences=True)(decoded)\n",
    "\n",
    "sequence_autoencoder = Model(inputs, decoded)\n",
    "encoder = Model(inputs, encoded)\n",
    "sequence_autoencoder.compile(optimizer='adadelta', loss='mean_squared_error')\n",
    "\n",
    "x_train = data.iloc[:15000,:]\n",
    "X = pd.DataFrame.as_matrix(x_train)\n",
    "X = s_dataset[:15000]\n",
    "T = s_dataset[15000:18000]\n",
    "X = np.reshape(X,(500,30,input_dim)) #reshape(samples,timesteps,dim)\n",
    "T = np.reshape(T,(100,30,input_dim))\n",
    "history = sequence_autoencoder.fit(X,X,\n",
    "                epochs=100,\n",
    "                batch_size=100,\n",
    "                validation_data=(T,T))"
   ]
  },
  {
   "cell_type": "code",
   "execution_count": 15,
   "metadata": {},
   "outputs": [
    {
     "data": {
      "image/png": "[encoded data removed]",
      "text/plain": [
       "<matplotlib.figure.Figure at 0x24ac72ea0b8>"
      ]
     },
     "metadata": {},
     "output_type": "display_data"
    }
   ],
   "source": [
    "import matplotlib.pyplot as plt\n",
    "plt.plot(history.history[\"loss\"])\n",
    "plt.plot(history.history[\"val_loss\"])\n",
    "plt.title('model loss')\n",
    "plt.ylabel('loss')\n",
    "plt.xlabel('epoch')\n",
    "plt.legend(['train', 'test'], loc='upper left')\n",
    "plt.show()"
   ]
  },
  {
   "cell_type": "code",
   "execution_count": 26,
   "metadata": {},
   "outputs": [
    {
     "data": {
      "text/plain": [
       "[<matplotlib.lines.Line2D at 0x24ac701d860>,\n",
       " <matplotlib.lines.Line2D at 0x24ac701d9b0>,\n",
       " <matplotlib.lines.Line2D at 0x24ac701db00>]"
      ]
     },
     "execution_count": 26,
     "metadata": {},
     "output_type": "execute_result"
    },
    {
     "data": {
      "image/png": "[encoded data removed]",
      "text/plain": [
       "<matplotlib.figure.Figure at 0x24ac6cb4d68>"
      ]
     },
     "metadata": {},
     "output_type": "display_data"
    }
   ],
   "source": [
    "import math\n",
    "test = s_dataset[18000:]\n",
    "sample_num = math.floor(test.shape[0]/30)\n",
    "\n",
    "x_test = np.reshape(test[:sample_num*30],(sample_num,30,input_dim))\n",
    "foo = encoder.predict(x_test)\n",
    "#bar = sequence_autoencoder.predict(test)\n",
    "#bar_r = np.reshape(bar,(6000,input_dim))\n",
    "#y = pd.DataFrame(bar_r)\n",
    "#y.iloc[:,6:].plot()\n",
    "plt.plot(foo)"
   ]
  },
  {
   "cell_type": "code",
   "execution_count": 27,
   "metadata": {},
   "outputs": [
    {
     "data": {
      "text/plain": [
       "[<matplotlib.lines.Line2D at 0x24ac6d96be0>,\n",
       " <matplotlib.lines.Line2D at 0x24ac6d96d30>,\n",
       " <matplotlib.lines.Line2D at 0x24ac6d96e80>,\n",
       " <matplotlib.lines.Line2D at 0x24ac6d96fd0>,\n",
       " <matplotlib.lines.Line2D at 0x24ac6de3160>,\n",
       " <matplotlib.lines.Line2D at 0x24ac6de32b0>,\n",
       " <matplotlib.lines.Line2D at 0x24ac6de3400>,\n",
       " <matplotlib.lines.Line2D at 0x24ac6de3550>,\n",
       " <matplotlib.lines.Line2D at 0x24ac6de36a0>]"
      ]
     },
     "execution_count": 27,
     "metadata": {},
     "output_type": "execute_result"
    },
    {
     "data": {
      "image/png": "[encoded data removed]",
      "text/plain": [
       "<matplotlib.figure.Figure at 0x24ac6cf2550>"
      ]
     },
     "metadata": {},
     "output_type": "display_data"
    }
   ],
   "source": [
    "plt.plot(test)"
   ]
  }
 ],
 "metadata": {
  "kernelspec": {
   "display_name": "Python 3",
   "language": "python",
   "name": "python3"
  },
  "language_info": {
   "codemirror_mode": {
    "name": "ipython",
    "version": 3
   },
   "file_extension": ".py",
   "mimetype": "text/x-python",
   "name": "python",
   "nbconvert_exporter": "python",
   "pygments_lexer": "ipython3",
   "version": "3.6.3"
  }
 },
 "nbformat": 4,
 "nbformat_minor": 2
}
